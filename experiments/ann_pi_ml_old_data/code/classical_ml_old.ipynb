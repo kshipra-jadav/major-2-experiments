{
 "cells": [
  {
   "cell_type": "code",
   "execution_count": 11,
   "id": "d183b307",
   "metadata": {},
   "outputs": [],
   "source": [
    "from pathlib import Path\n",
    "\n",
    "DATA_PATH = Path.cwd().parent / 'data'"
   ]
  },
  {
   "cell_type": "code",
   "execution_count": 12,
   "id": "0c19dae2",
   "metadata": {},
   "outputs": [
    {
     "data": {
      "text/plain": [
       "(['28-08-2022',\n",
       "  '11-09-2022',\n",
       "  '15-10-2022',\n",
       "  '24-01-2023',\n",
       "  '11-02-2023 ',\n",
       "  '28-2-2023'],\n",
       " ['27-08-2022',\n",
       "  '08-09-2022',\n",
       "  '14-10-2022',\n",
       "  '30-01-2023',\n",
       "  '11-02-2023 ',\n",
       "  '28-2-2023'])"
      ]
     },
     "execution_count": 12,
     "metadata": {},
     "output_type": "execute_result"
    }
   ],
   "source": [
    "import pandas as pd\n",
    "\n",
    "EOS_PATH = DATA_PATH / 'EOS04 EDITED.xlsx'\n",
    "SENTINEL_PATH = DATA_PATH / 'SENTINEL Edited.xlsx'\n",
    "\n",
    "\n",
    "eos = pd.ExcelFile(EOS_PATH)\n",
    "sentinel = pd.ExcelFile(SENTINEL_PATH)\n",
    "\n",
    "\n",
    "eos.sheet_names, sentinel.sheet_names"
   ]
  },
  {
   "cell_type": "markdown",
   "id": "81a327ed",
   "metadata": {},
   "source": [
    "Since the data is spatial (because of presence of latitude and longitude) and temporal (because of presence of dates) in nature, we'll need different approaches to deal with this.\n",
    "\n",
    "But, firstly, lets take the naive approach and lets concatenate all dates and answer \"CAN Lat, Lon, HH and HV predict SM?\""
   ]
  },
  {
   "cell_type": "code",
   "execution_count": 7,
   "id": "01495e45",
   "metadata": {},
   "outputs": [],
   "source": [
    "from sklearn.model_selection import GridSearchCV\n",
    "\n",
    "def fit_grid_search(X_train, X_test, y_train, y_test, model, param_grid):\n",
    "    grid_search = GridSearchCV(\n",
    "        estimator=model,\n",
    "        param_grid=param_grid,\n",
    "        cv=3,\n",
    "        n_jobs=-1,\n",
    "        verbose=1\n",
    "    )\n",
    "\n",
    "    grid_search.fit(X_train, y_train)\n",
    "\n",
    "\n",
    "    print(\"Best Parameters:\", grid_search.best_params_)\n",
    "\n",
    "    best_model = grid_search.best_estimator_\n",
    "    print(\"Best Model Score - \", best_model.score(X_test, y_test))"
   ]
  },
  {
   "cell_type": "markdown",
   "id": "ca37d009",
   "metadata": {},
   "source": [
    "## EOS Data"
   ]
  },
  {
   "cell_type": "code",
   "execution_count": 2,
   "id": "2f25b9ed",
   "metadata": {},
   "outputs": [
    {
     "data": {
      "text/html": [
       "<div>\n",
       "<style scoped>\n",
       "    .dataframe tbody tr th:only-of-type {\n",
       "        vertical-align: middle;\n",
       "    }\n",
       "\n",
       "    .dataframe tbody tr th {\n",
       "        vertical-align: top;\n",
       "    }\n",
       "\n",
       "    .dataframe thead th {\n",
       "        text-align: right;\n",
       "    }\n",
       "</style>\n",
       "<table border=\"1\" class=\"dataframe\">\n",
       "  <thead>\n",
       "    <tr style=\"text-align: right;\">\n",
       "      <th></th>\n",
       "      <th>Sample Date &amp; Time</th>\n",
       "      <th>Latitude (Centre of grid)</th>\n",
       "      <th>Longitude (Centre of grid)</th>\n",
       "      <th>HH-pol</th>\n",
       "      <th>HV-pol</th>\n",
       "      <th>SM1 (%)</th>\n",
       "    </tr>\n",
       "  </thead>\n",
       "  <tbody>\n",
       "    <tr>\n",
       "      <th>0</th>\n",
       "      <td>2022-08-28</td>\n",
       "      <td>22.526048</td>\n",
       "      <td>72.765011</td>\n",
       "      <td>-4.99884</td>\n",
       "      <td>-13.33651</td>\n",
       "      <td>30.5</td>\n",
       "    </tr>\n",
       "    <tr>\n",
       "      <th>1</th>\n",
       "      <td>2022-08-28</td>\n",
       "      <td>22.525481</td>\n",
       "      <td>72.765028</td>\n",
       "      <td>-8.76236</td>\n",
       "      <td>-16.08855</td>\n",
       "      <td>46.9</td>\n",
       "    </tr>\n",
       "    <tr>\n",
       "      <th>2</th>\n",
       "      <td>2022-08-28</td>\n",
       "      <td>22.525999</td>\n",
       "      <td>72.765663</td>\n",
       "      <td>-7.11428</td>\n",
       "      <td>-11.90641</td>\n",
       "      <td>18.1</td>\n",
       "    </tr>\n",
       "    <tr>\n",
       "      <th>3</th>\n",
       "      <td>2022-08-28</td>\n",
       "      <td>22.527290</td>\n",
       "      <td>72.764707</td>\n",
       "      <td>-8.32358</td>\n",
       "      <td>-15.11733</td>\n",
       "      <td>34.4</td>\n",
       "    </tr>\n",
       "    <tr>\n",
       "      <th>4</th>\n",
       "      <td>2022-08-28</td>\n",
       "      <td>22.527874</td>\n",
       "      <td>72.764718</td>\n",
       "      <td>-5.27314</td>\n",
       "      <td>-15.93518</td>\n",
       "      <td>41.1</td>\n",
       "    </tr>\n",
       "    <tr>\n",
       "      <th>...</th>\n",
       "      <td>...</td>\n",
       "      <td>...</td>\n",
       "      <td>...</td>\n",
       "      <td>...</td>\n",
       "      <td>...</td>\n",
       "      <td>...</td>\n",
       "    </tr>\n",
       "    <tr>\n",
       "      <th>892</th>\n",
       "      <td>2023-02-28</td>\n",
       "      <td>22.523640</td>\n",
       "      <td>72.766727</td>\n",
       "      <td>-8.69274</td>\n",
       "      <td>-14.15688</td>\n",
       "      <td>26.8</td>\n",
       "    </tr>\n",
       "    <tr>\n",
       "      <th>893</th>\n",
       "      <td>2023-02-28</td>\n",
       "      <td>22.523657</td>\n",
       "      <td>72.766016</td>\n",
       "      <td>-6.48271</td>\n",
       "      <td>-15.56076</td>\n",
       "      <td>32.8</td>\n",
       "    </tr>\n",
       "    <tr>\n",
       "      <th>894</th>\n",
       "      <td>2023-02-28</td>\n",
       "      <td>22.524255</td>\n",
       "      <td>72.766024</td>\n",
       "      <td>-6.20660</td>\n",
       "      <td>-14.73141</td>\n",
       "      <td>34.8</td>\n",
       "    </tr>\n",
       "    <tr>\n",
       "      <th>895</th>\n",
       "      <td>2023-02-28</td>\n",
       "      <td>22.524229</td>\n",
       "      <td>72.766601</td>\n",
       "      <td>-9.43414</td>\n",
       "      <td>-20.52987</td>\n",
       "      <td>27.8</td>\n",
       "    </tr>\n",
       "    <tr>\n",
       "      <th>896</th>\n",
       "      <td>2023-02-28</td>\n",
       "      <td>22.524027</td>\n",
       "      <td>72.766357</td>\n",
       "      <td>-7.47745</td>\n",
       "      <td>-15.42384</td>\n",
       "      <td>23.5</td>\n",
       "    </tr>\n",
       "  </tbody>\n",
       "</table>\n",
       "<p>897 rows × 6 columns</p>\n",
       "</div>"
      ],
      "text/plain": [
       "    Sample Date & Time  Latitude (Centre of grid)  Longitude (Centre of grid)  \\\n",
       "0           2022-08-28                  22.526048                   72.765011   \n",
       "1           2022-08-28                  22.525481                   72.765028   \n",
       "2           2022-08-28                  22.525999                   72.765663   \n",
       "3           2022-08-28                  22.527290                   72.764707   \n",
       "4           2022-08-28                  22.527874                   72.764718   \n",
       "..                 ...                        ...                         ...   \n",
       "892         2023-02-28                  22.523640                   72.766727   \n",
       "893         2023-02-28                  22.523657                   72.766016   \n",
       "894         2023-02-28                  22.524255                   72.766024   \n",
       "895         2023-02-28                  22.524229                   72.766601   \n",
       "896         2023-02-28                  22.524027                   72.766357   \n",
       "\n",
       "      HH-pol    HV-pol  SM1 (%)  \n",
       "0   -4.99884 -13.33651     30.5  \n",
       "1   -8.76236 -16.08855     46.9  \n",
       "2   -7.11428 -11.90641     18.1  \n",
       "3   -8.32358 -15.11733     34.4  \n",
       "4   -5.27314 -15.93518     41.1  \n",
       "..       ...       ...      ...  \n",
       "892 -8.69274 -14.15688     26.8  \n",
       "893 -6.48271 -15.56076     32.8  \n",
       "894 -6.20660 -14.73141     34.8  \n",
       "895 -9.43414 -20.52987     27.8  \n",
       "896 -7.47745 -15.42384     23.5  \n",
       "\n",
       "[897 rows x 6 columns]"
      ]
     },
     "execution_count": 2,
     "metadata": {},
     "output_type": "execute_result"
    }
   ],
   "source": [
    "eos_dfs = []\n",
    "\n",
    "for sheet_name in eos.sheet_names:\n",
    "    df = pd.read_excel(EOS_PATH, sheet_name=sheet_name)\n",
    "    eos_dfs.append(df)\n",
    "\n",
    "eos_combined = pd.concat(eos_dfs, ignore_index=True)\n",
    "\n",
    "eos_combined"
   ]
  },
  {
   "cell_type": "code",
   "execution_count": 3,
   "id": "2c0c60f3",
   "metadata": {},
   "outputs": [],
   "source": [
    "eos_combined['Month'] = eos_combined['Sample Date & Time'].dt.month\n",
    "eos_combined['Day'] = eos_combined['Sample Date & Time'].dt.day\n",
    "eos_combined['Year'] = eos_combined['Sample Date & Time'].dt.year"
   ]
  },
  {
   "cell_type": "code",
   "execution_count": 4,
   "id": "53d54c8d",
   "metadata": {},
   "outputs": [],
   "source": [
    "X_cols = ['HH-pol', 'HV-pol', 'Day', 'Month', 'Year']\n",
    "y_col = ['SM1 (%)']"
   ]
  },
  {
   "cell_type": "code",
   "execution_count": 6,
   "id": "c95409e3",
   "metadata": {},
   "outputs": [],
   "source": [
    "from datetime import datetime\n",
    "\n",
    "mask = eos_combined['Sample Date & Time'] > datetime(2023, 1, 1)\n",
    "X = eos_combined[X_cols]\n",
    "y = eos_combined[y_col]\n",
    "\n",
    "X_train, X_test = X[mask], X[~mask]\n",
    "y_train, y_test = y[mask], y[~mask]"
   ]
  },
  {
   "cell_type": "code",
   "execution_count": null,
   "id": "8bb244d5",
   "metadata": {},
   "outputs": [
    {
     "name": "stdout",
     "output_type": "stream",
     "text": [
      "Fitting 3 folds for each of 216 candidates, totalling 648 fits\n",
      "Best Parameters: {'max_depth': 10, 'max_features': 'sqrt', 'min_samples_leaf': 4, 'min_samples_split': 10, 'n_estimators': 100}\n",
      "Best Model Score -  -0.17819066873550593\n"
     ]
    }
   ],
   "source": [
    "from sklearn.ensemble import RandomForestRegressor\n",
    "\n",
    "rf = RandomForestRegressor(random_state=10)\n",
    "\n",
    "# taken from gpt\n",
    "rf_param_grid = {\n",
    "    'n_estimators': [100, 200, 500],     \n",
    "    'max_depth': [None, 5, 10, 20],      \n",
    "    'min_samples_split': [2, 5, 10],     \n",
    "    'min_samples_leaf': [1, 2, 4],       \n",
    "    'max_features': ['sqrt', 'log2']     \n",
    "}\n",
    "\n",
    "fit_grid_search(X_train, X_test, y_train, y_test, model=rf, param_grid=rf_param_grid)"
   ]
  },
  {
   "cell_type": "code",
   "execution_count": 45,
   "id": "666dda0f",
   "metadata": {},
   "outputs": [
    {
     "name": "stdout",
     "output_type": "stream",
     "text": [
      "Fitting 3 folds for each of 108 candidates, totalling 324 fits\n",
      "Best Parameters: {'colsample_bytree': 0.8, 'learning_rate': 0.01, 'max_depth': 5, 'n_estimators': 100, 'subsample': 1.0}\n",
      "Best Model Score -  -0.015545832012215266\n"
     ]
    }
   ],
   "source": [
    "from xgboost import XGBRegressor\n",
    "import warnings\n",
    "\n",
    "warnings.filterwarnings('ignore')\n",
    "\n",
    "xgb = XGBRegressor(random_state=10, objective='reg:squarederror')\n",
    "\n",
    "# taken from gpt\n",
    "xgb_param_grid = {\n",
    "    'n_estimators': [100, 200, 500],\n",
    "    'max_depth': [3, 5, 7],\n",
    "    'learning_rate': [0.01, 0.05, 0.1],\n",
    "    'subsample': [0.8, 1.0],\n",
    "    'colsample_bytree': [0.8, 1.0]\n",
    "}\n",
    "\n",
    "fit_grid_search(X_train, X_test, y_train, y_test, model=xgb, param_grid=xgb_param_grid)"
   ]
  },
  {
   "cell_type": "code",
   "execution_count": null,
   "id": "c1c8b024",
   "metadata": {},
   "outputs": [
    {
     "name": "stdout",
     "output_type": "stream",
     "text": [
      "Fitting 3 folds for each of 144 candidates, totalling 432 fits\n",
      "Best Parameters: {'estimator__max_depth': 5, 'estimator__min_samples_split': 2, 'learning_rate': 1.0, 'n_estimators': 50}\n",
      "Best Model Score -  -0.10890908793130283\n"
     ]
    }
   ],
   "source": [
    "from sklearn.ensemble import AdaBoostRegressor\n",
    "from sklearn.tree import DecisionTreeRegressor\n",
    "\n",
    "ada = AdaBoostRegressor(\n",
    "    estimator=DecisionTreeRegressor(random_state=10),\n",
    "    random_state=10\n",
    ")\n",
    "\n",
    "# taken from gpt\n",
    "ada_param_grid = {\n",
    "    'n_estimators': [50, 100, 200],\n",
    "    'learning_rate': [0.01, 0.05, 0.1, 1.0],\n",
    "    'estimator__max_depth': [2, 3, 5, None],\n",
    "    'estimator__min_samples_split': [2, 5, 10]\n",
    "}\n",
    "\n",
    "fit_grid_search(X_train, X_test, y_train, y_test, model=ada, param_grid=ada_param_grid)"
   ]
  },
  {
   "cell_type": "code",
   "execution_count": 9,
   "id": "93c20f75",
   "metadata": {},
   "outputs": [],
   "source": [
    "from sklearn.preprocessing import MinMaxScaler\n",
    "\n",
    "mm = MinMaxScaler()\n",
    "\n",
    "X_train_scaled = mm.fit_transform(X_train)\n",
    "X_test_scaled = mm.transform(X_test)\n",
    "\n",
    "y_train_scaled = mm.fit_transform(y_train)\n",
    "y_test_scaled = mm.transform(y_test)"
   ]
  },
  {
   "cell_type": "code",
   "execution_count": 12,
   "id": "9c9df50e",
   "metadata": {},
   "outputs": [
    {
     "name": "stdout",
     "output_type": "stream",
     "text": [
      "Fitting 3 folds for each of 320 candidates, totalling 960 fits\n",
      "Best Parameters: {'C': 1, 'epsilon': 0.01, 'gamma': 0.1, 'kernel': 'poly'}\n",
      "Best Model Score -  -807.6610786881246\n"
     ]
    }
   ],
   "source": [
    "from sklearn.svm import SVR\n",
    "\n",
    "svr = SVR()\n",
    "\n",
    "svr_param_grid = {\n",
    "    'kernel': ['linear', 'rbf', 'poly', 'sigmoid'],\n",
    "    'C': [0.1, 1, 10, 100],         # Regularization strength\n",
    "    'gamma': ['scale', 'auto', 0.01, 0.1, 1],  # Kernel coefficient\n",
    "    'epsilon': [0.01, 0.1, 0.2, 0.5]  # Margin of tolerance\n",
    "}\n",
    "\n",
    "fit_grid_search(X_train_scaled, X_test_scaled, y_train_scaled.flatten(), y_test_scaled.flatten(), model=svr, param_grid=svr_param_grid)"
   ]
  },
  {
   "cell_type": "markdown",
   "id": "23afe6d9",
   "metadata": {},
   "source": [
    "## Sentinel Data"
   ]
  },
  {
   "cell_type": "code",
   "execution_count": 21,
   "id": "615f2dbf",
   "metadata": {},
   "outputs": [
    {
     "data": {
      "text/html": [
       "<div>\n",
       "<style scoped>\n",
       "    .dataframe tbody tr th:only-of-type {\n",
       "        vertical-align: middle;\n",
       "    }\n",
       "\n",
       "    .dataframe tbody tr th {\n",
       "        vertical-align: top;\n",
       "    }\n",
       "\n",
       "    .dataframe thead th {\n",
       "        text-align: right;\n",
       "    }\n",
       "</style>\n",
       "<table border=\"1\" class=\"dataframe\">\n",
       "  <thead>\n",
       "    <tr style=\"text-align: right;\">\n",
       "      <th></th>\n",
       "      <th>Sample Date &amp; Time</th>\n",
       "      <th>Latitude (Centre of grid)</th>\n",
       "      <th>Longitude (Centre of grid)</th>\n",
       "      <th>VH-pol</th>\n",
       "      <th>VV-pol</th>\n",
       "      <th>angle</th>\n",
       "      <th>SM1 (%)</th>\n",
       "    </tr>\n",
       "  </thead>\n",
       "  <tbody>\n",
       "    <tr>\n",
       "      <th>0</th>\n",
       "      <td>2022-08-08</td>\n",
       "      <td>22.526048</td>\n",
       "      <td>72.765011</td>\n",
       "      <td>-16.375600</td>\n",
       "      <td>-10.590500</td>\n",
       "      <td>40.048800</td>\n",
       "      <td>30.5</td>\n",
       "    </tr>\n",
       "    <tr>\n",
       "      <th>1</th>\n",
       "      <td>2022-08-08</td>\n",
       "      <td>22.525481</td>\n",
       "      <td>72.765028</td>\n",
       "      <td>-16.244300</td>\n",
       "      <td>-10.634800</td>\n",
       "      <td>41.349100</td>\n",
       "      <td>46.9</td>\n",
       "    </tr>\n",
       "    <tr>\n",
       "      <th>2</th>\n",
       "      <td>2022-08-08</td>\n",
       "      <td>22.525999</td>\n",
       "      <td>72.765663</td>\n",
       "      <td>-16.821400</td>\n",
       "      <td>-9.816820</td>\n",
       "      <td>42.283900</td>\n",
       "      <td>18.1</td>\n",
       "    </tr>\n",
       "    <tr>\n",
       "      <th>3</th>\n",
       "      <td>2022-08-08</td>\n",
       "      <td>22.527290</td>\n",
       "      <td>72.764707</td>\n",
       "      <td>-16.003700</td>\n",
       "      <td>-10.809500</td>\n",
       "      <td>42.692300</td>\n",
       "      <td>34.4</td>\n",
       "    </tr>\n",
       "    <tr>\n",
       "      <th>4</th>\n",
       "      <td>2022-08-08</td>\n",
       "      <td>22.527874</td>\n",
       "      <td>72.764718</td>\n",
       "      <td>-16.637400</td>\n",
       "      <td>-10.626300</td>\n",
       "      <td>43.860500</td>\n",
       "      <td>41.1</td>\n",
       "    </tr>\n",
       "    <tr>\n",
       "      <th>...</th>\n",
       "      <td>...</td>\n",
       "      <td>...</td>\n",
       "      <td>...</td>\n",
       "      <td>...</td>\n",
       "      <td>...</td>\n",
       "      <td>...</td>\n",
       "      <td>...</td>\n",
       "    </tr>\n",
       "    <tr>\n",
       "      <th>941</th>\n",
       "      <td>2023-02-28</td>\n",
       "      <td>22.523640</td>\n",
       "      <td>72.766727</td>\n",
       "      <td>-14.539132</td>\n",
       "      <td>-10.738241</td>\n",
       "      <td>41.797688</td>\n",
       "      <td>26.8</td>\n",
       "    </tr>\n",
       "    <tr>\n",
       "      <th>942</th>\n",
       "      <td>2023-02-28</td>\n",
       "      <td>22.523657</td>\n",
       "      <td>72.766016</td>\n",
       "      <td>-14.474763</td>\n",
       "      <td>-10.252501</td>\n",
       "      <td>41.254852</td>\n",
       "      <td>32.8</td>\n",
       "    </tr>\n",
       "    <tr>\n",
       "      <th>943</th>\n",
       "      <td>2023-02-28</td>\n",
       "      <td>22.524255</td>\n",
       "      <td>72.766024</td>\n",
       "      <td>-16.174562</td>\n",
       "      <td>-11.142242</td>\n",
       "      <td>42.046009</td>\n",
       "      <td>34.8</td>\n",
       "    </tr>\n",
       "    <tr>\n",
       "      <th>944</th>\n",
       "      <td>2023-02-28</td>\n",
       "      <td>22.524229</td>\n",
       "      <td>72.766601</td>\n",
       "      <td>-16.532534</td>\n",
       "      <td>-11.246845</td>\n",
       "      <td>41.706707</td>\n",
       "      <td>27.8</td>\n",
       "    </tr>\n",
       "    <tr>\n",
       "      <th>945</th>\n",
       "      <td>2023-02-28</td>\n",
       "      <td>22.524027</td>\n",
       "      <td>72.766357</td>\n",
       "      <td>-16.490974</td>\n",
       "      <td>-10.754059</td>\n",
       "      <td>41.437458</td>\n",
       "      <td>23.5</td>\n",
       "    </tr>\n",
       "  </tbody>\n",
       "</table>\n",
       "<p>946 rows × 7 columns</p>\n",
       "</div>"
      ],
      "text/plain": [
       "    Sample Date & Time  Latitude (Centre of grid)  Longitude (Centre of grid)  \\\n",
       "0           2022-08-08                  22.526048                   72.765011   \n",
       "1           2022-08-08                  22.525481                   72.765028   \n",
       "2           2022-08-08                  22.525999                   72.765663   \n",
       "3           2022-08-08                  22.527290                   72.764707   \n",
       "4           2022-08-08                  22.527874                   72.764718   \n",
       "..                 ...                        ...                         ...   \n",
       "941         2023-02-28                  22.523640                   72.766727   \n",
       "942         2023-02-28                  22.523657                   72.766016   \n",
       "943         2023-02-28                  22.524255                   72.766024   \n",
       "944         2023-02-28                  22.524229                   72.766601   \n",
       "945         2023-02-28                  22.524027                   72.766357   \n",
       "\n",
       "        VH-pol     VV-pol      angle  SM1 (%)  \n",
       "0   -16.375600 -10.590500  40.048800     30.5  \n",
       "1   -16.244300 -10.634800  41.349100     46.9  \n",
       "2   -16.821400  -9.816820  42.283900     18.1  \n",
       "3   -16.003700 -10.809500  42.692300     34.4  \n",
       "4   -16.637400 -10.626300  43.860500     41.1  \n",
       "..         ...        ...        ...      ...  \n",
       "941 -14.539132 -10.738241  41.797688     26.8  \n",
       "942 -14.474763 -10.252501  41.254852     32.8  \n",
       "943 -16.174562 -11.142242  42.046009     34.8  \n",
       "944 -16.532534 -11.246845  41.706707     27.8  \n",
       "945 -16.490974 -10.754059  41.437458     23.5  \n",
       "\n",
       "[946 rows x 7 columns]"
      ]
     },
     "execution_count": 21,
     "metadata": {},
     "output_type": "execute_result"
    }
   ],
   "source": [
    "sentinel_dfs = []\n",
    "\n",
    "for sheet_name in sentinel.sheet_names:\n",
    "    df = pd.read_excel(SENTINEL_PATH, sheet_name=sheet_name)\n",
    "    if 'Latitude (Centre of grid).1' in df.columns:\n",
    "        df = df.drop(['Latitude (Centre of grid).1'], axis=1)\n",
    "    df = df.rename(columns={'(θ)': 'angle'})\n",
    "    sentinel_dfs.append(df)\n",
    "\n",
    "sentinel_combined = pd.concat(sentinel_dfs, ignore_index=True)\n",
    "\n",
    "sentinel_combined"
   ]
  },
  {
   "cell_type": "code",
   "execution_count": 22,
   "id": "a22cd8e2",
   "metadata": {},
   "outputs": [],
   "source": [
    "sentinel_combined['Day'] = sentinel_combined['Sample Date & Time'].dt.day\n",
    "sentinel_combined['Month'] = sentinel_combined['Sample Date & Time'].dt.month\n",
    "sentinel_combined['Year'] = sentinel_combined['Sample Date & Time'].dt.year"
   ]
  },
  {
   "cell_type": "code",
   "execution_count": 65,
   "id": "b36c599d",
   "metadata": {},
   "outputs": [],
   "source": [
    "sentinel_combined = sentinel_combined.dropna()"
   ]
  },
  {
   "cell_type": "code",
   "execution_count": 66,
   "id": "4661476d",
   "metadata": {},
   "outputs": [],
   "source": [
    "X_cols = ['Latitude (Centre of grid)', 'Longitude (Centre of grid)', 'VH-pol', 'VV-pol', 'angle']\n",
    "y_col = ['SM1 (%)']"
   ]
  },
  {
   "cell_type": "code",
   "execution_count": 67,
   "id": "e63a125b",
   "metadata": {},
   "outputs": [],
   "source": [
    "X = sentinel_combined[X_cols]\n",
    "y = sentinel_combined[y_col]"
   ]
  },
  {
   "cell_type": "code",
   "execution_count": 68,
   "id": "ec64fb11",
   "metadata": {},
   "outputs": [
    {
     "data": {
      "text/plain": [
       "(721, 181)"
      ]
     },
     "execution_count": 68,
     "metadata": {},
     "output_type": "execute_result"
    }
   ],
   "source": [
    "from sklearn.model_selection import train_test_split\n",
    "\n",
    "X_train, X_test, y_train, y_test = train_test_split(X, y, train_size=0.8, shuffle=False)\n",
    "\n",
    "len(X_train), len(X_test)"
   ]
  },
  {
   "cell_type": "code",
   "execution_count": 69,
   "id": "f37a3d55",
   "metadata": {},
   "outputs": [
    {
     "name": "stdout",
     "output_type": "stream",
     "text": [
      "Fitting 3 folds for each of 216 candidates, totalling 648 fits\n",
      "Best Parameters: {'max_depth': 5, 'max_features': 'sqrt', 'min_samples_leaf': 4, 'min_samples_split': 2, 'n_estimators': 500}\n",
      "Best Model Score -  -0.07487080036037774\n"
     ]
    }
   ],
   "source": [
    "from sklearn.ensemble import RandomForestRegressor\n",
    "\n",
    "rf = RandomForestRegressor(random_state=10)\n",
    "\n",
    "# taken from gpt\n",
    "rf_param_grid = {\n",
    "    'n_estimators': [100, 200, 500],     \n",
    "    'max_depth': [None, 5, 10, 20],      \n",
    "    'min_samples_split': [2, 5, 10],     \n",
    "    'min_samples_leaf': [1, 2, 4],       \n",
    "    'max_features': ['sqrt', 'log2']     \n",
    "}\n",
    "\n",
    "fit_grid_search(X_train, X_test, y_train.values.flatten(), y_test.values.flatten(), model=rf, param_grid=rf_param_grid)"
   ]
  },
  {
   "cell_type": "code",
   "execution_count": 70,
   "id": "375e4d2d",
   "metadata": {},
   "outputs": [
    {
     "name": "stdout",
     "output_type": "stream",
     "text": [
      "Fitting 3 folds for each of 108 candidates, totalling 324 fits\n",
      "Best Parameters: {'colsample_bytree': 0.8, 'learning_rate': 0.01, 'max_depth': 3, 'n_estimators': 100, 'subsample': 0.8}\n",
      "Best Model Score -  -0.014610027498297207\n"
     ]
    }
   ],
   "source": [
    "from xgboost import XGBRegressor\n",
    "import warnings\n",
    "\n",
    "warnings.filterwarnings('ignore')\n",
    "\n",
    "xgb = XGBRegressor(random_state=10, objective='reg:squarederror')\n",
    "\n",
    "# taken from gpt\n",
    "xgb_param_grid = {\n",
    "    'n_estimators': [100, 200, 500],\n",
    "    'max_depth': [3, 5, 7],\n",
    "    'learning_rate': [0.01, 0.05, 0.1],\n",
    "    'subsample': [0.8, 1.0],\n",
    "    'colsample_bytree': [0.8, 1.0]\n",
    "}\n",
    "\n",
    "fit_grid_search(X_train, X_test, y_train.values.flatten(), y_test.values.flatten(), model=xgb, param_grid=xgb_param_grid)"
   ]
  },
  {
   "cell_type": "code",
   "execution_count": 71,
   "id": "92066899",
   "metadata": {},
   "outputs": [
    {
     "name": "stdout",
     "output_type": "stream",
     "text": [
      "Fitting 3 folds for each of 144 candidates, totalling 432 fits\n",
      "Best Parameters: {'estimator__max_depth': 3, 'estimator__min_samples_split': 10, 'learning_rate': 0.1, 'n_estimators': 200}\n",
      "Best Model Score -  -0.07352010652440288\n"
     ]
    }
   ],
   "source": [
    "from sklearn.ensemble import AdaBoostRegressor\n",
    "from sklearn.tree import DecisionTreeRegressor\n",
    "\n",
    "ada = AdaBoostRegressor(\n",
    "    estimator=DecisionTreeRegressor(random_state=10),\n",
    "    random_state=10\n",
    ")\n",
    "\n",
    "# taken from gpt\n",
    "ada_param_grid = {\n",
    "    'n_estimators': [50, 100, 200],\n",
    "    'learning_rate': [0.01, 0.05, 0.1, 1.0],\n",
    "    'estimator__max_depth': [2, 3, 5, None],\n",
    "    'estimator__min_samples_split': [2, 5, 10]\n",
    "}\n",
    "\n",
    "fit_grid_search(X_train, X_test, y_train.values.flatten(), y_test.values.flatten(), model=ada, param_grid=ada_param_grid)"
   ]
  },
  {
   "cell_type": "code",
   "execution_count": 72,
   "id": "58f811c8",
   "metadata": {},
   "outputs": [],
   "source": [
    "from sklearn.preprocessing import MinMaxScaler\n",
    "\n",
    "mm = MinMaxScaler()\n",
    "\n",
    "X_train_scaled = mm.fit_transform(X_train)\n",
    "X_test_scaled = mm.transform(X_test)\n",
    "\n",
    "y_train_scaled = mm.fit_transform(y_train)\n",
    "y_test_scaled = mm.transform(y_test)"
   ]
  },
  {
   "cell_type": "code",
   "execution_count": 73,
   "id": "cb3764be",
   "metadata": {},
   "outputs": [
    {
     "name": "stdout",
     "output_type": "stream",
     "text": [
      "Fitting 3 folds for each of 320 candidates, totalling 960 fits\n",
      "Best Parameters: {'C': 1, 'epsilon': 0.01, 'gamma': 0.1, 'kernel': 'sigmoid'}\n",
      "Best Model Score -  -0.10618917371650438\n"
     ]
    }
   ],
   "source": [
    "from sklearn.svm import SVR\n",
    "\n",
    "svr = SVR()\n",
    "\n",
    "svr_param_grid = {\n",
    "    'kernel': ['linear', 'rbf', 'poly', 'sigmoid'],\n",
    "    'C': [0.1, 1, 10, 100],         # Regularization strength\n",
    "    'gamma': ['scale', 'auto', 0.01, 0.1, 1],  # Kernel coefficient\n",
    "    'epsilon': [0.01, 0.1, 0.2, 0.5]  # Margin of tolerance\n",
    "}\n",
    "\n",
    "fit_grid_search(X_train_scaled, X_test_scaled, y_train_scaled.flatten(), y_test_scaled.flatten(), model=svr, param_grid=svr_param_grid)"
   ]
  }
 ],
 "metadata": {
  "kernelspec": {
   "display_name": "ml-experiments",
   "language": "python",
   "name": "python3"
  },
  "language_info": {
   "codemirror_mode": {
    "name": "ipython",
    "version": 3
   },
   "file_extension": ".py",
   "mimetype": "text/x-python",
   "name": "python",
   "nbconvert_exporter": "python",
   "pygments_lexer": "ipython3",
   "version": "3.12.3"
  }
 },
 "nbformat": 4,
 "nbformat_minor": 5
}
