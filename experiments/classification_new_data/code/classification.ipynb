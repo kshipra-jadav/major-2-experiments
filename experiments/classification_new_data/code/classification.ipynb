{
 "cells": [
  {
   "cell_type": "code",
   "execution_count": 1,
   "id": "014c60ae",
   "metadata": {},
   "outputs": [
    {
     "data": {
      "text/html": [
       "<div>\n",
       "<style scoped>\n",
       "    .dataframe tbody tr th:only-of-type {\n",
       "        vertical-align: middle;\n",
       "    }\n",
       "\n",
       "    .dataframe tbody tr th {\n",
       "        vertical-align: top;\n",
       "    }\n",
       "\n",
       "    .dataframe thead th {\n",
       "        text-align: right;\n",
       "    }\n",
       "</style>\n",
       "<table border=\"1\" class=\"dataframe\">\n",
       "  <thead>\n",
       "    <tr style=\"text-align: right;\">\n",
       "      <th></th>\n",
       "      <th>VH-pol</th>\n",
       "      <th>VV-pol</th>\n",
       "      <th>SM1 (%)</th>\n",
       "      <th>Crop Name</th>\n",
       "      <th>label</th>\n",
       "    </tr>\n",
       "  </thead>\n",
       "  <tbody>\n",
       "    <tr>\n",
       "      <th>0</th>\n",
       "      <td>-19.3557</td>\n",
       "      <td>-13.54610</td>\n",
       "      <td>4.6</td>\n",
       "      <td>Fallow</td>\n",
       "      <td>Low</td>\n",
       "    </tr>\n",
       "    <tr>\n",
       "      <th>1</th>\n",
       "      <td>-17.1605</td>\n",
       "      <td>-10.46910</td>\n",
       "      <td>7.2</td>\n",
       "      <td>Pearl Millet</td>\n",
       "      <td>Low</td>\n",
       "    </tr>\n",
       "    <tr>\n",
       "      <th>2</th>\n",
       "      <td>-17.8729</td>\n",
       "      <td>-9.98927</td>\n",
       "      <td>6.4</td>\n",
       "      <td>Fallow</td>\n",
       "      <td>Low</td>\n",
       "    </tr>\n",
       "    <tr>\n",
       "      <th>3</th>\n",
       "      <td>-17.7906</td>\n",
       "      <td>-11.93460</td>\n",
       "      <td>9.6</td>\n",
       "      <td>Lemon</td>\n",
       "      <td>Low</td>\n",
       "    </tr>\n",
       "    <tr>\n",
       "      <th>4</th>\n",
       "      <td>-17.3646</td>\n",
       "      <td>-10.73270</td>\n",
       "      <td>3.9</td>\n",
       "      <td>Fallow</td>\n",
       "      <td>Low</td>\n",
       "    </tr>\n",
       "    <tr>\n",
       "      <th>...</th>\n",
       "      <td>...</td>\n",
       "      <td>...</td>\n",
       "      <td>...</td>\n",
       "      <td>...</td>\n",
       "      <td>...</td>\n",
       "    </tr>\n",
       "    <tr>\n",
       "      <th>1811</th>\n",
       "      <td>-16.7871</td>\n",
       "      <td>-11.17010</td>\n",
       "      <td>50.0</td>\n",
       "      <td>Wheat</td>\n",
       "      <td>Very High</td>\n",
       "    </tr>\n",
       "    <tr>\n",
       "      <th>1812</th>\n",
       "      <td>-17.2167</td>\n",
       "      <td>-12.15740</td>\n",
       "      <td>50.0</td>\n",
       "      <td>Wheat</td>\n",
       "      <td>Very High</td>\n",
       "    </tr>\n",
       "    <tr>\n",
       "      <th>1813</th>\n",
       "      <td>-17.7785</td>\n",
       "      <td>-10.37820</td>\n",
       "      <td>50.0</td>\n",
       "      <td>Tobacco</td>\n",
       "      <td>Very High</td>\n",
       "    </tr>\n",
       "    <tr>\n",
       "      <th>1814</th>\n",
       "      <td>-16.6607</td>\n",
       "      <td>-10.62890</td>\n",
       "      <td>50.0</td>\n",
       "      <td>Tobacco</td>\n",
       "      <td>Very High</td>\n",
       "    </tr>\n",
       "    <tr>\n",
       "      <th>1815</th>\n",
       "      <td>-17.4057</td>\n",
       "      <td>-10.62080</td>\n",
       "      <td>50.0</td>\n",
       "      <td>Strobe</td>\n",
       "      <td>Very High</td>\n",
       "    </tr>\n",
       "  </tbody>\n",
       "</table>\n",
       "<p>1816 rows × 5 columns</p>\n",
       "</div>"
      ],
      "text/plain": [
       "       VH-pol    VV-pol  SM1 (%)     Crop Name      label\n",
       "0    -19.3557 -13.54610      4.6        Fallow        Low\n",
       "1    -17.1605 -10.46910      7.2  Pearl Millet        Low\n",
       "2    -17.8729  -9.98927      6.4        Fallow        Low\n",
       "3    -17.7906 -11.93460      9.6         Lemon        Low\n",
       "4    -17.3646 -10.73270      3.9        Fallow        Low\n",
       "...       ...       ...      ...           ...        ...\n",
       "1811 -16.7871 -11.17010     50.0         Wheat  Very High\n",
       "1812 -17.2167 -12.15740     50.0         Wheat  Very High\n",
       "1813 -17.7785 -10.37820     50.0       Tobacco  Very High\n",
       "1814 -16.6607 -10.62890     50.0       Tobacco  Very High\n",
       "1815 -17.4057 -10.62080     50.0        Strobe  Very High\n",
       "\n",
       "[1816 rows x 5 columns]"
      ]
     },
     "execution_count": 1,
     "metadata": {},
     "output_type": "execute_result"
    }
   ],
   "source": [
    "from constants import DATA_PATH\n",
    "import pandas as pd\n",
    "\n",
    "df = pd.read_csv(DATA_PATH / 'sentinel-1-processed.csv')\n",
    "\n",
    "df"
   ]
  },
  {
   "cell_type": "code",
   "execution_count": 2,
   "id": "32076bf5",
   "metadata": {},
   "outputs": [],
   "source": [
    "from sklearn.preprocessing import LabelEncoder\n",
    "\n",
    "le = LabelEncoder()\n",
    "\n",
    "df['Crop Labels'] = le.fit_transform(df['Crop Name'])"
   ]
  },
  {
   "cell_type": "code",
   "execution_count": 3,
   "id": "fc641e11",
   "metadata": {},
   "outputs": [],
   "source": [
    "from sklearn.preprocessing import OrdinalEncoder\n",
    "\n",
    "oe = OrdinalEncoder(categories=[['Low', 'Medium', 'High', 'Very High']])\n",
    "\n",
    "df['label'] = oe.fit_transform(df[['label']])"
   ]
  },
  {
   "cell_type": "code",
   "execution_count": 4,
   "id": "0f454bbd",
   "metadata": {},
   "outputs": [
    {
     "data": {
      "text/plain": [
       "((1816, 3), (1816,))"
      ]
     },
     "execution_count": 4,
     "metadata": {},
     "output_type": "execute_result"
    }
   ],
   "source": [
    "X_cols = ['VH-pol', 'VV-pol', 'Crop Labels']\n",
    "y_col = 'label'\n",
    "\n",
    "X = df[X_cols].values\n",
    "y = df[[y_col]].values.flatten()\n",
    "\n",
    "X.shape, y.shape"
   ]
  },
  {
   "cell_type": "code",
   "execution_count": 5,
   "id": "987f7367",
   "metadata": {},
   "outputs": [
    {
     "data": {
      "text/plain": [
       "(array([[-19.3557 , -13.5461 ,   2.     ],\n",
       "        [-17.1605 , -10.4691 ,  13.     ],\n",
       "        [-17.8729 ,  -9.98927,   2.     ],\n",
       "        ...,\n",
       "        [-17.7785 , -10.3782 ,  16.     ],\n",
       "        [-16.6607 , -10.6289 ,  16.     ],\n",
       "        [-17.4057 , -10.6208 ,  15.     ]], shape=(1816, 3)),\n",
       " array([0., 0., 0., ..., 3., 3., 3.], shape=(1816,)))"
      ]
     },
     "execution_count": 5,
     "metadata": {},
     "output_type": "execute_result"
    }
   ],
   "source": [
    "X, y"
   ]
  },
  {
   "cell_type": "markdown",
   "id": "d5b17f6a",
   "metadata": {},
   "source": [
    "# Random Forest"
   ]
  },
  {
   "cell_type": "code",
   "execution_count": 6,
   "id": "3a720088",
   "metadata": {},
   "outputs": [],
   "source": [
    "from sklearn.model_selection import train_test_split\n",
    "\n",
    "X_train, X_test, y_train, y_test = train_test_split(X, y, train_size=0.8)"
   ]
  },
  {
   "cell_type": "code",
   "execution_count": 7,
   "id": "6d76e390",
   "metadata": {},
   "outputs": [
    {
     "name": "stdout",
     "output_type": "stream",
     "text": [
      "              precision    recall  f1-score   support\n",
      "\n",
      "         Low       0.50      0.58      0.54        85\n",
      "      Medium       0.28      0.25      0.26        85\n",
      "        High       0.34      0.34      0.34        90\n",
      "   Very High       0.56      0.53      0.54       104\n",
      "\n",
      "    accuracy                           0.43       364\n",
      "   macro avg       0.42      0.42      0.42       364\n",
      "weighted avg       0.42      0.43      0.43       364\n",
      "\n"
     ]
    }
   ],
   "source": [
    "from sklearn.ensemble import RandomForestClassifier\n",
    "from sklearn.metrics import classification_report\n",
    "\n",
    "rfc = RandomForestClassifier()\n",
    "rfc.fit(X_train, y_train)\n",
    "y_pred = rfc.predict(X_test)\n",
    "\n",
    "print(classification_report(y_test, y_pred, target_names=oe.categories_[0]))"
   ]
  },
  {
   "cell_type": "markdown",
   "id": "2139803e",
   "metadata": {},
   "source": [
    "# XGBoost"
   ]
  },
  {
   "cell_type": "code",
   "execution_count": 8,
   "id": "442a240c",
   "metadata": {},
   "outputs": [
    {
     "name": "stdout",
     "output_type": "stream",
     "text": [
      "              precision    recall  f1-score   support\n",
      "\n",
      "         Low       0.56      0.59      0.57        85\n",
      "      Medium       0.36      0.34      0.35        85\n",
      "        High       0.36      0.39      0.38        90\n",
      "   Very High       0.55      0.52      0.53       104\n",
      "\n",
      "    accuracy                           0.46       364\n",
      "   macro avg       0.46      0.46      0.46       364\n",
      "weighted avg       0.46      0.46      0.46       364\n",
      "\n"
     ]
    }
   ],
   "source": [
    "from xgboost import XGBClassifier\n",
    "\n",
    "xgb = XGBClassifier()\n",
    "xgb.fit(X_train, y_train)\n",
    "y_pred = xgb.predict(X_test)\n",
    "\n",
    "print(classification_report(y_test, y_pred, target_names=oe.categories_[0]))"
   ]
  },
  {
   "cell_type": "code",
   "execution_count": 9,
   "id": "f9b69671",
   "metadata": {},
   "outputs": [
    {
     "data": {
      "text/plain": [
       "(array([[-17.1902 , -10.8471 ,   2.     ],\n",
       "        [-14.0663 ,  -9.24351,  19.     ],\n",
       "        [-16.5633 , -10.673  ,  11.     ],\n",
       "        ...,\n",
       "        [-12.1954 ,  -6.70816,   2.     ],\n",
       "        [-18.0218 , -12.691  ,   2.     ],\n",
       "        [-18.203  ,  -9.75805,   1.     ]], shape=(1452, 3)),\n",
       " array([0., 2., 3., ..., 2., 3., 2.], shape=(1452,)))"
      ]
     },
     "execution_count": 9,
     "metadata": {},
     "output_type": "execute_result"
    }
   ],
   "source": [
    "X_train, y_train"
   ]
  },
  {
   "cell_type": "markdown",
   "id": "52d20e23",
   "metadata": {},
   "source": [
    "# ANN"
   ]
  },
  {
   "cell_type": "code",
   "execution_count": 19,
   "id": "11a3474e",
   "metadata": {},
   "outputs": [],
   "source": [
    "from sklearn.preprocessing import MinMaxScaler\n",
    "\n",
    "X = df[X_cols]\n",
    "y = df[[y_col]]\n",
    "\n",
    "\n",
    "X_temp, X_test, y_temp, y_test = train_test_split(\n",
    "    X, y, test_size=0.1\n",
    ")\n",
    "X_train, X_val, y_train, y_val = train_test_split(\n",
    "    X_temp, y_temp, test_size=0.25\n",
    ")\n",
    "\n",
    "# Scale the features\n",
    "scaler = MinMaxScaler()\n",
    "X_train_scaled = scaler.fit_transform(X_train)\n",
    "X_val_scaled = scaler.transform(X_val)\n",
    "X_test_scaled = scaler.transform(X_test)\n",
    "\n",
    "y_train = y_train.astype('int32')\n",
    "y_test = y_test.astype('int32')\n",
    "y_val = y_val.astype('int32')"
   ]
  },
  {
   "cell_type": "code",
   "execution_count": 20,
   "id": "7fcf10af",
   "metadata": {},
   "outputs": [],
   "source": [
    "import tensorflow as tf\n",
    "\n",
    "model = tf.keras.Sequential([\n",
    "    tf.keras.layers.Input(shape=(X_train_scaled.shape[1], )),\n",
    "    tf.keras.layers.Dense(32, activation='relu'),\n",
    "    tf.keras.layers.Dense(16, activation='relu'),\n",
    "    tf.keras.layers.Dense(8, activation='relu'),\n",
    "    tf.keras.layers.Dense(4,)\n",
    "])\n",
    "\n",
    "optim = tf.keras.optimizers.Adam(learning_rate=0.001)\n",
    "loss = tf.keras.losses.SparseCategoricalCrossentropy(from_logits=True)\n",
    "\n",
    "model.compile(\n",
    "    optimizer=optim,\n",
    "    loss=loss,\n",
    "    metrics=['accuracy']\n",
    ")\n",
    "\n",
    "history = model.fit(X_train, y_train, epochs=1000, verbose=0, validation_data=(X_val_scaled, y_val))"
   ]
  },
  {
   "cell_type": "code",
   "execution_count": 21,
   "id": "2e542819",
   "metadata": {},
   "outputs": [
    {
     "data": {
      "image/png": "[encoded data removed]",
      "text/plain": [
       "<Figure size 640x480 with 1 Axes>"
      ]
     },
     "metadata": {},
     "output_type": "display_data"
    },
    {
     "data": {
      "image/png": "[encoded data removed]",
      "text/plain": [
       "<Figure size 640x480 with 1 Axes>"
      ]
     },
     "metadata": {},
     "output_type": "display_data"
    }
   ],
   "source": [
    "import matplotlib.pyplot as plt\n",
    "\n",
    "history_df = pd.DataFrame(history.history)\n",
    "history_df[['loss', 'val_loss']].plot()\n",
    "plt.title('Loss')\n",
    "plt.xlabel('Epochs')\n",
    "plt.ylabel('Loss')\n",
    "plt.show()\n",
    "\n",
    "history_df[['accuracy', 'val_accuracy']].plot()\n",
    "plt.title('Accuracy')\n",
    "plt.xlabel('Epochs')\n",
    "plt.ylabel('Accuracy')\n",
    "plt.show()"
   ]
  },
  {
   "cell_type": "code",
   "execution_count": 22,
   "id": "f4db1900",
   "metadata": {},
   "outputs": [
    {
     "name": "stdout",
     "output_type": "stream",
     "text": [
      "\u001b[1m6/6\u001b[0m \u001b[32m━━━━━━━━━━━━━━━━━━━━\u001b[0m\u001b[37m\u001b[0m \u001b[1m0s\u001b[0m 8ms/step \n",
      "              precision    recall  f1-score   support\n",
      "\n",
      "           0       0.68      0.81      0.74        52\n",
      "           1       0.42      0.56      0.48        39\n",
      "           2       0.61      0.24      0.35        45\n",
      "           3       0.62      0.67      0.65        46\n",
      "\n",
      "    accuracy                           0.58       182\n",
      "   macro avg       0.58      0.57      0.55       182\n",
      "weighted avg       0.59      0.58      0.56       182\n",
      "\n"
     ]
    }
   ],
   "source": [
    "import numpy as np\n",
    "\n",
    "logits = model.predict(X_test)\n",
    "preds = [np.argmax(l) for l in logits]\n",
    "\n",
    "print(classification_report(y_test, preds))"
   ]
  }
 ],
 "metadata": {
  "kernelspec": {
   "display_name": "ml-experiments (3.12.12)",
   "language": "python",
   "name": "python3"
  },
  "language_info": {
   "codemirror_mode": {
    "name": "ipython",
    "version": 3
   },
   "file_extension": ".py",
   "mimetype": "text/x-python",
   "name": "python",
   "nbconvert_exporter": "python",
   "pygments_lexer": "ipython3",
   "version": "3.12.12"
  }
 },
 "nbformat": 4,
 "nbformat_minor": 5
}
