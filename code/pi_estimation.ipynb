{
 "cells": [
  {
   "cell_type": "code",
   "execution_count": 1,
   "id": "2173ef54",
   "metadata": {},
   "outputs": [
    {
     "data": {
      "text/plain": [
       "(747, 796, 747)"
      ]
     },
     "execution_count": 1,
     "metadata": {},
     "output_type": "execute_result"
    }
   ],
   "source": [
    "import pandas as pd\n",
    "\n",
    "DATA_PATH = '/home/kshipra/work/major/ml experiments/data/manually_combined.xlsx'\n",
    "\n",
    "eos = pd.read_excel(DATA_PATH, sheet_name='all_stacked_eos')\n",
    "sentinel = pd.read_excel(DATA_PATH, sheet_name='all_stacked_sentinel')\n",
    "combined = pd.read_excel(DATA_PATH, sheet_name='eos_sent_combined')\n",
    "\n",
    "len(eos), len(sentinel), len(combined)"
   ]
  },
  {
   "cell_type": "code",
   "execution_count": 2,
   "id": "6a794952",
   "metadata": {},
   "outputs": [],
   "source": [
    "%load_ext autoreload\n",
    "%autoreload 2"
   ]
  },
  {
   "cell_type": "code",
   "execution_count": 3,
   "id": "bdc971df",
   "metadata": {},
   "outputs": [
    {
     "name": "stderr",
     "output_type": "stream",
     "text": [
      "2025-09-01 11:04:02.189194: I tensorflow/core/platform/cpu_feature_guard.cc:210] This TensorFlow binary is optimized to use available CPU instructions in performance-critical operations.\n",
      "To enable the following instructions: AVX2 FMA, in other operations, rebuild TensorFlow with the appropriate compiler flags.\n"
     ]
    }
   ],
   "source": [
    "import tensorflow as tf"
   ]
  },
  {
   "cell_type": "markdown",
   "id": "0578c0b0",
   "metadata": {},
   "source": [
    "# Only EOS"
   ]
  },
  {
   "cell_type": "code",
   "execution_count": 4,
   "id": "fd0e9197",
   "metadata": {},
   "outputs": [
    {
     "name": "stdout",
     "output_type": "stream",
     "text": [
      "Training set: 504 samples\n",
      "Validation set: 168 samples\n",
      "Test set: 75 samples\n",
      "128607949184880\n",
      "128607949191552\n"
     ]
    }
   ],
   "source": [
    "from model_experiments import PredictionIntervalEstimation\n",
    "\n",
    "model = tf.keras.Sequential([\n",
    "    # Input layer\n",
    "    tf.keras.Input(shape=(2, )),\n",
    "    tf.keras.layers.Dense(2, activation='relu'),\n",
    "    tf.keras.layers.Dense(1)\n",
    "])\n",
    "\n",
    "PredictionIntervalEstimation(eos, features=['HH', 'HV'], target='SM', satellite='EOS').train_model(model)"
   ]
  }
 ],
 "metadata": {
  "kernelspec": {
   "display_name": "ml-experiments",
   "language": "python",
   "name": "python3"
  },
  "language_info": {
   "codemirror_mode": {
    "name": "ipython",
    "version": 3
   },
   "file_extension": ".py",
   "mimetype": "text/x-python",
   "name": "python",
   "nbconvert_exporter": "python",
   "pygments_lexer": "ipython3",
   "version": "3.12.11"
  }
 },
 "nbformat": 4,
 "nbformat_minor": 5
}
