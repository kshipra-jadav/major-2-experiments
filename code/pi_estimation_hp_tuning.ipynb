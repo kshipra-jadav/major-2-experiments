{
 "cells": [
  {
   "cell_type": "code",
   "execution_count": 1,
   "id": "94165373",
   "metadata": {},
   "outputs": [
    {
     "name": "stderr",
     "output_type": "stream",
     "text": [
      "2025-09-09 21:50:56.590433: I tensorflow/core/platform/cpu_feature_guard.cc:210] This TensorFlow binary is optimized to use available CPU instructions in performance-critical operations.\n",
      "To enable the following instructions: AVX2 FMA, in other operations, rebuild TensorFlow with the appropriate compiler flags.\n"
     ]
    },
    {
     "data": {
      "text/plain": [
       "(747, 796, 747)"
      ]
     },
     "execution_count": 1,
     "metadata": {},
     "output_type": "execute_result"
    }
   ],
   "source": [
    "import pandas as pd\n",
    "import tensorflow as tf\n",
    "\n",
    "DATA_PATH = '/home/kshipra/work/major/ml experiments/data/manually_combined.xlsx'\n",
    "\n",
    "eos = pd.read_excel(DATA_PATH, sheet_name='all_stacked_eos')\n",
    "sentinel = pd.read_excel(DATA_PATH, sheet_name='all_stacked_sentinel')\n",
    "combined = pd.read_excel(DATA_PATH, sheet_name='eos_sent_combined')\n",
    "\n",
    "len(eos), len(sentinel), len(combined)"
   ]
  },
  {
   "cell_type": "code",
   "execution_count": 2,
   "id": "eed37d62",
   "metadata": {},
   "outputs": [],
   "source": [
    "combined = combined[combined['SM (Combined)'] < 150]\n",
    "\n",
    "X_cols = ['VH', 'VV', 'HH', 'HV', 'Angle']\n",
    "y_col = ['SM (Combined)']"
   ]
  },
  {
   "cell_type": "code",
   "execution_count": 3,
   "id": "67ddc0db",
   "metadata": {},
   "outputs": [],
   "source": [
    "import pandas as pd\n",
    "from model_experiments import PredictionIntervalEstimation\n",
    "from tensorflow.keras.layers import Input, Dense, Dropout\n",
    "from tensorflow.keras.models import Sequential\n",
    "from tensorflow.keras.optimizers import Adam"
   ]
  },
  {
   "cell_type": "code",
   "execution_count": 21,
   "id": "22fe93b7",
   "metadata": {},
   "outputs": [],
   "source": [
    "def fine_tune(param_grid, random_seed=42):\n",
    "    all_results = []\n",
    "\n",
    "    features = X_cols\n",
    "    target = y_col[0]\n",
    "    data = combined\n",
    "\n",
    "    for idx, params in enumerate(param_grid):\n",
    "        print(f\"\\n--- Testing Configuration: {idx}:{params} ---\")\n",
    "\n",
    "        tf.keras.backend.clear_session()\n",
    "        \n",
    "        model_layers = [Input(shape=(len(features),))]\n",
    "        for units in params['layers']:\n",
    "            model_layers.append(Dense(units, activation='relu'))\n",
    "            if params['dropout'] > 0:\n",
    "                model_layers.append(Dropout(params['dropout']))\n",
    "        model_layers.append(Dense(1)) # Output layer\n",
    "        print(model_layers)\n",
    "        model = Sequential(model_layers)\n",
    "\n",
    "        exp = PredictionIntervalEstimation(data, features=features, target=target, satellite='EOS+Sentinel', random_state=random_seed)\n",
    "\n",
    "        y_lower_test, y_upper_test, y_lower_val, y_upper_val = exp.train_model(\n",
    "            model, \n",
    "            learning_rate=params['lr'], \n",
    "            batch_size=params['batch_size'],\n",
    "            epochs=500, # Use a sufficient number of epochs, rely on early stopping\n",
    "        )\n",
    "        \n",
    "        metrics = exp.evaluate_model(exp.y_val, y_lower_val, y_upper_val)\n",
    "        \n",
    "        result_entry = params.copy()\n",
    "        result_entry['PICP'] = metrics['PICP']\n",
    "        result_entry['MPIW'] = metrics['MPIW']\n",
    "        all_results.append(result_entry)\n",
    "        print()\n",
    "\n",
    "    all_results_df = pd.DataFrame(all_results)\n",
    "    print(\"\\n--- Experiment Results Summary ---\")\n",
    "    print(all_results_df)\n",
    "\n",
    "    return all_results_df"
   ]
  },
  {
   "cell_type": "code",
   "execution_count": null,
   "id": "fcd3c25a",
   "metadata": {},
   "outputs": [
    {
     "name": "stdout",
     "output_type": "stream",
     "text": [
      "Generated 12 parameter combinations to test.\n"
     ]
    }
   ],
   "source": [
    "# A highly focused parameter grid with 12 combinations\n",
    "\n",
    "param_grid = [\n",
    "    {'layers': [8], 'dropout': 0.0, 'lr': 0.001, 'batch_size': 32},\n",
    "    {'layers': [8], 'dropout': 0.1, 'lr': 0.001, 'batch_size': 32},\n",
    "    {'layers': [8], 'dropout': 0.2, 'lr': 0.001, 'batch_size': 32},\n",
    "\n",
    "    {'layers': [16], 'dropout': 0.0, 'lr': 0.001, 'batch_size': 32},\n",
    "    {'layers': [16], 'dropout': 0.1, 'lr': 0.001, 'batch_size': 32},\n",
    "    {'layers': [16], 'dropout': 0.2, 'lr': 0.001, 'batch_size': 32},\n",
    "\n",
    "    {'layers': [8, 4], 'dropout': 0.0, 'lr': 0.001, 'batch_size': 32},\n",
    "    {'layers': [8, 4], 'dropout': 0.1, 'lr': 0.001, 'batch_size': 32},\n",
    "    {'layers': [8, 4], 'dropout': 0.2, 'lr': 0.001, 'batch_size': 32},\n",
    "\n",
    "    {'layers': [8],  'dropout': 0.1, 'lr': 0.0005, 'batch_size': 32}, \n",
    "    {'layers': [16], 'dropout': 0.1, 'lr': 0.0005, 'batch_size': 32}, \n",
    "    {'layers': [8],  'dropout': 0.1, 'lr': 0.001,  'batch_size': 16}, \n",
    "]\n",
    "\n",
    "# Total experiments: 12\n",
    "print(f\"Generated {len(param_grid)} parameter combinations to test.\")"
   ]
  },
  {
   "cell_type": "code",
   "execution_count": null,
   "id": "f306584c",
   "metadata": {},
   "outputs": [],
   "source": [
    "results_df = fine_tune(param_grid)"
   ]
  },
  {
   "cell_type": "code",
   "execution_count": 19,
   "id": "8bd3d323",
   "metadata": {},
   "outputs": [
    {
     "data": {
      "text/html": [
       "<div>\n",
       "<style scoped>\n",
       "    .dataframe tbody tr th:only-of-type {\n",
       "        vertical-align: middle;\n",
       "    }\n",
       "\n",
       "    .dataframe tbody tr th {\n",
       "        vertical-align: top;\n",
       "    }\n",
       "\n",
       "    .dataframe thead th {\n",
       "        text-align: right;\n",
       "    }\n",
       "</style>\n",
       "<table border=\"1\" class=\"dataframe\">\n",
       "  <thead>\n",
       "    <tr style=\"text-align: right;\">\n",
       "      <th></th>\n",
       "      <th>layers</th>\n",
       "      <th>dropout</th>\n",
       "      <th>lr</th>\n",
       "      <th>batch_size</th>\n",
       "      <th>PICP</th>\n",
       "      <th>MPIW</th>\n",
       "    </tr>\n",
       "  </thead>\n",
       "  <tbody>\n",
       "    <tr>\n",
       "      <th>1</th>\n",
       "      <td>[8]</td>\n",
       "      <td>0.1</td>\n",
       "      <td>0.0010</td>\n",
       "      <td>32</td>\n",
       "      <td>0.964286</td>\n",
       "      <td>33.376377</td>\n",
       "    </tr>\n",
       "    <tr>\n",
       "      <th>2</th>\n",
       "      <td>[8]</td>\n",
       "      <td>0.2</td>\n",
       "      <td>0.0010</td>\n",
       "      <td>32</td>\n",
       "      <td>0.976190</td>\n",
       "      <td>35.415985</td>\n",
       "    </tr>\n",
       "    <tr>\n",
       "      <th>4</th>\n",
       "      <td>[16]</td>\n",
       "      <td>0.1</td>\n",
       "      <td>0.0010</td>\n",
       "      <td>32</td>\n",
       "      <td>0.952381</td>\n",
       "      <td>32.641106</td>\n",
       "    </tr>\n",
       "    <tr>\n",
       "      <th>5</th>\n",
       "      <td>[16]</td>\n",
       "      <td>0.2</td>\n",
       "      <td>0.0010</td>\n",
       "      <td>32</td>\n",
       "      <td>0.964286</td>\n",
       "      <td>33.399944</td>\n",
       "    </tr>\n",
       "    <tr>\n",
       "      <th>7</th>\n",
       "      <td>[8, 4]</td>\n",
       "      <td>0.1</td>\n",
       "      <td>0.0010</td>\n",
       "      <td>32</td>\n",
       "      <td>0.964286</td>\n",
       "      <td>33.898605</td>\n",
       "    </tr>\n",
       "    <tr>\n",
       "      <th>8</th>\n",
       "      <td>[8, 4]</td>\n",
       "      <td>0.2</td>\n",
       "      <td>0.0010</td>\n",
       "      <td>32</td>\n",
       "      <td>0.970238</td>\n",
       "      <td>36.210178</td>\n",
       "    </tr>\n",
       "    <tr>\n",
       "      <th>9</th>\n",
       "      <td>[8]</td>\n",
       "      <td>0.1</td>\n",
       "      <td>0.0005</td>\n",
       "      <td>32</td>\n",
       "      <td>0.964286</td>\n",
       "      <td>34.380848</td>\n",
       "    </tr>\n",
       "    <tr>\n",
       "      <th>10</th>\n",
       "      <td>[16]</td>\n",
       "      <td>0.1</td>\n",
       "      <td>0.0005</td>\n",
       "      <td>32</td>\n",
       "      <td>0.958333</td>\n",
       "      <td>32.548027</td>\n",
       "    </tr>\n",
       "    <tr>\n",
       "      <th>11</th>\n",
       "      <td>[8]</td>\n",
       "      <td>0.1</td>\n",
       "      <td>0.0010</td>\n",
       "      <td>16</td>\n",
       "      <td>0.958333</td>\n",
       "      <td>33.715019</td>\n",
       "    </tr>\n",
       "  </tbody>\n",
       "</table>\n",
       "</div>"
      ],
      "text/plain": [
       "    layers  dropout      lr  batch_size      PICP       MPIW\n",
       "1      [8]      0.1  0.0010          32  0.964286  33.376377\n",
       "2      [8]      0.2  0.0010          32  0.976190  35.415985\n",
       "4     [16]      0.1  0.0010          32  0.952381  32.641106\n",
       "5     [16]      0.2  0.0010          32  0.964286  33.399944\n",
       "7   [8, 4]      0.1  0.0010          32  0.964286  33.898605\n",
       "8   [8, 4]      0.2  0.0010          32  0.970238  36.210178\n",
       "9      [8]      0.1  0.0005          32  0.964286  34.380848\n",
       "10    [16]      0.1  0.0005          32  0.958333  32.548027\n",
       "11     [8]      0.1  0.0010          16  0.958333  33.715019"
      ]
     },
     "execution_count": 19,
     "metadata": {},
     "output_type": "execute_result"
    }
   ],
   "source": [
    "results_df[results_df['PICP'] > 0.95]"
   ]
  },
  {
   "cell_type": "markdown",
   "id": "dc496cb2",
   "metadata": {},
   "source": [
    "## Focused Approach"
   ]
  },
  {
   "cell_type": "code",
   "execution_count": null,
   "id": "1851207e",
   "metadata": {},
   "outputs": [
    {
     "name": "stdout",
     "output_type": "stream",
     "text": [
      "Generated 10 parameter combinations for fine-tuning.\n"
     ]
    }
   ],
   "source": [
    "param_grid = [\n",
    "    {'layers': [16], 'dropout': 0.0, 'lr': 0.0005, 'batch_size': 32},   \n",
    "    {'layers': [16], 'dropout': 0.05, 'lr': 0.0005, 'batch_size': 32},  \n",
    "    {'layers': [16], 'dropout': 0.075, 'lr': 0.0005, 'batch_size': 32}, \n",
    "\n",
    "    {'layers': [8], 'dropout': 0.0, 'lr': 0.001, 'batch_size': 32},     \n",
    "    {'layers': [8], 'dropout': 0.05, 'lr': 0.001, 'batch_size': 32},    \n",
    "    {'layers': [8], 'dropout': 0.15, 'lr': 0.001, 'batch_size': 32},    \n",
    "    \n",
    "    {'layers': [16, 8], 'dropout': 0.0, 'lr': 0.0005, 'batch_size': 32},\n",
    "    {'layers': [16, 8], 'dropout': 0.1, 'lr': 0.0005, 'batch_size': 32},\n",
    "    {'layers': [16], 'dropout': 0.05, 'lr': 0.0001, 'batch_size': 32},\n",
    "    {'layers': [8],  'dropout': 0.05, 'lr': 0.0001, 'batch_size': 32},\n",
    "]\n",
    "\n",
    "# Total experiments: 10\n",
    "print(f\"Generated {len(param_grid)} parameter combinations for fine-tuning.\")"
   ]
  },
  {
   "cell_type": "code",
   "execution_count": 23,
   "id": "c5366d45",
   "metadata": {},
   "outputs": [
    {
     "name": "stderr",
     "output_type": "stream",
     "text": [
      "Epochs:  36%|███▋      | 182/500 [26:18<45:58,  8.68s/epoch, loss=2.6443, val_loss=0.7142]\n"
     ]
    },
    {
     "name": "stdout",
     "output_type": "stream",
     "text": [
      "\n",
      "--- Testing Configuration: 0:{'layers': [16], 'dropout': 0.0, 'lr': 0.0005, 'batch_size': 32} ---\n",
      "--------- TRAINING UPPER MODEL -----------\n",
      "\n"
     ]
    },
    {
     "name": "stderr",
     "output_type": "stream",
     "text": [
      "Epochs:  78%|███████▊  | 392/500 [00:35<00:09, 11.09epoch/s, loss=0.4941, val_loss=0.5876] \n"
     ]
    },
    {
     "name": "stdout",
     "output_type": "stream",
     "text": [
      "--------- TRAINING LOWER MODEL -----------\n",
      "\n"
     ]
    },
    {
     "name": "stderr",
     "output_type": "stream",
     "text": [
      "Epochs:  46%|████▌     | 231/500 [00:20<00:24, 11.04epoch/s, loss=0.4290, val_loss=0.4056]\n"
     ]
    },
    {
     "name": "stdout",
     "output_type": "stream",
     "text": [
      "\u001b[1m3/3\u001b[0m \u001b[32m━━━━━━━━━━━━━━━━━━━━\u001b[0m\u001b[37m\u001b[0m \u001b[1m0s\u001b[0m 17ms/step\n",
      "\u001b[1m3/3\u001b[0m \u001b[32m━━━━━━━━━━━━━━━━━━━━\u001b[0m\u001b[37m\u001b[0m \u001b[1m0s\u001b[0m 17ms/step\n",
      "\u001b[1m6/6\u001b[0m \u001b[32m━━━━━━━━━━━━━━━━━━━━\u001b[0m\u001b[37m\u001b[0m \u001b[1m0s\u001b[0m 3ms/step \n",
      "\u001b[1m6/6\u001b[0m \u001b[32m━━━━━━━━━━━━━━━━━━━━\u001b[0m\u001b[37m\u001b[0m \u001b[1m0s\u001b[0m 4ms/step \n",
      "\n",
      "\n",
      "--- Testing Configuration: 1:{'layers': [16], 'dropout': 0.05, 'lr': 0.0005, 'batch_size': 32} ---\n",
      "--------- TRAINING UPPER MODEL -----------\n",
      "\n"
     ]
    },
    {
     "name": "stderr",
     "output_type": "stream",
     "text": [
      "Epochs:  71%|███████   | 354/500 [00:32<00:13, 10.99epoch/s, loss=0.5794, val_loss=0.5520] \n"
     ]
    },
    {
     "name": "stdout",
     "output_type": "stream",
     "text": [
      "--------- TRAINING LOWER MODEL -----------\n",
      "\n"
     ]
    },
    {
     "name": "stderr",
     "output_type": "stream",
     "text": [
      "Epochs:  39%|███▉      | 194/500 [00:17<00:28, 10.81epoch/s, loss=0.4327, val_loss=0.4085]\n"
     ]
    },
    {
     "name": "stdout",
     "output_type": "stream",
     "text": [
      "\u001b[1m3/3\u001b[0m \u001b[32m━━━━━━━━━━━━━━━━━━━━\u001b[0m\u001b[37m\u001b[0m \u001b[1m0s\u001b[0m 15ms/step\n",
      "\u001b[1m3/3\u001b[0m \u001b[32m━━━━━━━━━━━━━━━━━━━━\u001b[0m\u001b[37m\u001b[0m \u001b[1m0s\u001b[0m 14ms/step\n",
      "\u001b[1m6/6\u001b[0m \u001b[32m━━━━━━━━━━━━━━━━━━━━\u001b[0m\u001b[37m\u001b[0m \u001b[1m0s\u001b[0m 3ms/step \n",
      "\u001b[1m6/6\u001b[0m \u001b[32m━━━━━━━━━━━━━━━━━━━━\u001b[0m\u001b[37m\u001b[0m \u001b[1m0s\u001b[0m 3ms/step \n",
      "\n",
      "\n",
      "--- Testing Configuration: 2:{'layers': [16], 'dropout': 0.075, 'lr': 0.0005, 'batch_size': 32} ---\n",
      "--------- TRAINING UPPER MODEL -----------\n",
      "\n"
     ]
    },
    {
     "name": "stderr",
     "output_type": "stream",
     "text": [
      "Epochs: 100%|██████████| 500/500 [00:45<00:00, 10.98epoch/s, loss=0.5308, val_loss=0.5435] \n"
     ]
    },
    {
     "name": "stdout",
     "output_type": "stream",
     "text": [
      "--------- TRAINING LOWER MODEL -----------\n",
      "\n"
     ]
    },
    {
     "name": "stderr",
     "output_type": "stream",
     "text": [
      "Epochs:  30%|██▉       | 148/500 [00:13<00:32, 10.68epoch/s, loss=0.4376, val_loss=0.4079]\n"
     ]
    },
    {
     "name": "stdout",
     "output_type": "stream",
     "text": [
      "\u001b[1m3/3\u001b[0m \u001b[32m━━━━━━━━━━━━━━━━━━━━\u001b[0m\u001b[37m\u001b[0m \u001b[1m0s\u001b[0m 15ms/step\n",
      "\u001b[1m3/3\u001b[0m \u001b[32m━━━━━━━━━━━━━━━━━━━━\u001b[0m\u001b[37m\u001b[0m \u001b[1m0s\u001b[0m 14ms/step\n",
      "\u001b[1m6/6\u001b[0m \u001b[32m━━━━━━━━━━━━━━━━━━━━\u001b[0m\u001b[37m\u001b[0m \u001b[1m0s\u001b[0m 3ms/step \n",
      "\u001b[1m6/6\u001b[0m \u001b[32m━━━━━━━━━━━━━━━━━━━━\u001b[0m\u001b[37m\u001b[0m \u001b[1m0s\u001b[0m 3ms/step \n",
      "\n",
      "\n",
      "--- Testing Configuration: 3:{'layers': [8], 'dropout': 0.0, 'lr': 0.001, 'batch_size': 32} ---\n",
      "--------- TRAINING UPPER MODEL -----------\n",
      "\n"
     ]
    },
    {
     "name": "stderr",
     "output_type": "stream",
     "text": [
      "Epochs: 100%|██████████| 500/500 [00:45<00:00, 11.06epoch/s, loss=0.4816, val_loss=0.5841] \n"
     ]
    },
    {
     "name": "stdout",
     "output_type": "stream",
     "text": [
      "--------- TRAINING LOWER MODEL -----------\n",
      "\n"
     ]
    },
    {
     "name": "stderr",
     "output_type": "stream",
     "text": [
      "Epochs: 100%|██████████| 500/500 [00:46<00:00, 10.71epoch/s, loss=0.4254, val_loss=0.4001]\n"
     ]
    },
    {
     "name": "stdout",
     "output_type": "stream",
     "text": [
      "\u001b[1m3/3\u001b[0m \u001b[32m━━━━━━━━━━━━━━━━━━━━\u001b[0m\u001b[37m\u001b[0m \u001b[1m0s\u001b[0m 19ms/step\n",
      "\u001b[1m3/3\u001b[0m \u001b[32m━━━━━━━━━━━━━━━━━━━━\u001b[0m\u001b[37m\u001b[0m \u001b[1m0s\u001b[0m 18ms/step\n",
      "\u001b[1m6/6\u001b[0m \u001b[32m━━━━━━━━━━━━━━━━━━━━\u001b[0m\u001b[37m\u001b[0m \u001b[1m0s\u001b[0m 4ms/step \n",
      "\u001b[1m6/6\u001b[0m \u001b[32m━━━━━━━━━━━━━━━━━━━━\u001b[0m\u001b[37m\u001b[0m \u001b[1m0s\u001b[0m 4ms/step \n",
      "\n",
      "\n",
      "--- Testing Configuration: 4:{'layers': [8], 'dropout': 0.05, 'lr': 0.001, 'batch_size': 32} ---\n",
      "--------- TRAINING UPPER MODEL -----------\n",
      "\n"
     ]
    },
    {
     "name": "stderr",
     "output_type": "stream",
     "text": [
      "Epochs: 100%|██████████| 500/500 [00:48<00:00, 10.39epoch/s, loss=1.4051, val_loss=0.6300] \n"
     ]
    },
    {
     "name": "stdout",
     "output_type": "stream",
     "text": [
      "--------- TRAINING LOWER MODEL -----------\n",
      "\n"
     ]
    },
    {
     "name": "stderr",
     "output_type": "stream",
     "text": [
      "Epochs: 100%|██████████| 500/500 [00:46<00:00, 10.69epoch/s, loss=0.4308, val_loss=0.3984]"
     ]
    },
    {
     "name": "stdout",
     "output_type": "stream",
     "text": [
      "\u001b[1m1/3\u001b[0m \u001b[32m━━━━━━\u001b[0m\u001b[37m━━━━━━━━━━━━━━\u001b[0m \u001b[1m0s\u001b[0m 33ms/step"
     ]
    },
    {
     "name": "stderr",
     "output_type": "stream",
     "text": [
      "\n"
     ]
    },
    {
     "name": "stdout",
     "output_type": "stream",
     "text": [
      "\u001b[1m3/3\u001b[0m \u001b[32m━━━━━━━━━━━━━━━━━━━━\u001b[0m\u001b[37m\u001b[0m \u001b[1m0s\u001b[0m 20ms/step\n",
      "\u001b[1m3/3\u001b[0m \u001b[32m━━━━━━━━━━━━━━━━━━━━\u001b[0m\u001b[37m\u001b[0m \u001b[1m0s\u001b[0m 19ms/step\n",
      "\u001b[1m6/6\u001b[0m \u001b[32m━━━━━━━━━━━━━━━━━━━━\u001b[0m\u001b[37m\u001b[0m \u001b[1m0s\u001b[0m 3ms/step \n",
      "\u001b[1m6/6\u001b[0m \u001b[32m━━━━━━━━━━━━━━━━━━━━\u001b[0m\u001b[37m\u001b[0m \u001b[1m0s\u001b[0m 4ms/step \n",
      "\n",
      "\n",
      "--- Testing Configuration: 5:{'layers': [8], 'dropout': 0.15, 'lr': 0.001, 'batch_size': 32} ---\n",
      "--------- TRAINING UPPER MODEL -----------\n",
      "\n"
     ]
    },
    {
     "name": "stderr",
     "output_type": "stream",
     "text": [
      "Epochs:  36%|███▌      | 180/500 [00:20<00:35,  8.98epoch/s, loss=0.9387, val_loss=0.5728] \n"
     ]
    },
    {
     "name": "stdout",
     "output_type": "stream",
     "text": [
      "--------- TRAINING LOWER MODEL -----------\n",
      "\n"
     ]
    },
    {
     "name": "stderr",
     "output_type": "stream",
     "text": [
      "Epochs:  45%|████▌     | 226/500 [00:21<00:26, 10.49epoch/s, loss=0.4475, val_loss=0.4210]"
     ]
    },
    {
     "name": "stdout",
     "output_type": "stream",
     "text": [
      "\u001b[1m1/3\u001b[0m \u001b[32m━━━━━━\u001b[0m\u001b[37m━━━━━━━━━━━━━━\u001b[0m \u001b[1m0s\u001b[0m 35ms/step"
     ]
    },
    {
     "name": "stderr",
     "output_type": "stream",
     "text": [
      "\n"
     ]
    },
    {
     "name": "stdout",
     "output_type": "stream",
     "text": [
      "\u001b[1m3/3\u001b[0m \u001b[32m━━━━━━━━━━━━━━━━━━━━\u001b[0m\u001b[37m\u001b[0m \u001b[1m0s\u001b[0m 18ms/step\n",
      "\u001b[1m3/3\u001b[0m \u001b[32m━━━━━━━━━━━━━━━━━━━━\u001b[0m\u001b[37m\u001b[0m \u001b[1m0s\u001b[0m 17ms/step\n",
      "\u001b[1m6/6\u001b[0m \u001b[32m━━━━━━━━━━━━━━━━━━━━\u001b[0m\u001b[37m\u001b[0m \u001b[1m0s\u001b[0m 4ms/step \n",
      "\u001b[1m6/6\u001b[0m \u001b[32m━━━━━━━━━━━━━━━━━━━━\u001b[0m\u001b[37m\u001b[0m \u001b[1m0s\u001b[0m 4ms/step \n",
      "\n",
      "\n",
      "--- Testing Configuration: 6:{'layers': [16, 8], 'dropout': 0.0, 'lr': 0.0005, 'batch_size': 32} ---\n",
      "--------- TRAINING UPPER MODEL -----------\n",
      "\n"
     ]
    },
    {
     "name": "stderr",
     "output_type": "stream",
     "text": [
      "Epochs:  88%|████████▊ | 439/500 [00:39<00:05, 11.01epoch/s, loss=0.4677, val_loss=0.5805] \n"
     ]
    },
    {
     "name": "stdout",
     "output_type": "stream",
     "text": [
      "--------- TRAINING LOWER MODEL -----------\n",
      "\n"
     ]
    },
    {
     "name": "stderr",
     "output_type": "stream",
     "text": [
      "Epochs: 100%|██████████| 500/500 [00:44<00:00, 11.17epoch/s, loss=0.4096, val_loss=0.3939]\n"
     ]
    },
    {
     "name": "stdout",
     "output_type": "stream",
     "text": [
      "\u001b[1m3/3\u001b[0m \u001b[32m━━━━━━━━━━━━━━━━━━━━\u001b[0m\u001b[37m\u001b[0m \u001b[1m0s\u001b[0m 16ms/step\n",
      "\u001b[1m3/3\u001b[0m \u001b[32m━━━━━━━━━━━━━━━━━━━━\u001b[0m\u001b[37m\u001b[0m \u001b[1m0s\u001b[0m 15ms/step\n",
      "\u001b[1m6/6\u001b[0m \u001b[32m━━━━━━━━━━━━━━━━━━━━\u001b[0m\u001b[37m\u001b[0m \u001b[1m0s\u001b[0m 3ms/step \n",
      "\u001b[1m6/6\u001b[0m \u001b[32m━━━━━━━━━━━━━━━━━━━━\u001b[0m\u001b[37m\u001b[0m \u001b[1m0s\u001b[0m 3ms/step \n",
      "\n",
      "\n",
      "--- Testing Configuration: 7:{'layers': [16, 8], 'dropout': 0.1, 'lr': 0.0005, 'batch_size': 32} ---\n",
      "--------- TRAINING UPPER MODEL -----------\n",
      "\n"
     ]
    },
    {
     "name": "stderr",
     "output_type": "stream",
     "text": [
      "Epochs:  24%|██▍       | 119/500 [00:11<00:36, 10.43epoch/s, loss=0.7351, val_loss=0.5905] \n"
     ]
    },
    {
     "name": "stdout",
     "output_type": "stream",
     "text": [
      "--------- TRAINING LOWER MODEL -----------\n",
      "\n"
     ]
    },
    {
     "name": "stderr",
     "output_type": "stream",
     "text": [
      "Epochs:  25%|██▌       | 125/500 [00:11<00:35, 10.53epoch/s, loss=0.4552, val_loss=0.4058]\n"
     ]
    },
    {
     "name": "stdout",
     "output_type": "stream",
     "text": [
      "\u001b[1m3/3\u001b[0m \u001b[32m━━━━━━━━━━━━━━━━━━━━\u001b[0m\u001b[37m\u001b[0m \u001b[1m0s\u001b[0m 24ms/step\n",
      "\u001b[1m3/3\u001b[0m \u001b[32m━━━━━━━━━━━━━━━━━━━━\u001b[0m\u001b[37m\u001b[0m \u001b[1m0s\u001b[0m 24ms/step\n",
      "\u001b[1m6/6\u001b[0m \u001b[32m━━━━━━━━━━━━━━━━━━━━\u001b[0m\u001b[37m\u001b[0m \u001b[1m0s\u001b[0m 4ms/step \n",
      "\u001b[1m6/6\u001b[0m \u001b[32m━━━━━━━━━━━━━━━━━━━━\u001b[0m\u001b[37m\u001b[0m \u001b[1m0s\u001b[0m 4ms/step \n",
      "\n",
      "\n",
      "--- Testing Configuration: 8:{'layers': [16], 'dropout': 0.05, 'lr': 0.0001, 'batch_size': 32} ---\n",
      "--------- TRAINING UPPER MODEL -----------\n",
      "\n"
     ]
    },
    {
     "name": "stderr",
     "output_type": "stream",
     "text": [
      "Epochs: 100%|██████████| 500/500 [00:48<00:00, 10.23epoch/s, loss=3.1940, val_loss=3.2893]  \n"
     ]
    },
    {
     "name": "stdout",
     "output_type": "stream",
     "text": [
      "--------- TRAINING LOWER MODEL -----------\n",
      "\n"
     ]
    },
    {
     "name": "stderr",
     "output_type": "stream",
     "text": [
      "Epochs: 100%|██████████| 500/500 [00:47<00:00, 10.54epoch/s, loss=0.4320, val_loss=0.4057]\n"
     ]
    },
    {
     "name": "stdout",
     "output_type": "stream",
     "text": [
      "\u001b[1m3/3\u001b[0m \u001b[32m━━━━━━━━━━━━━━━━━━━━\u001b[0m\u001b[37m\u001b[0m \u001b[1m0s\u001b[0m 18ms/step\n",
      "\u001b[1m3/3\u001b[0m \u001b[32m━━━━━━━━━━━━━━━━━━━━\u001b[0m\u001b[37m\u001b[0m \u001b[1m0s\u001b[0m 16ms/step\n",
      "\u001b[1m6/6\u001b[0m \u001b[32m━━━━━━━━━━━━━━━━━━━━\u001b[0m\u001b[37m\u001b[0m \u001b[1m0s\u001b[0m 6ms/step \n",
      "\u001b[1m6/6\u001b[0m \u001b[32m━━━━━━━━━━━━━━━━━━━━\u001b[0m\u001b[37m\u001b[0m \u001b[1m0s\u001b[0m 4ms/step \n",
      "\n",
      "\n",
      "--- Testing Configuration: 9:{'layers': [8], 'dropout': 0.05, 'lr': 0.0001, 'batch_size': 32} ---\n",
      "--------- TRAINING UPPER MODEL -----------\n",
      "\n"
     ]
    },
    {
     "name": "stderr",
     "output_type": "stream",
     "text": [
      "Epochs: 100%|██████████| 500/500 [00:45<00:00, 10.94epoch/s, loss=7.8451, val_loss=8.0070]  \n"
     ]
    },
    {
     "name": "stdout",
     "output_type": "stream",
     "text": [
      "--------- TRAINING LOWER MODEL -----------\n",
      "\n"
     ]
    },
    {
     "name": "stderr",
     "output_type": "stream",
     "text": [
      "Epochs: 100%|██████████| 500/500 [00:45<00:00, 11.10epoch/s, loss=0.4259, val_loss=0.4110]\n"
     ]
    },
    {
     "name": "stdout",
     "output_type": "stream",
     "text": [
      "\u001b[1m3/3\u001b[0m \u001b[32m━━━━━━━━━━━━━━━━━━━━\u001b[0m\u001b[37m\u001b[0m \u001b[1m0s\u001b[0m 15ms/step\n",
      "\u001b[1m3/3\u001b[0m \u001b[32m━━━━━━━━━━━━━━━━━━━━\u001b[0m\u001b[37m\u001b[0m \u001b[1m0s\u001b[0m 15ms/step\n",
      "\u001b[1m6/6\u001b[0m \u001b[32m━━━━━━━━━━━━━━━━━━━━\u001b[0m\u001b[37m\u001b[0m \u001b[1m0s\u001b[0m 3ms/step \n",
      "\u001b[1m6/6\u001b[0m \u001b[32m━━━━━━━━━━━━━━━━━━━━\u001b[0m\u001b[37m\u001b[0m \u001b[1m0s\u001b[0m 3ms/step \n",
      "\n",
      "\n",
      "--- Experiment Results Summary ---\n",
      "    layers  dropout      lr  batch_size      PICP       MPIW\n",
      "0     [16]    0.000  0.0005          32  0.940476  30.762806\n",
      "1     [16]    0.050  0.0005          32  0.958333  33.504383\n",
      "2     [16]    0.075  0.0005          32  0.952381  33.355644\n",
      "3      [8]    0.000  0.0010          32  0.934524  30.475615\n",
      "4      [8]    0.050  0.0010          32  0.916667  27.909569\n",
      "5      [8]    0.150  0.0010          32  0.958333  34.108868\n",
      "6  [16, 8]    0.000  0.0005          32  0.922619  29.807980\n",
      "7  [16, 8]    0.100  0.0005          32  0.964286  32.557167\n",
      "8     [16]    0.050  0.0001          32  0.494048  15.547840\n",
      "9      [8]    0.050  0.0001          32  0.166667   8.397850\n"
     ]
    }
   ],
   "source": [
    "results_df = fine_tune(param_grid)"
   ]
  },
  {
   "cell_type": "code",
   "execution_count": 25,
   "id": "7848261d",
   "metadata": {},
   "outputs": [],
   "source": [
    "results_df.to_csv('test.csv')"
   ]
  },
  {
   "cell_type": "markdown",
   "id": "d2f1be0b",
   "metadata": {},
   "source": [
    "### More Focused"
   ]
  },
  {
   "cell_type": "code",
   "execution_count": 7,
   "id": "b6501a93",
   "metadata": {},
   "outputs": [],
   "source": [
    "param_grid_final = [\n",
    "    {'layers': [16, 8], 'dropout': 0.1,    'lr': 0.0005, 'batch_size': 32},\n",
    "\n",
    "    {'layers': [16, 8], 'dropout': 0.09,   'lr': 0.0005, 'batch_size': 32},\n",
    "    {'layers': [16, 8], 'dropout': 0.08,   'lr': 0.0005, 'batch_size': 32},\n",
    "    {'layers': [16, 8], 'dropout': 0.07,   'lr': 0.0005, 'batch_size': 32},\n",
    "]"
   ]
  },
  {
   "cell_type": "code",
   "execution_count": 8,
   "id": "bacb3d07",
   "metadata": {},
   "outputs": [
    {
     "name": "stdout",
     "output_type": "stream",
     "text": [
      "\n",
      "--- Testing Configuration: 0:{'layers': [16, 8], 'dropout': 0.1, 'lr': 0.0005, 'batch_size': 32} ---\n"
     ]
    },
    {
     "name": "stderr",
     "output_type": "stream",
     "text": [
      "Epochs:   3%|▎         | 13/500 [00:02<01:06,  7.33epoch/s, loss=22.9319, val_loss=22.9340]"
     ]
    },
    {
     "ename": "KeyboardInterrupt",
     "evalue": "",
     "output_type": "error",
     "traceback": [
      "\u001b[31m---------------------------------------------------------------------------\u001b[39m",
      "\u001b[31mKeyboardInterrupt\u001b[39m                         Traceback (most recent call last)",
      "\u001b[36mCell\u001b[39m\u001b[36m \u001b[39m\u001b[32mIn[8]\u001b[39m\u001b[32m, line 1\u001b[39m\n\u001b[32m----> \u001b[39m\u001b[32m1\u001b[39m results_df = \u001b[43mfine_tune\u001b[49m\u001b[43m(\u001b[49m\u001b[43mparam_grid_final\u001b[49m\u001b[43m)\u001b[49m\n",
      "\u001b[36mCell\u001b[39m\u001b[36m \u001b[39m\u001b[32mIn[5]\u001b[39m\u001b[32m, line 23\u001b[39m, in \u001b[36mfine_tune\u001b[39m\u001b[34m(param_grid, random_seed)\u001b[39m\n\u001b[32m     19\u001b[39m model = Sequential(model_layers)\n\u001b[32m     21\u001b[39m exp = PredictionIntervalEstimation(data, features=features, target=target, satellite=\u001b[33m'\u001b[39m\u001b[33mEOS+Sentinel\u001b[39m\u001b[33m'\u001b[39m, random_state=random_seed)\n\u001b[32m---> \u001b[39m\u001b[32m23\u001b[39m y_lower_test, y_upper_test, y_lower_val, y_upper_val = \u001b[43mexp\u001b[49m\u001b[43m.\u001b[49m\u001b[43mtrain_model\u001b[49m\u001b[43m(\u001b[49m\n\u001b[32m     24\u001b[39m \u001b[43m    \u001b[49m\u001b[43mmodel\u001b[49m\u001b[43m,\u001b[49m\u001b[43m \u001b[49m\n\u001b[32m     25\u001b[39m \u001b[43m    \u001b[49m\u001b[43mlearning_rate\u001b[49m\u001b[43m=\u001b[49m\u001b[43mparams\u001b[49m\u001b[43m[\u001b[49m\u001b[33;43m'\u001b[39;49m\u001b[33;43mlr\u001b[39;49m\u001b[33;43m'\u001b[39;49m\u001b[43m]\u001b[49m\u001b[43m,\u001b[49m\u001b[43m \u001b[49m\n\u001b[32m     26\u001b[39m \u001b[43m    \u001b[49m\u001b[43mbatch_size\u001b[49m\u001b[43m=\u001b[49m\u001b[43mparams\u001b[49m\u001b[43m[\u001b[49m\u001b[33;43m'\u001b[39;49m\u001b[33;43mbatch_size\u001b[39;49m\u001b[33;43m'\u001b[39;49m\u001b[43m]\u001b[49m\u001b[43m,\u001b[49m\n\u001b[32m     27\u001b[39m \u001b[43m    \u001b[49m\u001b[43mepochs\u001b[49m\u001b[43m=\u001b[49m\u001b[32;43m500\u001b[39;49m\u001b[43m,\u001b[49m\u001b[43m \u001b[49m\u001b[38;5;66;43;03m# Use a sufficient number of epochs, rely on early stopping\u001b[39;49;00m\n\u001b[32m     28\u001b[39m \u001b[43m\u001b[49m\u001b[43m)\u001b[49m\n\u001b[32m     30\u001b[39m metrics = exp.evaluate_model(exp.y_val, y_lower_val, y_upper_val)\n\u001b[32m     32\u001b[39m result_entry = params.copy()\n",
      "\u001b[36mFile \u001b[39m\u001b[32m~/work/major/ml experiments/code/model_experiments.py:421\u001b[39m, in \u001b[36mtrain_model\u001b[39m\u001b[34m(self, model, learning_rate, optimizer, epochs, batch_size, verbose)\u001b[39m\n\u001b[32m    411\u001b[39m self.lower_model.compile(\n\u001b[32m    412\u001b[39m     optimizer=lower_optimizer,\n\u001b[32m    413\u001b[39m     loss=self.lower_quantile_loss\n\u001b[32m    414\u001b[39m )\n\u001b[32m    415\u001b[39m self.upper_model.compile(\n\u001b[32m    416\u001b[39m     optimizer=upper_optimizer,\n\u001b[32m    417\u001b[39m     loss=self.upper_quantile_loss\n\u001b[32m    418\u001b[39m )\n\u001b[32m--> \u001b[39m\u001b[32m421\u001b[39m # print(\"--------- TRAINING UPPER MODEL -----------\\n\")\n\u001b[32m    422\u001b[39m early_stopping = EarlyStopping(monitor='val_loss', patience=50, restore_best_weights=True)\n\u001b[32m    423\u001b[39m progress = EpochTqdm(total_epochs=epochs)\n",
      "\u001b[36mFile \u001b[39m\u001b[32m~/work/major/ml experiments/.venv/lib/python3.12/site-packages/keras/src/utils/traceback_utils.py:117\u001b[39m, in \u001b[36mfilter_traceback.<locals>.error_handler\u001b[39m\u001b[34m(*args, **kwargs)\u001b[39m\n\u001b[32m    115\u001b[39m filtered_tb = \u001b[38;5;28;01mNone\u001b[39;00m\n\u001b[32m    116\u001b[39m \u001b[38;5;28;01mtry\u001b[39;00m:\n\u001b[32m--> \u001b[39m\u001b[32m117\u001b[39m     \u001b[38;5;28;01mreturn\u001b[39;00m \u001b[43mfn\u001b[49m\u001b[43m(\u001b[49m\u001b[43m*\u001b[49m\u001b[43margs\u001b[49m\u001b[43m,\u001b[49m\u001b[43m \u001b[49m\u001b[43m*\u001b[49m\u001b[43m*\u001b[49m\u001b[43mkwargs\u001b[49m\u001b[43m)\u001b[49m\n\u001b[32m    118\u001b[39m \u001b[38;5;28;01mexcept\u001b[39;00m \u001b[38;5;167;01mException\u001b[39;00m \u001b[38;5;28;01mas\u001b[39;00m e:\n\u001b[32m    119\u001b[39m     filtered_tb = _process_traceback_frames(e.__traceback__)\n",
      "\u001b[36mFile \u001b[39m\u001b[32m~/work/major/ml experiments/.venv/lib/python3.12/site-packages/keras/src/backend/tensorflow/trainer.py:375\u001b[39m, in \u001b[36mTensorFlowTrainer.fit\u001b[39m\u001b[34m(self, x, y, batch_size, epochs, verbose, callbacks, validation_split, validation_data, shuffle, class_weight, sample_weight, initial_epoch, steps_per_epoch, validation_steps, validation_batch_size, validation_freq)\u001b[39m\n\u001b[32m    373\u001b[39m callbacks.on_epoch_begin(epoch)\n\u001b[32m    374\u001b[39m \u001b[38;5;28;01mwith\u001b[39;00m epoch_iterator.catch_stop_iteration():\n\u001b[32m--> \u001b[39m\u001b[32m375\u001b[39m \u001b[43m    \u001b[49m\u001b[38;5;28;43;01mfor\u001b[39;49;00m\u001b[43m \u001b[49m\u001b[43mbegin_step\u001b[49m\u001b[43m,\u001b[49m\u001b[43m \u001b[49m\u001b[43mend_step\u001b[49m\u001b[43m,\u001b[49m\u001b[43m \u001b[49m\u001b[43miterator\u001b[49m\u001b[43m \u001b[49m\u001b[38;5;129;43;01min\u001b[39;49;00m\u001b[43m \u001b[49m\u001b[43mepoch_iterator\u001b[49m\u001b[43m:\u001b[49m\n\u001b[32m    376\u001b[39m \u001b[43m        \u001b[49m\u001b[43mcallbacks\u001b[49m\u001b[43m.\u001b[49m\u001b[43mon_train_batch_begin\u001b[49m\u001b[43m(\u001b[49m\u001b[43mbegin_step\u001b[49m\u001b[43m)\u001b[49m\n\u001b[32m    377\u001b[39m \u001b[43m        \u001b[49m\u001b[43mlogs\u001b[49m\u001b[43m \u001b[49m\u001b[43m=\u001b[49m\u001b[43m \u001b[49m\u001b[38;5;28;43mself\u001b[39;49m\u001b[43m.\u001b[49m\u001b[43mtrain_function\u001b[49m\u001b[43m(\u001b[49m\u001b[43miterator\u001b[49m\u001b[43m)\u001b[49m\n",
      "\u001b[36mFile \u001b[39m\u001b[32m~/work/major/ml experiments/.venv/lib/python3.12/site-packages/keras/src/backend/tensorflow/trainer.py:742\u001b[39m, in \u001b[36mTFEpochIterator.__next__\u001b[39m\u001b[34m(self)\u001b[39m\n\u001b[32m    741\u001b[39m \u001b[38;5;28;01mdef\u001b[39;00m\u001b[38;5;250m \u001b[39m\u001b[34m__next__\u001b[39m(\u001b[38;5;28mself\u001b[39m):\n\u001b[32m--> \u001b[39m\u001b[32m742\u001b[39m     \u001b[38;5;28;01mreturn\u001b[39;00m \u001b[38;5;28;43mnext\u001b[39;49m\u001b[43m(\u001b[49m\u001b[38;5;28;43mself\u001b[39;49m\u001b[43m.\u001b[49m\u001b[43m_epoch_iterator\u001b[49m\u001b[43m)\u001b[49m\n",
      "\u001b[36mFile \u001b[39m\u001b[32m~/work/major/ml experiments/.venv/lib/python3.12/site-packages/keras/src/trainers/epoch_iterator.py:111\u001b[39m, in \u001b[36mEpochIterator._enumerate_iterator\u001b[39m\u001b[34m(self)\u001b[39m\n\u001b[32m    109\u001b[39m \u001b[38;5;28;01mif\u001b[39;00m steps_per_epoch > \u001b[32m0\u001b[39m:\n\u001b[32m    110\u001b[39m     \u001b[38;5;28;01mif\u001b[39;00m \u001b[38;5;28mself\u001b[39m._current_iterator \u001b[38;5;129;01mis\u001b[39;00m \u001b[38;5;28;01mNone\u001b[39;00m \u001b[38;5;129;01mor\u001b[39;00m \u001b[38;5;28mself\u001b[39m.steps_per_epoch \u001b[38;5;129;01mis\u001b[39;00m \u001b[38;5;28;01mNone\u001b[39;00m:\n\u001b[32m--> \u001b[39m\u001b[32m111\u001b[39m         \u001b[38;5;28mself\u001b[39m._current_iterator = \u001b[38;5;28;43miter\u001b[39;49m\u001b[43m(\u001b[49m\u001b[38;5;28;43mself\u001b[39;49m\u001b[43m.\u001b[49m\u001b[43m_get_iterator\u001b[49m\u001b[43m(\u001b[49m\u001b[43m)\u001b[49m\u001b[43m)\u001b[49m\n\u001b[32m    112\u001b[39m         \u001b[38;5;28mself\u001b[39m._steps_seen = \u001b[32m0\u001b[39m\n\u001b[32m    113\u001b[39m     \u001b[38;5;28;01mfor\u001b[39;00m step \u001b[38;5;129;01min\u001b[39;00m \u001b[38;5;28mrange\u001b[39m(\u001b[32m0\u001b[39m, steps_per_epoch, \u001b[38;5;28mself\u001b[39m.steps_per_execution):\n",
      "\u001b[36mFile \u001b[39m\u001b[32m~/work/major/ml experiments/.venv/lib/python3.12/site-packages/tensorflow/python/data/ops/dataset_ops.py:501\u001b[39m, in \u001b[36mDatasetV2.__iter__\u001b[39m\u001b[34m(self)\u001b[39m\n\u001b[32m    499\u001b[39m \u001b[38;5;28;01mif\u001b[39;00m context.executing_eagerly() \u001b[38;5;129;01mor\u001b[39;00m ops.inside_function():\n\u001b[32m    500\u001b[39m   \u001b[38;5;28;01mwith\u001b[39;00m ops.colocate_with(\u001b[38;5;28mself\u001b[39m._variant_tensor):\n\u001b[32m--> \u001b[39m\u001b[32m501\u001b[39m     \u001b[38;5;28;01mreturn\u001b[39;00m \u001b[43miterator_ops\u001b[49m\u001b[43m.\u001b[49m\u001b[43mOwnedIterator\u001b[49m\u001b[43m(\u001b[49m\u001b[38;5;28;43mself\u001b[39;49m\u001b[43m)\u001b[49m\n\u001b[32m    502\u001b[39m \u001b[38;5;28;01melse\u001b[39;00m:\n\u001b[32m    503\u001b[39m   \u001b[38;5;28;01mraise\u001b[39;00m \u001b[38;5;167;01mRuntimeError\u001b[39;00m(\u001b[33m\"\u001b[39m\u001b[33m`tf.data.Dataset` only supports Python-style \u001b[39m\u001b[33m\"\u001b[39m\n\u001b[32m    504\u001b[39m                      \u001b[33m\"\u001b[39m\u001b[33miteration in eager mode or within tf.function.\u001b[39m\u001b[33m\"\u001b[39m)\n",
      "\u001b[36mFile \u001b[39m\u001b[32m~/work/major/ml experiments/.venv/lib/python3.12/site-packages/tensorflow/python/data/ops/iterator_ops.py:709\u001b[39m, in \u001b[36mOwnedIterator.__init__\u001b[39m\u001b[34m(self, dataset, components, element_spec)\u001b[39m\n\u001b[32m    705\u001b[39m   \u001b[38;5;28;01mif\u001b[39;00m (components \u001b[38;5;129;01mis\u001b[39;00m \u001b[38;5;129;01mnot\u001b[39;00m \u001b[38;5;28;01mNone\u001b[39;00m \u001b[38;5;129;01mor\u001b[39;00m element_spec \u001b[38;5;129;01mis\u001b[39;00m \u001b[38;5;129;01mnot\u001b[39;00m \u001b[38;5;28;01mNone\u001b[39;00m):\n\u001b[32m    706\u001b[39m     \u001b[38;5;28;01mraise\u001b[39;00m \u001b[38;5;167;01mValueError\u001b[39;00m(\n\u001b[32m    707\u001b[39m         \u001b[33m\"\u001b[39m\u001b[33mWhen `dataset` is provided, `element_spec` and `components` must \u001b[39m\u001b[33m\"\u001b[39m\n\u001b[32m    708\u001b[39m         \u001b[33m\"\u001b[39m\u001b[33mnot be specified.\u001b[39m\u001b[33m\"\u001b[39m)\n\u001b[32m--> \u001b[39m\u001b[32m709\u001b[39m   \u001b[38;5;28;43mself\u001b[39;49m\u001b[43m.\u001b[49m\u001b[43m_create_iterator\u001b[49m\u001b[43m(\u001b[49m\u001b[43mdataset\u001b[49m\u001b[43m)\u001b[49m\n\u001b[32m    711\u001b[39m \u001b[38;5;28mself\u001b[39m._get_next_call_count = \u001b[32m0\u001b[39m\n",
      "\u001b[36mFile \u001b[39m\u001b[32m~/work/major/ml experiments/.venv/lib/python3.12/site-packages/tensorflow/python/data/ops/iterator_ops.py:748\u001b[39m, in \u001b[36mOwnedIterator._create_iterator\u001b[39m\u001b[34m(self, dataset)\u001b[39m\n\u001b[32m    745\u001b[39m   \u001b[38;5;28;01massert\u001b[39;00m \u001b[38;5;28mlen\u001b[39m(fulltype.args[\u001b[32m0\u001b[39m].args[\u001b[32m0\u001b[39m].args) == \u001b[38;5;28mlen\u001b[39m(\n\u001b[32m    746\u001b[39m       \u001b[38;5;28mself\u001b[39m._flat_output_types)\n\u001b[32m    747\u001b[39m   \u001b[38;5;28mself\u001b[39m._iterator_resource.op.experimental_set_type(fulltype)\n\u001b[32m--> \u001b[39m\u001b[32m748\u001b[39m \u001b[43mgen_dataset_ops\u001b[49m\u001b[43m.\u001b[49m\u001b[43mmake_iterator\u001b[49m\u001b[43m(\u001b[49m\u001b[43mds_variant\u001b[49m\u001b[43m,\u001b[49m\u001b[43m \u001b[49m\u001b[38;5;28;43mself\u001b[39;49m\u001b[43m.\u001b[49m\u001b[43m_iterator_resource\u001b[49m\u001b[43m)\u001b[49m\n",
      "\u001b[36mFile \u001b[39m\u001b[32m~/work/major/ml experiments/.venv/lib/python3.12/site-packages/tensorflow/python/ops/gen_dataset_ops.py:3478\u001b[39m, in \u001b[36mmake_iterator\u001b[39m\u001b[34m(dataset, iterator, name)\u001b[39m\n\u001b[32m   3476\u001b[39m \u001b[38;5;28;01mif\u001b[39;00m tld.is_eager:\n\u001b[32m   3477\u001b[39m   \u001b[38;5;28;01mtry\u001b[39;00m:\n\u001b[32m-> \u001b[39m\u001b[32m3478\u001b[39m     _result = \u001b[43mpywrap_tfe\u001b[49m\u001b[43m.\u001b[49m\u001b[43mTFE_Py_FastPathExecute\u001b[49m\u001b[43m(\u001b[49m\n\u001b[32m   3479\u001b[39m \u001b[43m      \u001b[49m\u001b[43m_ctx\u001b[49m\u001b[43m,\u001b[49m\u001b[43m \u001b[49m\u001b[33;43m\"\u001b[39;49m\u001b[33;43mMakeIterator\u001b[39;49m\u001b[33;43m\"\u001b[39;49m\u001b[43m,\u001b[49m\u001b[43m \u001b[49m\u001b[43mname\u001b[49m\u001b[43m,\u001b[49m\u001b[43m \u001b[49m\u001b[43mdataset\u001b[49m\u001b[43m,\u001b[49m\u001b[43m \u001b[49m\u001b[43miterator\u001b[49m\u001b[43m)\u001b[49m\n\u001b[32m   3480\u001b[39m     \u001b[38;5;28;01mreturn\u001b[39;00m _result\n\u001b[32m   3481\u001b[39m   \u001b[38;5;28;01mexcept\u001b[39;00m _core._NotOkStatusException \u001b[38;5;28;01mas\u001b[39;00m e:\n",
      "\u001b[31mKeyboardInterrupt\u001b[39m: "
     ]
    }
   ],
   "source": [
    "results_df = fine_tune(param_grid_final)"
   ]
  },
  {
   "cell_type": "markdown",
   "id": "980fbc02",
   "metadata": {},
   "source": [
    "## Final HP"
   ]
  },
  {
   "cell_type": "code",
   "execution_count": 15,
   "id": "24880a13",
   "metadata": {},
   "outputs": [
    {
     "name": "stdout",
     "output_type": "stream",
     "text": [
      "---------- SEED: 42 ----------\n",
      "\n",
      "--- Testing Configuration: 0:{'name': 'Model 1', 'layers': [16, 8], 'dropout': 0.09, 'lr': 0.0005, 'batch_size': 32} ---\n"
     ]
    },
    {
     "name": "stderr",
     "output_type": "stream",
     "text": [
      "Epochs:  29%|██▉       | 144/500 [00:18<00:46,  7.71epoch/s, loss=1.2280, val_loss=0.6390] \n",
      "Epochs:  25%|██▍       | 123/500 [00:16<00:51,  7.29epoch/s, loss=0.4285, val_loss=0.4137]"
     ]
    },
    {
     "name": "stdout",
     "output_type": "stream",
     "text": [
      "\u001b[1m1/3\u001b[0m \u001b[32m━━━━━━\u001b[0m\u001b[37m━━━━━━━━━━━━━━\u001b[0m \u001b[1m0s\u001b[0m 47ms/step"
     ]
    },
    {
     "name": "stderr",
     "output_type": "stream",
     "text": [
      "\n"
     ]
    },
    {
     "name": "stdout",
     "output_type": "stream",
     "text": [
      "\u001b[1m3/3\u001b[0m \u001b[32m━━━━━━━━━━━━━━━━━━━━\u001b[0m\u001b[37m\u001b[0m \u001b[1m0s\u001b[0m 24ms/step\n",
      "\u001b[1m3/3\u001b[0m \u001b[32m━━━━━━━━━━━━━━━━━━━━\u001b[0m\u001b[37m\u001b[0m \u001b[1m0s\u001b[0m 24ms/step\n",
      "\u001b[1m6/6\u001b[0m \u001b[32m━━━━━━━━━━━━━━━━━━━━\u001b[0m\u001b[37m\u001b[0m \u001b[1m0s\u001b[0m 5ms/step \n",
      "\u001b[1m6/6\u001b[0m \u001b[32m━━━━━━━━━━━━━━━━━━━━\u001b[0m\u001b[37m\u001b[0m \u001b[1m0s\u001b[0m 6ms/step \n",
      "\n",
      "\n",
      "--- Testing Configuration: 1:{'name': 'Model 3', 'layers': [16, 8], 'dropout': 0.07, 'lr': 0.0005, 'batch_size': 32} ---\n"
     ]
    },
    {
     "name": "stderr",
     "output_type": "stream",
     "text": [
      "Epochs:  27%|██▋       | 137/500 [00:18<00:48,  7.45epoch/s, loss=0.9704, val_loss=0.5801] \n",
      "Epochs:  27%|██▋       | 136/500 [00:18<00:50,  7.20epoch/s, loss=0.4507, val_loss=0.4127]\n"
     ]
    },
    {
     "name": "stdout",
     "output_type": "stream",
     "text": [
      "\u001b[1m3/3\u001b[0m \u001b[32m━━━━━━━━━━━━━━━━━━━━\u001b[0m\u001b[37m\u001b[0m \u001b[1m0s\u001b[0m 30ms/step\n",
      "\u001b[1m1/3\u001b[0m \u001b[32m━━━━━━\u001b[0m\u001b[37m━━━━━━━━━━━━━━\u001b[0m \u001b[1m0s\u001b[0m 57ms/stepWARNING:tensorflow:5 out of the last 19 calls to <function TensorFlowTrainer.make_predict_function.<locals>.one_step_on_data_distributed at 0x7a60ecdfeb60> triggered tf.function retracing. Tracing is expensive and the excessive number of tracings could be due to (1) creating @tf.function repeatedly in a loop, (2) passing tensors with different shapes, (3) passing Python objects instead of tensors. For (1), please define your @tf.function outside of the loop. For (2), @tf.function has reduce_retracing=True option that can avoid unnecessary retracing. For (3), please refer to https://www.tensorflow.org/guide/function#controlling_retracing and https://www.tensorflow.org/api_docs/python/tf/function for  more details.\n",
      "\u001b[1m3/3\u001b[0m \u001b[32m━━━━━━━━━━━━━━━━━━━━\u001b[0m\u001b[37m\u001b[0m \u001b[1m0s\u001b[0m 30ms/step\n",
      "\u001b[1m6/6\u001b[0m \u001b[32m━━━━━━━━━━━━━━━━━━━━\u001b[0m\u001b[37m\u001b[0m \u001b[1m0s\u001b[0m 5ms/step \n",
      "\u001b[1m6/6\u001b[0m \u001b[32m━━━━━━━━━━━━━━━━━━━━\u001b[0m\u001b[37m\u001b[0m \u001b[1m0s\u001b[0m 4ms/step \n",
      "\n",
      "\n",
      "--- Experiment Results Summary ---\n",
      "      name   layers  dropout      lr  batch_size      PICP       MPIW\n",
      "0  Model 1  [16, 8]     0.09  0.0005          32  0.964286  33.965977\n",
      "1  Model 3  [16, 8]     0.07  0.0005          32  0.958333  33.643951\n",
      "---------- SEED: 123 ----------\n",
      "\n",
      "--- Testing Configuration: 0:{'name': 'Model 1', 'layers': [16, 8], 'dropout': 0.09, 'lr': 0.0005, 'batch_size': 32} ---\n"
     ]
    },
    {
     "name": "stderr",
     "output_type": "stream",
     "text": [
      "Epochs:  23%|██▎       | 117/500 [00:16<00:53,  7.21epoch/s, loss=0.7339, val_loss=0.6134] \n",
      "Epochs:  15%|█▌        | 77/500 [00:11<01:00,  6.99epoch/s, loss=0.4287, val_loss=0.4487]\n"
     ]
    },
    {
     "name": "stdout",
     "output_type": "stream",
     "text": [
      "\u001b[1m3/3\u001b[0m \u001b[32m━━━━━━━━━━━━━━━━━━━━\u001b[0m\u001b[37m\u001b[0m \u001b[1m0s\u001b[0m 23ms/step\n",
      "\u001b[1m1/3\u001b[0m \u001b[32m━━━━━━\u001b[0m\u001b[37m━━━━━━━━━━━━━━\u001b[0m \u001b[1m0s\u001b[0m 44ms/stepWARNING:tensorflow:5 out of the last 19 calls to <function TensorFlowTrainer.make_predict_function.<locals>.one_step_on_data_distributed at 0x7a617dacdd00> triggered tf.function retracing. Tracing is expensive and the excessive number of tracings could be due to (1) creating @tf.function repeatedly in a loop, (2) passing tensors with different shapes, (3) passing Python objects instead of tensors. For (1), please define your @tf.function outside of the loop. For (2), @tf.function has reduce_retracing=True option that can avoid unnecessary retracing. For (3), please refer to https://www.tensorflow.org/guide/function#controlling_retracing and https://www.tensorflow.org/api_docs/python/tf/function for  more details.\n",
      "\u001b[1m3/3\u001b[0m \u001b[32m━━━━━━━━━━━━━━━━━━━━\u001b[0m\u001b[37m\u001b[0m \u001b[1m0s\u001b[0m 24ms/step\n",
      "\u001b[1m6/6\u001b[0m \u001b[32m━━━━━━━━━━━━━━━━━━━━\u001b[0m\u001b[37m\u001b[0m \u001b[1m0s\u001b[0m 5ms/step \n",
      "\u001b[1m6/6\u001b[0m \u001b[32m━━━━━━━━━━━━━━━━━━━━\u001b[0m\u001b[37m\u001b[0m \u001b[1m0s\u001b[0m 6ms/step \n",
      "\n",
      "\n",
      "--- Testing Configuration: 1:{'name': 'Model 3', 'layers': [16, 8], 'dropout': 0.07, 'lr': 0.0005, 'batch_size': 32} ---\n"
     ]
    },
    {
     "name": "stderr",
     "output_type": "stream",
     "text": [
      "Epochs:  27%|██▋       | 136/500 [00:18<00:49,  7.30epoch/s, loss=0.9493, val_loss=0.6383] \n",
      "Epochs:  15%|█▌        | 77/500 [00:11<01:00,  6.99epoch/s, loss=0.4066, val_loss=0.4680]\n"
     ]
    },
    {
     "name": "stdout",
     "output_type": "stream",
     "text": [
      "\u001b[1m3/3\u001b[0m \u001b[32m━━━━━━━━━━━━━━━━━━━━\u001b[0m\u001b[37m\u001b[0m \u001b[1m0s\u001b[0m 31ms/step\n",
      "\u001b[1m3/3\u001b[0m \u001b[32m━━━━━━━━━━━━━━━━━━━━\u001b[0m\u001b[37m\u001b[0m \u001b[1m0s\u001b[0m 31ms/step\n",
      "\u001b[1m6/6\u001b[0m \u001b[32m━━━━━━━━━━━━━━━━━━━━\u001b[0m\u001b[37m\u001b[0m \u001b[1m0s\u001b[0m 5ms/step \n",
      "\u001b[1m6/6\u001b[0m \u001b[32m━━━━━━━━━━━━━━━━━━━━\u001b[0m\u001b[37m\u001b[0m \u001b[1m0s\u001b[0m 5ms/step \n",
      "\n",
      "\n",
      "--- Experiment Results Summary ---\n",
      "      name   layers  dropout      lr  batch_size      PICP       MPIW\n",
      "0  Model 1  [16, 8]     0.09  0.0005          32  0.940476  34.290947\n",
      "1  Model 3  [16, 8]     0.07  0.0005          32  0.940476  35.771069\n",
      "---------- SEED: 888 ----------\n",
      "\n",
      "--- Testing Configuration: 0:{'name': 'Model 1', 'layers': [16, 8], 'dropout': 0.09, 'lr': 0.0005, 'batch_size': 32} ---\n"
     ]
    },
    {
     "name": "stderr",
     "output_type": "stream",
     "text": [
      "Epochs:  23%|██▎       | 116/500 [00:15<00:52,  7.31epoch/s, loss=0.7016, val_loss=0.6180] \n",
      "Epochs:  25%|██▌       | 127/500 [00:17<00:51,  7.28epoch/s, loss=0.4340, val_loss=0.3857]\n"
     ]
    },
    {
     "name": "stdout",
     "output_type": "stream",
     "text": [
      "\u001b[1m3/3\u001b[0m \u001b[32m━━━━━━━━━━━━━━━━━━━━\u001b[0m\u001b[37m\u001b[0m \u001b[1m0s\u001b[0m 25ms/step\n",
      "\u001b[1m3/3\u001b[0m \u001b[32m━━━━━━━━━━━━━━━━━━━━\u001b[0m\u001b[37m\u001b[0m \u001b[1m0s\u001b[0m 20ms/step\n",
      "\u001b[1m6/6\u001b[0m \u001b[32m━━━━━━━━━━━━━━━━━━━━\u001b[0m\u001b[37m\u001b[0m \u001b[1m0s\u001b[0m 4ms/step \n",
      "\u001b[1m6/6\u001b[0m \u001b[32m━━━━━━━━━━━━━━━━━━━━\u001b[0m\u001b[37m\u001b[0m \u001b[1m0s\u001b[0m 6ms/step \n",
      "\n",
      "\n",
      "--- Testing Configuration: 1:{'name': 'Model 3', 'layers': [16, 8], 'dropout': 0.07, 'lr': 0.0005, 'batch_size': 32} ---\n"
     ]
    },
    {
     "name": "stderr",
     "output_type": "stream",
     "text": [
      "Epochs:  28%|██▊       | 140/500 [00:19<00:49,  7.26epoch/s, loss=1.2185, val_loss=0.6438] \n",
      "Epochs:  27%|██▋       | 133/500 [00:18<00:50,  7.28epoch/s, loss=0.4388, val_loss=0.3883]\n"
     ]
    },
    {
     "name": "stdout",
     "output_type": "stream",
     "text": [
      "\u001b[1m3/3\u001b[0m \u001b[32m━━━━━━━━━━━━━━━━━━━━\u001b[0m\u001b[37m\u001b[0m \u001b[1m0s\u001b[0m 24ms/step\n",
      "\u001b[1m3/3\u001b[0m \u001b[32m━━━━━━━━━━━━━━━━━━━━\u001b[0m\u001b[37m\u001b[0m \u001b[1m0s\u001b[0m 23ms/step\n",
      "\u001b[1m6/6\u001b[0m \u001b[32m━━━━━━━━━━━━━━━━━━━━\u001b[0m\u001b[37m\u001b[0m \u001b[1m0s\u001b[0m 4ms/step \n",
      "\u001b[1m6/6\u001b[0m \u001b[32m━━━━━━━━━━━━━━━━━━━━\u001b[0m\u001b[37m\u001b[0m \u001b[1m0s\u001b[0m 5ms/step \n",
      "\n",
      "\n",
      "--- Experiment Results Summary ---\n",
      "      name   layers  dropout      lr  batch_size      PICP       MPIW\n",
      "0  Model 1  [16, 8]     0.09  0.0005          32  0.958333  32.857838\n",
      "1  Model 3  [16, 8]     0.07  0.0005          32  0.952381  33.010201\n",
      "---------- SEED: 1337 ----------\n",
      "\n",
      "--- Testing Configuration: 0:{'name': 'Model 1', 'layers': [16, 8], 'dropout': 0.09, 'lr': 0.0005, 'batch_size': 32} ---\n"
     ]
    },
    {
     "name": "stderr",
     "output_type": "stream",
     "text": [
      "Epochs:  27%|██▋       | 136/500 [00:18<00:48,  7.46epoch/s, loss=1.5862, val_loss=0.6295] \n",
      "Epochs:  37%|███▋      | 184/500 [00:24<00:41,  7.64epoch/s, loss=0.4270, val_loss=0.4336]\n"
     ]
    },
    {
     "name": "stdout",
     "output_type": "stream",
     "text": [
      "\u001b[1m3/3\u001b[0m \u001b[32m━━━━━━━━━━━━━━━━━━━━\u001b[0m\u001b[37m\u001b[0m \u001b[1m0s\u001b[0m 25ms/step\n",
      "\u001b[1m3/3\u001b[0m \u001b[32m━━━━━━━━━━━━━━━━━━━━\u001b[0m\u001b[37m\u001b[0m \u001b[1m0s\u001b[0m 24ms/step\n",
      "\u001b[1m6/6\u001b[0m \u001b[32m━━━━━━━━━━━━━━━━━━━━\u001b[0m\u001b[37m\u001b[0m \u001b[1m0s\u001b[0m 5ms/step \n",
      "\u001b[1m6/6\u001b[0m \u001b[32m━━━━━━━━━━━━━━━━━━━━\u001b[0m\u001b[37m\u001b[0m \u001b[1m0s\u001b[0m 5ms/step \n",
      "\n",
      "\n",
      "--- Testing Configuration: 1:{'name': 'Model 3', 'layers': [16, 8], 'dropout': 0.07, 'lr': 0.0005, 'batch_size': 32} ---\n"
     ]
    },
    {
     "name": "stderr",
     "output_type": "stream",
     "text": [
      "Epochs:  21%|██▏       | 107/500 [00:15<00:55,  7.03epoch/s, loss=0.7457, val_loss=0.5245] \n",
      "Epochs:  25%|██▍       | 123/500 [00:16<00:51,  7.31epoch/s, loss=0.4208, val_loss=0.4384]\n"
     ]
    },
    {
     "name": "stdout",
     "output_type": "stream",
     "text": [
      "\u001b[1m3/3\u001b[0m \u001b[32m━━━━━━━━━━━━━━━━━━━━\u001b[0m\u001b[37m\u001b[0m \u001b[1m0s\u001b[0m 19ms/step\n",
      "\u001b[1m3/3\u001b[0m \u001b[32m━━━━━━━━━━━━━━━━━━━━\u001b[0m\u001b[37m\u001b[0m \u001b[1m0s\u001b[0m 21ms/step\n",
      "\u001b[1m6/6\u001b[0m \u001b[32m━━━━━━━━━━━━━━━━━━━━\u001b[0m\u001b[37m\u001b[0m \u001b[1m0s\u001b[0m 4ms/step \n",
      "\u001b[1m6/6\u001b[0m \u001b[32m━━━━━━━━━━━━━━━━━━━━\u001b[0m\u001b[37m\u001b[0m \u001b[1m0s\u001b[0m 5ms/step \n",
      "\n",
      "\n",
      "--- Experiment Results Summary ---\n",
      "      name   layers  dropout      lr  batch_size      PICP       MPIW\n",
      "0  Model 1  [16, 8]     0.09  0.0005          32  0.958333  30.155779\n",
      "1  Model 3  [16, 8]     0.07  0.0005          32  0.952381  30.428223\n",
      "---------- SEED: 2024 ----------\n",
      "\n",
      "--- Testing Configuration: 0:{'name': 'Model 1', 'layers': [16, 8], 'dropout': 0.09, 'lr': 0.0005, 'batch_size': 32} ---\n"
     ]
    },
    {
     "name": "stderr",
     "output_type": "stream",
     "text": [
      "Epochs:  23%|██▎       | 115/500 [00:16<00:54,  7.05epoch/s, loss=0.6646, val_loss=0.6004] \n",
      "Epochs:  16%|█▌        | 80/500 [00:11<00:58,  7.14epoch/s, loss=0.4493, val_loss=0.4821]\n"
     ]
    },
    {
     "name": "stdout",
     "output_type": "stream",
     "text": [
      "\u001b[1m3/3\u001b[0m \u001b[32m━━━━━━━━━━━━━━━━━━━━\u001b[0m\u001b[37m\u001b[0m \u001b[1m0s\u001b[0m 33ms/step\n",
      "\u001b[1m3/3\u001b[0m \u001b[32m━━━━━━━━━━━━━━━━━━━━\u001b[0m\u001b[37m\u001b[0m \u001b[1m0s\u001b[0m 25ms/step\n",
      "\u001b[1m6/6\u001b[0m \u001b[32m━━━━━━━━━━━━━━━━━━━━\u001b[0m\u001b[37m\u001b[0m \u001b[1m0s\u001b[0m 5ms/step \n",
      "\u001b[1m6/6\u001b[0m \u001b[32m━━━━━━━━━━━━━━━━━━━━\u001b[0m\u001b[37m\u001b[0m \u001b[1m0s\u001b[0m 7ms/step \n",
      "\n",
      "\n",
      "--- Testing Configuration: 1:{'name': 'Model 3', 'layers': [16, 8], 'dropout': 0.07, 'lr': 0.0005, 'batch_size': 32} ---\n"
     ]
    },
    {
     "name": "stderr",
     "output_type": "stream",
     "text": [
      "Epochs:  23%|██▎       | 114/500 [00:16<00:54,  7.09epoch/s, loss=0.7292, val_loss=0.5824] \n",
      "Epochs:  14%|█▍        | 72/500 [00:10<01:01,  6.96epoch/s, loss=0.4164, val_loss=0.4695]\n"
     ]
    },
    {
     "name": "stdout",
     "output_type": "stream",
     "text": [
      "\u001b[1m3/3\u001b[0m \u001b[32m━━━━━━━━━━━━━━━━━━━━\u001b[0m\u001b[37m\u001b[0m \u001b[1m0s\u001b[0m 29ms/step\n",
      "\u001b[1m3/3\u001b[0m \u001b[32m━━━━━━━━━━━━━━━━━━━━\u001b[0m\u001b[37m\u001b[0m \u001b[1m0s\u001b[0m 26ms/step\n",
      "\u001b[1m6/6\u001b[0m \u001b[32m━━━━━━━━━━━━━━━━━━━━\u001b[0m\u001b[37m\u001b[0m \u001b[1m0s\u001b[0m 5ms/step \n",
      "\u001b[1m6/6\u001b[0m \u001b[32m━━━━━━━━━━━━━━━━━━━━\u001b[0m\u001b[37m\u001b[0m \u001b[1m0s\u001b[0m 5ms/step \n",
      "\n",
      "\n",
      "--- Experiment Results Summary ---\n",
      "      name   layers  dropout      lr  batch_size      PICP       MPIW\n",
      "0  Model 1  [16, 8]     0.09  0.0005          32  0.946429  35.182964\n",
      "1  Model 3  [16, 8]     0.07  0.0005          32  0.946429  35.425026\n"
     ]
    }
   ],
   "source": [
    "random_seeds = [42, 123, 888, 1337, 2024]\n",
    "configs = [\n",
    "    {'name': 'Model 1', 'layers': [16, 8], 'dropout': 0.09, 'lr': 0.0005, 'batch_size': 32},\n",
    "    {'name': 'Model 3', 'layers': [16, 8], 'dropout': 0.07, 'lr': 0.0005, 'batch_size': 32},\n",
    "]\n",
    "\n",
    "result_dfs = []\n",
    "\n",
    "for seed in random_seeds:\n",
    "    print(f\"---------- SEED: {seed} ----------\")\n",
    "    result_dfs.append(fine_tune(param_grid=configs, random_seed=seed))"
   ]
  },
  {
   "cell_type": "code",
   "execution_count": 16,
   "id": "400c3023",
   "metadata": {},
   "outputs": [],
   "source": [
    "for result_df, seed in zip(result_dfs, random_seeds):\n",
    "    result_df['Seed'] = [seed] * len(result_df)"
   ]
  },
  {
   "cell_type": "code",
   "execution_count": 18,
   "id": "350a0d17",
   "metadata": {},
   "outputs": [
    {
     "name": "stdout",
     "output_type": "stream",
     "text": [
      "\n",
      "\n",
      "--- Final Averaged Performance Summary ---\n",
      "      name  avg_PICP  std_PICP   avg_MPIW  std_MPIW  meets_constraint\n",
      "0  Model 1    0.9536    0.0098  33.290699    1.9399              True\n",
      "1  Model 3    0.9500    0.0068  33.655701    2.1470              True\n"
     ]
    }
   ],
   "source": [
    "all_results = pd.concat(result_dfs, ignore_index=True)\n",
    "\n",
    "# Group by the model's name to analyze its performance across seeds\n",
    "summary_df = all_results.groupby('name').agg(\n",
    "    avg_PICP=('PICP', 'mean'),\n",
    "    std_PICP=('PICP', 'std'),\n",
    "    avg_MPIW=('MPIW', 'mean'),\n",
    "    std_MPIW=('MPIW', 'std')\n",
    ").reset_index()\n",
    "\n",
    "# Add a column to check if the average performance meets the constraint\n",
    "summary_df['meets_constraint'] = summary_df['avg_PICP'] >= 0.95\n",
    "\n",
    "print(\"\\n\\n--- Final Averaged Performance Summary ---\")\n",
    "print(summary_df.round(4))"
   ]
  },
  {
   "cell_type": "code",
   "execution_count": 23,
   "id": "fc5c9836",
   "metadata": {},
   "outputs": [
    {
     "data": {
      "text/html": [
       "<div>\n",
       "<style scoped>\n",
       "    .dataframe tbody tr th:only-of-type {\n",
       "        vertical-align: middle;\n",
       "    }\n",
       "\n",
       "    .dataframe tbody tr th {\n",
       "        vertical-align: top;\n",
       "    }\n",
       "\n",
       "    .dataframe thead th {\n",
       "        text-align: right;\n",
       "    }\n",
       "</style>\n",
       "<table border=\"1\" class=\"dataframe\">\n",
       "  <thead>\n",
       "    <tr style=\"text-align: right;\">\n",
       "      <th></th>\n",
       "      <th>name</th>\n",
       "      <th>layers</th>\n",
       "      <th>dropout</th>\n",
       "      <th>lr</th>\n",
       "      <th>batch_size</th>\n",
       "      <th>PICP</th>\n",
       "      <th>MPIW</th>\n",
       "      <th>Seed</th>\n",
       "    </tr>\n",
       "  </thead>\n",
       "  <tbody>\n",
       "    <tr>\n",
       "      <th>0</th>\n",
       "      <td>Model 1</td>\n",
       "      <td>[16, 8]</td>\n",
       "      <td>0.09</td>\n",
       "      <td>0.0005</td>\n",
       "      <td>32</td>\n",
       "      <td>0.964286</td>\n",
       "      <td>33.965977</td>\n",
       "      <td>42</td>\n",
       "    </tr>\n",
       "    <tr>\n",
       "      <th>1</th>\n",
       "      <td>Model 3</td>\n",
       "      <td>[16, 8]</td>\n",
       "      <td>0.07</td>\n",
       "      <td>0.0005</td>\n",
       "      <td>32</td>\n",
       "      <td>0.958333</td>\n",
       "      <td>33.643951</td>\n",
       "      <td>42</td>\n",
       "    </tr>\n",
       "    <tr>\n",
       "      <th>2</th>\n",
       "      <td>Model 1</td>\n",
       "      <td>[16, 8]</td>\n",
       "      <td>0.09</td>\n",
       "      <td>0.0005</td>\n",
       "      <td>32</td>\n",
       "      <td>0.940476</td>\n",
       "      <td>34.290947</td>\n",
       "      <td>123</td>\n",
       "    </tr>\n",
       "    <tr>\n",
       "      <th>3</th>\n",
       "      <td>Model 3</td>\n",
       "      <td>[16, 8]</td>\n",
       "      <td>0.07</td>\n",
       "      <td>0.0005</td>\n",
       "      <td>32</td>\n",
       "      <td>0.940476</td>\n",
       "      <td>35.771069</td>\n",
       "      <td>123</td>\n",
       "    </tr>\n",
       "    <tr>\n",
       "      <th>4</th>\n",
       "      <td>Model 1</td>\n",
       "      <td>[16, 8]</td>\n",
       "      <td>0.09</td>\n",
       "      <td>0.0005</td>\n",
       "      <td>32</td>\n",
       "      <td>0.958333</td>\n",
       "      <td>32.857838</td>\n",
       "      <td>888</td>\n",
       "    </tr>\n",
       "    <tr>\n",
       "      <th>5</th>\n",
       "      <td>Model 3</td>\n",
       "      <td>[16, 8]</td>\n",
       "      <td>0.07</td>\n",
       "      <td>0.0005</td>\n",
       "      <td>32</td>\n",
       "      <td>0.952381</td>\n",
       "      <td>33.010201</td>\n",
       "      <td>888</td>\n",
       "    </tr>\n",
       "    <tr>\n",
       "      <th>6</th>\n",
       "      <td>Model 1</td>\n",
       "      <td>[16, 8]</td>\n",
       "      <td>0.09</td>\n",
       "      <td>0.0005</td>\n",
       "      <td>32</td>\n",
       "      <td>0.958333</td>\n",
       "      <td>30.155779</td>\n",
       "      <td>1337</td>\n",
       "    </tr>\n",
       "    <tr>\n",
       "      <th>7</th>\n",
       "      <td>Model 3</td>\n",
       "      <td>[16, 8]</td>\n",
       "      <td>0.07</td>\n",
       "      <td>0.0005</td>\n",
       "      <td>32</td>\n",
       "      <td>0.952381</td>\n",
       "      <td>30.428223</td>\n",
       "      <td>1337</td>\n",
       "    </tr>\n",
       "    <tr>\n",
       "      <th>8</th>\n",
       "      <td>Model 1</td>\n",
       "      <td>[16, 8]</td>\n",
       "      <td>0.09</td>\n",
       "      <td>0.0005</td>\n",
       "      <td>32</td>\n",
       "      <td>0.946429</td>\n",
       "      <td>35.182964</td>\n",
       "      <td>2024</td>\n",
       "    </tr>\n",
       "    <tr>\n",
       "      <th>9</th>\n",
       "      <td>Model 3</td>\n",
       "      <td>[16, 8]</td>\n",
       "      <td>0.07</td>\n",
       "      <td>0.0005</td>\n",
       "      <td>32</td>\n",
       "      <td>0.946429</td>\n",
       "      <td>35.425026</td>\n",
       "      <td>2024</td>\n",
       "    </tr>\n",
       "  </tbody>\n",
       "</table>\n",
       "</div>"
      ],
      "text/plain": [
       "      name   layers  dropout      lr  batch_size      PICP       MPIW  Seed\n",
       "0  Model 1  [16, 8]     0.09  0.0005          32  0.964286  33.965977    42\n",
       "1  Model 3  [16, 8]     0.07  0.0005          32  0.958333  33.643951    42\n",
       "2  Model 1  [16, 8]     0.09  0.0005          32  0.940476  34.290947   123\n",
       "3  Model 3  [16, 8]     0.07  0.0005          32  0.940476  35.771069   123\n",
       "4  Model 1  [16, 8]     0.09  0.0005          32  0.958333  32.857838   888\n",
       "5  Model 3  [16, 8]     0.07  0.0005          32  0.952381  33.010201   888\n",
       "6  Model 1  [16, 8]     0.09  0.0005          32  0.958333  30.155779  1337\n",
       "7  Model 3  [16, 8]     0.07  0.0005          32  0.952381  30.428223  1337\n",
       "8  Model 1  [16, 8]     0.09  0.0005          32  0.946429  35.182964  2024\n",
       "9  Model 3  [16, 8]     0.07  0.0005          32  0.946429  35.425026  2024"
      ]
     },
     "execution_count": 23,
     "metadata": {},
     "output_type": "execute_result"
    }
   ],
   "source": [
    "all_results"
   ]
  },
  {
   "cell_type": "markdown",
   "id": "cfaaf729",
   "metadata": {},
   "source": [
    "# Exhaustive Search"
   ]
  },
  {
   "cell_type": "code",
   "execution_count": 7,
   "id": "9b6b7127",
   "metadata": {},
   "outputs": [
    {
     "name": "stdout",
     "output_type": "stream",
     "text": [
      "Generated 72 parameter combinations to test.\n"
     ]
    }
   ],
   "source": [
    "import itertools\n",
    "\n",
    "architectures = [\n",
    "    [2], [4], [8], [16], [4, 2], [8, 4]\n",
    "]\n",
    "\n",
    "dropout_rates = [0.0, 0.1, 0.2]\n",
    "\n",
    "learning_rates = [0.001, 0.0005]\n",
    "\n",
    "batch_sizes = [16, 32]\n",
    "\n",
    "param_grid = []\n",
    "param_combinations = itertools.product(architectures, dropout_rates, learning_rates, batch_sizes)\n",
    "\n",
    "for combo in param_combinations:\n",
    "    param_grid.append({\n",
    "        'layers': combo[0],\n",
    "        'dropout': combo[1],\n",
    "        'lr': combo[2],\n",
    "        'batch_size': combo[3]\n",
    "    })\n",
    "\n",
    "# This will generate 6 * 3 * 2 * 2 = 72 experiments, which is a very thorough search.\n",
    "print(f\"Generated {len(param_grid)} parameter combinations to test.\")"
   ]
  }
 ],
 "metadata": {
  "kernelspec": {
   "display_name": "ml-experiments",
   "language": "python",
   "name": "python3"
  },
  "language_info": {
   "codemirror_mode": {
    "name": "ipython",
    "version": 3
   },
   "file_extension": ".py",
   "mimetype": "text/x-python",
   "name": "python",
   "nbconvert_exporter": "python",
   "pygments_lexer": "ipython3",
   "version": "3.12.11"
  }
 },
 "nbformat": 4,
 "nbformat_minor": 5
}
