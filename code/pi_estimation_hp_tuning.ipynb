{
 "cells": [
  {
   "cell_type": "code",
   "execution_count": 1,
   "id": "94165373",
   "metadata": {},
   "outputs": [
    {
     "name": "stderr",
     "output_type": "stream",
     "text": [
      "2025-09-08 14:58:52.157087: I tensorflow/core/platform/cpu_feature_guard.cc:210] This TensorFlow binary is optimized to use available CPU instructions in performance-critical operations.\n",
      "To enable the following instructions: AVX2 FMA, in other operations, rebuild TensorFlow with the appropriate compiler flags.\n"
     ]
    },
    {
     "data": {
      "text/plain": [
       "(747, 796, 747)"
      ]
     },
     "execution_count": 1,
     "metadata": {},
     "output_type": "execute_result"
    }
   ],
   "source": [
    "import pandas as pd\n",
    "import tensorflow as tf\n",
    "\n",
    "DATA_PATH = '/home/kshipra/work/major/ml experiments/data/manually_combined.xlsx'\n",
    "\n",
    "eos = pd.read_excel(DATA_PATH, sheet_name='all_stacked_eos')\n",
    "sentinel = pd.read_excel(DATA_PATH, sheet_name='all_stacked_sentinel')\n",
    "combined = pd.read_excel(DATA_PATH, sheet_name='eos_sent_combined')\n",
    "\n",
    "len(eos), len(sentinel), len(combined)"
   ]
  },
  {
   "cell_type": "code",
   "execution_count": 2,
   "id": "eed37d62",
   "metadata": {},
   "outputs": [],
   "source": [
    "combined = combined[combined['SM (Combined)'] < 150]\n",
    "\n",
    "X_cols = ['VH', 'VV', 'HH', 'HV', 'Angle']\n",
    "y_col = ['SM (Combined)']"
   ]
  },
  {
   "cell_type": "code",
   "execution_count": null,
   "id": "6bca4927",
   "metadata": {},
   "outputs": [],
   "source": []
  }
 ],
 "metadata": {
  "kernelspec": {
   "display_name": "ml-experiments",
   "language": "python",
   "name": "python3"
  },
  "language_info": {
   "codemirror_mode": {
    "name": "ipython",
    "version": 3
   },
   "file_extension": ".py",
   "mimetype": "text/x-python",
   "name": "python",
   "nbconvert_exporter": "python",
   "pygments_lexer": "ipython3",
   "version": "3.12.11"
  }
 },
 "nbformat": 4,
 "nbformat_minor": 5
}
