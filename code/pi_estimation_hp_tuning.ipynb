{
 "cells": [
  {
   "cell_type": "code",
   "execution_count": null,
   "id": "94165373",
   "metadata": {},
   "outputs": [
    {
     "name": "stderr",
     "output_type": "stream",
     "text": [
      "2025-09-10 18:38:35.907670: I tensorflow/core/platform/cpu_feature_guard.cc:210] This TensorFlow binary is optimized to use available CPU instructions in performance-critical operations.\n",
      "To enable the following instructions: AVX2 FMA, in other operations, rebuild TensorFlow with the appropriate compiler flags.\n"
     ]
    },
    {
     "data": {
      "text/plain": [
       "(747, 796, 747)"
      ]
     },
     "execution_count": 1,
     "metadata": {},
     "output_type": "execute_result"
    }
   ],
   "source": [
    "import pandas as pd\n",
    "import tensorflow as tf\n",
    "\n",
    "DATA_PATH = '/home/kshipra/work/major/ml experiments/data/manually_combined.xlsx'\n",
    "\n",
    "eos = pd.read_excel(DATA_PATH, sheet_name='all_stacked_eos')\n",
    "sentinel = pd.read_excel(DATA_PATH, sheet_name='all_stacked_sentinel')\n",
    "combined = pd.read_excel(DATA_PATH, sheet_name='eos_sent_combined')\n",
    "\n",
    "len(eos), len(sentinel), len(combined)"
   ]
  },
  {
   "cell_type": "code",
   "execution_count": 2,
   "id": "eed37d62",
   "metadata": {},
   "outputs": [],
   "source": [
    "combined = combined[combined['SM (Combined)'] < 150]\n",
    "\n",
    "X_cols = ['VH', 'VV', 'HH', 'HV', 'Angle']\n",
    "y_col = ['SM (Combined)']"
   ]
  },
  {
   "cell_type": "code",
   "execution_count": 3,
   "id": "67ddc0db",
   "metadata": {},
   "outputs": [],
   "source": [
    "import pandas as pd\n",
    "from model_experiments import PredictionIntervalEstimation\n",
    "from tensorflow.keras.layers import Input, Dense, Dropout\n",
    "from tensorflow.keras.models import Sequential\n",
    "from tensorflow.keras.optimizers import Adam"
   ]
  },
  {
   "cell_type": "code",
   "execution_count": 5,
   "id": "1f1407f2",
   "metadata": {},
   "outputs": [],
   "source": [
    "all_results = []"
   ]
  },
  {
   "cell_type": "code",
   "execution_count": 9,
   "id": "22fe93b7",
   "metadata": {},
   "outputs": [],
   "source": [
    "def fine_tune(param_grid, random_seed=42):\n",
    "    all_results = []\n",
    "\n",
    "    features = X_cols\n",
    "    target = y_col[0]\n",
    "    data = combined\n",
    "\n",
    "    for idx, params in enumerate(param_grid):\n",
    "        print(f\"\\n--- Testing Configuration: {idx}:{params} ---\")\n",
    "\n",
    "        tf.keras.backend.clear_session()\n",
    "        \n",
    "        model_layers = [Input(shape=(len(features),))]\n",
    "        for units in params['layers']:\n",
    "            model_layers.append(Dense(units, activation='relu'))\n",
    "            if params['dropout'] > 0:\n",
    "                model_layers.append(Dropout(params['dropout']))\n",
    "        model_layers.append(Dense(1)) # Output layer\n",
    "        model = Sequential(model_layers)\n",
    "\n",
    "        exp = PredictionIntervalEstimation(data, features=features, target=target, satellite='EOS+Sentinel', random_state=random_seed)\n",
    "\n",
    "        y_lower_test, y_upper_test, y_lower_val, y_upper_val = exp.train_model(\n",
    "            model, \n",
    "            learning_rate=params['lr'], \n",
    "            batch_size=params['batch_size'],\n",
    "            epochs=500, # Use a sufficient number of epochs, rely on early stopping\n",
    "        )\n",
    "        \n",
    "        metrics = exp.evaluate_model(exp.y_val, y_lower_val, y_upper_val)\n",
    "        \n",
    "        result_entry = params.copy()\n",
    "        result_entry['PICP'] = metrics['PICP']\n",
    "        result_entry['MPIW'] = metrics['MPIW']\n",
    "        all_results.append(result_entry)\n",
    "        print()\n",
    "\n",
    "    all_results_df = pd.DataFrame(all_results)\n",
    "    print(\"\\n--- Experiment Results Summary ---\")\n",
    "    print(all_results_df)\n",
    "\n",
    "    return all_results_df"
   ]
  },
  {
   "cell_type": "code",
   "execution_count": 10,
   "id": "fcd3c25a",
   "metadata": {},
   "outputs": [
    {
     "name": "stdout",
     "output_type": "stream",
     "text": [
      "Generated 12 parameter combinations to test.\n"
     ]
    }
   ],
   "source": [
    "# A highly focused parameter grid with 12 combinations\n",
    "\n",
    "param_grid = [\n",
    "    {'layers': [8], 'dropout': 0.0, 'lr': 0.001, 'batch_size': 32},\n",
    "    {'layers': [8], 'dropout': 0.1, 'lr': 0.001, 'batch_size': 32},\n",
    "    {'layers': [8], 'dropout': 0.2, 'lr': 0.001, 'batch_size': 32},\n",
    "\n",
    "    {'layers': [16], 'dropout': 0.0, 'lr': 0.001, 'batch_size': 32},\n",
    "    {'layers': [16], 'dropout': 0.1, 'lr': 0.001, 'batch_size': 32},\n",
    "    {'layers': [16], 'dropout': 0.2, 'lr': 0.001, 'batch_size': 32},\n",
    "\n",
    "    {'layers': [8, 4], 'dropout': 0.0, 'lr': 0.001, 'batch_size': 32},\n",
    "    {'layers': [8, 4], 'dropout': 0.1, 'lr': 0.001, 'batch_size': 32},\n",
    "    {'layers': [8, 4], 'dropout': 0.2, 'lr': 0.001, 'batch_size': 32},\n",
    "\n",
    "    {'layers': [8],  'dropout': 0.1, 'lr': 0.0005, 'batch_size': 32}, \n",
    "    {'layers': [16], 'dropout': 0.1, 'lr': 0.0005, 'batch_size': 32}, \n",
    "    {'layers': [8],  'dropout': 0.1, 'lr': 0.001,  'batch_size': 16}, \n",
    "]\n",
    "\n",
    "# Total experiments: 12\n",
    "print(f\"Generated {len(param_grid)} parameter combinations to test.\")"
   ]
  },
  {
   "cell_type": "code",
   "execution_count": 11,
   "id": "f306584c",
   "metadata": {},
   "outputs": [
    {
     "name": "stdout",
     "output_type": "stream",
     "text": [
      "\n",
      "--- Testing Configuration: 0:{'layers': [8], 'dropout': 0.0, 'lr': 0.001, 'batch_size': 32} ---\n"
     ]
    },
    {
     "name": "stderr",
     "output_type": "stream",
     "text": [
      "Epochs: 100%|██████████| 500/500 [00:38<00:00, 12.82epoch/s, loss=0.4752, val_loss=0.5802]\n",
      "Epochs:  33%|███▎      | 163/500 [00:13<00:26, 12.49epoch/s, loss=0.4280, val_loss=0.4062]\n"
     ]
    },
    {
     "name": "stdout",
     "output_type": "stream",
     "text": [
      "\u001b[1m3/3\u001b[0m \u001b[32m━━━━━━━━━━━━━━━━━━━━\u001b[0m\u001b[37m\u001b[0m \u001b[1m0s\u001b[0m 16ms/step\n",
      "\u001b[1m3/3\u001b[0m \u001b[32m━━━━━━━━━━━━━━━━━━━━\u001b[0m\u001b[37m\u001b[0m \u001b[1m0s\u001b[0m 14ms/step\n",
      "\u001b[1m6/6\u001b[0m \u001b[32m━━━━━━━━━━━━━━━━━━━━\u001b[0m\u001b[37m\u001b[0m \u001b[1m0s\u001b[0m 3ms/step \n",
      "\u001b[1m6/6\u001b[0m \u001b[32m━━━━━━━━━━━━━━━━━━━━\u001b[0m\u001b[37m\u001b[0m \u001b[1m0s\u001b[0m 3ms/step \n",
      "\n",
      "\n",
      "--- Testing Configuration: 1:{'layers': [8], 'dropout': 0.1, 'lr': 0.001, 'batch_size': 32} ---\n"
     ]
    },
    {
     "name": "stderr",
     "output_type": "stream",
     "text": [
      "Epochs:  40%|███▉      | 198/500 [00:15<00:24, 12.38epoch/s, loss=0.7449, val_loss=0.5706]\n",
      "Epochs:  27%|██▋       | 134/500 [00:10<00:29, 12.28epoch/s, loss=0.4438, val_loss=0.4125]\n"
     ]
    },
    {
     "name": "stdout",
     "output_type": "stream",
     "text": [
      "\u001b[1m3/3\u001b[0m \u001b[32m━━━━━━━━━━━━━━━━━━━━\u001b[0m\u001b[37m\u001b[0m \u001b[1m0s\u001b[0m 15ms/step\n",
      "\u001b[1m1/3\u001b[0m \u001b[32m━━━━━━\u001b[0m\u001b[37m━━━━━━━━━━━━━━\u001b[0m \u001b[1m0s\u001b[0m 25ms/stepWARNING:tensorflow:5 out of the last 19 calls to <function TensorFlowTrainer.make_predict_function.<locals>.one_step_on_data_distributed at 0x761c983b59e0> triggered tf.function retracing. Tracing is expensive and the excessive number of tracings could be due to (1) creating @tf.function repeatedly in a loop, (2) passing tensors with different shapes, (3) passing Python objects instead of tensors. For (1), please define your @tf.function outside of the loop. For (2), @tf.function has reduce_retracing=True option that can avoid unnecessary retracing. For (3), please refer to https://www.tensorflow.org/guide/function#controlling_retracing and https://www.tensorflow.org/api_docs/python/tf/function for  more details.\n",
      "\u001b[1m3/3\u001b[0m \u001b[32m━━━━━━━━━━━━━━━━━━━━\u001b[0m\u001b[37m\u001b[0m \u001b[1m0s\u001b[0m 13ms/step\n",
      "\u001b[1m6/6\u001b[0m \u001b[32m━━━━━━━━━━━━━━━━━━━━\u001b[0m\u001b[37m\u001b[0m \u001b[1m0s\u001b[0m 3ms/step \n",
      "\u001b[1m6/6\u001b[0m \u001b[32m━━━━━━━━━━━━━━━━━━━━\u001b[0m\u001b[37m\u001b[0m \u001b[1m0s\u001b[0m 3ms/step \n",
      "\n",
      "\n",
      "--- Testing Configuration: 2:{'layers': [8], 'dropout': 0.2, 'lr': 0.001, 'batch_size': 32} ---\n"
     ]
    },
    {
     "name": "stderr",
     "output_type": "stream",
     "text": [
      "Epochs:  38%|███▊      | 188/500 [00:15<00:25, 12.24epoch/s, loss=1.0284, val_loss=0.5849]\n",
      "Epochs:  26%|██▌       | 129/500 [00:10<00:30, 12.12epoch/s, loss=0.4393, val_loss=0.4111]\n"
     ]
    },
    {
     "name": "stdout",
     "output_type": "stream",
     "text": [
      "\u001b[1m3/3\u001b[0m \u001b[32m━━━━━━━━━━━━━━━━━━━━\u001b[0m\u001b[37m\u001b[0m \u001b[1m0s\u001b[0m 13ms/step\n",
      "\u001b[1m1/3\u001b[0m \u001b[32m━━━━━━\u001b[0m\u001b[37m━━━━━━━━━━━━━━\u001b[0m \u001b[1m0s\u001b[0m 25ms/stepWARNING:tensorflow:5 out of the last 19 calls to <function TensorFlowTrainer.make_predict_function.<locals>.one_step_on_data_distributed at 0x761c98188220> triggered tf.function retracing. Tracing is expensive and the excessive number of tracings could be due to (1) creating @tf.function repeatedly in a loop, (2) passing tensors with different shapes, (3) passing Python objects instead of tensors. For (1), please define your @tf.function outside of the loop. For (2), @tf.function has reduce_retracing=True option that can avoid unnecessary retracing. For (3), please refer to https://www.tensorflow.org/guide/function#controlling_retracing and https://www.tensorflow.org/api_docs/python/tf/function for  more details.\n",
      "\u001b[1m3/3\u001b[0m \u001b[32m━━━━━━━━━━━━━━━━━━━━\u001b[0m\u001b[37m\u001b[0m \u001b[1m0s\u001b[0m 13ms/step\n",
      "\u001b[1m6/6\u001b[0m \u001b[32m━━━━━━━━━━━━━━━━━━━━\u001b[0m\u001b[37m\u001b[0m \u001b[1m0s\u001b[0m 3ms/step \n",
      "\u001b[1m6/6\u001b[0m \u001b[32m━━━━━━━━━━━━━━━━━━━━\u001b[0m\u001b[37m\u001b[0m \u001b[1m0s\u001b[0m 3ms/step \n",
      "\n",
      "\n",
      "--- Testing Configuration: 3:{'layers': [16], 'dropout': 0.0, 'lr': 0.001, 'batch_size': 32} ---\n"
     ]
    },
    {
     "name": "stderr",
     "output_type": "stream",
     "text": [
      "Epochs:  50%|█████     | 252/500 [00:20<00:19, 12.45epoch/s, loss=0.4951, val_loss=0.5872]\n",
      "Epochs:  53%|█████▎    | 266/500 [00:21<00:18, 12.41epoch/s, loss=0.4239, val_loss=0.4042]\n"
     ]
    },
    {
     "name": "stdout",
     "output_type": "stream",
     "text": [
      "\u001b[1m3/3\u001b[0m \u001b[32m━━━━━━━━━━━━━━━━━━━━\u001b[0m\u001b[37m\u001b[0m \u001b[1m0s\u001b[0m 16ms/step\n",
      "\u001b[1m3/3\u001b[0m \u001b[32m━━━━━━━━━━━━━━━━━━━━\u001b[0m\u001b[37m\u001b[0m \u001b[1m0s\u001b[0m 13ms/step\n",
      "\u001b[1m6/6\u001b[0m \u001b[32m━━━━━━━━━━━━━━━━━━━━\u001b[0m\u001b[37m\u001b[0m \u001b[1m0s\u001b[0m 3ms/step \n",
      "\u001b[1m6/6\u001b[0m \u001b[32m━━━━━━━━━━━━━━━━━━━━\u001b[0m\u001b[37m\u001b[0m \u001b[1m0s\u001b[0m 3ms/step \n",
      "\n",
      "\n",
      "--- Testing Configuration: 4:{'layers': [16], 'dropout': 0.1, 'lr': 0.001, 'batch_size': 32} ---\n"
     ]
    },
    {
     "name": "stderr",
     "output_type": "stream",
     "text": [
      "Epochs:  35%|███▌      | 177/500 [00:14<00:27, 11.96epoch/s, loss=0.6839, val_loss=0.5600]\n",
      "Epochs:  69%|██████▉   | 347/500 [00:28<00:12, 12.35epoch/s, loss=0.4205, val_loss=0.4014]\n"
     ]
    },
    {
     "name": "stdout",
     "output_type": "stream",
     "text": [
      "\u001b[1m3/3\u001b[0m \u001b[32m━━━━━━━━━━━━━━━━━━━━\u001b[0m\u001b[37m\u001b[0m \u001b[1m0s\u001b[0m 14ms/step\n",
      "\u001b[1m3/3\u001b[0m \u001b[32m━━━━━━━━━━━━━━━━━━━━\u001b[0m\u001b[37m\u001b[0m \u001b[1m0s\u001b[0m 12ms/step\n",
      "\u001b[1m6/6\u001b[0m \u001b[32m━━━━━━━━━━━━━━━━━━━━\u001b[0m\u001b[37m\u001b[0m \u001b[1m0s\u001b[0m 3ms/step \n",
      "\u001b[1m6/6\u001b[0m \u001b[32m━━━━━━━━━━━━━━━━━━━━\u001b[0m\u001b[37m\u001b[0m \u001b[1m0s\u001b[0m 3ms/step \n",
      "\n",
      "\n",
      "--- Testing Configuration: 5:{'layers': [16], 'dropout': 0.2, 'lr': 0.001, 'batch_size': 32} ---\n"
     ]
    },
    {
     "name": "stderr",
     "output_type": "stream",
     "text": [
      "Epochs:  33%|███▎      | 166/500 [00:13<00:28, 11.90epoch/s, loss=0.6794, val_loss=0.5721]\n",
      "Epochs:  62%|██████▏   | 312/500 [00:25<00:15, 12.19epoch/s, loss=0.4462, val_loss=0.4029]\n"
     ]
    },
    {
     "name": "stdout",
     "output_type": "stream",
     "text": [
      "\u001b[1m3/3\u001b[0m \u001b[32m━━━━━━━━━━━━━━━━━━━━\u001b[0m\u001b[37m\u001b[0m \u001b[1m0s\u001b[0m 13ms/step\n",
      "\u001b[1m3/3\u001b[0m \u001b[32m━━━━━━━━━━━━━━━━━━━━\u001b[0m\u001b[37m\u001b[0m \u001b[1m0s\u001b[0m 12ms/step\n",
      "\u001b[1m6/6\u001b[0m \u001b[32m━━━━━━━━━━━━━━━━━━━━\u001b[0m\u001b[37m\u001b[0m \u001b[1m0s\u001b[0m 3ms/step \n",
      "\u001b[1m6/6\u001b[0m \u001b[32m━━━━━━━━━━━━━━━━━━━━\u001b[0m\u001b[37m\u001b[0m \u001b[1m0s\u001b[0m 3ms/step \n",
      "\n",
      "\n",
      "--- Testing Configuration: 6:{'layers': [8, 4], 'dropout': 0.0, 'lr': 0.001, 'batch_size': 32} ---\n"
     ]
    },
    {
     "name": "stderr",
     "output_type": "stream",
     "text": [
      "Epochs: 100%|██████████| 500/500 [00:40<00:00, 12.24epoch/s, loss=0.4445, val_loss=0.5715]\n",
      "Epochs:  65%|██████▍   | 324/500 [00:26<00:14, 12.13epoch/s, loss=0.4201, val_loss=0.4005]\n"
     ]
    },
    {
     "name": "stdout",
     "output_type": "stream",
     "text": [
      "\u001b[1m3/3\u001b[0m \u001b[32m━━━━━━━━━━━━━━━━━━━━\u001b[0m\u001b[37m\u001b[0m \u001b[1m0s\u001b[0m 15ms/step\n",
      "\u001b[1m3/3\u001b[0m \u001b[32m━━━━━━━━━━━━━━━━━━━━\u001b[0m\u001b[37m\u001b[0m \u001b[1m0s\u001b[0m 15ms/step\n",
      "\u001b[1m6/6\u001b[0m \u001b[32m━━━━━━━━━━━━━━━━━━━━\u001b[0m\u001b[37m\u001b[0m \u001b[1m0s\u001b[0m 3ms/step \n",
      "\u001b[1m6/6\u001b[0m \u001b[32m━━━━━━━━━━━━━━━━━━━━\u001b[0m\u001b[37m\u001b[0m \u001b[1m0s\u001b[0m 3ms/step \n",
      "\n",
      "\n",
      "--- Testing Configuration: 7:{'layers': [8, 4], 'dropout': 0.1, 'lr': 0.001, 'batch_size': 32} ---\n"
     ]
    },
    {
     "name": "stderr",
     "output_type": "stream",
     "text": [
      "Epochs:  36%|███▌      | 179/500 [00:15<00:27, 11.68epoch/s, loss=3.7816, val_loss=0.5471]\n",
      "Epochs:  19%|█▉        | 97/500 [00:08<00:35, 11.29epoch/s, loss=0.4656, val_loss=0.4326]\n"
     ]
    },
    {
     "name": "stdout",
     "output_type": "stream",
     "text": [
      "\u001b[1m3/3\u001b[0m \u001b[32m━━━━━━━━━━━━━━━━━━━━\u001b[0m\u001b[37m\u001b[0m \u001b[1m0s\u001b[0m 17ms/step\n",
      "\u001b[1m3/3\u001b[0m \u001b[32m━━━━━━━━━━━━━━━━━━━━\u001b[0m\u001b[37m\u001b[0m \u001b[1m0s\u001b[0m 16ms/step\n",
      "\u001b[1m6/6\u001b[0m \u001b[32m━━━━━━━━━━━━━━━━━━━━\u001b[0m\u001b[37m\u001b[0m \u001b[1m0s\u001b[0m 3ms/step \n",
      "\u001b[1m6/6\u001b[0m \u001b[32m━━━━━━━━━━━━━━━━━━━━\u001b[0m\u001b[37m\u001b[0m \u001b[1m0s\u001b[0m 3ms/step \n",
      "\n",
      "\n",
      "--- Testing Configuration: 8:{'layers': [8, 4], 'dropout': 0.2, 'lr': 0.001, 'batch_size': 32} ---\n"
     ]
    },
    {
     "name": "stderr",
     "output_type": "stream",
     "text": [
      "Epochs:  41%|████▏     | 207/500 [00:17<00:25, 11.72epoch/s, loss=2.1546, val_loss=0.8664]\n",
      "Epochs:  24%|██▍       | 121/500 [00:10<00:32, 11.49epoch/s, loss=0.4704, val_loss=0.4393]\n"
     ]
    },
    {
     "name": "stdout",
     "output_type": "stream",
     "text": [
      "\u001b[1m3/3\u001b[0m \u001b[32m━━━━━━━━━━━━━━━━━━━━\u001b[0m\u001b[37m\u001b[0m \u001b[1m0s\u001b[0m 18ms/step\n",
      "\u001b[1m3/3\u001b[0m \u001b[32m━━━━━━━━━━━━━━━━━━━━\u001b[0m\u001b[37m\u001b[0m \u001b[1m0s\u001b[0m 16ms/step\n",
      "\u001b[1m6/6\u001b[0m \u001b[32m━━━━━━━━━━━━━━━━━━━━\u001b[0m\u001b[37m\u001b[0m \u001b[1m0s\u001b[0m 3ms/step \n",
      "\u001b[1m6/6\u001b[0m \u001b[32m━━━━━━━━━━━━━━━━━━━━\u001b[0m\u001b[37m\u001b[0m \u001b[1m0s\u001b[0m 3ms/step \n",
      "\n",
      "\n",
      "--- Testing Configuration: 9:{'layers': [8], 'dropout': 0.1, 'lr': 0.0005, 'batch_size': 32} ---\n"
     ]
    },
    {
     "name": "stderr",
     "output_type": "stream",
     "text": [
      "Epochs:  82%|████████▏ | 409/500 [00:33<00:07, 12.20epoch/s, loss=1.6877, val_loss=0.5741]\n",
      "Epochs:  29%|██▊       | 143/500 [00:11<00:29, 11.92epoch/s, loss=0.4467, val_loss=0.4125]\n"
     ]
    },
    {
     "name": "stdout",
     "output_type": "stream",
     "text": [
      "\u001b[1m3/3\u001b[0m \u001b[32m━━━━━━━━━━━━━━━━━━━━\u001b[0m\u001b[37m\u001b[0m \u001b[1m0s\u001b[0m 14ms/step\n",
      "\u001b[1m3/3\u001b[0m \u001b[32m━━━━━━━━━━━━━━━━━━━━\u001b[0m\u001b[37m\u001b[0m \u001b[1m0s\u001b[0m 13ms/step\n",
      "\u001b[1m6/6\u001b[0m \u001b[32m━━━━━━━━━━━━━━━━━━━━\u001b[0m\u001b[37m\u001b[0m \u001b[1m0s\u001b[0m 3ms/step \n",
      "\u001b[1m6/6\u001b[0m \u001b[32m━━━━━━━━━━━━━━━━━━━━\u001b[0m\u001b[37m\u001b[0m \u001b[1m0s\u001b[0m 3ms/step \n",
      "\n",
      "\n",
      "--- Testing Configuration: 10:{'layers': [16], 'dropout': 0.1, 'lr': 0.0005, 'batch_size': 32} ---\n"
     ]
    },
    {
     "name": "stderr",
     "output_type": "stream",
     "text": [
      "Epochs:  56%|█████▌    | 278/500 [00:23<00:18, 12.05epoch/s, loss=0.5205, val_loss=0.5545]\n",
      "Epochs:  43%|████▎     | 214/500 [00:17<00:23, 12.14epoch/s, loss=0.4354, val_loss=0.4033]\n"
     ]
    },
    {
     "name": "stdout",
     "output_type": "stream",
     "text": [
      "\u001b[1m3/3\u001b[0m \u001b[32m━━━━━━━━━━━━━━━━━━━━\u001b[0m\u001b[37m\u001b[0m \u001b[1m0s\u001b[0m 17ms/step\n",
      "\u001b[1m3/3\u001b[0m \u001b[32m━━━━━━━━━━━━━━━━━━━━\u001b[0m\u001b[37m\u001b[0m \u001b[1m0s\u001b[0m 14ms/step\n",
      "\u001b[1m6/6\u001b[0m \u001b[32m━━━━━━━━━━━━━━━━━━━━\u001b[0m\u001b[37m\u001b[0m \u001b[1m0s\u001b[0m 3ms/step \n",
      "\u001b[1m6/6\u001b[0m \u001b[32m━━━━━━━━━━━━━━━━━━━━\u001b[0m\u001b[37m\u001b[0m \u001b[1m0s\u001b[0m 3ms/step \n",
      "\n",
      "\n",
      "--- Testing Configuration: 11:{'layers': [8], 'dropout': 0.1, 'lr': 0.001, 'batch_size': 16} ---\n"
     ]
    },
    {
     "name": "stderr",
     "output_type": "stream",
     "text": [
      "Epochs:  27%|██▋       | 136/500 [00:14<00:37,  9.66epoch/s, loss=0.8737, val_loss=0.5833]\n",
      "Epochs:  25%|██▌       | 127/500 [00:13<00:38,  9.69epoch/s, loss=0.4404, val_loss=0.4143]\n"
     ]
    },
    {
     "name": "stdout",
     "output_type": "stream",
     "text": [
      "\u001b[1m3/3\u001b[0m \u001b[32m━━━━━━━━━━━━━━━━━━━━\u001b[0m\u001b[37m\u001b[0m \u001b[1m0s\u001b[0m 14ms/step\n",
      "\u001b[1m3/3\u001b[0m \u001b[32m━━━━━━━━━━━━━━━━━━━━\u001b[0m\u001b[37m\u001b[0m \u001b[1m0s\u001b[0m 13ms/step\n",
      "\u001b[1m6/6\u001b[0m \u001b[32m━━━━━━━━━━━━━━━━━━━━\u001b[0m\u001b[37m\u001b[0m \u001b[1m0s\u001b[0m 3ms/step \n",
      "\u001b[1m6/6\u001b[0m \u001b[32m━━━━━━━━━━━━━━━━━━━━\u001b[0m\u001b[37m\u001b[0m \u001b[1m0s\u001b[0m 3ms/step \n",
      "\n",
      "\n",
      "--- Experiment Results Summary ---\n",
      "    layers  dropout      lr  batch_size      PICP       MPIW\n",
      "0      [8]      0.0  0.0010          32  0.940476  30.714245\n",
      "1      [8]      0.1  0.0010          32  0.958333  33.635307\n",
      "2      [8]      0.2  0.0010          32  0.958333  33.811687\n",
      "3     [16]      0.0  0.0010          32  0.934524  30.862888\n",
      "4     [16]      0.1  0.0010          32  0.952381  32.386909\n",
      "5     [16]      0.2  0.0010          32  0.958333  33.736176\n",
      "6   [8, 4]      0.0  0.0010          32  0.928571  29.084873\n",
      "7   [8, 4]      0.1  0.0010          32  0.952381  33.616997\n",
      "8   [8, 4]      0.2  0.0010          32  0.964286  35.441475\n",
      "9      [8]      0.1  0.0005          32  0.964286  33.968117\n",
      "10    [16]      0.1  0.0005          32  0.958333  33.024567\n",
      "11     [8]      0.1  0.0010          16  0.952381  32.793388\n"
     ]
    }
   ],
   "source": [
    "results_df = fine_tune(param_grid)"
   ]
  },
  {
   "cell_type": "code",
   "execution_count": 12,
   "id": "8bd3d323",
   "metadata": {},
   "outputs": [],
   "source": [
    "all_results.append(results_df)"
   ]
  },
  {
   "cell_type": "markdown",
   "id": "dc496cb2",
   "metadata": {},
   "source": [
    "## Focused Approach"
   ]
  },
  {
   "cell_type": "code",
   "execution_count": 13,
   "id": "1851207e",
   "metadata": {},
   "outputs": [
    {
     "name": "stdout",
     "output_type": "stream",
     "text": [
      "Generated 10 parameter combinations for fine-tuning.\n"
     ]
    }
   ],
   "source": [
    "param_grid = [\n",
    "    {'layers': [16], 'dropout': 0.0, 'lr': 0.0005, 'batch_size': 32},   \n",
    "    {'layers': [16], 'dropout': 0.05, 'lr': 0.0005, 'batch_size': 32},  \n",
    "    {'layers': [16], 'dropout': 0.075, 'lr': 0.0005, 'batch_size': 32}, \n",
    "\n",
    "    {'layers': [8], 'dropout': 0.0, 'lr': 0.001, 'batch_size': 32},     \n",
    "    {'layers': [8], 'dropout': 0.05, 'lr': 0.001, 'batch_size': 32},    \n",
    "    {'layers': [8], 'dropout': 0.15, 'lr': 0.001, 'batch_size': 32},    \n",
    "    \n",
    "    {'layers': [16, 8], 'dropout': 0.0, 'lr': 0.0005, 'batch_size': 32},\n",
    "    {'layers': [16, 8], 'dropout': 0.1, 'lr': 0.0005, 'batch_size': 32},\n",
    "    {'layers': [16], 'dropout': 0.05, 'lr': 0.0001, 'batch_size': 32},\n",
    "    {'layers': [8],  'dropout': 0.05, 'lr': 0.0001, 'batch_size': 32},\n",
    "]\n",
    "\n",
    "# Total experiments: 10\n",
    "print(f\"Generated {len(param_grid)} parameter combinations for fine-tuning.\")"
   ]
  },
  {
   "cell_type": "code",
   "execution_count": 14,
   "id": "c5366d45",
   "metadata": {},
   "outputs": [
    {
     "name": "stdout",
     "output_type": "stream",
     "text": [
      "\n",
      "--- Testing Configuration: 0:{'layers': [16], 'dropout': 0.0, 'lr': 0.0005, 'batch_size': 32} ---\n"
     ]
    },
    {
     "name": "stderr",
     "output_type": "stream",
     "text": [
      "Epochs:  70%|███████   | 350/500 [00:28<00:12, 12.26epoch/s, loss=0.4955, val_loss=0.5828]\n",
      "Epochs:  42%|████▏     | 208/500 [00:17<00:24, 12.11epoch/s, loss=0.4289, val_loss=0.4063]\n"
     ]
    },
    {
     "name": "stdout",
     "output_type": "stream",
     "text": [
      "\u001b[1m3/3\u001b[0m \u001b[32m━━━━━━━━━━━━━━━━━━━━\u001b[0m\u001b[37m\u001b[0m \u001b[1m0s\u001b[0m 16ms/step\n",
      "\u001b[1m3/3\u001b[0m \u001b[32m━━━━━━━━━━━━━━━━━━━━\u001b[0m\u001b[37m\u001b[0m \u001b[1m0s\u001b[0m 14ms/step\n",
      "\u001b[1m6/6\u001b[0m \u001b[32m━━━━━━━━━━━━━━━━━━━━\u001b[0m\u001b[37m\u001b[0m \u001b[1m0s\u001b[0m 3ms/step \n",
      "\u001b[1m6/6\u001b[0m \u001b[32m━━━━━━━━━━━━━━━━━━━━\u001b[0m\u001b[37m\u001b[0m \u001b[1m0s\u001b[0m 3ms/step \n",
      "\n",
      "\n",
      "--- Testing Configuration: 1:{'layers': [16], 'dropout': 0.05, 'lr': 0.0005, 'batch_size': 32} ---\n"
     ]
    },
    {
     "name": "stderr",
     "output_type": "stream",
     "text": [
      "Epochs:  67%|██████▋   | 335/500 [00:27<00:13, 12.20epoch/s, loss=0.5283, val_loss=0.5596]\n",
      "Epochs:  86%|████████▋ | 432/500 [00:35<00:05, 12.29epoch/s, loss=0.4304, val_loss=0.3998]\n"
     ]
    },
    {
     "name": "stdout",
     "output_type": "stream",
     "text": [
      "\u001b[1m3/3\u001b[0m \u001b[32m━━━━━━━━━━━━━━━━━━━━\u001b[0m\u001b[37m\u001b[0m \u001b[1m0s\u001b[0m 15ms/step\n",
      "\u001b[1m3/3\u001b[0m \u001b[32m━━━━━━━━━━━━━━━━━━━━\u001b[0m\u001b[37m\u001b[0m \u001b[1m0s\u001b[0m 14ms/step\n",
      "\u001b[1m6/6\u001b[0m \u001b[32m━━━━━━━━━━━━━━━━━━━━\u001b[0m\u001b[37m\u001b[0m \u001b[1m0s\u001b[0m 3ms/step \n",
      "\u001b[1m6/6\u001b[0m \u001b[32m━━━━━━━━━━━━━━━━━━━━\u001b[0m\u001b[37m\u001b[0m \u001b[1m0s\u001b[0m 3ms/step \n",
      "\n",
      "\n",
      "--- Testing Configuration: 2:{'layers': [16], 'dropout': 0.075, 'lr': 0.0005, 'batch_size': 32} ---\n"
     ]
    },
    {
     "name": "stderr",
     "output_type": "stream",
     "text": [
      "Epochs:  69%|██████▊   | 343/500 [00:28<00:12, 12.11epoch/s, loss=0.5944, val_loss=0.5471]\n",
      "Epochs:  77%|███████▋  | 383/500 [00:32<00:10, 11.67epoch/s, loss=0.4166, val_loss=0.4026]\n"
     ]
    },
    {
     "name": "stdout",
     "output_type": "stream",
     "text": [
      "\u001b[1m3/3\u001b[0m \u001b[32m━━━━━━━━━━━━━━━━━━━━\u001b[0m\u001b[37m\u001b[0m \u001b[1m0s\u001b[0m 15ms/step\n",
      "\u001b[1m3/3\u001b[0m \u001b[32m━━━━━━━━━━━━━━━━━━━━\u001b[0m\u001b[37m\u001b[0m \u001b[1m0s\u001b[0m 14ms/step\n",
      "\u001b[1m6/6\u001b[0m \u001b[32m━━━━━━━━━━━━━━━━━━━━\u001b[0m\u001b[37m\u001b[0m \u001b[1m0s\u001b[0m 3ms/step \n",
      "\u001b[1m6/6\u001b[0m \u001b[32m━━━━━━━━━━━━━━━━━━━━\u001b[0m\u001b[37m\u001b[0m \u001b[1m0s\u001b[0m 3ms/step \n",
      "\n",
      "\n",
      "--- Testing Configuration: 3:{'layers': [8], 'dropout': 0.0, 'lr': 0.001, 'batch_size': 32} ---\n"
     ]
    },
    {
     "name": "stderr",
     "output_type": "stream",
     "text": [
      "Epochs:  52%|█████▏    | 258/500 [00:21<00:20, 11.84epoch/s, loss=0.5020, val_loss=0.5930]\n",
      "Epochs:  79%|███████▉  | 396/500 [00:31<00:08, 12.43epoch/s, loss=0.4215, val_loss=0.4029]\n"
     ]
    },
    {
     "name": "stdout",
     "output_type": "stream",
     "text": [
      "\u001b[1m3/3\u001b[0m \u001b[32m━━━━━━━━━━━━━━━━━━━━\u001b[0m\u001b[37m\u001b[0m \u001b[1m0s\u001b[0m 14ms/step\n",
      "\u001b[1m3/3\u001b[0m \u001b[32m━━━━━━━━━━━━━━━━━━━━\u001b[0m\u001b[37m\u001b[0m \u001b[1m0s\u001b[0m 14ms/step\n",
      "\u001b[1m6/6\u001b[0m \u001b[32m━━━━━━━━━━━━━━━━━━━━\u001b[0m\u001b[37m\u001b[0m \u001b[1m0s\u001b[0m 3ms/step \n",
      "\u001b[1m6/6\u001b[0m \u001b[32m━━━━━━━━━━━━━━━━━━━━\u001b[0m\u001b[37m\u001b[0m \u001b[1m0s\u001b[0m 4ms/step \n",
      "\n",
      "\n",
      "--- Testing Configuration: 4:{'layers': [8], 'dropout': 0.05, 'lr': 0.001, 'batch_size': 32} ---\n"
     ]
    },
    {
     "name": "stderr",
     "output_type": "stream",
     "text": [
      "Epochs:  50%|████▉     | 249/500 [00:20<00:20, 12.16epoch/s, loss=0.7316, val_loss=0.5559]\n",
      "Epochs:  44%|████▍     | 221/500 [00:18<00:23, 12.09epoch/s, loss=0.4439, val_loss=0.4131]\n"
     ]
    },
    {
     "name": "stdout",
     "output_type": "stream",
     "text": [
      "\u001b[1m3/3\u001b[0m \u001b[32m━━━━━━━━━━━━━━━━━━━━\u001b[0m\u001b[37m\u001b[0m \u001b[1m0s\u001b[0m 14ms/step\n",
      "\u001b[1m3/3\u001b[0m \u001b[32m━━━━━━━━━━━━━━━━━━━━\u001b[0m\u001b[37m\u001b[0m \u001b[1m0s\u001b[0m 13ms/step\n",
      "\u001b[1m6/6\u001b[0m \u001b[32m━━━━━━━━━━━━━━━━━━━━\u001b[0m\u001b[37m\u001b[0m \u001b[1m0s\u001b[0m 3ms/step \n",
      "\u001b[1m6/6\u001b[0m \u001b[32m━━━━━━━━━━━━━━━━━━━━\u001b[0m\u001b[37m\u001b[0m \u001b[1m0s\u001b[0m 3ms/step \n",
      "\n",
      "\n",
      "--- Testing Configuration: 5:{'layers': [8], 'dropout': 0.15, 'lr': 0.001, 'batch_size': 32} ---\n"
     ]
    },
    {
     "name": "stderr",
     "output_type": "stream",
     "text": [
      "Epochs:  35%|███▍      | 174/500 [00:14<00:27, 11.93epoch/s, loss=0.7418, val_loss=0.5685]\n",
      "Epochs:  32%|███▏      | 160/500 [00:13<00:28, 12.01epoch/s, loss=0.4372, val_loss=0.4070]\n"
     ]
    },
    {
     "name": "stdout",
     "output_type": "stream",
     "text": [
      "\u001b[1m3/3\u001b[0m \u001b[32m━━━━━━━━━━━━━━━━━━━━\u001b[0m\u001b[37m\u001b[0m \u001b[1m0s\u001b[0m 13ms/step\n",
      "\u001b[1m3/3\u001b[0m \u001b[32m━━━━━━━━━━━━━━━━━━━━\u001b[0m\u001b[37m\u001b[0m \u001b[1m0s\u001b[0m 13ms/step\n",
      "\u001b[1m6/6\u001b[0m \u001b[32m━━━━━━━━━━━━━━━━━━━━\u001b[0m\u001b[37m\u001b[0m \u001b[1m0s\u001b[0m 3ms/step \n",
      "\u001b[1m6/6\u001b[0m \u001b[32m━━━━━━━━━━━━━━━━━━━━\u001b[0m\u001b[37m\u001b[0m \u001b[1m0s\u001b[0m 3ms/step \n",
      "\n",
      "\n",
      "--- Testing Configuration: 6:{'layers': [16, 8], 'dropout': 0.0, 'lr': 0.0005, 'batch_size': 32} ---\n"
     ]
    },
    {
     "name": "stderr",
     "output_type": "stream",
     "text": [
      "Epochs:  71%|███████   | 354/500 [00:29<00:12, 12.15epoch/s, loss=0.4683, val_loss=0.5813]\n",
      "Epochs:  67%|██████▋   | 335/500 [00:27<00:13, 12.07epoch/s, loss=0.4187, val_loss=0.4016]\n"
     ]
    },
    {
     "name": "stdout",
     "output_type": "stream",
     "text": [
      "\u001b[1m3/3\u001b[0m \u001b[32m━━━━━━━━━━━━━━━━━━━━\u001b[0m\u001b[37m\u001b[0m \u001b[1m0s\u001b[0m 17ms/step\n",
      "\u001b[1m3/3\u001b[0m \u001b[32m━━━━━━━━━━━━━━━━━━━━\u001b[0m\u001b[37m\u001b[0m \u001b[1m0s\u001b[0m 17ms/step\n",
      "\u001b[1m6/6\u001b[0m \u001b[32m━━━━━━━━━━━━━━━━━━━━\u001b[0m\u001b[37m\u001b[0m \u001b[1m0s\u001b[0m 3ms/step \n",
      "\u001b[1m6/6\u001b[0m \u001b[32m━━━━━━━━━━━━━━━━━━━━\u001b[0m\u001b[37m\u001b[0m \u001b[1m0s\u001b[0m 3ms/step \n",
      "\n",
      "\n",
      "--- Testing Configuration: 7:{'layers': [16, 8], 'dropout': 0.1, 'lr': 0.0005, 'batch_size': 32} ---\n"
     ]
    },
    {
     "name": "stderr",
     "output_type": "stream",
     "text": [
      "Epochs:  24%|██▍       | 119/500 [00:10<00:33, 11.27epoch/s, loss=0.9252, val_loss=0.6010]\n",
      "Epochs:  27%|██▋       | 137/500 [00:11<00:31, 11.51epoch/s, loss=0.4657, val_loss=0.4255]\n"
     ]
    },
    {
     "name": "stdout",
     "output_type": "stream",
     "text": [
      "\u001b[1m3/3\u001b[0m \u001b[32m━━━━━━━━━━━━━━━━━━━━\u001b[0m\u001b[37m\u001b[0m \u001b[1m0s\u001b[0m 15ms/step\n",
      "\u001b[1m3/3\u001b[0m \u001b[32m━━━━━━━━━━━━━━━━━━━━\u001b[0m\u001b[37m\u001b[0m \u001b[1m0s\u001b[0m 15ms/step\n",
      "\u001b[1m6/6\u001b[0m \u001b[32m━━━━━━━━━━━━━━━━━━━━\u001b[0m\u001b[37m\u001b[0m \u001b[1m0s\u001b[0m 3ms/step \n",
      "\u001b[1m6/6\u001b[0m \u001b[32m━━━━━━━━━━━━━━━━━━━━\u001b[0m\u001b[37m\u001b[0m \u001b[1m0s\u001b[0m 3ms/step \n",
      "\n",
      "\n",
      "--- Testing Configuration: 8:{'layers': [16], 'dropout': 0.05, 'lr': 0.0001, 'batch_size': 32} ---\n"
     ]
    },
    {
     "name": "stderr",
     "output_type": "stream",
     "text": [
      "Epochs: 100%|██████████| 500/500 [00:40<00:00, 12.24epoch/s, loss=10.7978, val_loss=10.8952]\n",
      "Epochs:  78%|███████▊  | 390/500 [00:32<00:09, 12.12epoch/s, loss=0.4369, val_loss=0.4108]\n"
     ]
    },
    {
     "name": "stdout",
     "output_type": "stream",
     "text": [
      "\u001b[1m3/3\u001b[0m \u001b[32m━━━━━━━━━━━━━━━━━━━━\u001b[0m\u001b[37m\u001b[0m \u001b[1m0s\u001b[0m 17ms/step\n",
      "\u001b[1m3/3\u001b[0m \u001b[32m━━━━━━━━━━━━━━━━━━━━\u001b[0m\u001b[37m\u001b[0m \u001b[1m0s\u001b[0m 13ms/step\n",
      "\u001b[1m6/6\u001b[0m \u001b[32m━━━━━━━━━━━━━━━━━━━━\u001b[0m\u001b[37m\u001b[0m \u001b[1m0s\u001b[0m 3ms/step \n",
      "\u001b[1m6/6\u001b[0m \u001b[32m━━━━━━━━━━━━━━━━━━━━\u001b[0m\u001b[37m\u001b[0m \u001b[1m0s\u001b[0m 3ms/step \n",
      "\n",
      "\n",
      "--- Testing Configuration: 9:{'layers': [8], 'dropout': 0.05, 'lr': 0.0001, 'batch_size': 32} ---\n"
     ]
    },
    {
     "name": "stderr",
     "output_type": "stream",
     "text": [
      "Epochs: 100%|██████████| 500/500 [00:40<00:00, 12.23epoch/s, loss=11.8617, val_loss=12.0235]\n",
      "Epochs: 100%|██████████| 500/500 [00:40<00:00, 12.37epoch/s, loss=0.4440, val_loss=0.4138]\n"
     ]
    },
    {
     "name": "stdout",
     "output_type": "stream",
     "text": [
      "\u001b[1m3/3\u001b[0m \u001b[32m━━━━━━━━━━━━━━━━━━━━\u001b[0m\u001b[37m\u001b[0m \u001b[1m0s\u001b[0m 14ms/step\n",
      "\u001b[1m3/3\u001b[0m \u001b[32m━━━━━━━━━━━━━━━━━━━━\u001b[0m\u001b[37m\u001b[0m \u001b[1m0s\u001b[0m 13ms/step\n",
      "\u001b[1m6/6\u001b[0m \u001b[32m━━━━━━━━━━━━━━━━━━━━\u001b[0m\u001b[37m\u001b[0m \u001b[1m0s\u001b[0m 3ms/step \n",
      "\u001b[1m6/6\u001b[0m \u001b[32m━━━━━━━━━━━━━━━━━━━━\u001b[0m\u001b[37m\u001b[0m \u001b[1m0s\u001b[0m 3ms/step \n",
      "\n",
      "\n",
      "--- Experiment Results Summary ---\n",
      "    layers  dropout      lr  batch_size      PICP       MPIW\n",
      "0     [16]    0.000  0.0005          32  0.940476  30.916569\n",
      "1     [16]    0.050  0.0005          32  0.946429  32.373283\n",
      "2     [16]    0.075  0.0005          32  0.958333  32.933502\n",
      "3      [8]    0.000  0.0010          32  0.928571  30.422281\n",
      "4      [8]    0.050  0.0010          32  0.958333  33.366203\n",
      "5      [8]    0.150  0.0010          32  0.958333  32.928600\n",
      "6  [16, 8]    0.000  0.0005          32  0.928571  29.832060\n",
      "7  [16, 8]    0.100  0.0005          32  0.964286  33.687542\n",
      "8     [16]    0.050  0.0001          32  0.059524   5.018517\n",
      "9      [8]    0.050  0.0001          32  0.041667   3.560219\n"
     ]
    }
   ],
   "source": [
    "results_df = fine_tune(param_grid)"
   ]
  },
  {
   "cell_type": "code",
   "execution_count": 15,
   "id": "204f5ce7",
   "metadata": {},
   "outputs": [],
   "source": [
    "all_results.append(results_df)"
   ]
  },
  {
   "cell_type": "markdown",
   "id": "d2f1be0b",
   "metadata": {},
   "source": [
    "### More Focused"
   ]
  },
  {
   "cell_type": "code",
   "execution_count": 16,
   "id": "b6501a93",
   "metadata": {},
   "outputs": [],
   "source": [
    "param_grid_final = [\n",
    "    {'layers': [16, 8], 'dropout': 0.1,    'lr': 0.0005, 'batch_size': 32},\n",
    "\n",
    "    {'layers': [16, 8], 'dropout': 0.09,   'lr': 0.0005, 'batch_size': 32},\n",
    "    {'layers': [16, 8], 'dropout': 0.08,   'lr': 0.0005, 'batch_size': 32},\n",
    "    {'layers': [16, 8], 'dropout': 0.07,   'lr': 0.0005, 'batch_size': 32},\n",
    "]"
   ]
  },
  {
   "cell_type": "code",
   "execution_count": 17,
   "id": "bacb3d07",
   "metadata": {},
   "outputs": [
    {
     "name": "stdout",
     "output_type": "stream",
     "text": [
      "\n",
      "--- Testing Configuration: 0:{'layers': [16, 8], 'dropout': 0.1, 'lr': 0.0005, 'batch_size': 32} ---\n"
     ]
    },
    {
     "name": "stderr",
     "output_type": "stream",
     "text": [
      "Epochs:  24%|██▎       | 118/500 [00:10<00:33, 11.46epoch/s, loss=0.8644, val_loss=0.5985]\n",
      "Epochs:  33%|███▎      | 163/500 [00:13<00:28, 11.93epoch/s, loss=0.4527, val_loss=0.4064]\n"
     ]
    },
    {
     "name": "stdout",
     "output_type": "stream",
     "text": [
      "\u001b[1m3/3\u001b[0m \u001b[32m━━━━━━━━━━━━━━━━━━━━\u001b[0m\u001b[37m\u001b[0m \u001b[1m0s\u001b[0m 15ms/step\n",
      "\u001b[1m3/3\u001b[0m \u001b[32m━━━━━━━━━━━━━━━━━━━━\u001b[0m\u001b[37m\u001b[0m \u001b[1m0s\u001b[0m 14ms/step\n",
      "\u001b[1m6/6\u001b[0m \u001b[32m━━━━━━━━━━━━━━━━━━━━\u001b[0m\u001b[37m\u001b[0m \u001b[1m0s\u001b[0m 3ms/step \n",
      "\u001b[1m6/6\u001b[0m \u001b[32m━━━━━━━━━━━━━━━━━━━━\u001b[0m\u001b[37m\u001b[0m \u001b[1m0s\u001b[0m 3ms/step \n",
      "\n",
      "\n",
      "--- Testing Configuration: 1:{'layers': [16, 8], 'dropout': 0.09, 'lr': 0.0005, 'batch_size': 32} ---\n"
     ]
    },
    {
     "name": "stderr",
     "output_type": "stream",
     "text": [
      "Epochs:  27%|██▋       | 136/500 [00:11<00:31, 11.61epoch/s, loss=0.8983, val_loss=0.6077]\n",
      "Epochs:  20%|██        | 100/500 [00:08<00:34, 11.52epoch/s, loss=0.4543, val_loss=0.4137]\n"
     ]
    },
    {
     "name": "stdout",
     "output_type": "stream",
     "text": [
      "\u001b[1m3/3\u001b[0m \u001b[32m━━━━━━━━━━━━━━━━━━━━\u001b[0m\u001b[37m\u001b[0m \u001b[1m0s\u001b[0m 16ms/step\n",
      "\u001b[1m3/3\u001b[0m \u001b[32m━━━━━━━━━━━━━━━━━━━━\u001b[0m\u001b[37m\u001b[0m \u001b[1m0s\u001b[0m 15ms/step\n",
      "\u001b[1m6/6\u001b[0m \u001b[32m━━━━━━━━━━━━━━━━━━━━\u001b[0m\u001b[37m\u001b[0m \u001b[1m0s\u001b[0m 3ms/step \n",
      "\u001b[1m6/6\u001b[0m \u001b[32m━━━━━━━━━━━━━━━━━━━━\u001b[0m\u001b[37m\u001b[0m \u001b[1m0s\u001b[0m 3ms/step \n",
      "\n",
      "\n",
      "--- Testing Configuration: 2:{'layers': [16, 8], 'dropout': 0.08, 'lr': 0.0005, 'batch_size': 32} ---\n"
     ]
    },
    {
     "name": "stderr",
     "output_type": "stream",
     "text": [
      "Epochs:  23%|██▎       | 115/500 [00:10<00:33, 11.48epoch/s, loss=0.7390, val_loss=0.5618]\n",
      "Epochs:  48%|████▊     | 241/500 [00:19<00:21, 12.13epoch/s, loss=0.4413, val_loss=0.4105]\n"
     ]
    },
    {
     "name": "stdout",
     "output_type": "stream",
     "text": [
      "\u001b[1m3/3\u001b[0m \u001b[32m━━━━━━━━━━━━━━━━━━━━\u001b[0m\u001b[37m\u001b[0m \u001b[1m0s\u001b[0m 15ms/step\n",
      "\u001b[1m3/3\u001b[0m \u001b[32m━━━━━━━━━━━━━━━━━━━━\u001b[0m\u001b[37m\u001b[0m \u001b[1m0s\u001b[0m 15ms/step\n",
      "\u001b[1m6/6\u001b[0m \u001b[32m━━━━━━━━━━━━━━━━━━━━\u001b[0m\u001b[37m\u001b[0m \u001b[1m0s\u001b[0m 3ms/step \n",
      "\u001b[1m6/6\u001b[0m \u001b[32m━━━━━━━━━━━━━━━━━━━━\u001b[0m\u001b[37m\u001b[0m \u001b[1m0s\u001b[0m 3ms/step \n",
      "\n",
      "\n",
      "--- Testing Configuration: 3:{'layers': [16, 8], 'dropout': 0.07, 'lr': 0.0005, 'batch_size': 32} ---\n"
     ]
    },
    {
     "name": "stderr",
     "output_type": "stream",
     "text": [
      "Epochs:  24%|██▍       | 122/500 [00:10<00:33, 11.26epoch/s, loss=0.7175, val_loss=0.5631]\n",
      "Epochs:  51%|█████     | 256/500 [00:21<00:20, 11.82epoch/s, loss=0.4419, val_loss=0.4024]\n"
     ]
    },
    {
     "name": "stdout",
     "output_type": "stream",
     "text": [
      "\u001b[1m3/3\u001b[0m \u001b[32m━━━━━━━━━━━━━━━━━━━━\u001b[0m\u001b[37m\u001b[0m \u001b[1m0s\u001b[0m 17ms/step\n",
      "\u001b[1m3/3\u001b[0m \u001b[32m━━━━━━━━━━━━━━━━━━━━\u001b[0m\u001b[37m\u001b[0m \u001b[1m0s\u001b[0m 15ms/step\n",
      "\u001b[1m6/6\u001b[0m \u001b[32m━━━━━━━━━━━━━━━━━━━━\u001b[0m\u001b[37m\u001b[0m \u001b[1m0s\u001b[0m 3ms/step \n",
      "\u001b[1m6/6\u001b[0m \u001b[32m━━━━━━━━━━━━━━━━━━━━\u001b[0m\u001b[37m\u001b[0m \u001b[1m0s\u001b[0m 3ms/step \n",
      "\n",
      "\n",
      "--- Experiment Results Summary ---\n",
      "    layers  dropout      lr  batch_size      PICP       MPIW\n",
      "0  [16, 8]     0.10  0.0005          32  0.964286  32.834175\n",
      "1  [16, 8]     0.09  0.0005          32  0.964286  33.301182\n",
      "2  [16, 8]     0.08  0.0005          32  0.964286  33.173626\n",
      "3  [16, 8]     0.07  0.0005          32  0.958333  33.861305\n"
     ]
    }
   ],
   "source": [
    "results_df = fine_tune(param_grid_final)"
   ]
  },
  {
   "cell_type": "code",
   "execution_count": 18,
   "id": "34e41e1f",
   "metadata": {},
   "outputs": [],
   "source": [
    "all_results.append(results_df)"
   ]
  },
  {
   "cell_type": "markdown",
   "id": "980fbc02",
   "metadata": {},
   "source": [
    "## Final HP"
   ]
  },
  {
   "cell_type": "code",
   "execution_count": 15,
   "id": "24880a13",
   "metadata": {},
   "outputs": [
    {
     "name": "stdout",
     "output_type": "stream",
     "text": [
      "---------- SEED: 42 ----------\n",
      "\n",
      "--- Testing Configuration: 0:{'name': 'Model 1', 'layers': [16, 8], 'dropout': 0.09, 'lr': 0.0005, 'batch_size': 32} ---\n"
     ]
    },
    {
     "name": "stderr",
     "output_type": "stream",
     "text": [
      "Epochs:  29%|██▉       | 144/500 [00:18<00:46,  7.71epoch/s, loss=1.2280, val_loss=0.6390] \n",
      "Epochs:  25%|██▍       | 123/500 [00:16<00:51,  7.29epoch/s, loss=0.4285, val_loss=0.4137]"
     ]
    },
    {
     "name": "stdout",
     "output_type": "stream",
     "text": [
      "\u001b[1m1/3\u001b[0m \u001b[32m━━━━━━\u001b[0m\u001b[37m━━━━━━━━━━━━━━\u001b[0m \u001b[1m0s\u001b[0m 47ms/step"
     ]
    },
    {
     "name": "stderr",
     "output_type": "stream",
     "text": [
      "\n"
     ]
    },
    {
     "name": "stdout",
     "output_type": "stream",
     "text": [
      "\u001b[1m3/3\u001b[0m \u001b[32m━━━━━━━━━━━━━━━━━━━━\u001b[0m\u001b[37m\u001b[0m \u001b[1m0s\u001b[0m 24ms/step\n",
      "\u001b[1m3/3\u001b[0m \u001b[32m━━━━━━━━━━━━━━━━━━━━\u001b[0m\u001b[37m\u001b[0m \u001b[1m0s\u001b[0m 24ms/step\n",
      "\u001b[1m6/6\u001b[0m \u001b[32m━━━━━━━━━━━━━━━━━━━━\u001b[0m\u001b[37m\u001b[0m \u001b[1m0s\u001b[0m 5ms/step \n",
      "\u001b[1m6/6\u001b[0m \u001b[32m━━━━━━━━━━━━━━━━━━━━\u001b[0m\u001b[37m\u001b[0m \u001b[1m0s\u001b[0m 6ms/step \n",
      "\n",
      "\n",
      "--- Testing Configuration: 1:{'name': 'Model 3', 'layers': [16, 8], 'dropout': 0.07, 'lr': 0.0005, 'batch_size': 32} ---\n"
     ]
    },
    {
     "name": "stderr",
     "output_type": "stream",
     "text": [
      "Epochs:  27%|██▋       | 137/500 [00:18<00:48,  7.45epoch/s, loss=0.9704, val_loss=0.5801] \n",
      "Epochs:  27%|██▋       | 136/500 [00:18<00:50,  7.20epoch/s, loss=0.4507, val_loss=0.4127]\n"
     ]
    },
    {
     "name": "stdout",
     "output_type": "stream",
     "text": [
      "\u001b[1m3/3\u001b[0m \u001b[32m━━━━━━━━━━━━━━━━━━━━\u001b[0m\u001b[37m\u001b[0m \u001b[1m0s\u001b[0m 30ms/step\n",
      "\u001b[1m1/3\u001b[0m \u001b[32m━━━━━━\u001b[0m\u001b[37m━━━━━━━━━━━━━━\u001b[0m \u001b[1m0s\u001b[0m 57ms/stepWARNING:tensorflow:5 out of the last 19 calls to <function TensorFlowTrainer.make_predict_function.<locals>.one_step_on_data_distributed at 0x7a60ecdfeb60> triggered tf.function retracing. Tracing is expensive and the excessive number of tracings could be due to (1) creating @tf.function repeatedly in a loop, (2) passing tensors with different shapes, (3) passing Python objects instead of tensors. For (1), please define your @tf.function outside of the loop. For (2), @tf.function has reduce_retracing=True option that can avoid unnecessary retracing. For (3), please refer to https://www.tensorflow.org/guide/function#controlling_retracing and https://www.tensorflow.org/api_docs/python/tf/function for  more details.\n",
      "\u001b[1m3/3\u001b[0m \u001b[32m━━━━━━━━━━━━━━━━━━━━\u001b[0m\u001b[37m\u001b[0m \u001b[1m0s\u001b[0m 30ms/step\n",
      "\u001b[1m6/6\u001b[0m \u001b[32m━━━━━━━━━━━━━━━━━━━━\u001b[0m\u001b[37m\u001b[0m \u001b[1m0s\u001b[0m 5ms/step \n",
      "\u001b[1m6/6\u001b[0m \u001b[32m━━━━━━━━━━━━━━━━━━━━\u001b[0m\u001b[37m\u001b[0m \u001b[1m0s\u001b[0m 4ms/step \n",
      "\n",
      "\n",
      "--- Experiment Results Summary ---\n",
      "      name   layers  dropout      lr  batch_size      PICP       MPIW\n",
      "0  Model 1  [16, 8]     0.09  0.0005          32  0.964286  33.965977\n",
      "1  Model 3  [16, 8]     0.07  0.0005          32  0.958333  33.643951\n",
      "---------- SEED: 123 ----------\n",
      "\n",
      "--- Testing Configuration: 0:{'name': 'Model 1', 'layers': [16, 8], 'dropout': 0.09, 'lr': 0.0005, 'batch_size': 32} ---\n"
     ]
    },
    {
     "name": "stderr",
     "output_type": "stream",
     "text": [
      "Epochs:  23%|██▎       | 117/500 [00:16<00:53,  7.21epoch/s, loss=0.7339, val_loss=0.6134] \n",
      "Epochs:  15%|█▌        | 77/500 [00:11<01:00,  6.99epoch/s, loss=0.4287, val_loss=0.4487]\n"
     ]
    },
    {
     "name": "stdout",
     "output_type": "stream",
     "text": [
      "\u001b[1m3/3\u001b[0m \u001b[32m━━━━━━━━━━━━━━━━━━━━\u001b[0m\u001b[37m\u001b[0m \u001b[1m0s\u001b[0m 23ms/step\n",
      "\u001b[1m1/3\u001b[0m \u001b[32m━━━━━━\u001b[0m\u001b[37m━━━━━━━━━━━━━━\u001b[0m \u001b[1m0s\u001b[0m 44ms/stepWARNING:tensorflow:5 out of the last 19 calls to <function TensorFlowTrainer.make_predict_function.<locals>.one_step_on_data_distributed at 0x7a617dacdd00> triggered tf.function retracing. Tracing is expensive and the excessive number of tracings could be due to (1) creating @tf.function repeatedly in a loop, (2) passing tensors with different shapes, (3) passing Python objects instead of tensors. For (1), please define your @tf.function outside of the loop. For (2), @tf.function has reduce_retracing=True option that can avoid unnecessary retracing. For (3), please refer to https://www.tensorflow.org/guide/function#controlling_retracing and https://www.tensorflow.org/api_docs/python/tf/function for  more details.\n",
      "\u001b[1m3/3\u001b[0m \u001b[32m━━━━━━━━━━━━━━━━━━━━\u001b[0m\u001b[37m\u001b[0m \u001b[1m0s\u001b[0m 24ms/step\n",
      "\u001b[1m6/6\u001b[0m \u001b[32m━━━━━━━━━━━━━━━━━━━━\u001b[0m\u001b[37m\u001b[0m \u001b[1m0s\u001b[0m 5ms/step \n",
      "\u001b[1m6/6\u001b[0m \u001b[32m━━━━━━━━━━━━━━━━━━━━\u001b[0m\u001b[37m\u001b[0m \u001b[1m0s\u001b[0m 6ms/step \n",
      "\n",
      "\n",
      "--- Testing Configuration: 1:{'name': 'Model 3', 'layers': [16, 8], 'dropout': 0.07, 'lr': 0.0005, 'batch_size': 32} ---\n"
     ]
    },
    {
     "name": "stderr",
     "output_type": "stream",
     "text": [
      "Epochs:  27%|██▋       | 136/500 [00:18<00:49,  7.30epoch/s, loss=0.9493, val_loss=0.6383] \n",
      "Epochs:  15%|█▌        | 77/500 [00:11<01:00,  6.99epoch/s, loss=0.4066, val_loss=0.4680]\n"
     ]
    },
    {
     "name": "stdout",
     "output_type": "stream",
     "text": [
      "\u001b[1m3/3\u001b[0m \u001b[32m━━━━━━━━━━━━━━━━━━━━\u001b[0m\u001b[37m\u001b[0m \u001b[1m0s\u001b[0m 31ms/step\n",
      "\u001b[1m3/3\u001b[0m \u001b[32m━━━━━━━━━━━━━━━━━━━━\u001b[0m\u001b[37m\u001b[0m \u001b[1m0s\u001b[0m 31ms/step\n",
      "\u001b[1m6/6\u001b[0m \u001b[32m━━━━━━━━━━━━━━━━━━━━\u001b[0m\u001b[37m\u001b[0m \u001b[1m0s\u001b[0m 5ms/step \n",
      "\u001b[1m6/6\u001b[0m \u001b[32m━━━━━━━━━━━━━━━━━━━━\u001b[0m\u001b[37m\u001b[0m \u001b[1m0s\u001b[0m 5ms/step \n",
      "\n",
      "\n",
      "--- Experiment Results Summary ---\n",
      "      name   layers  dropout      lr  batch_size      PICP       MPIW\n",
      "0  Model 1  [16, 8]     0.09  0.0005          32  0.940476  34.290947\n",
      "1  Model 3  [16, 8]     0.07  0.0005          32  0.940476  35.771069\n",
      "---------- SEED: 888 ----------\n",
      "\n",
      "--- Testing Configuration: 0:{'name': 'Model 1', 'layers': [16, 8], 'dropout': 0.09, 'lr': 0.0005, 'batch_size': 32} ---\n"
     ]
    },
    {
     "name": "stderr",
     "output_type": "stream",
     "text": [
      "Epochs:  23%|██▎       | 116/500 [00:15<00:52,  7.31epoch/s, loss=0.7016, val_loss=0.6180] \n",
      "Epochs:  25%|██▌       | 127/500 [00:17<00:51,  7.28epoch/s, loss=0.4340, val_loss=0.3857]\n"
     ]
    },
    {
     "name": "stdout",
     "output_type": "stream",
     "text": [
      "\u001b[1m3/3\u001b[0m \u001b[32m━━━━━━━━━━━━━━━━━━━━\u001b[0m\u001b[37m\u001b[0m \u001b[1m0s\u001b[0m 25ms/step\n",
      "\u001b[1m3/3\u001b[0m \u001b[32m━━━━━━━━━━━━━━━━━━━━\u001b[0m\u001b[37m\u001b[0m \u001b[1m0s\u001b[0m 20ms/step\n",
      "\u001b[1m6/6\u001b[0m \u001b[32m━━━━━━━━━━━━━━━━━━━━\u001b[0m\u001b[37m\u001b[0m \u001b[1m0s\u001b[0m 4ms/step \n",
      "\u001b[1m6/6\u001b[0m \u001b[32m━━━━━━━━━━━━━━━━━━━━\u001b[0m\u001b[37m\u001b[0m \u001b[1m0s\u001b[0m 6ms/step \n",
      "\n",
      "\n",
      "--- Testing Configuration: 1:{'name': 'Model 3', 'layers': [16, 8], 'dropout': 0.07, 'lr': 0.0005, 'batch_size': 32} ---\n"
     ]
    },
    {
     "name": "stderr",
     "output_type": "stream",
     "text": [
      "Epochs:  28%|██▊       | 140/500 [00:19<00:49,  7.26epoch/s, loss=1.2185, val_loss=0.6438] \n",
      "Epochs:  27%|██▋       | 133/500 [00:18<00:50,  7.28epoch/s, loss=0.4388, val_loss=0.3883]\n"
     ]
    },
    {
     "name": "stdout",
     "output_type": "stream",
     "text": [
      "\u001b[1m3/3\u001b[0m \u001b[32m━━━━━━━━━━━━━━━━━━━━\u001b[0m\u001b[37m\u001b[0m \u001b[1m0s\u001b[0m 24ms/step\n",
      "\u001b[1m3/3\u001b[0m \u001b[32m━━━━━━━━━━━━━━━━━━━━\u001b[0m\u001b[37m\u001b[0m \u001b[1m0s\u001b[0m 23ms/step\n",
      "\u001b[1m6/6\u001b[0m \u001b[32m━━━━━━━━━━━━━━━━━━━━\u001b[0m\u001b[37m\u001b[0m \u001b[1m0s\u001b[0m 4ms/step \n",
      "\u001b[1m6/6\u001b[0m \u001b[32m━━━━━━━━━━━━━━━━━━━━\u001b[0m\u001b[37m\u001b[0m \u001b[1m0s\u001b[0m 5ms/step \n",
      "\n",
      "\n",
      "--- Experiment Results Summary ---\n",
      "      name   layers  dropout      lr  batch_size      PICP       MPIW\n",
      "0  Model 1  [16, 8]     0.09  0.0005          32  0.958333  32.857838\n",
      "1  Model 3  [16, 8]     0.07  0.0005          32  0.952381  33.010201\n",
      "---------- SEED: 1337 ----------\n",
      "\n",
      "--- Testing Configuration: 0:{'name': 'Model 1', 'layers': [16, 8], 'dropout': 0.09, 'lr': 0.0005, 'batch_size': 32} ---\n"
     ]
    },
    {
     "name": "stderr",
     "output_type": "stream",
     "text": [
      "Epochs:  27%|██▋       | 136/500 [00:18<00:48,  7.46epoch/s, loss=1.5862, val_loss=0.6295] \n",
      "Epochs:  37%|███▋      | 184/500 [00:24<00:41,  7.64epoch/s, loss=0.4270, val_loss=0.4336]\n"
     ]
    },
    {
     "name": "stdout",
     "output_type": "stream",
     "text": [
      "\u001b[1m3/3\u001b[0m \u001b[32m━━━━━━━━━━━━━━━━━━━━\u001b[0m\u001b[37m\u001b[0m \u001b[1m0s\u001b[0m 25ms/step\n",
      "\u001b[1m3/3\u001b[0m \u001b[32m━━━━━━━━━━━━━━━━━━━━\u001b[0m\u001b[37m\u001b[0m \u001b[1m0s\u001b[0m 24ms/step\n",
      "\u001b[1m6/6\u001b[0m \u001b[32m━━━━━━━━━━━━━━━━━━━━\u001b[0m\u001b[37m\u001b[0m \u001b[1m0s\u001b[0m 5ms/step \n",
      "\u001b[1m6/6\u001b[0m \u001b[32m━━━━━━━━━━━━━━━━━━━━\u001b[0m\u001b[37m\u001b[0m \u001b[1m0s\u001b[0m 5ms/step \n",
      "\n",
      "\n",
      "--- Testing Configuration: 1:{'name': 'Model 3', 'layers': [16, 8], 'dropout': 0.07, 'lr': 0.0005, 'batch_size': 32} ---\n"
     ]
    },
    {
     "name": "stderr",
     "output_type": "stream",
     "text": [
      "Epochs:  21%|██▏       | 107/500 [00:15<00:55,  7.03epoch/s, loss=0.7457, val_loss=0.5245] \n",
      "Epochs:  25%|██▍       | 123/500 [00:16<00:51,  7.31epoch/s, loss=0.4208, val_loss=0.4384]\n"
     ]
    },
    {
     "name": "stdout",
     "output_type": "stream",
     "text": [
      "\u001b[1m3/3\u001b[0m \u001b[32m━━━━━━━━━━━━━━━━━━━━\u001b[0m\u001b[37m\u001b[0m \u001b[1m0s\u001b[0m 19ms/step\n",
      "\u001b[1m3/3\u001b[0m \u001b[32m━━━━━━━━━━━━━━━━━━━━\u001b[0m\u001b[37m\u001b[0m \u001b[1m0s\u001b[0m 21ms/step\n",
      "\u001b[1m6/6\u001b[0m \u001b[32m━━━━━━━━━━━━━━━━━━━━\u001b[0m\u001b[37m\u001b[0m \u001b[1m0s\u001b[0m 4ms/step \n",
      "\u001b[1m6/6\u001b[0m \u001b[32m━━━━━━━━━━━━━━━━━━━━\u001b[0m\u001b[37m\u001b[0m \u001b[1m0s\u001b[0m 5ms/step \n",
      "\n",
      "\n",
      "--- Experiment Results Summary ---\n",
      "      name   layers  dropout      lr  batch_size      PICP       MPIW\n",
      "0  Model 1  [16, 8]     0.09  0.0005          32  0.958333  30.155779\n",
      "1  Model 3  [16, 8]     0.07  0.0005          32  0.952381  30.428223\n",
      "---------- SEED: 2024 ----------\n",
      "\n",
      "--- Testing Configuration: 0:{'name': 'Model 1', 'layers': [16, 8], 'dropout': 0.09, 'lr': 0.0005, 'batch_size': 32} ---\n"
     ]
    },
    {
     "name": "stderr",
     "output_type": "stream",
     "text": [
      "Epochs:  23%|██▎       | 115/500 [00:16<00:54,  7.05epoch/s, loss=0.6646, val_loss=0.6004] \n",
      "Epochs:  16%|█▌        | 80/500 [00:11<00:58,  7.14epoch/s, loss=0.4493, val_loss=0.4821]\n"
     ]
    },
    {
     "name": "stdout",
     "output_type": "stream",
     "text": [
      "\u001b[1m3/3\u001b[0m \u001b[32m━━━━━━━━━━━━━━━━━━━━\u001b[0m\u001b[37m\u001b[0m \u001b[1m0s\u001b[0m 33ms/step\n",
      "\u001b[1m3/3\u001b[0m \u001b[32m━━━━━━━━━━━━━━━━━━━━\u001b[0m\u001b[37m\u001b[0m \u001b[1m0s\u001b[0m 25ms/step\n",
      "\u001b[1m6/6\u001b[0m \u001b[32m━━━━━━━━━━━━━━━━━━━━\u001b[0m\u001b[37m\u001b[0m \u001b[1m0s\u001b[0m 5ms/step \n",
      "\u001b[1m6/6\u001b[0m \u001b[32m━━━━━━━━━━━━━━━━━━━━\u001b[0m\u001b[37m\u001b[0m \u001b[1m0s\u001b[0m 7ms/step \n",
      "\n",
      "\n",
      "--- Testing Configuration: 1:{'name': 'Model 3', 'layers': [16, 8], 'dropout': 0.07, 'lr': 0.0005, 'batch_size': 32} ---\n"
     ]
    },
    {
     "name": "stderr",
     "output_type": "stream",
     "text": [
      "Epochs:  23%|██▎       | 114/500 [00:16<00:54,  7.09epoch/s, loss=0.7292, val_loss=0.5824] \n",
      "Epochs:  14%|█▍        | 72/500 [00:10<01:01,  6.96epoch/s, loss=0.4164, val_loss=0.4695]\n"
     ]
    },
    {
     "name": "stdout",
     "output_type": "stream",
     "text": [
      "\u001b[1m3/3\u001b[0m \u001b[32m━━━━━━━━━━━━━━━━━━━━\u001b[0m\u001b[37m\u001b[0m \u001b[1m0s\u001b[0m 29ms/step\n",
      "\u001b[1m3/3\u001b[0m \u001b[32m━━━━━━━━━━━━━━━━━━━━\u001b[0m\u001b[37m\u001b[0m \u001b[1m0s\u001b[0m 26ms/step\n",
      "\u001b[1m6/6\u001b[0m \u001b[32m━━━━━━━━━━━━━━━━━━━━\u001b[0m\u001b[37m\u001b[0m \u001b[1m0s\u001b[0m 5ms/step \n",
      "\u001b[1m6/6\u001b[0m \u001b[32m━━━━━━━━━━━━━━━━━━━━\u001b[0m\u001b[37m\u001b[0m \u001b[1m0s\u001b[0m 5ms/step \n",
      "\n",
      "\n",
      "--- Experiment Results Summary ---\n",
      "      name   layers  dropout      lr  batch_size      PICP       MPIW\n",
      "0  Model 1  [16, 8]     0.09  0.0005          32  0.946429  35.182964\n",
      "1  Model 3  [16, 8]     0.07  0.0005          32  0.946429  35.425026\n"
     ]
    }
   ],
   "source": [
    "random_seeds = [42, 123, 888, 1337, 2024]\n",
    "configs = [\n",
    "    {'name': 'Model 1', 'layers': [16, 8], 'dropout': 0.09, 'lr': 0.0005, 'batch_size': 32},\n",
    "    {'name': 'Model 3', 'layers': [16, 8], 'dropout': 0.07, 'lr': 0.0005, 'batch_size': 32},\n",
    "]\n",
    "\n",
    "result_dfs = []\n",
    "\n",
    "for seed in random_seeds:\n",
    "    print(f\"---------- SEED: {seed} ----------\")\n",
    "    result_dfs.append(fine_tune(param_grid=configs, random_seed=seed))"
   ]
  },
  {
   "cell_type": "code",
   "execution_count": 16,
   "id": "400c3023",
   "metadata": {},
   "outputs": [],
   "source": [
    "for result_df, seed in zip(result_dfs, random_seeds):\n",
    "    result_df['Seed'] = [seed] * len(result_df)"
   ]
  },
  {
   "cell_type": "code",
   "execution_count": 18,
   "id": "350a0d17",
   "metadata": {},
   "outputs": [
    {
     "name": "stdout",
     "output_type": "stream",
     "text": [
      "\n",
      "\n",
      "--- Final Averaged Performance Summary ---\n",
      "      name  avg_PICP  std_PICP   avg_MPIW  std_MPIW  meets_constraint\n",
      "0  Model 1    0.9536    0.0098  33.290699    1.9399              True\n",
      "1  Model 3    0.9500    0.0068  33.655701    2.1470              True\n"
     ]
    }
   ],
   "source": [
    "all_results = pd.concat(result_dfs, ignore_index=True)\n",
    "\n",
    "# Group by the model's name to analyze its performance across seeds\n",
    "summary_df = all_results.groupby('name').agg(\n",
    "    avg_PICP=('PICP', 'mean'),\n",
    "    std_PICP=('PICP', 'std'),\n",
    "    avg_MPIW=('MPIW', 'mean'),\n",
    "    std_MPIW=('MPIW', 'std')\n",
    ").reset_index()\n",
    "\n",
    "# Add a column to check if the average performance meets the constraint\n",
    "summary_df['meets_constraint'] = summary_df['avg_PICP'] >= 0.95\n",
    "\n",
    "print(\"\\n\\n--- Final Averaged Performance Summary ---\")\n",
    "print(summary_df.round(4))"
   ]
  },
  {
   "cell_type": "code",
   "execution_count": 23,
   "id": "fc5c9836",
   "metadata": {},
   "outputs": [
    {
     "data": {
      "text/html": [
       "<div>\n",
       "<style scoped>\n",
       "    .dataframe tbody tr th:only-of-type {\n",
       "        vertical-align: middle;\n",
       "    }\n",
       "\n",
       "    .dataframe tbody tr th {\n",
       "        vertical-align: top;\n",
       "    }\n",
       "\n",
       "    .dataframe thead th {\n",
       "        text-align: right;\n",
       "    }\n",
       "</style>\n",
       "<table border=\"1\" class=\"dataframe\">\n",
       "  <thead>\n",
       "    <tr style=\"text-align: right;\">\n",
       "      <th></th>\n",
       "      <th>name</th>\n",
       "      <th>layers</th>\n",
       "      <th>dropout</th>\n",
       "      <th>lr</th>\n",
       "      <th>batch_size</th>\n",
       "      <th>PICP</th>\n",
       "      <th>MPIW</th>\n",
       "      <th>Seed</th>\n",
       "    </tr>\n",
       "  </thead>\n",
       "  <tbody>\n",
       "    <tr>\n",
       "      <th>0</th>\n",
       "      <td>Model 1</td>\n",
       "      <td>[16, 8]</td>\n",
       "      <td>0.09</td>\n",
       "      <td>0.0005</td>\n",
       "      <td>32</td>\n",
       "      <td>0.964286</td>\n",
       "      <td>33.965977</td>\n",
       "      <td>42</td>\n",
       "    </tr>\n",
       "    <tr>\n",
       "      <th>1</th>\n",
       "      <td>Model 3</td>\n",
       "      <td>[16, 8]</td>\n",
       "      <td>0.07</td>\n",
       "      <td>0.0005</td>\n",
       "      <td>32</td>\n",
       "      <td>0.958333</td>\n",
       "      <td>33.643951</td>\n",
       "      <td>42</td>\n",
       "    </tr>\n",
       "    <tr>\n",
       "      <th>2</th>\n",
       "      <td>Model 1</td>\n",
       "      <td>[16, 8]</td>\n",
       "      <td>0.09</td>\n",
       "      <td>0.0005</td>\n",
       "      <td>32</td>\n",
       "      <td>0.940476</td>\n",
       "      <td>34.290947</td>\n",
       "      <td>123</td>\n",
       "    </tr>\n",
       "    <tr>\n",
       "      <th>3</th>\n",
       "      <td>Model 3</td>\n",
       "      <td>[16, 8]</td>\n",
       "      <td>0.07</td>\n",
       "      <td>0.0005</td>\n",
       "      <td>32</td>\n",
       "      <td>0.940476</td>\n",
       "      <td>35.771069</td>\n",
       "      <td>123</td>\n",
       "    </tr>\n",
       "    <tr>\n",
       "      <th>4</th>\n",
       "      <td>Model 1</td>\n",
       "      <td>[16, 8]</td>\n",
       "      <td>0.09</td>\n",
       "      <td>0.0005</td>\n",
       "      <td>32</td>\n",
       "      <td>0.958333</td>\n",
       "      <td>32.857838</td>\n",
       "      <td>888</td>\n",
       "    </tr>\n",
       "    <tr>\n",
       "      <th>5</th>\n",
       "      <td>Model 3</td>\n",
       "      <td>[16, 8]</td>\n",
       "      <td>0.07</td>\n",
       "      <td>0.0005</td>\n",
       "      <td>32</td>\n",
       "      <td>0.952381</td>\n",
       "      <td>33.010201</td>\n",
       "      <td>888</td>\n",
       "    </tr>\n",
       "    <tr>\n",
       "      <th>6</th>\n",
       "      <td>Model 1</td>\n",
       "      <td>[16, 8]</td>\n",
       "      <td>0.09</td>\n",
       "      <td>0.0005</td>\n",
       "      <td>32</td>\n",
       "      <td>0.958333</td>\n",
       "      <td>30.155779</td>\n",
       "      <td>1337</td>\n",
       "    </tr>\n",
       "    <tr>\n",
       "      <th>7</th>\n",
       "      <td>Model 3</td>\n",
       "      <td>[16, 8]</td>\n",
       "      <td>0.07</td>\n",
       "      <td>0.0005</td>\n",
       "      <td>32</td>\n",
       "      <td>0.952381</td>\n",
       "      <td>30.428223</td>\n",
       "      <td>1337</td>\n",
       "    </tr>\n",
       "    <tr>\n",
       "      <th>8</th>\n",
       "      <td>Model 1</td>\n",
       "      <td>[16, 8]</td>\n",
       "      <td>0.09</td>\n",
       "      <td>0.0005</td>\n",
       "      <td>32</td>\n",
       "      <td>0.946429</td>\n",
       "      <td>35.182964</td>\n",
       "      <td>2024</td>\n",
       "    </tr>\n",
       "    <tr>\n",
       "      <th>9</th>\n",
       "      <td>Model 3</td>\n",
       "      <td>[16, 8]</td>\n",
       "      <td>0.07</td>\n",
       "      <td>0.0005</td>\n",
       "      <td>32</td>\n",
       "      <td>0.946429</td>\n",
       "      <td>35.425026</td>\n",
       "      <td>2024</td>\n",
       "    </tr>\n",
       "  </tbody>\n",
       "</table>\n",
       "</div>"
      ],
      "text/plain": [
       "      name   layers  dropout      lr  batch_size      PICP       MPIW  Seed\n",
       "0  Model 1  [16, 8]     0.09  0.0005          32  0.964286  33.965977    42\n",
       "1  Model 3  [16, 8]     0.07  0.0005          32  0.958333  33.643951    42\n",
       "2  Model 1  [16, 8]     0.09  0.0005          32  0.940476  34.290947   123\n",
       "3  Model 3  [16, 8]     0.07  0.0005          32  0.940476  35.771069   123\n",
       "4  Model 1  [16, 8]     0.09  0.0005          32  0.958333  32.857838   888\n",
       "5  Model 3  [16, 8]     0.07  0.0005          32  0.952381  33.010201   888\n",
       "6  Model 1  [16, 8]     0.09  0.0005          32  0.958333  30.155779  1337\n",
       "7  Model 3  [16, 8]     0.07  0.0005          32  0.952381  30.428223  1337\n",
       "8  Model 1  [16, 8]     0.09  0.0005          32  0.946429  35.182964  2024\n",
       "9  Model 3  [16, 8]     0.07  0.0005          32  0.946429  35.425026  2024"
      ]
     },
     "execution_count": 23,
     "metadata": {},
     "output_type": "execute_result"
    }
   ],
   "source": [
    "all_results"
   ]
  },
  {
   "cell_type": "markdown",
   "id": "cfaaf729",
   "metadata": {},
   "source": [
    "# Exhaustive Search"
   ]
  },
  {
   "cell_type": "code",
   "execution_count": 19,
   "id": "9b6b7127",
   "metadata": {},
   "outputs": [
    {
     "name": "stdout",
     "output_type": "stream",
     "text": [
      "Generated 72 parameter combinations to test.\n"
     ]
    }
   ],
   "source": [
    "import itertools\n",
    "\n",
    "architectures = [\n",
    "    [2], [4], [8], [16], [4, 2], [8, 4]\n",
    "]\n",
    "\n",
    "dropout_rates = [0.0, 0.1, 0.2]\n",
    "\n",
    "learning_rates = [0.001, 0.0005]\n",
    "\n",
    "batch_sizes = [16, 32]\n",
    "\n",
    "param_grid = []\n",
    "param_combinations = itertools.product(architectures, dropout_rates, learning_rates, batch_sizes)\n",
    "\n",
    "for combo in param_combinations:\n",
    "    param_grid.append({\n",
    "        'layers': combo[0],\n",
    "        'dropout': combo[1],\n",
    "        'lr': combo[2],\n",
    "        'batch_size': combo[3]\n",
    "    })\n",
    "\n",
    "# This will generate 6 * 3 * 2 * 2 = 72 experiments, which is a very thorough search.\n",
    "print(f\"Generated {len(param_grid)} parameter combinations to test.\")"
   ]
  },
  {
   "cell_type": "code",
   "execution_count": 20,
   "id": "b60d4aed",
   "metadata": {},
   "outputs": [
    {
     "name": "stdout",
     "output_type": "stream",
     "text": [
      "\n",
      "--- Testing Configuration: 0:{'layers': [2], 'dropout': 0.0, 'lr': 0.001, 'batch_size': 16} ---\n"
     ]
    },
    {
     "name": "stderr",
     "output_type": "stream",
     "text": [
      "Epochs:  75%|███████▌  | 377/500 [00:37<00:12, 10.07epoch/s, loss=0.4812, val_loss=0.5863]\n",
      "Epochs: 100%|██████████| 500/500 [00:48<00:00, 10.25epoch/s, loss=0.4260, val_loss=0.4056]\n"
     ]
    },
    {
     "name": "stdout",
     "output_type": "stream",
     "text": [
      "\u001b[1m3/3\u001b[0m \u001b[32m━━━━━━━━━━━━━━━━━━━━\u001b[0m\u001b[37m\u001b[0m \u001b[1m0s\u001b[0m 14ms/step\n",
      "\u001b[1m3/3\u001b[0m \u001b[32m━━━━━━━━━━━━━━━━━━━━\u001b[0m\u001b[37m\u001b[0m \u001b[1m0s\u001b[0m 13ms/step\n",
      "\u001b[1m6/6\u001b[0m \u001b[32m━━━━━━━━━━━━━━━━━━━━\u001b[0m\u001b[37m\u001b[0m \u001b[1m0s\u001b[0m 3ms/step \n",
      "\u001b[1m6/6\u001b[0m \u001b[32m━━━━━━━━━━━━━━━━━━━━\u001b[0m\u001b[37m\u001b[0m \u001b[1m0s\u001b[0m 3ms/step \n",
      "\n",
      "\n",
      "--- Testing Configuration: 1:{'layers': [2], 'dropout': 0.0, 'lr': 0.001, 'batch_size': 32} ---\n"
     ]
    },
    {
     "name": "stderr",
     "output_type": "stream",
     "text": [
      "Epochs: 100%|██████████| 500/500 [00:40<00:00, 12.34epoch/s, loss=18.2584, val_loss=18.5029]\n",
      "Epochs:  37%|███▋      | 187/500 [00:15<00:25, 12.18epoch/s, loss=0.4289, val_loss=0.4074]\n"
     ]
    },
    {
     "name": "stdout",
     "output_type": "stream",
     "text": [
      "\u001b[1m3/3\u001b[0m \u001b[32m━━━━━━━━━━━━━━━━━━━━\u001b[0m\u001b[37m\u001b[0m \u001b[1m0s\u001b[0m 15ms/step\n",
      "\u001b[1m3/3\u001b[0m \u001b[32m━━━━━━━━━━━━━━━━━━━━\u001b[0m\u001b[37m\u001b[0m \u001b[1m0s\u001b[0m 13ms/step\n",
      "\u001b[1m6/6\u001b[0m \u001b[32m━━━━━━━━━━━━━━━━━━━━\u001b[0m\u001b[37m\u001b[0m \u001b[1m0s\u001b[0m 3ms/step \n",
      "\u001b[1m6/6\u001b[0m \u001b[32m━━━━━━━━━━━━━━━━━━━━\u001b[0m\u001b[37m\u001b[0m \u001b[1m0s\u001b[0m 3ms/step \n",
      "\n",
      "\n",
      "--- Testing Configuration: 2:{'layers': [2], 'dropout': 0.0, 'lr': 0.0005, 'batch_size': 16} ---\n"
     ]
    },
    {
     "name": "stderr",
     "output_type": "stream",
     "text": [
      "Epochs: 100%|██████████| 500/500 [00:49<00:00, 10.01epoch/s, loss=0.4823, val_loss=0.5881]\n",
      "Epochs: 100%|██████████| 500/500 [00:49<00:00, 10.13epoch/s, loss=0.4283, val_loss=0.4052]"
     ]
    },
    {
     "name": "stdout",
     "output_type": "stream",
     "text": [
      "\u001b[1m3/3\u001b[0m \u001b[32m━━━━━━━━━━━━━━━━━━━━\u001b[0m\u001b[37m\u001b[0m \u001b[1m0s\u001b[0m 15ms/step\n"
     ]
    },
    {
     "name": "stderr",
     "output_type": "stream",
     "text": [
      "\n"
     ]
    },
    {
     "name": "stdout",
     "output_type": "stream",
     "text": [
      "\u001b[1m3/3\u001b[0m \u001b[32m━━━━━━━━━━━━━━━━━━━━\u001b[0m\u001b[37m\u001b[0m \u001b[1m0s\u001b[0m 16ms/step\n",
      "\u001b[1m6/6\u001b[0m \u001b[32m━━━━━━━━━━━━━━━━━━━━\u001b[0m\u001b[37m\u001b[0m \u001b[1m0s\u001b[0m 3ms/step \n",
      "\u001b[1m6/6\u001b[0m \u001b[32m━━━━━━━━━━━━━━━━━━━━\u001b[0m\u001b[37m\u001b[0m \u001b[1m0s\u001b[0m 3ms/step \n",
      "\n",
      "\n",
      "--- Testing Configuration: 3:{'layers': [2], 'dropout': 0.0, 'lr': 0.0005, 'batch_size': 32} ---\n"
     ]
    },
    {
     "name": "stderr",
     "output_type": "stream",
     "text": [
      "Epochs: 100%|██████████| 500/500 [00:40<00:00, 12.31epoch/s, loss=0.5073, val_loss=0.5972]\n",
      "Epochs: 100%|██████████| 500/500 [00:40<00:00, 12.46epoch/s, loss=0.4285, val_loss=0.4066]\n"
     ]
    },
    {
     "name": "stdout",
     "output_type": "stream",
     "text": [
      "\u001b[1m3/3\u001b[0m \u001b[32m━━━━━━━━━━━━━━━━━━━━\u001b[0m\u001b[37m\u001b[0m \u001b[1m0s\u001b[0m 13ms/step\n",
      "\u001b[1m3/3\u001b[0m \u001b[32m━━━━━━━━━━━━━━━━━━━━\u001b[0m\u001b[37m\u001b[0m \u001b[1m0s\u001b[0m 12ms/step\n",
      "\u001b[1m6/6\u001b[0m \u001b[32m━━━━━━━━━━━━━━━━━━━━\u001b[0m\u001b[37m\u001b[0m \u001b[1m0s\u001b[0m 3ms/step \n",
      "\u001b[1m6/6\u001b[0m \u001b[32m━━━━━━━━━━━━━━━━━━━━\u001b[0m\u001b[37m\u001b[0m \u001b[1m0s\u001b[0m 3ms/step \n",
      "\n",
      "\n",
      "--- Testing Configuration: 4:{'layers': [2], 'dropout': 0.1, 'lr': 0.001, 'batch_size': 16} ---\n"
     ]
    },
    {
     "name": "stderr",
     "output_type": "stream",
     "text": [
      "Epochs: 100%|██████████| 500/500 [00:50<00:00,  9.97epoch/s, loss=2.3837, val_loss=0.6736]\n",
      "Epochs:  21%|██        | 104/500 [00:10<00:41,  9.61epoch/s, loss=0.4595, val_loss=0.4205]"
     ]
    },
    {
     "name": "stdout",
     "output_type": "stream",
     "text": [
      "\u001b[1m3/3\u001b[0m \u001b[32m━━━━━━━━━━━━━━━━━━━━\u001b[0m\u001b[37m\u001b[0m \u001b[1m0s\u001b[0m 14ms/step\n"
     ]
    },
    {
     "name": "stderr",
     "output_type": "stream",
     "text": [
      "\n"
     ]
    },
    {
     "name": "stdout",
     "output_type": "stream",
     "text": [
      "\u001b[1m3/3\u001b[0m \u001b[32m━━━━━━━━━━━━━━━━━━━━\u001b[0m\u001b[37m\u001b[0m \u001b[1m0s\u001b[0m 14ms/step\n",
      "\u001b[1m6/6\u001b[0m \u001b[32m━━━━━━━━━━━━━━━━━━━━\u001b[0m\u001b[37m\u001b[0m \u001b[1m0s\u001b[0m 3ms/step \n",
      "\u001b[1m6/6\u001b[0m \u001b[32m━━━━━━━━━━━━━━━━━━━━\u001b[0m\u001b[37m\u001b[0m \u001b[1m0s\u001b[0m 3ms/step \n",
      "\n",
      "\n",
      "--- Testing Configuration: 5:{'layers': [2], 'dropout': 0.1, 'lr': 0.001, 'batch_size': 32} ---\n"
     ]
    },
    {
     "name": "stderr",
     "output_type": "stream",
     "text": [
      "Epochs: 100%|██████████| 500/500 [00:41<00:00, 12.15epoch/s, loss=18.2584, val_loss=18.5028]\n",
      "Epochs: 100%|██████████| 500/500 [00:40<00:00, 12.20epoch/s, loss=0.4730, val_loss=0.4768]\n"
     ]
    },
    {
     "name": "stdout",
     "output_type": "stream",
     "text": [
      "\u001b[1m3/3\u001b[0m \u001b[32m━━━━━━━━━━━━━━━━━━━━\u001b[0m\u001b[37m\u001b[0m \u001b[1m0s\u001b[0m 13ms/step\n",
      "\u001b[1m3/3\u001b[0m \u001b[32m━━━━━━━━━━━━━━━━━━━━\u001b[0m\u001b[37m\u001b[0m \u001b[1m0s\u001b[0m 15ms/step\n",
      "\u001b[1m6/6\u001b[0m \u001b[32m━━━━━━━━━━━━━━━━━━━━\u001b[0m\u001b[37m\u001b[0m \u001b[1m0s\u001b[0m 3ms/step \n",
      "\u001b[1m6/6\u001b[0m \u001b[32m━━━━━━━━━━━━━━━━━━━━\u001b[0m\u001b[37m\u001b[0m \u001b[1m0s\u001b[0m 3ms/step \n",
      "\n",
      "\n",
      "--- Testing Configuration: 6:{'layers': [2], 'dropout': 0.1, 'lr': 0.0005, 'batch_size': 16} ---\n"
     ]
    },
    {
     "name": "stderr",
     "output_type": "stream",
     "text": [
      "Epochs: 100%|██████████| 500/500 [00:50<00:00,  9.88epoch/s, loss=2.7429, val_loss=0.6855]\n",
      "Epochs:  83%|████████▎ | 415/500 [00:41<00:08, 10.00epoch/s, loss=0.4561, val_loss=0.4193]\n"
     ]
    },
    {
     "name": "stdout",
     "output_type": "stream",
     "text": [
      "\u001b[1m3/3\u001b[0m \u001b[32m━━━━━━━━━━━━━━━━━━━━\u001b[0m\u001b[37m\u001b[0m \u001b[1m0s\u001b[0m 13ms/step\n",
      "\u001b[1m3/3\u001b[0m \u001b[32m━━━━━━━━━━━━━━━━━━━━\u001b[0m\u001b[37m\u001b[0m \u001b[1m0s\u001b[0m 13ms/step\n",
      "\u001b[1m6/6\u001b[0m \u001b[32m━━━━━━━━━━━━━━━━━━━━\u001b[0m\u001b[37m\u001b[0m \u001b[1m0s\u001b[0m 3ms/step \n",
      "\u001b[1m6/6\u001b[0m \u001b[32m━━━━━━━━━━━━━━━━━━━━\u001b[0m\u001b[37m\u001b[0m \u001b[1m0s\u001b[0m 3ms/step \n",
      "\n",
      "\n",
      "--- Testing Configuration: 7:{'layers': [2], 'dropout': 0.1, 'lr': 0.0005, 'batch_size': 32} ---\n"
     ]
    },
    {
     "name": "stderr",
     "output_type": "stream",
     "text": [
      "Epochs: 100%|██████████| 500/500 [00:40<00:00, 12.23epoch/s, loss=22.1492, val_loss=22.4000]\n",
      "Epochs: 100%|██████████| 500/500 [00:40<00:00, 12.28epoch/s, loss=0.5679, val_loss=0.5744]\n"
     ]
    },
    {
     "name": "stdout",
     "output_type": "stream",
     "text": [
      "\u001b[1m3/3\u001b[0m \u001b[32m━━━━━━━━━━━━━━━━━━━━\u001b[0m\u001b[37m\u001b[0m \u001b[1m0s\u001b[0m 15ms/step\n",
      "\u001b[1m3/3\u001b[0m \u001b[32m━━━━━━━━━━━━━━━━━━━━\u001b[0m\u001b[37m\u001b[0m \u001b[1m0s\u001b[0m 15ms/step\n",
      "\u001b[1m6/6\u001b[0m \u001b[32m━━━━━━━━━━━━━━━━━━━━\u001b[0m\u001b[37m\u001b[0m \u001b[1m0s\u001b[0m 3ms/step \n",
      "\u001b[1m6/6\u001b[0m \u001b[32m━━━━━━━━━━━━━━━━━━━━\u001b[0m\u001b[37m\u001b[0m \u001b[1m0s\u001b[0m 3ms/step \n",
      "\n",
      "\n",
      "--- Testing Configuration: 8:{'layers': [2], 'dropout': 0.2, 'lr': 0.001, 'batch_size': 16} ---\n"
     ]
    },
    {
     "name": "stderr",
     "output_type": "stream",
     "text": [
      "Epochs:  29%|██▉       | 145/500 [00:14<00:36,  9.67epoch/s, loss=1.8767, val_loss=0.6743]\n",
      "Epochs:  52%|█████▏    | 259/500 [00:25<00:24, 10.00epoch/s, loss=0.4675, val_loss=0.4327]"
     ]
    },
    {
     "name": "stdout",
     "output_type": "stream",
     "text": [
      "\u001b[1m1/3\u001b[0m \u001b[32m━━━━━━\u001b[0m\u001b[37m━━━━━━━━━━━━━━\u001b[0m \u001b[1m0s\u001b[0m 31ms/step"
     ]
    },
    {
     "name": "stderr",
     "output_type": "stream",
     "text": [
      "\n"
     ]
    },
    {
     "name": "stdout",
     "output_type": "stream",
     "text": [
      "\u001b[1m3/3\u001b[0m \u001b[32m━━━━━━━━━━━━━━━━━━━━\u001b[0m\u001b[37m\u001b[0m \u001b[1m0s\u001b[0m 16ms/step\n",
      "\u001b[1m3/3\u001b[0m \u001b[32m━━━━━━━━━━━━━━━━━━━━\u001b[0m\u001b[37m\u001b[0m \u001b[1m0s\u001b[0m 17ms/step\n",
      "\u001b[1m6/6\u001b[0m \u001b[32m━━━━━━━━━━━━━━━━━━━━\u001b[0m\u001b[37m\u001b[0m \u001b[1m0s\u001b[0m 3ms/step \n",
      "\u001b[1m6/6\u001b[0m \u001b[32m━━━━━━━━━━━━━━━━━━━━\u001b[0m\u001b[37m\u001b[0m \u001b[1m0s\u001b[0m 3ms/step \n",
      "\n",
      "\n",
      "--- Testing Configuration: 9:{'layers': [2], 'dropout': 0.2, 'lr': 0.001, 'batch_size': 32} ---\n"
     ]
    },
    {
     "name": "stderr",
     "output_type": "stream",
     "text": [
      "Epochs: 100%|██████████| 500/500 [00:41<00:00, 12.19epoch/s, loss=4.8005, val_loss=1.0185]\n",
      "Epochs:  42%|████▏     | 210/500 [00:17<00:23, 12.13epoch/s, loss=0.4658, val_loss=0.4332]\n"
     ]
    },
    {
     "name": "stdout",
     "output_type": "stream",
     "text": [
      "\u001b[1m3/3\u001b[0m \u001b[32m━━━━━━━━━━━━━━━━━━━━\u001b[0m\u001b[37m\u001b[0m \u001b[1m0s\u001b[0m 14ms/step\n",
      "\u001b[1m3/3\u001b[0m \u001b[32m━━━━━━━━━━━━━━━━━━━━\u001b[0m\u001b[37m\u001b[0m \u001b[1m0s\u001b[0m 13ms/step\n",
      "\u001b[1m6/6\u001b[0m \u001b[32m━━━━━━━━━━━━━━━━━━━━\u001b[0m\u001b[37m\u001b[0m \u001b[1m0s\u001b[0m 3ms/step \n",
      "\u001b[1m6/6\u001b[0m \u001b[32m━━━━━━━━━━━━━━━━━━━━\u001b[0m\u001b[37m\u001b[0m \u001b[1m0s\u001b[0m 3ms/step \n",
      "\n",
      "\n",
      "--- Testing Configuration: 10:{'layers': [2], 'dropout': 0.2, 'lr': 0.0005, 'batch_size': 16} ---\n"
     ]
    },
    {
     "name": "stderr",
     "output_type": "stream",
     "text": [
      "Epochs:  45%|████▌     | 225/500 [00:23<00:28,  9.73epoch/s, loss=1.9957, val_loss=0.6349]\n",
      "Epochs: 100%|██████████| 500/500 [00:50<00:00,  9.94epoch/s, loss=0.4735, val_loss=0.4774]"
     ]
    },
    {
     "name": "stdout",
     "output_type": "stream",
     "text": [
      "\u001b[1m3/3\u001b[0m \u001b[32m━━━━━━━━━━━━━━━━━━━━\u001b[0m\u001b[37m\u001b[0m \u001b[1m0s\u001b[0m 16ms/step\n"
     ]
    },
    {
     "name": "stderr",
     "output_type": "stream",
     "text": [
      "\n"
     ]
    },
    {
     "name": "stdout",
     "output_type": "stream",
     "text": [
      "\u001b[1m3/3\u001b[0m \u001b[32m━━━━━━━━━━━━━━━━━━━━\u001b[0m\u001b[37m\u001b[0m \u001b[1m0s\u001b[0m 14ms/step\n",
      "\u001b[1m6/6\u001b[0m \u001b[32m━━━━━━━━━━━━━━━━━━━━\u001b[0m\u001b[37m\u001b[0m \u001b[1m0s\u001b[0m 3ms/step \n",
      "\u001b[1m6/6\u001b[0m \u001b[32m━━━━━━━━━━━━━━━━━━━━\u001b[0m\u001b[37m\u001b[0m \u001b[1m0s\u001b[0m 3ms/step \n",
      "\n",
      "\n",
      "--- Testing Configuration: 11:{'layers': [2], 'dropout': 0.2, 'lr': 0.0005, 'batch_size': 32} ---\n"
     ]
    },
    {
     "name": "stderr",
     "output_type": "stream",
     "text": [
      "Epochs: 100%|██████████| 500/500 [00:41<00:00, 12.11epoch/s, loss=4.6191, val_loss=1.0500]\n",
      "Epochs:  68%|██████▊   | 339/500 [00:27<00:13, 12.20epoch/s, loss=0.4864, val_loss=0.4482]\n"
     ]
    },
    {
     "name": "stdout",
     "output_type": "stream",
     "text": [
      "\u001b[1m3/3\u001b[0m \u001b[32m━━━━━━━━━━━━━━━━━━━━\u001b[0m\u001b[37m\u001b[0m \u001b[1m0s\u001b[0m 15ms/step\n",
      "\u001b[1m3/3\u001b[0m \u001b[32m━━━━━━━━━━━━━━━━━━━━\u001b[0m\u001b[37m\u001b[0m \u001b[1m0s\u001b[0m 13ms/step\n",
      "\u001b[1m6/6\u001b[0m \u001b[32m━━━━━━━━━━━━━━━━━━━━\u001b[0m\u001b[37m\u001b[0m \u001b[1m0s\u001b[0m 3ms/step \n",
      "\u001b[1m6/6\u001b[0m \u001b[32m━━━━━━━━━━━━━━━━━━━━\u001b[0m\u001b[37m\u001b[0m \u001b[1m0s\u001b[0m 3ms/step \n",
      "\n",
      "\n",
      "--- Testing Configuration: 12:{'layers': [4], 'dropout': 0.0, 'lr': 0.001, 'batch_size': 16} ---\n"
     ]
    },
    {
     "name": "stderr",
     "output_type": "stream",
     "text": [
      "Epochs:  46%|████▌     | 229/500 [00:23<00:27,  9.79epoch/s, loss=0.4912, val_loss=0.5873]\n",
      "Epochs:  80%|████████  | 400/500 [00:40<00:10,  9.99epoch/s, loss=0.4232, val_loss=0.4042]"
     ]
    },
    {
     "name": "stdout",
     "output_type": "stream",
     "text": [
      "\u001b[1m3/3\u001b[0m \u001b[32m━━━━━━━━━━━━━━━━━━━━\u001b[0m\u001b[37m\u001b[0m \u001b[1m0s\u001b[0m 16ms/step\n"
     ]
    },
    {
     "name": "stderr",
     "output_type": "stream",
     "text": [
      "\n"
     ]
    },
    {
     "name": "stdout",
     "output_type": "stream",
     "text": [
      "\u001b[1m3/3\u001b[0m \u001b[32m━━━━━━━━━━━━━━━━━━━━\u001b[0m\u001b[37m\u001b[0m \u001b[1m0s\u001b[0m 15ms/step\n",
      "\u001b[1m6/6\u001b[0m \u001b[32m━━━━━━━━━━━━━━━━━━━━\u001b[0m\u001b[37m\u001b[0m \u001b[1m0s\u001b[0m 3ms/step \n",
      "\u001b[1m6/6\u001b[0m \u001b[32m━━━━━━━━━━━━━━━━━━━━\u001b[0m\u001b[37m\u001b[0m \u001b[1m0s\u001b[0m 3ms/step \n",
      "\n",
      "\n",
      "--- Testing Configuration: 13:{'layers': [4], 'dropout': 0.0, 'lr': 0.001, 'batch_size': 32} ---\n"
     ]
    },
    {
     "name": "stderr",
     "output_type": "stream",
     "text": [
      "Epochs: 100%|█████████▉| 499/500 [00:40<00:00, 12.19epoch/s, loss=0.4805, val_loss=0.5916]\n",
      "Epochs:  27%|██▋       | 137/500 [00:11<00:30, 12.08epoch/s, loss=0.4279, val_loss=0.4077]\n"
     ]
    },
    {
     "name": "stdout",
     "output_type": "stream",
     "text": [
      "\u001b[1m3/3\u001b[0m \u001b[32m━━━━━━━━━━━━━━━━━━━━\u001b[0m\u001b[37m\u001b[0m \u001b[1m0s\u001b[0m 15ms/step\n",
      "\u001b[1m3/3\u001b[0m \u001b[32m━━━━━━━━━━━━━━━━━━━━\u001b[0m\u001b[37m\u001b[0m \u001b[1m0s\u001b[0m 12ms/step\n",
      "\u001b[1m6/6\u001b[0m \u001b[32m━━━━━━━━━━━━━━━━━━━━\u001b[0m\u001b[37m\u001b[0m \u001b[1m0s\u001b[0m 3ms/step \n",
      "\u001b[1m6/6\u001b[0m \u001b[32m━━━━━━━━━━━━━━━━━━━━\u001b[0m\u001b[37m\u001b[0m \u001b[1m0s\u001b[0m 3ms/step \n",
      "\n",
      "\n",
      "--- Testing Configuration: 14:{'layers': [4], 'dropout': 0.0, 'lr': 0.0005, 'batch_size': 16} ---\n"
     ]
    },
    {
     "name": "stderr",
     "output_type": "stream",
     "text": [
      "Epochs:  64%|██████▍   | 321/500 [00:32<00:18,  9.91epoch/s, loss=0.4899, val_loss=0.5838]\n",
      "Epochs: 100%|██████████| 500/500 [00:49<00:00, 10.12epoch/s, loss=0.4266, val_loss=0.4047]"
     ]
    },
    {
     "name": "stdout",
     "output_type": "stream",
     "text": [
      "\u001b[1m3/3\u001b[0m \u001b[32m━━━━━━━━━━━━━━━━━━━━\u001b[0m\u001b[37m\u001b[0m \u001b[1m0s\u001b[0m 15ms/step\n"
     ]
    },
    {
     "name": "stderr",
     "output_type": "stream",
     "text": [
      "\n"
     ]
    },
    {
     "name": "stdout",
     "output_type": "stream",
     "text": [
      "\u001b[1m3/3\u001b[0m \u001b[32m━━━━━━━━━━━━━━━━━━━━\u001b[0m\u001b[37m\u001b[0m \u001b[1m0s\u001b[0m 13ms/step\n",
      "\u001b[1m6/6\u001b[0m \u001b[32m━━━━━━━━━━━━━━━━━━━━\u001b[0m\u001b[37m\u001b[0m \u001b[1m0s\u001b[0m 3ms/step \n",
      "\u001b[1m6/6\u001b[0m \u001b[32m━━━━━━━━━━━━━━━━━━━━\u001b[0m\u001b[37m\u001b[0m \u001b[1m0s\u001b[0m 3ms/step \n",
      "\n",
      "\n",
      "--- Testing Configuration: 15:{'layers': [4], 'dropout': 0.0, 'lr': 0.0005, 'batch_size': 32} ---\n"
     ]
    },
    {
     "name": "stderr",
     "output_type": "stream",
     "text": [
      "Epochs: 100%|██████████| 500/500 [00:41<00:00, 12.17epoch/s, loss=0.4916, val_loss=0.5835]\n",
      "Epochs: 100%|██████████| 500/500 [00:40<00:00, 12.32epoch/s, loss=0.4268, val_loss=0.4037]\n"
     ]
    },
    {
     "name": "stdout",
     "output_type": "stream",
     "text": [
      "\u001b[1m3/3\u001b[0m \u001b[32m━━━━━━━━━━━━━━━━━━━━\u001b[0m\u001b[37m\u001b[0m \u001b[1m0s\u001b[0m 14ms/step\n",
      "\u001b[1m3/3\u001b[0m \u001b[32m━━━━━━━━━━━━━━━━━━━━\u001b[0m\u001b[37m\u001b[0m \u001b[1m0s\u001b[0m 13ms/step\n",
      "\u001b[1m6/6\u001b[0m \u001b[32m━━━━━━━━━━━━━━━━━━━━\u001b[0m\u001b[37m\u001b[0m \u001b[1m0s\u001b[0m 3ms/step \n",
      "\u001b[1m6/6\u001b[0m \u001b[32m━━━━━━━━━━━━━━━━━━━━\u001b[0m\u001b[37m\u001b[0m \u001b[1m0s\u001b[0m 3ms/step \n",
      "\n",
      "\n",
      "--- Testing Configuration: 16:{'layers': [4], 'dropout': 0.1, 'lr': 0.001, 'batch_size': 16} ---\n"
     ]
    },
    {
     "name": "stderr",
     "output_type": "stream",
     "text": [
      "Epochs:  30%|███       | 152/500 [00:15<00:36,  9.66epoch/s, loss=1.0600, val_loss=0.6278]\n",
      "Epochs: 100%|██████████| 500/500 [00:50<00:00,  9.89epoch/s, loss=0.4485, val_loss=0.4288]"
     ]
    },
    {
     "name": "stdout",
     "output_type": "stream",
     "text": [
      "\u001b[1m3/3\u001b[0m \u001b[32m━━━━━━━━━━━━━━━━━━━━\u001b[0m\u001b[37m\u001b[0m \u001b[1m0s\u001b[0m 13ms/step\n"
     ]
    },
    {
     "name": "stderr",
     "output_type": "stream",
     "text": [
      "\n"
     ]
    },
    {
     "name": "stdout",
     "output_type": "stream",
     "text": [
      "\u001b[1m3/3\u001b[0m \u001b[32m━━━━━━━━━━━━━━━━━━━━\u001b[0m\u001b[37m\u001b[0m \u001b[1m0s\u001b[0m 13ms/step\n",
      "\u001b[1m6/6\u001b[0m \u001b[32m━━━━━━━━━━━━━━━━━━━━\u001b[0m\u001b[37m\u001b[0m \u001b[1m0s\u001b[0m 3ms/step \n",
      "\u001b[1m6/6\u001b[0m \u001b[32m━━━━━━━━━━━━━━━━━━━━\u001b[0m\u001b[37m\u001b[0m \u001b[1m0s\u001b[0m 3ms/step \n",
      "\n",
      "\n",
      "--- Testing Configuration: 17:{'layers': [4], 'dropout': 0.1, 'lr': 0.001, 'batch_size': 32} ---\n"
     ]
    },
    {
     "name": "stderr",
     "output_type": "stream",
     "text": [
      "Epochs: 100%|██████████| 500/500 [00:41<00:00, 12.16epoch/s, loss=2.7187, val_loss=0.6868]\n",
      "Epochs:  26%|██▌       | 130/500 [00:11<00:31, 11.74epoch/s, loss=0.4519, val_loss=0.4202]\n"
     ]
    },
    {
     "name": "stdout",
     "output_type": "stream",
     "text": [
      "\u001b[1m3/3\u001b[0m \u001b[32m━━━━━━━━━━━━━━━━━━━━\u001b[0m\u001b[37m\u001b[0m \u001b[1m0s\u001b[0m 14ms/step\n",
      "\u001b[1m3/3\u001b[0m \u001b[32m━━━━━━━━━━━━━━━━━━━━\u001b[0m\u001b[37m\u001b[0m \u001b[1m0s\u001b[0m 13ms/step\n",
      "\u001b[1m6/6\u001b[0m \u001b[32m━━━━━━━━━━━━━━━━━━━━\u001b[0m\u001b[37m\u001b[0m \u001b[1m0s\u001b[0m 3ms/step \n",
      "\u001b[1m6/6\u001b[0m \u001b[32m━━━━━━━━━━━━━━━━━━━━\u001b[0m\u001b[37m\u001b[0m \u001b[1m0s\u001b[0m 3ms/step \n",
      "\n",
      "\n",
      "--- Testing Configuration: 18:{'layers': [4], 'dropout': 0.1, 'lr': 0.0005, 'batch_size': 16} ---\n"
     ]
    },
    {
     "name": "stderr",
     "output_type": "stream",
     "text": [
      "Epochs:  47%|████▋     | 234/500 [00:24<00:27,  9.74epoch/s, loss=1.2695, val_loss=0.5921]\n",
      "Epochs: 100%|██████████| 500/500 [00:50<00:00,  9.98epoch/s, loss=0.4477, val_loss=0.4154]"
     ]
    },
    {
     "name": "stdout",
     "output_type": "stream",
     "text": [
      "\u001b[1m3/3\u001b[0m \u001b[32m━━━━━━━━━━━━━━━━━━━━\u001b[0m\u001b[37m\u001b[0m \u001b[1m0s\u001b[0m 14ms/step\n"
     ]
    },
    {
     "name": "stderr",
     "output_type": "stream",
     "text": [
      "\n"
     ]
    },
    {
     "name": "stdout",
     "output_type": "stream",
     "text": [
      "\u001b[1m3/3\u001b[0m \u001b[32m━━━━━━━━━━━━━━━━━━━━\u001b[0m\u001b[37m\u001b[0m \u001b[1m0s\u001b[0m 13ms/step\n",
      "\u001b[1m6/6\u001b[0m \u001b[32m━━━━━━━━━━━━━━━━━━━━\u001b[0m\u001b[37m\u001b[0m \u001b[1m0s\u001b[0m 3ms/step \n",
      "\u001b[1m6/6\u001b[0m \u001b[32m━━━━━━━━━━━━━━━━━━━━\u001b[0m\u001b[37m\u001b[0m \u001b[1m0s\u001b[0m 3ms/step \n",
      "\n",
      "\n",
      "--- Testing Configuration: 19:{'layers': [4], 'dropout': 0.1, 'lr': 0.0005, 'batch_size': 32} ---\n"
     ]
    },
    {
     "name": "stderr",
     "output_type": "stream",
     "text": [
      "Epochs:  84%|████████▍ | 420/500 [00:34<00:06, 12.18epoch/s, loss=1.1834, val_loss=0.5777]\n",
      "Epochs:  51%|█████     | 255/500 [00:20<00:20, 12.15epoch/s, loss=0.4429, val_loss=0.4186]\n"
     ]
    },
    {
     "name": "stdout",
     "output_type": "stream",
     "text": [
      "\u001b[1m3/3\u001b[0m \u001b[32m━━━━━━━━━━━━━━━━━━━━\u001b[0m\u001b[37m\u001b[0m \u001b[1m0s\u001b[0m 15ms/step\n",
      "\u001b[1m3/3\u001b[0m \u001b[32m━━━━━━━━━━━━━━━━━━━━\u001b[0m\u001b[37m\u001b[0m \u001b[1m0s\u001b[0m 13ms/step\n",
      "\u001b[1m6/6\u001b[0m \u001b[32m━━━━━━━━━━━━━━━━━━━━\u001b[0m\u001b[37m\u001b[0m \u001b[1m0s\u001b[0m 3ms/step \n",
      "\u001b[1m6/6\u001b[0m \u001b[32m━━━━━━━━━━━━━━━━━━━━\u001b[0m\u001b[37m\u001b[0m \u001b[1m0s\u001b[0m 3ms/step \n",
      "\n",
      "\n",
      "--- Testing Configuration: 20:{'layers': [4], 'dropout': 0.2, 'lr': 0.001, 'batch_size': 16} ---\n"
     ]
    },
    {
     "name": "stderr",
     "output_type": "stream",
     "text": [
      "Epochs:  28%|██▊       | 141/500 [00:14<00:37,  9.56epoch/s, loss=2.0186, val_loss=0.6854]\n",
      "Epochs:  63%|██████▎   | 316/500 [00:31<00:18,  9.98epoch/s, loss=0.4258, val_loss=0.4138]\n"
     ]
    },
    {
     "name": "stdout",
     "output_type": "stream",
     "text": [
      "\u001b[1m3/3\u001b[0m \u001b[32m━━━━━━━━━━━━━━━━━━━━\u001b[0m\u001b[37m\u001b[0m \u001b[1m0s\u001b[0m 14ms/step\n",
      "\u001b[1m3/3\u001b[0m \u001b[32m━━━━━━━━━━━━━━━━━━━━\u001b[0m\u001b[37m\u001b[0m \u001b[1m0s\u001b[0m 14ms/step\n",
      "\u001b[1m6/6\u001b[0m \u001b[32m━━━━━━━━━━━━━━━━━━━━\u001b[0m\u001b[37m\u001b[0m \u001b[1m0s\u001b[0m 3ms/step \n",
      "\u001b[1m6/6\u001b[0m \u001b[32m━━━━━━━━━━━━━━━━━━━━\u001b[0m\u001b[37m\u001b[0m \u001b[1m0s\u001b[0m 3ms/step \n",
      "\n",
      "\n",
      "--- Testing Configuration: 21:{'layers': [4], 'dropout': 0.2, 'lr': 0.001, 'batch_size': 32} ---\n"
     ]
    },
    {
     "name": "stderr",
     "output_type": "stream",
     "text": [
      "Epochs: 100%|██████████| 500/500 [00:41<00:00, 12.16epoch/s, loss=18.2584, val_loss=18.5025]\n",
      "Epochs:  22%|██▏       | 112/500 [00:09<00:33, 11.69epoch/s, loss=0.4632, val_loss=0.4363]\n"
     ]
    },
    {
     "name": "stdout",
     "output_type": "stream",
     "text": [
      "\u001b[1m3/3\u001b[0m \u001b[32m━━━━━━━━━━━━━━━━━━━━\u001b[0m\u001b[37m\u001b[0m \u001b[1m0s\u001b[0m 13ms/step\n",
      "\u001b[1m3/3\u001b[0m \u001b[32m━━━━━━━━━━━━━━━━━━━━\u001b[0m\u001b[37m\u001b[0m \u001b[1m0s\u001b[0m 13ms/step\n",
      "\u001b[1m6/6\u001b[0m \u001b[32m━━━━━━━━━━━━━━━━━━━━\u001b[0m\u001b[37m\u001b[0m \u001b[1m0s\u001b[0m 3ms/step \n",
      "\u001b[1m6/6\u001b[0m \u001b[32m━━━━━━━━━━━━━━━━━━━━\u001b[0m\u001b[37m\u001b[0m \u001b[1m0s\u001b[0m 3ms/step \n",
      "\n",
      "\n",
      "--- Testing Configuration: 22:{'layers': [4], 'dropout': 0.2, 'lr': 0.0005, 'batch_size': 16} ---\n"
     ]
    },
    {
     "name": "stderr",
     "output_type": "stream",
     "text": [
      "Epochs:  47%|████▋     | 236/500 [00:24<00:27,  9.78epoch/s, loss=1.4979, val_loss=0.6211]\n",
      "Epochs:  23%|██▎       | 115/500 [00:12<00:40,  9.56epoch/s, loss=0.4613, val_loss=0.4407]\n"
     ]
    },
    {
     "name": "stdout",
     "output_type": "stream",
     "text": [
      "\u001b[1m3/3\u001b[0m \u001b[32m━━━━━━━━━━━━━━━━━━━━\u001b[0m\u001b[37m\u001b[0m \u001b[1m0s\u001b[0m 13ms/step\n",
      "\u001b[1m3/3\u001b[0m \u001b[32m━━━━━━━━━━━━━━━━━━━━\u001b[0m\u001b[37m\u001b[0m \u001b[1m0s\u001b[0m 14ms/step\n",
      "\u001b[1m6/6\u001b[0m \u001b[32m━━━━━━━━━━━━━━━━━━━━\u001b[0m\u001b[37m\u001b[0m \u001b[1m0s\u001b[0m 3ms/step \n",
      "\u001b[1m6/6\u001b[0m \u001b[32m━━━━━━━━━━━━━━━━━━━━\u001b[0m\u001b[37m\u001b[0m \u001b[1m0s\u001b[0m 3ms/step \n",
      "\n",
      "\n",
      "--- Testing Configuration: 23:{'layers': [4], 'dropout': 0.2, 'lr': 0.0005, 'batch_size': 32} ---\n"
     ]
    },
    {
     "name": "stderr",
     "output_type": "stream",
     "text": [
      "Epochs: 100%|██████████| 500/500 [00:41<00:00, 12.15epoch/s, loss=4.8836, val_loss=1.1000]\n",
      "Epochs:  45%|████▍     | 224/500 [00:18<00:23, 11.99epoch/s, loss=0.4766, val_loss=0.4249]\n"
     ]
    },
    {
     "name": "stdout",
     "output_type": "stream",
     "text": [
      "\u001b[1m3/3\u001b[0m \u001b[32m━━━━━━━━━━━━━━━━━━━━\u001b[0m\u001b[37m\u001b[0m \u001b[1m0s\u001b[0m 13ms/step\n",
      "\u001b[1m3/3\u001b[0m \u001b[32m━━━━━━━━━━━━━━━━━━━━\u001b[0m\u001b[37m\u001b[0m \u001b[1m0s\u001b[0m 15ms/step\n",
      "\u001b[1m6/6\u001b[0m \u001b[32m━━━━━━━━━━━━━━━━━━━━\u001b[0m\u001b[37m\u001b[0m \u001b[1m0s\u001b[0m 3ms/step \n",
      "\u001b[1m6/6\u001b[0m \u001b[32m━━━━━━━━━━━━━━━━━━━━\u001b[0m\u001b[37m\u001b[0m \u001b[1m0s\u001b[0m 3ms/step \n",
      "\n",
      "\n",
      "--- Testing Configuration: 24:{'layers': [8], 'dropout': 0.0, 'lr': 0.001, 'batch_size': 16} ---\n"
     ]
    },
    {
     "name": "stderr",
     "output_type": "stream",
     "text": [
      "Epochs:  72%|███████▏  | 362/500 [00:36<00:14,  9.85epoch/s, loss=0.4680, val_loss=0.5889]\n",
      "Epochs:  46%|████▌     | 230/500 [00:23<00:27,  9.92epoch/s, loss=0.4231, val_loss=0.4049]"
     ]
    },
    {
     "name": "stdout",
     "output_type": "stream",
     "text": [
      "\u001b[1m1/3\u001b[0m \u001b[32m━━━━━━\u001b[0m\u001b[37m━━━━━━━━━━━━━━\u001b[0m \u001b[1m0s\u001b[0m 30ms/step"
     ]
    },
    {
     "name": "stderr",
     "output_type": "stream",
     "text": [
      "\n"
     ]
    },
    {
     "name": "stdout",
     "output_type": "stream",
     "text": [
      "\u001b[1m3/3\u001b[0m \u001b[32m━━━━━━━━━━━━━━━━━━━━\u001b[0m\u001b[37m\u001b[0m \u001b[1m0s\u001b[0m 17ms/step\n",
      "\u001b[1m3/3\u001b[0m \u001b[32m━━━━━━━━━━━━━━━━━━━━\u001b[0m\u001b[37m\u001b[0m \u001b[1m0s\u001b[0m 13ms/step\n",
      "\u001b[1m6/6\u001b[0m \u001b[32m━━━━━━━━━━━━━━━━━━━━\u001b[0m\u001b[37m\u001b[0m \u001b[1m0s\u001b[0m 3ms/step \n",
      "\u001b[1m6/6\u001b[0m \u001b[32m━━━━━━━━━━━━━━━━━━━━\u001b[0m\u001b[37m\u001b[0m \u001b[1m0s\u001b[0m 3ms/step \n",
      "\n",
      "\n",
      "--- Testing Configuration: 25:{'layers': [8], 'dropout': 0.0, 'lr': 0.001, 'batch_size': 32} ---\n"
     ]
    },
    {
     "name": "stderr",
     "output_type": "stream",
     "text": [
      "Epochs:  46%|████▌     | 231/500 [00:19<00:22, 11.97epoch/s, loss=0.5022, val_loss=0.5722]\n",
      "Epochs:  59%|█████▉    | 296/500 [00:24<00:16, 12.22epoch/s, loss=0.4292, val_loss=0.4061]\n"
     ]
    },
    {
     "name": "stdout",
     "output_type": "stream",
     "text": [
      "\u001b[1m3/3\u001b[0m \u001b[32m━━━━━━━━━━━━━━━━━━━━\u001b[0m\u001b[37m\u001b[0m \u001b[1m0s\u001b[0m 15ms/step\n",
      "\u001b[1m3/3\u001b[0m \u001b[32m━━━━━━━━━━━━━━━━━━━━\u001b[0m\u001b[37m\u001b[0m \u001b[1m0s\u001b[0m 13ms/step\n",
      "\u001b[1m6/6\u001b[0m \u001b[32m━━━━━━━━━━━━━━━━━━━━\u001b[0m\u001b[37m\u001b[0m \u001b[1m0s\u001b[0m 3ms/step \n",
      "\u001b[1m6/6\u001b[0m \u001b[32m━━━━━━━━━━━━━━━━━━━━\u001b[0m\u001b[37m\u001b[0m \u001b[1m0s\u001b[0m 3ms/step \n",
      "\n",
      "\n",
      "--- Testing Configuration: 26:{'layers': [8], 'dropout': 0.0, 'lr': 0.0005, 'batch_size': 16} ---\n"
     ]
    },
    {
     "name": "stderr",
     "output_type": "stream",
     "text": [
      "Epochs:  45%|████▍     | 223/500 [00:22<00:28,  9.88epoch/s, loss=0.4930, val_loss=0.5955]\n",
      "Epochs: 100%|██████████| 500/500 [00:49<00:00, 10.15epoch/s, loss=0.4237, val_loss=0.4036]"
     ]
    },
    {
     "name": "stdout",
     "output_type": "stream",
     "text": [
      "\u001b[1m3/3\u001b[0m \u001b[32m━━━━━━━━━━━━━━━━━━━━\u001b[0m\u001b[37m\u001b[0m \u001b[1m0s\u001b[0m 15ms/step\n"
     ]
    },
    {
     "name": "stderr",
     "output_type": "stream",
     "text": [
      "\n"
     ]
    },
    {
     "name": "stdout",
     "output_type": "stream",
     "text": [
      "\u001b[1m3/3\u001b[0m \u001b[32m━━━━━━━━━━━━━━━━━━━━\u001b[0m\u001b[37m\u001b[0m \u001b[1m0s\u001b[0m 14ms/step\n",
      "\u001b[1m6/6\u001b[0m \u001b[32m━━━━━━━━━━━━━━━━━━━━\u001b[0m\u001b[37m\u001b[0m \u001b[1m0s\u001b[0m 3ms/step \n",
      "\u001b[1m6/6\u001b[0m \u001b[32m━━━━━━━━━━━━━━━━━━━━\u001b[0m\u001b[37m\u001b[0m \u001b[1m0s\u001b[0m 3ms/step \n",
      "\n",
      "\n",
      "--- Testing Configuration: 27:{'layers': [8], 'dropout': 0.0, 'lr': 0.0005, 'batch_size': 32} ---\n"
     ]
    },
    {
     "name": "stderr",
     "output_type": "stream",
     "text": [
      "Epochs: 100%|██████████| 500/500 [00:40<00:00, 12.24epoch/s, loss=0.4989, val_loss=0.5866]\n",
      "Epochs:  30%|███       | 151/500 [00:12<00:28, 12.12epoch/s, loss=0.4292, val_loss=0.4072]\n"
     ]
    },
    {
     "name": "stdout",
     "output_type": "stream",
     "text": [
      "\u001b[1m3/3\u001b[0m \u001b[32m━━━━━━━━━━━━━━━━━━━━\u001b[0m\u001b[37m\u001b[0m \u001b[1m0s\u001b[0m 14ms/step\n",
      "\u001b[1m3/3\u001b[0m \u001b[32m━━━━━━━━━━━━━━━━━━━━\u001b[0m\u001b[37m\u001b[0m \u001b[1m0s\u001b[0m 13ms/step\n",
      "\u001b[1m6/6\u001b[0m \u001b[32m━━━━━━━━━━━━━━━━━━━━\u001b[0m\u001b[37m\u001b[0m \u001b[1m0s\u001b[0m 3ms/step \n",
      "\u001b[1m6/6\u001b[0m \u001b[32m━━━━━━━━━━━━━━━━━━━━\u001b[0m\u001b[37m\u001b[0m \u001b[1m0s\u001b[0m 3ms/step \n",
      "\n",
      "\n",
      "--- Testing Configuration: 28:{'layers': [8], 'dropout': 0.1, 'lr': 0.001, 'batch_size': 16} ---\n"
     ]
    },
    {
     "name": "stderr",
     "output_type": "stream",
     "text": [
      "Epochs:  25%|██▍       | 123/500 [00:12<00:39,  9.52epoch/s, loss=0.7991, val_loss=0.5722]\n",
      "Epochs:  26%|██▌       | 129/500 [00:13<00:38,  9.67epoch/s, loss=0.4254, val_loss=0.4171]"
     ]
    },
    {
     "name": "stdout",
     "output_type": "stream",
     "text": [
      "\u001b[1m3/3\u001b[0m \u001b[32m━━━━━━━━━━━━━━━━━━━━\u001b[0m\u001b[37m\u001b[0m \u001b[1m0s\u001b[0m 16ms/step\n"
     ]
    },
    {
     "name": "stderr",
     "output_type": "stream",
     "text": [
      "\n"
     ]
    },
    {
     "name": "stdout",
     "output_type": "stream",
     "text": [
      "\u001b[1m3/3\u001b[0m \u001b[32m━━━━━━━━━━━━━━━━━━━━\u001b[0m\u001b[37m\u001b[0m \u001b[1m0s\u001b[0m 15ms/step\n",
      "\u001b[1m6/6\u001b[0m \u001b[32m━━━━━━━━━━━━━━━━━━━━\u001b[0m\u001b[37m\u001b[0m \u001b[1m0s\u001b[0m 3ms/step \n",
      "\u001b[1m6/6\u001b[0m \u001b[32m━━━━━━━━━━━━━━━━━━━━\u001b[0m\u001b[37m\u001b[0m \u001b[1m0s\u001b[0m 3ms/step \n",
      "\n",
      "\n",
      "--- Testing Configuration: 29:{'layers': [8], 'dropout': 0.1, 'lr': 0.001, 'batch_size': 32} ---\n"
     ]
    },
    {
     "name": "stderr",
     "output_type": "stream",
     "text": [
      "Epochs:  37%|███▋      | 187/500 [00:15<00:26, 11.94epoch/s, loss=0.6985, val_loss=0.5625]\n",
      "Epochs:  33%|███▎      | 164/500 [00:13<00:28, 11.84epoch/s, loss=0.4366, val_loss=0.4125]\n"
     ]
    },
    {
     "name": "stdout",
     "output_type": "stream",
     "text": [
      "\u001b[1m3/3\u001b[0m \u001b[32m━━━━━━━━━━━━━━━━━━━━\u001b[0m\u001b[37m\u001b[0m \u001b[1m0s\u001b[0m 15ms/step\n",
      "\u001b[1m3/3\u001b[0m \u001b[32m━━━━━━━━━━━━━━━━━━━━\u001b[0m\u001b[37m\u001b[0m \u001b[1m0s\u001b[0m 14ms/step\n",
      "\u001b[1m6/6\u001b[0m \u001b[32m━━━━━━━━━━━━━━━━━━━━\u001b[0m\u001b[37m\u001b[0m \u001b[1m0s\u001b[0m 3ms/step \n",
      "\u001b[1m6/6\u001b[0m \u001b[32m━━━━━━━━━━━━━━━━━━━━\u001b[0m\u001b[37m\u001b[0m \u001b[1m0s\u001b[0m 3ms/step \n",
      "\n",
      "\n",
      "--- Testing Configuration: 30:{'layers': [8], 'dropout': 0.1, 'lr': 0.0005, 'batch_size': 16} ---\n"
     ]
    },
    {
     "name": "stderr",
     "output_type": "stream",
     "text": [
      "Epochs:  38%|███▊      | 189/500 [00:19<00:32,  9.70epoch/s, loss=0.7132, val_loss=0.5595]\n",
      "Epochs:  18%|█▊        | 92/500 [00:09<00:42,  9.52epoch/s, loss=0.4330, val_loss=0.4185]\n"
     ]
    },
    {
     "name": "stdout",
     "output_type": "stream",
     "text": [
      "\u001b[1m3/3\u001b[0m \u001b[32m━━━━━━━━━━━━━━━━━━━━\u001b[0m\u001b[37m\u001b[0m \u001b[1m0s\u001b[0m 13ms/step\n",
      "\u001b[1m3/3\u001b[0m \u001b[32m━━━━━━━━━━━━━━━━━━━━\u001b[0m\u001b[37m\u001b[0m \u001b[1m0s\u001b[0m 12ms/step\n",
      "\u001b[1m6/6\u001b[0m \u001b[32m━━━━━━━━━━━━━━━━━━━━\u001b[0m\u001b[37m\u001b[0m \u001b[1m0s\u001b[0m 3ms/step \n",
      "\u001b[1m6/6\u001b[0m \u001b[32m━━━━━━━━━━━━━━━━━━━━\u001b[0m\u001b[37m\u001b[0m \u001b[1m0s\u001b[0m 3ms/step \n",
      "\n",
      "\n",
      "--- Testing Configuration: 31:{'layers': [8], 'dropout': 0.1, 'lr': 0.0005, 'batch_size': 32} ---\n"
     ]
    },
    {
     "name": "stderr",
     "output_type": "stream",
     "text": [
      "Epochs:  64%|██████▎   | 318/500 [00:26<00:15, 12.05epoch/s, loss=0.6334, val_loss=0.5483]\n",
      "Epochs:  43%|████▎     | 213/500 [00:17<00:23, 12.07epoch/s, loss=0.4439, val_loss=0.4144]\n"
     ]
    },
    {
     "name": "stdout",
     "output_type": "stream",
     "text": [
      "\u001b[1m3/3\u001b[0m \u001b[32m━━━━━━━━━━━━━━━━━━━━\u001b[0m\u001b[37m\u001b[0m \u001b[1m0s\u001b[0m 14ms/step\n",
      "\u001b[1m3/3\u001b[0m \u001b[32m━━━━━━━━━━━━━━━━━━━━\u001b[0m\u001b[37m\u001b[0m \u001b[1m0s\u001b[0m 13ms/step\n",
      "\u001b[1m6/6\u001b[0m \u001b[32m━━━━━━━━━━━━━━━━━━━━\u001b[0m\u001b[37m\u001b[0m \u001b[1m0s\u001b[0m 3ms/step \n",
      "\u001b[1m6/6\u001b[0m \u001b[32m━━━━━━━━━━━━━━━━━━━━\u001b[0m\u001b[37m\u001b[0m \u001b[1m0s\u001b[0m 3ms/step \n",
      "\n",
      "\n",
      "--- Testing Configuration: 32:{'layers': [8], 'dropout': 0.2, 'lr': 0.001, 'batch_size': 16} ---\n"
     ]
    },
    {
     "name": "stderr",
     "output_type": "stream",
     "text": [
      "Epochs:  24%|██▍       | 119/500 [00:12<00:39,  9.59epoch/s, loss=0.9394, val_loss=0.6233]\n",
      "Epochs:  17%|█▋        | 85/500 [00:09<00:43,  9.43epoch/s, loss=0.4597, val_loss=0.4383]\n"
     ]
    },
    {
     "name": "stdout",
     "output_type": "stream",
     "text": [
      "\u001b[1m3/3\u001b[0m \u001b[32m━━━━━━━━━━━━━━━━━━━━\u001b[0m\u001b[37m\u001b[0m \u001b[1m0s\u001b[0m 14ms/step\n",
      "\u001b[1m3/3\u001b[0m \u001b[32m━━━━━━━━━━━━━━━━━━━━\u001b[0m\u001b[37m\u001b[0m \u001b[1m0s\u001b[0m 13ms/step\n",
      "\u001b[1m6/6\u001b[0m \u001b[32m━━━━━━━━━━━━━━━━━━━━\u001b[0m\u001b[37m\u001b[0m \u001b[1m0s\u001b[0m 3ms/step \n",
      "\u001b[1m6/6\u001b[0m \u001b[32m━━━━━━━━━━━━━━━━━━━━\u001b[0m\u001b[37m\u001b[0m \u001b[1m0s\u001b[0m 3ms/step \n",
      "\n",
      "\n",
      "--- Testing Configuration: 33:{'layers': [8], 'dropout': 0.2, 'lr': 0.001, 'batch_size': 32} ---\n"
     ]
    },
    {
     "name": "stderr",
     "output_type": "stream",
     "text": [
      "Epochs:  33%|███▎      | 166/500 [00:14<00:28, 11.74epoch/s, loss=0.8272, val_loss=0.5614]\n",
      "Epochs:  30%|██▉       | 149/500 [00:12<00:29, 11.85epoch/s, loss=0.4575, val_loss=0.4141]\n"
     ]
    },
    {
     "name": "stdout",
     "output_type": "stream",
     "text": [
      "\u001b[1m3/3\u001b[0m \u001b[32m━━━━━━━━━━━━━━━━━━━━\u001b[0m\u001b[37m\u001b[0m \u001b[1m0s\u001b[0m 16ms/step\n",
      "\u001b[1m3/3\u001b[0m \u001b[32m━━━━━━━━━━━━━━━━━━━━\u001b[0m\u001b[37m\u001b[0m \u001b[1m0s\u001b[0m 15ms/step\n",
      "\u001b[1m6/6\u001b[0m \u001b[32m━━━━━━━━━━━━━━━━━━━━\u001b[0m\u001b[37m\u001b[0m \u001b[1m0s\u001b[0m 3ms/step \n",
      "\u001b[1m6/6\u001b[0m \u001b[32m━━━━━━━━━━━━━━━━━━━━\u001b[0m\u001b[37m\u001b[0m \u001b[1m0s\u001b[0m 3ms/step \n",
      "\n",
      "\n",
      "--- Testing Configuration: 34:{'layers': [8], 'dropout': 0.2, 'lr': 0.0005, 'batch_size': 16} ---\n"
     ]
    },
    {
     "name": "stderr",
     "output_type": "stream",
     "text": [
      "Epochs:  37%|███▋      | 183/500 [00:18<00:32,  9.76epoch/s, loss=1.1234, val_loss=0.5980]\n",
      "Epochs:  40%|███▉      | 199/500 [00:20<00:30,  9.81epoch/s, loss=0.4742, val_loss=0.4329]\n"
     ]
    },
    {
     "name": "stdout",
     "output_type": "stream",
     "text": [
      "\u001b[1m3/3\u001b[0m \u001b[32m━━━━━━━━━━━━━━━━━━━━\u001b[0m\u001b[37m\u001b[0m \u001b[1m0s\u001b[0m 15ms/step\n",
      "\u001b[1m3/3\u001b[0m \u001b[32m━━━━━━━━━━━━━━━━━━━━\u001b[0m\u001b[37m\u001b[0m \u001b[1m0s\u001b[0m 13ms/step\n",
      "\u001b[1m6/6\u001b[0m \u001b[32m━━━━━━━━━━━━━━━━━━━━\u001b[0m\u001b[37m\u001b[0m \u001b[1m0s\u001b[0m 3ms/step \n",
      "\u001b[1m6/6\u001b[0m \u001b[32m━━━━━━━━━━━━━━━━━━━━\u001b[0m\u001b[37m\u001b[0m \u001b[1m0s\u001b[0m 3ms/step \n",
      "\n",
      "\n",
      "--- Testing Configuration: 35:{'layers': [8], 'dropout': 0.2, 'lr': 0.0005, 'batch_size': 32} ---\n"
     ]
    },
    {
     "name": "stderr",
     "output_type": "stream",
     "text": [
      "Epochs:  61%|██████    | 303/500 [00:25<00:16, 11.92epoch/s, loss=1.1673, val_loss=0.5729]\n",
      "Epochs:  31%|███       | 153/500 [00:12<00:28, 11.99epoch/s, loss=0.4462, val_loss=0.4159]\n"
     ]
    },
    {
     "name": "stdout",
     "output_type": "stream",
     "text": [
      "\u001b[1m3/3\u001b[0m \u001b[32m━━━━━━━━━━━━━━━━━━━━\u001b[0m\u001b[37m\u001b[0m \u001b[1m0s\u001b[0m 13ms/step\n",
      "\u001b[1m3/3\u001b[0m \u001b[32m━━━━━━━━━━━━━━━━━━━━\u001b[0m\u001b[37m\u001b[0m \u001b[1m0s\u001b[0m 13ms/step\n",
      "\u001b[1m6/6\u001b[0m \u001b[32m━━━━━━━━━━━━━━━━━━━━\u001b[0m\u001b[37m\u001b[0m \u001b[1m0s\u001b[0m 3ms/step \n",
      "\u001b[1m6/6\u001b[0m \u001b[32m━━━━━━━━━━━━━━━━━━━━\u001b[0m\u001b[37m\u001b[0m \u001b[1m0s\u001b[0m 3ms/step \n",
      "\n",
      "\n",
      "--- Testing Configuration: 36:{'layers': [16], 'dropout': 0.0, 'lr': 0.001, 'batch_size': 16} ---\n"
     ]
    },
    {
     "name": "stderr",
     "output_type": "stream",
     "text": [
      "Epochs:  26%|██▌       | 128/500 [00:13<00:38,  9.64epoch/s, loss=0.4944, val_loss=0.5885]\n",
      "Epochs:  66%|██████▌   | 329/500 [00:32<00:17, 10.05epoch/s, loss=0.4180, val_loss=0.4016]\n"
     ]
    },
    {
     "name": "stdout",
     "output_type": "stream",
     "text": [
      "\u001b[1m3/3\u001b[0m \u001b[32m━━━━━━━━━━━━━━━━━━━━\u001b[0m\u001b[37m\u001b[0m \u001b[1m0s\u001b[0m 13ms/step\n",
      "\u001b[1m3/3\u001b[0m \u001b[32m━━━━━━━━━━━━━━━━━━━━\u001b[0m\u001b[37m\u001b[0m \u001b[1m0s\u001b[0m 12ms/step\n",
      "\u001b[1m6/6\u001b[0m \u001b[32m━━━━━━━━━━━━━━━━━━━━\u001b[0m\u001b[37m\u001b[0m \u001b[1m0s\u001b[0m 3ms/step \n",
      "\u001b[1m6/6\u001b[0m \u001b[32m━━━━━━━━━━━━━━━━━━━━\u001b[0m\u001b[37m\u001b[0m \u001b[1m0s\u001b[0m 3ms/step \n",
      "\n",
      "\n",
      "--- Testing Configuration: 37:{'layers': [16], 'dropout': 0.0, 'lr': 0.001, 'batch_size': 32} ---\n"
     ]
    },
    {
     "name": "stderr",
     "output_type": "stream",
     "text": [
      "Epochs:  53%|█████▎    | 265/500 [00:22<00:19, 11.98epoch/s, loss=0.4908, val_loss=0.5835]\n",
      "Epochs:  53%|█████▎    | 266/500 [00:21<00:19, 12.27epoch/s, loss=0.4231, val_loss=0.4040]\n"
     ]
    },
    {
     "name": "stdout",
     "output_type": "stream",
     "text": [
      "\u001b[1m3/3\u001b[0m \u001b[32m━━━━━━━━━━━━━━━━━━━━\u001b[0m\u001b[37m\u001b[0m \u001b[1m0s\u001b[0m 13ms/step\n",
      "\u001b[1m3/3\u001b[0m \u001b[32m━━━━━━━━━━━━━━━━━━━━\u001b[0m\u001b[37m\u001b[0m \u001b[1m0s\u001b[0m 13ms/step\n",
      "\u001b[1m6/6\u001b[0m \u001b[32m━━━━━━━━━━━━━━━━━━━━\u001b[0m\u001b[37m\u001b[0m \u001b[1m0s\u001b[0m 3ms/step \n",
      "\u001b[1m6/6\u001b[0m \u001b[32m━━━━━━━━━━━━━━━━━━━━\u001b[0m\u001b[37m\u001b[0m \u001b[1m0s\u001b[0m 3ms/step \n",
      "\n",
      "\n",
      "--- Testing Configuration: 38:{'layers': [16], 'dropout': 0.0, 'lr': 0.0005, 'batch_size': 16} ---\n"
     ]
    },
    {
     "name": "stderr",
     "output_type": "stream",
     "text": [
      "Epochs:  82%|████████▏ | 408/500 [00:41<00:09,  9.91epoch/s, loss=0.4646, val_loss=0.5832]\n",
      "Epochs:  86%|████████▌ | 431/500 [00:42<00:06, 10.04epoch/s, loss=0.4234, val_loss=0.4035]"
     ]
    },
    {
     "name": "stdout",
     "output_type": "stream",
     "text": [
      "\u001b[1m3/3\u001b[0m \u001b[32m━━━━━━━━━━━━━━━━━━━━\u001b[0m\u001b[37m\u001b[0m \u001b[1m0s\u001b[0m 14ms/step\n"
     ]
    },
    {
     "name": "stderr",
     "output_type": "stream",
     "text": [
      "\n"
     ]
    },
    {
     "name": "stdout",
     "output_type": "stream",
     "text": [
      "\u001b[1m3/3\u001b[0m \u001b[32m━━━━━━━━━━━━━━━━━━━━\u001b[0m\u001b[37m\u001b[0m \u001b[1m0s\u001b[0m 14ms/step\n",
      "\u001b[1m6/6\u001b[0m \u001b[32m━━━━━━━━━━━━━━━━━━━━\u001b[0m\u001b[37m\u001b[0m \u001b[1m0s\u001b[0m 3ms/step \n",
      "\u001b[1m6/6\u001b[0m \u001b[32m━━━━━━━━━━━━━━━━━━━━\u001b[0m\u001b[37m\u001b[0m \u001b[1m0s\u001b[0m 3ms/step \n",
      "\n",
      "\n",
      "--- Testing Configuration: 39:{'layers': [16], 'dropout': 0.0, 'lr': 0.0005, 'batch_size': 32} ---\n"
     ]
    },
    {
     "name": "stderr",
     "output_type": "stream",
     "text": [
      "Epochs: 100%|██████████| 500/500 [00:40<00:00, 12.27epoch/s, loss=0.4887, val_loss=0.5843]\n",
      "Epochs:  36%|███▌      | 179/500 [00:15<00:26, 11.90epoch/s, loss=0.4274, val_loss=0.4068]\n"
     ]
    },
    {
     "name": "stdout",
     "output_type": "stream",
     "text": [
      "\u001b[1m3/3\u001b[0m \u001b[32m━━━━━━━━━━━━━━━━━━━━\u001b[0m\u001b[37m\u001b[0m \u001b[1m0s\u001b[0m 13ms/step\n",
      "\u001b[1m3/3\u001b[0m \u001b[32m━━━━━━━━━━━━━━━━━━━━\u001b[0m\u001b[37m\u001b[0m \u001b[1m0s\u001b[0m 12ms/step\n",
      "\u001b[1m6/6\u001b[0m \u001b[32m━━━━━━━━━━━━━━━━━━━━\u001b[0m\u001b[37m\u001b[0m \u001b[1m0s\u001b[0m 3ms/step \n",
      "\u001b[1m6/6\u001b[0m \u001b[32m━━━━━━━━━━━━━━━━━━━━\u001b[0m\u001b[37m\u001b[0m \u001b[1m0s\u001b[0m 3ms/step \n",
      "\n",
      "\n",
      "--- Testing Configuration: 40:{'layers': [16], 'dropout': 0.1, 'lr': 0.001, 'batch_size': 16} ---\n"
     ]
    },
    {
     "name": "stderr",
     "output_type": "stream",
     "text": [
      "Epochs: 100%|██████████| 500/500 [00:50<00:00,  9.88epoch/s, loss=0.5761, val_loss=0.5223]\n",
      "Epochs:  31%|███▏      | 157/500 [00:16<00:35,  9.60epoch/s, loss=0.4178, val_loss=0.4024]"
     ]
    },
    {
     "name": "stdout",
     "output_type": "stream",
     "text": [
      "\u001b[1m3/3\u001b[0m \u001b[32m━━━━━━━━━━━━━━━━━━━━\u001b[0m\u001b[37m\u001b[0m \u001b[1m0s\u001b[0m 14ms/step\n"
     ]
    },
    {
     "name": "stderr",
     "output_type": "stream",
     "text": [
      "\n"
     ]
    },
    {
     "name": "stdout",
     "output_type": "stream",
     "text": [
      "\u001b[1m3/3\u001b[0m \u001b[32m━━━━━━━━━━━━━━━━━━━━\u001b[0m\u001b[37m\u001b[0m \u001b[1m0s\u001b[0m 14ms/step\n",
      "\u001b[1m6/6\u001b[0m \u001b[32m━━━━━━━━━━━━━━━━━━━━\u001b[0m\u001b[37m\u001b[0m \u001b[1m0s\u001b[0m 3ms/step \n",
      "\u001b[1m6/6\u001b[0m \u001b[32m━━━━━━━━━━━━━━━━━━━━\u001b[0m\u001b[37m\u001b[0m \u001b[1m0s\u001b[0m 3ms/step \n",
      "\n",
      "\n",
      "--- Testing Configuration: 41:{'layers': [16], 'dropout': 0.1, 'lr': 0.001, 'batch_size': 32} ---\n"
     ]
    },
    {
     "name": "stderr",
     "output_type": "stream",
     "text": [
      "Epochs:  36%|███▌      | 180/500 [00:15<00:27, 11.84epoch/s, loss=0.6104, val_loss=0.5568]\n",
      "Epochs:  60%|█████▉    | 298/500 [00:24<00:16, 12.08epoch/s, loss=0.4343, val_loss=0.4016]\n"
     ]
    },
    {
     "name": "stdout",
     "output_type": "stream",
     "text": [
      "\u001b[1m3/3\u001b[0m \u001b[32m━━━━━━━━━━━━━━━━━━━━\u001b[0m\u001b[37m\u001b[0m \u001b[1m0s\u001b[0m 13ms/step\n",
      "\u001b[1m3/3\u001b[0m \u001b[32m━━━━━━━━━━━━━━━━━━━━\u001b[0m\u001b[37m\u001b[0m \u001b[1m0s\u001b[0m 13ms/step\n",
      "\u001b[1m6/6\u001b[0m \u001b[32m━━━━━━━━━━━━━━━━━━━━\u001b[0m\u001b[37m\u001b[0m \u001b[1m0s\u001b[0m 3ms/step \n",
      "\u001b[1m6/6\u001b[0m \u001b[32m━━━━━━━━━━━━━━━━━━━━\u001b[0m\u001b[37m\u001b[0m \u001b[1m0s\u001b[0m 3ms/step \n",
      "\n",
      "\n",
      "--- Testing Configuration: 42:{'layers': [16], 'dropout': 0.1, 'lr': 0.0005, 'batch_size': 16} ---\n"
     ]
    },
    {
     "name": "stderr",
     "output_type": "stream",
     "text": [
      "Epochs:  36%|███▌      | 178/500 [00:18<00:33,  9.66epoch/s, loss=0.5856, val_loss=0.5556]\n",
      "Epochs:  23%|██▎       | 116/500 [00:11<00:39,  9.67epoch/s, loss=0.4472, val_loss=0.4157]"
     ]
    },
    {
     "name": "stdout",
     "output_type": "stream",
     "text": [
      "\u001b[1m3/3\u001b[0m \u001b[32m━━━━━━━━━━━━━━━━━━━━\u001b[0m\u001b[37m\u001b[0m \u001b[1m0s\u001b[0m 13ms/step\n"
     ]
    },
    {
     "name": "stderr",
     "output_type": "stream",
     "text": [
      "\n"
     ]
    },
    {
     "name": "stdout",
     "output_type": "stream",
     "text": [
      "\u001b[1m3/3\u001b[0m \u001b[32m━━━━━━━━━━━━━━━━━━━━\u001b[0m\u001b[37m\u001b[0m \u001b[1m0s\u001b[0m 13ms/step\n",
      "\u001b[1m6/6\u001b[0m \u001b[32m━━━━━━━━━━━━━━━━━━━━\u001b[0m\u001b[37m\u001b[0m \u001b[1m0s\u001b[0m 3ms/step \n",
      "\u001b[1m6/6\u001b[0m \u001b[32m━━━━━━━━━━━━━━━━━━━━\u001b[0m\u001b[37m\u001b[0m \u001b[1m0s\u001b[0m 3ms/step \n",
      "\n",
      "\n",
      "--- Testing Configuration: 43:{'layers': [16], 'dropout': 0.1, 'lr': 0.0005, 'batch_size': 32} ---\n"
     ]
    },
    {
     "name": "stderr",
     "output_type": "stream",
     "text": [
      "Epochs:  57%|█████▋    | 284/500 [00:23<00:17, 12.07epoch/s, loss=0.6080, val_loss=0.5452]\n",
      "Epochs:  50%|█████     | 250/500 [00:20<00:20, 12.18epoch/s, loss=0.4446, val_loss=0.4140]\n"
     ]
    },
    {
     "name": "stdout",
     "output_type": "stream",
     "text": [
      "\u001b[1m3/3\u001b[0m \u001b[32m━━━━━━━━━━━━━━━━━━━━\u001b[0m\u001b[37m\u001b[0m \u001b[1m0s\u001b[0m 13ms/step\n",
      "\u001b[1m3/3\u001b[0m \u001b[32m━━━━━━━━━━━━━━━━━━━━\u001b[0m\u001b[37m\u001b[0m \u001b[1m0s\u001b[0m 13ms/step\n",
      "\u001b[1m6/6\u001b[0m \u001b[32m━━━━━━━━━━━━━━━━━━━━\u001b[0m\u001b[37m\u001b[0m \u001b[1m0s\u001b[0m 3ms/step \n",
      "\u001b[1m6/6\u001b[0m \u001b[32m━━━━━━━━━━━━━━━━━━━━\u001b[0m\u001b[37m\u001b[0m \u001b[1m0s\u001b[0m 3ms/step \n",
      "\n",
      "\n",
      "--- Testing Configuration: 44:{'layers': [16], 'dropout': 0.2, 'lr': 0.001, 'batch_size': 16} ---\n"
     ]
    },
    {
     "name": "stderr",
     "output_type": "stream",
     "text": [
      "Epochs:  22%|██▏       | 109/500 [00:11<00:41,  9.39epoch/s, loss=0.8488, val_loss=0.5972]\n",
      "Epochs:  14%|█▍        | 69/500 [00:07<00:46,  9.25epoch/s, loss=0.4482, val_loss=0.4133]"
     ]
    },
    {
     "name": "stdout",
     "output_type": "stream",
     "text": [
      "\u001b[1m1/3\u001b[0m \u001b[32m━━━━━━\u001b[0m\u001b[37m━━━━━━━━━━━━━━\u001b[0m \u001b[1m0s\u001b[0m 30ms/step"
     ]
    },
    {
     "name": "stderr",
     "output_type": "stream",
     "text": [
      "\n"
     ]
    },
    {
     "name": "stdout",
     "output_type": "stream",
     "text": [
      "\u001b[1m3/3\u001b[0m \u001b[32m━━━━━━━━━━━━━━━━━━━━\u001b[0m\u001b[37m\u001b[0m \u001b[1m0s\u001b[0m 15ms/step\n",
      "\u001b[1m3/3\u001b[0m \u001b[32m━━━━━━━━━━━━━━━━━━━━\u001b[0m\u001b[37m\u001b[0m \u001b[1m0s\u001b[0m 12ms/step\n",
      "\u001b[1m6/6\u001b[0m \u001b[32m━━━━━━━━━━━━━━━━━━━━\u001b[0m\u001b[37m\u001b[0m \u001b[1m0s\u001b[0m 3ms/step \n",
      "\u001b[1m6/6\u001b[0m \u001b[32m━━━━━━━━━━━━━━━━━━━━\u001b[0m\u001b[37m\u001b[0m \u001b[1m0s\u001b[0m 3ms/step \n",
      "\n",
      "\n",
      "--- Testing Configuration: 45:{'layers': [16], 'dropout': 0.2, 'lr': 0.001, 'batch_size': 32} ---\n"
     ]
    },
    {
     "name": "stderr",
     "output_type": "stream",
     "text": [
      "Epochs:  32%|███▏      | 162/500 [00:13<00:28, 11.69epoch/s, loss=0.8666, val_loss=0.5688]\n",
      "Epochs:  31%|███       | 153/500 [00:12<00:29, 11.92epoch/s, loss=0.4434, val_loss=0.4094]\n"
     ]
    },
    {
     "name": "stdout",
     "output_type": "stream",
     "text": [
      "\u001b[1m3/3\u001b[0m \u001b[32m━━━━━━━━━━━━━━━━━━━━\u001b[0m\u001b[37m\u001b[0m \u001b[1m0s\u001b[0m 16ms/step\n",
      "\u001b[1m3/3\u001b[0m \u001b[32m━━━━━━━━━━━━━━━━━━━━\u001b[0m\u001b[37m\u001b[0m \u001b[1m0s\u001b[0m 16ms/step\n",
      "\u001b[1m6/6\u001b[0m \u001b[32m━━━━━━━━━━━━━━━━━━━━\u001b[0m\u001b[37m\u001b[0m \u001b[1m0s\u001b[0m 3ms/step \n",
      "\u001b[1m6/6\u001b[0m \u001b[32m━━━━━━━━━━━━━━━━━━━━\u001b[0m\u001b[37m\u001b[0m \u001b[1m0s\u001b[0m 3ms/step \n",
      "\n",
      "\n",
      "--- Testing Configuration: 46:{'layers': [16], 'dropout': 0.2, 'lr': 0.0005, 'batch_size': 16} ---\n"
     ]
    },
    {
     "name": "stderr",
     "output_type": "stream",
     "text": [
      "Epochs:  33%|███▎      | 163/500 [00:16<00:35,  9.61epoch/s, loss=0.7520, val_loss=0.5675]\n",
      "Epochs:  26%|██▌       | 128/500 [00:13<00:38,  9.66epoch/s, loss=0.4308, val_loss=0.4151]"
     ]
    },
    {
     "name": "stdout",
     "output_type": "stream",
     "text": [
      "\u001b[1m3/3\u001b[0m \u001b[32m━━━━━━━━━━━━━━━━━━━━\u001b[0m\u001b[37m\u001b[0m \u001b[1m0s\u001b[0m 13ms/step\n"
     ]
    },
    {
     "name": "stderr",
     "output_type": "stream",
     "text": [
      "\n"
     ]
    },
    {
     "name": "stdout",
     "output_type": "stream",
     "text": [
      "\u001b[1m3/3\u001b[0m \u001b[32m━━━━━━━━━━━━━━━━━━━━\u001b[0m\u001b[37m\u001b[0m \u001b[1m0s\u001b[0m 15ms/step\n",
      "\u001b[1m6/6\u001b[0m \u001b[32m━━━━━━━━━━━━━━━━━━━━\u001b[0m\u001b[37m\u001b[0m \u001b[1m0s\u001b[0m 3ms/step \n",
      "\u001b[1m6/6\u001b[0m \u001b[32m━━━━━━━━━━━━━━━━━━━━\u001b[0m\u001b[37m\u001b[0m \u001b[1m0s\u001b[0m 3ms/step \n",
      "\n",
      "\n",
      "--- Testing Configuration: 47:{'layers': [16], 'dropout': 0.2, 'lr': 0.0005, 'batch_size': 32} ---\n"
     ]
    },
    {
     "name": "stderr",
     "output_type": "stream",
     "text": [
      "Epochs:  49%|████▉     | 245/500 [00:20<00:21, 11.94epoch/s, loss=0.7138, val_loss=0.5636]\n",
      "Epochs:  32%|███▏      | 161/500 [00:13<00:28, 11.91epoch/s, loss=0.4504, val_loss=0.4158]\n"
     ]
    },
    {
     "name": "stdout",
     "output_type": "stream",
     "text": [
      "\u001b[1m3/3\u001b[0m \u001b[32m━━━━━━━━━━━━━━━━━━━━\u001b[0m\u001b[37m\u001b[0m \u001b[1m0s\u001b[0m 13ms/step\n",
      "\u001b[1m3/3\u001b[0m \u001b[32m━━━━━━━━━━━━━━━━━━━━\u001b[0m\u001b[37m\u001b[0m \u001b[1m0s\u001b[0m 13ms/step\n",
      "\u001b[1m6/6\u001b[0m \u001b[32m━━━━━━━━━━━━━━━━━━━━\u001b[0m\u001b[37m\u001b[0m \u001b[1m0s\u001b[0m 3ms/step \n",
      "\u001b[1m6/6\u001b[0m \u001b[32m━━━━━━━━━━━━━━━━━━━━\u001b[0m\u001b[37m\u001b[0m \u001b[1m0s\u001b[0m 3ms/step \n",
      "\n",
      "\n",
      "--- Testing Configuration: 48:{'layers': [4, 2], 'dropout': 0.0, 'lr': 0.001, 'batch_size': 16} ---\n"
     ]
    },
    {
     "name": "stderr",
     "output_type": "stream",
     "text": [
      "Epochs: 100%|██████████| 500/500 [00:51<00:00,  9.72epoch/s, loss=10.8379, val_loss=10.9909]\n",
      "Epochs: 100%|██████████| 500/500 [00:51<00:00,  9.74epoch/s, loss=0.4485, val_loss=0.4288]"
     ]
    },
    {
     "name": "stdout",
     "output_type": "stream",
     "text": [
      "\u001b[1m3/3\u001b[0m \u001b[32m━━━━━━━━━━━━━━━━━━━━\u001b[0m\u001b[37m\u001b[0m \u001b[1m0s\u001b[0m 15ms/step\n"
     ]
    },
    {
     "name": "stderr",
     "output_type": "stream",
     "text": [
      "\n"
     ]
    },
    {
     "name": "stdout",
     "output_type": "stream",
     "text": [
      "\u001b[1m3/3\u001b[0m \u001b[32m━━━━━━━━━━━━━━━━━━━━\u001b[0m\u001b[37m\u001b[0m \u001b[1m0s\u001b[0m 15ms/step\n",
      "\u001b[1m6/6\u001b[0m \u001b[32m━━━━━━━━━━━━━━━━━━━━\u001b[0m\u001b[37m\u001b[0m \u001b[1m0s\u001b[0m 3ms/step \n",
      "\u001b[1m6/6\u001b[0m \u001b[32m━━━━━━━━━━━━━━━━━━━━\u001b[0m\u001b[37m\u001b[0m \u001b[1m0s\u001b[0m 3ms/step \n",
      "\n",
      "\n",
      "--- Testing Configuration: 49:{'layers': [4, 2], 'dropout': 0.0, 'lr': 0.001, 'batch_size': 32} ---\n"
     ]
    },
    {
     "name": "stderr",
     "output_type": "stream",
     "text": [
      "Epochs:  63%|██████▎   | 317/500 [00:26<00:15, 11.87epoch/s, loss=0.4864, val_loss=0.5720]\n",
      "Epochs:  45%|████▍     | 224/500 [00:18<00:23, 11.83epoch/s, loss=0.4245, val_loss=0.4033]\n"
     ]
    },
    {
     "name": "stdout",
     "output_type": "stream",
     "text": [
      "\u001b[1m3/3\u001b[0m \u001b[32m━━━━━━━━━━━━━━━━━━━━\u001b[0m\u001b[37m\u001b[0m \u001b[1m0s\u001b[0m 17ms/step\n",
      "\u001b[1m3/3\u001b[0m \u001b[32m━━━━━━━━━━━━━━━━━━━━\u001b[0m\u001b[37m\u001b[0m \u001b[1m0s\u001b[0m 16ms/step\n",
      "\u001b[1m6/6\u001b[0m \u001b[32m━━━━━━━━━━━━━━━━━━━━\u001b[0m\u001b[37m\u001b[0m \u001b[1m0s\u001b[0m 3ms/step \n",
      "\u001b[1m6/6\u001b[0m \u001b[32m━━━━━━━━━━━━━━━━━━━━\u001b[0m\u001b[37m\u001b[0m \u001b[1m0s\u001b[0m 3ms/step \n",
      "\n",
      "\n",
      "--- Testing Configuration: 50:{'layers': [4, 2], 'dropout': 0.0, 'lr': 0.0005, 'batch_size': 16} ---\n"
     ]
    },
    {
     "name": "stderr",
     "output_type": "stream",
     "text": [
      "Epochs: 100%|██████████| 500/500 [00:51<00:00,  9.74epoch/s, loss=18.2564, val_loss=18.5003]\n",
      "Epochs: 100%|██████████| 500/500 [00:50<00:00,  9.86epoch/s, loss=0.4268, val_loss=0.4035]"
     ]
    },
    {
     "name": "stdout",
     "output_type": "stream",
     "text": [
      "\u001b[1m3/3\u001b[0m \u001b[32m━━━━━━━━━━━━━━━━━━━━\u001b[0m\u001b[37m\u001b[0m \u001b[1m0s\u001b[0m 17ms/step\n"
     ]
    },
    {
     "name": "stderr",
     "output_type": "stream",
     "text": [
      "\n"
     ]
    },
    {
     "name": "stdout",
     "output_type": "stream",
     "text": [
      "\u001b[1m3/3\u001b[0m \u001b[32m━━━━━━━━━━━━━━━━━━━━\u001b[0m\u001b[37m\u001b[0m \u001b[1m0s\u001b[0m 17ms/step\n",
      "\u001b[1m6/6\u001b[0m \u001b[32m━━━━━━━━━━━━━━━━━━━━\u001b[0m\u001b[37m\u001b[0m \u001b[1m0s\u001b[0m 3ms/step \n",
      "\u001b[1m6/6\u001b[0m \u001b[32m━━━━━━━━━━━━━━━━━━━━\u001b[0m\u001b[37m\u001b[0m \u001b[1m0s\u001b[0m 3ms/step \n",
      "\n",
      "\n",
      "--- Testing Configuration: 51:{'layers': [4, 2], 'dropout': 0.0, 'lr': 0.0005, 'batch_size': 32} ---\n"
     ]
    },
    {
     "name": "stderr",
     "output_type": "stream",
     "text": [
      "Epochs:  76%|███████▌  | 380/500 [00:31<00:10, 11.98epoch/s, loss=0.4823, val_loss=0.5837]\n",
      "Epochs: 100%|██████████| 500/500 [00:41<00:00, 12.16epoch/s, loss=0.4277, val_loss=0.4056]\n"
     ]
    },
    {
     "name": "stdout",
     "output_type": "stream",
     "text": [
      "\u001b[1m3/3\u001b[0m \u001b[32m━━━━━━━━━━━━━━━━━━━━\u001b[0m\u001b[37m\u001b[0m \u001b[1m0s\u001b[0m 17ms/step\n",
      "\u001b[1m3/3\u001b[0m \u001b[32m━━━━━━━━━━━━━━━━━━━━\u001b[0m\u001b[37m\u001b[0m \u001b[1m0s\u001b[0m 16ms/step\n",
      "\u001b[1m6/6\u001b[0m \u001b[32m━━━━━━━━━━━━━━━━━━━━\u001b[0m\u001b[37m\u001b[0m \u001b[1m0s\u001b[0m 3ms/step \n",
      "\u001b[1m6/6\u001b[0m \u001b[32m━━━━━━━━━━━━━━━━━━━━\u001b[0m\u001b[37m\u001b[0m \u001b[1m0s\u001b[0m 3ms/step \n",
      "\n",
      "\n",
      "--- Testing Configuration: 52:{'layers': [4, 2], 'dropout': 0.1, 'lr': 0.001, 'batch_size': 16} ---\n"
     ]
    },
    {
     "name": "stderr",
     "output_type": "stream",
     "text": [
      "Epochs:  22%|██▏       | 108/500 [00:11<00:43,  9.06epoch/s, loss=2.1488, val_loss=0.6863]\n",
      "Epochs: 100%|██████████| 500/500 [00:52<00:00,  9.61epoch/s, loss=0.4485, val_loss=0.4288]"
     ]
    },
    {
     "name": "stdout",
     "output_type": "stream",
     "text": [
      "\u001b[1m3/3\u001b[0m \u001b[32m━━━━━━━━━━━━━━━━━━━━\u001b[0m\u001b[37m\u001b[0m \u001b[1m0s\u001b[0m 15ms/step\n"
     ]
    },
    {
     "name": "stderr",
     "output_type": "stream",
     "text": [
      "\n"
     ]
    },
    {
     "name": "stdout",
     "output_type": "stream",
     "text": [
      "\u001b[1m3/3\u001b[0m \u001b[32m━━━━━━━━━━━━━━━━━━━━\u001b[0m\u001b[37m\u001b[0m \u001b[1m0s\u001b[0m 14ms/step\n",
      "\u001b[1m6/6\u001b[0m \u001b[32m━━━━━━━━━━━━━━━━━━━━\u001b[0m\u001b[37m\u001b[0m \u001b[1m0s\u001b[0m 3ms/step \n",
      "\u001b[1m6/6\u001b[0m \u001b[32m━━━━━━━━━━━━━━━━━━━━\u001b[0m\u001b[37m\u001b[0m \u001b[1m0s\u001b[0m 3ms/step \n",
      "\n",
      "\n",
      "--- Testing Configuration: 53:{'layers': [4, 2], 'dropout': 0.1, 'lr': 0.001, 'batch_size': 32} ---\n"
     ]
    },
    {
     "name": "stderr",
     "output_type": "stream",
     "text": [
      "Epochs:  39%|███▉      | 195/500 [00:16<00:26, 11.62epoch/s, loss=1.7388, val_loss=0.9076]\n",
      "Epochs:  27%|██▋       | 133/500 [00:11<00:32, 11.42epoch/s, loss=0.4642, val_loss=0.4304]\n"
     ]
    },
    {
     "name": "stdout",
     "output_type": "stream",
     "text": [
      "\u001b[1m3/3\u001b[0m \u001b[32m━━━━━━━━━━━━━━━━━━━━\u001b[0m\u001b[37m\u001b[0m \u001b[1m0s\u001b[0m 16ms/step\n",
      "\u001b[1m3/3\u001b[0m \u001b[32m━━━━━━━━━━━━━━━━━━━━\u001b[0m\u001b[37m\u001b[0m \u001b[1m0s\u001b[0m 15ms/step\n",
      "\u001b[1m6/6\u001b[0m \u001b[32m━━━━━━━━━━━━━━━━━━━━\u001b[0m\u001b[37m\u001b[0m \u001b[1m0s\u001b[0m 3ms/step \n",
      "\u001b[1m6/6\u001b[0m \u001b[32m━━━━━━━━━━━━━━━━━━━━\u001b[0m\u001b[37m\u001b[0m \u001b[1m0s\u001b[0m 3ms/step \n",
      "\n",
      "\n",
      "--- Testing Configuration: 54:{'layers': [4, 2], 'dropout': 0.1, 'lr': 0.0005, 'batch_size': 16} ---\n"
     ]
    },
    {
     "name": "stderr",
     "output_type": "stream",
     "text": [
      "Epochs:  34%|███▍      | 169/500 [00:18<00:35,  9.32epoch/s, loss=3.2610, val_loss=0.6496]\n",
      "Epochs:  65%|██████▍   | 324/500 [00:34<00:18,  9.53epoch/s, loss=0.4786, val_loss=0.4270]"
     ]
    },
    {
     "name": "stdout",
     "output_type": "stream",
     "text": [
      "\u001b[1m1/3\u001b[0m \u001b[32m━━━━━━\u001b[0m\u001b[37m━━━━━━━━━━━━━━\u001b[0m \u001b[1m0s\u001b[0m 33ms/step"
     ]
    },
    {
     "name": "stderr",
     "output_type": "stream",
     "text": [
      "\n"
     ]
    },
    {
     "name": "stdout",
     "output_type": "stream",
     "text": [
      "\u001b[1m3/3\u001b[0m \u001b[32m━━━━━━━━━━━━━━━━━━━━\u001b[0m\u001b[37m\u001b[0m \u001b[1m0s\u001b[0m 18ms/step\n",
      "\u001b[1m3/3\u001b[0m \u001b[32m━━━━━━━━━━━━━━━━━━━━\u001b[0m\u001b[37m\u001b[0m \u001b[1m0s\u001b[0m 15ms/step\n",
      "\u001b[1m6/6\u001b[0m \u001b[32m━━━━━━━━━━━━━━━━━━━━\u001b[0m\u001b[37m\u001b[0m \u001b[1m0s\u001b[0m 3ms/step \n",
      "\u001b[1m6/6\u001b[0m \u001b[32m━━━━━━━━━━━━━━━━━━━━\u001b[0m\u001b[37m\u001b[0m \u001b[1m0s\u001b[0m 3ms/step \n",
      "\n",
      "\n",
      "--- Testing Configuration: 55:{'layers': [4, 2], 'dropout': 0.1, 'lr': 0.0005, 'batch_size': 32} ---\n"
     ]
    },
    {
     "name": "stderr",
     "output_type": "stream",
     "text": [
      "Epochs: 100%|██████████| 500/500 [00:41<00:00, 11.94epoch/s, loss=22.1492, val_loss=22.4000]\n",
      "Epochs:  32%|███▏      | 159/500 [00:13<00:29, 11.56epoch/s, loss=0.4541, val_loss=0.4371]\n"
     ]
    },
    {
     "name": "stdout",
     "output_type": "stream",
     "text": [
      "\u001b[1m3/3\u001b[0m \u001b[32m━━━━━━━━━━━━━━━━━━━━\u001b[0m\u001b[37m\u001b[0m \u001b[1m0s\u001b[0m 15ms/step\n",
      "\u001b[1m3/3\u001b[0m \u001b[32m━━━━━━━━━━━━━━━━━━━━\u001b[0m\u001b[37m\u001b[0m \u001b[1m0s\u001b[0m 14ms/step\n",
      "\u001b[1m6/6\u001b[0m \u001b[32m━━━━━━━━━━━━━━━━━━━━\u001b[0m\u001b[37m\u001b[0m \u001b[1m0s\u001b[0m 3ms/step \n",
      "\u001b[1m6/6\u001b[0m \u001b[32m━━━━━━━━━━━━━━━━━━━━\u001b[0m\u001b[37m\u001b[0m \u001b[1m0s\u001b[0m 3ms/step \n",
      "\n",
      "\n",
      "--- Testing Configuration: 56:{'layers': [4, 2], 'dropout': 0.2, 'lr': 0.001, 'batch_size': 16} ---\n"
     ]
    },
    {
     "name": "stderr",
     "output_type": "stream",
     "text": [
      "Epochs:  41%|████▏     | 207/500 [00:22<00:31,  9.31epoch/s, loss=5.0831, val_loss=1.2770]\n",
      "Epochs:  52%|█████▏    | 260/500 [00:27<00:25,  9.53epoch/s, loss=0.4834, val_loss=0.4396]"
     ]
    },
    {
     "name": "stdout",
     "output_type": "stream",
     "text": [
      "\u001b[1m3/3\u001b[0m \u001b[32m━━━━━━━━━━━━━━━━━━━━\u001b[0m\u001b[37m\u001b[0m \u001b[1m0s\u001b[0m 15ms/step\n"
     ]
    },
    {
     "name": "stderr",
     "output_type": "stream",
     "text": [
      "\n"
     ]
    },
    {
     "name": "stdout",
     "output_type": "stream",
     "text": [
      "\u001b[1m3/3\u001b[0m \u001b[32m━━━━━━━━━━━━━━━━━━━━\u001b[0m\u001b[37m\u001b[0m \u001b[1m0s\u001b[0m 15ms/step\n",
      "\u001b[1m6/6\u001b[0m \u001b[32m━━━━━━━━━━━━━━━━━━━━\u001b[0m\u001b[37m\u001b[0m \u001b[1m0s\u001b[0m 3ms/step \n",
      "\u001b[1m6/6\u001b[0m \u001b[32m━━━━━━━━━━━━━━━━━━━━\u001b[0m\u001b[37m\u001b[0m \u001b[1m0s\u001b[0m 3ms/step \n",
      "\n",
      "\n",
      "--- Testing Configuration: 57:{'layers': [4, 2], 'dropout': 0.2, 'lr': 0.001, 'batch_size': 32} ---\n"
     ]
    },
    {
     "name": "stderr",
     "output_type": "stream",
     "text": [
      "Epochs:  43%|████▎     | 217/500 [00:19<00:24, 11.41epoch/s, loss=6.7264, val_loss=0.5721]\n",
      "Epochs: 100%|██████████| 500/500 [00:41<00:00, 11.98epoch/s, loss=0.4730, val_loss=0.4768]\n"
     ]
    },
    {
     "name": "stdout",
     "output_type": "stream",
     "text": [
      "\u001b[1m3/3\u001b[0m \u001b[32m━━━━━━━━━━━━━━━━━━━━\u001b[0m\u001b[37m\u001b[0m \u001b[1m0s\u001b[0m 15ms/step\n",
      "\u001b[1m3/3\u001b[0m \u001b[32m━━━━━━━━━━━━━━━━━━━━\u001b[0m\u001b[37m\u001b[0m \u001b[1m0s\u001b[0m 15ms/step\n",
      "\u001b[1m6/6\u001b[0m \u001b[32m━━━━━━━━━━━━━━━━━━━━\u001b[0m\u001b[37m\u001b[0m \u001b[1m0s\u001b[0m 3ms/step \n",
      "\u001b[1m6/6\u001b[0m \u001b[32m━━━━━━━━━━━━━━━━━━━━\u001b[0m\u001b[37m\u001b[0m \u001b[1m0s\u001b[0m 3ms/step \n",
      "\n",
      "\n",
      "--- Testing Configuration: 58:{'layers': [4, 2], 'dropout': 0.2, 'lr': 0.0005, 'batch_size': 16} ---\n"
     ]
    },
    {
     "name": "stderr",
     "output_type": "stream",
     "text": [
      "Epochs: 100%|██████████| 500/500 [00:52<00:00,  9.57epoch/s, loss=18.2564, val_loss=18.5003]\n",
      "Epochs:  43%|████▎     | 213/500 [00:22<00:29,  9.63epoch/s, loss=0.4766, val_loss=0.4572]"
     ]
    },
    {
     "name": "stdout",
     "output_type": "stream",
     "text": [
      "\u001b[1m1/3\u001b[0m \u001b[32m━━━━━━\u001b[0m\u001b[37m━━━━━━━━━━━━━━\u001b[0m \u001b[1m0s\u001b[0m 39ms/step"
     ]
    },
    {
     "name": "stderr",
     "output_type": "stream",
     "text": [
      "\n"
     ]
    },
    {
     "name": "stdout",
     "output_type": "stream",
     "text": [
      "\u001b[1m3/3\u001b[0m \u001b[32m━━━━━━━━━━━━━━━━━━━━\u001b[0m\u001b[37m\u001b[0m \u001b[1m0s\u001b[0m 17ms/step\n",
      "\u001b[1m3/3\u001b[0m \u001b[32m━━━━━━━━━━━━━━━━━━━━\u001b[0m\u001b[37m\u001b[0m \u001b[1m0s\u001b[0m 17ms/step\n",
      "\u001b[1m6/6\u001b[0m \u001b[32m━━━━━━━━━━━━━━━━━━━━\u001b[0m\u001b[37m\u001b[0m \u001b[1m0s\u001b[0m 3ms/step \n",
      "\u001b[1m6/6\u001b[0m \u001b[32m━━━━━━━━━━━━━━━━━━━━\u001b[0m\u001b[37m\u001b[0m \u001b[1m0s\u001b[0m 3ms/step \n",
      "\n",
      "\n",
      "--- Testing Configuration: 59:{'layers': [4, 2], 'dropout': 0.2, 'lr': 0.0005, 'batch_size': 32} ---\n"
     ]
    },
    {
     "name": "stderr",
     "output_type": "stream",
     "text": [
      "Epochs: 100%|██████████| 500/500 [00:42<00:00, 11.87epoch/s, loss=22.1492, val_loss=22.4000]\n",
      "Epochs: 100%|██████████| 500/500 [00:41<00:00, 11.93epoch/s, loss=0.5679, val_loss=0.5744]\n"
     ]
    },
    {
     "name": "stdout",
     "output_type": "stream",
     "text": [
      "\u001b[1m3/3\u001b[0m \u001b[32m━━━━━━━━━━━━━━━━━━━━\u001b[0m\u001b[37m\u001b[0m \u001b[1m0s\u001b[0m 15ms/step\n",
      "\u001b[1m3/3\u001b[0m \u001b[32m━━━━━━━━━━━━━━━━━━━━\u001b[0m\u001b[37m\u001b[0m \u001b[1m0s\u001b[0m 15ms/step\n",
      "\u001b[1m6/6\u001b[0m \u001b[32m━━━━━━━━━━━━━━━━━━━━\u001b[0m\u001b[37m\u001b[0m \u001b[1m0s\u001b[0m 3ms/step \n",
      "\u001b[1m6/6\u001b[0m \u001b[32m━━━━━━━━━━━━━━━━━━━━\u001b[0m\u001b[37m\u001b[0m \u001b[1m0s\u001b[0m 3ms/step \n",
      "\n",
      "\n",
      "--- Testing Configuration: 60:{'layers': [8, 4], 'dropout': 0.0, 'lr': 0.001, 'batch_size': 16} ---\n"
     ]
    },
    {
     "name": "stderr",
     "output_type": "stream",
     "text": [
      "Epochs:  64%|██████▍   | 319/500 [00:33<00:19,  9.52epoch/s, loss=0.4393, val_loss=0.5850]\n",
      "Epochs:  36%|███▌      | 180/500 [00:18<00:33,  9.57epoch/s, loss=0.4239, val_loss=0.4024]\n"
     ]
    },
    {
     "name": "stdout",
     "output_type": "stream",
     "text": [
      "\u001b[1m3/3\u001b[0m \u001b[32m━━━━━━━━━━━━━━━━━━━━\u001b[0m\u001b[37m\u001b[0m \u001b[1m0s\u001b[0m 17ms/step\n",
      "\u001b[1m3/3\u001b[0m \u001b[32m━━━━━━━━━━━━━━━━━━━━\u001b[0m\u001b[37m\u001b[0m \u001b[1m0s\u001b[0m 15ms/step\n",
      "\u001b[1m6/6\u001b[0m \u001b[32m━━━━━━━━━━━━━━━━━━━━\u001b[0m\u001b[37m\u001b[0m \u001b[1m0s\u001b[0m 3ms/step \n",
      "\u001b[1m6/6\u001b[0m \u001b[32m━━━━━━━━━━━━━━━━━━━━\u001b[0m\u001b[37m\u001b[0m \u001b[1m0s\u001b[0m 3ms/step \n",
      "\n",
      "\n",
      "--- Testing Configuration: 61:{'layers': [8, 4], 'dropout': 0.0, 'lr': 0.001, 'batch_size': 32} ---\n"
     ]
    },
    {
     "name": "stderr",
     "output_type": "stream",
     "text": [
      "Epochs:  42%|████▏     | 210/500 [00:17<00:24, 11.72epoch/s, loss=0.4798, val_loss=0.5873]\n",
      "Epochs:  58%|█████▊    | 291/500 [00:24<00:17, 11.98epoch/s, loss=0.4242, val_loss=0.3966]\n"
     ]
    },
    {
     "name": "stdout",
     "output_type": "stream",
     "text": [
      "\u001b[1m3/3\u001b[0m \u001b[32m━━━━━━━━━━━━━━━━━━━━\u001b[0m\u001b[37m\u001b[0m \u001b[1m0s\u001b[0m 17ms/step\n",
      "\u001b[1m3/3\u001b[0m \u001b[32m━━━━━━━━━━━━━━━━━━━━\u001b[0m\u001b[37m\u001b[0m \u001b[1m0s\u001b[0m 15ms/step\n",
      "\u001b[1m6/6\u001b[0m \u001b[32m━━━━━━━━━━━━━━━━━━━━\u001b[0m\u001b[37m\u001b[0m \u001b[1m0s\u001b[0m 3ms/step \n",
      "\u001b[1m6/6\u001b[0m \u001b[32m━━━━━━━━━━━━━━━━━━━━\u001b[0m\u001b[37m\u001b[0m \u001b[1m0s\u001b[0m 3ms/step \n",
      "\n",
      "\n",
      "--- Testing Configuration: 62:{'layers': [8, 4], 'dropout': 0.0, 'lr': 0.0005, 'batch_size': 16} ---\n"
     ]
    },
    {
     "name": "stderr",
     "output_type": "stream",
     "text": [
      "Epochs: 100%|██████████| 500/500 [00:51<00:00,  9.70epoch/s, loss=18.2564, val_loss=18.5003]\n",
      "Epochs:  57%|█████▋    | 286/500 [00:29<00:22,  9.68epoch/s, loss=0.4168, val_loss=0.3980]\n"
     ]
    },
    {
     "name": "stdout",
     "output_type": "stream",
     "text": [
      "\u001b[1m3/3\u001b[0m \u001b[32m━━━━━━━━━━━━━━━━━━━━\u001b[0m\u001b[37m\u001b[0m \u001b[1m0s\u001b[0m 15ms/step\n",
      "\u001b[1m3/3\u001b[0m \u001b[32m━━━━━━━━━━━━━━━━━━━━\u001b[0m\u001b[37m\u001b[0m \u001b[1m0s\u001b[0m 15ms/step\n",
      "\u001b[1m6/6\u001b[0m \u001b[32m━━━━━━━━━━━━━━━━━━━━\u001b[0m\u001b[37m\u001b[0m \u001b[1m0s\u001b[0m 3ms/step \n",
      "\u001b[1m6/6\u001b[0m \u001b[32m━━━━━━━━━━━━━━━━━━━━\u001b[0m\u001b[37m\u001b[0m \u001b[1m0s\u001b[0m 3ms/step \n",
      "\n",
      "\n",
      "--- Testing Configuration: 63:{'layers': [8, 4], 'dropout': 0.0, 'lr': 0.0005, 'batch_size': 32} ---\n"
     ]
    },
    {
     "name": "stderr",
     "output_type": "stream",
     "text": [
      "Epochs:  86%|████████▌ | 431/500 [00:36<00:05, 11.89epoch/s, loss=0.4794, val_loss=0.5727]\n",
      "Epochs: 100%|██████████| 500/500 [00:41<00:00, 12.15epoch/s, loss=0.4243, val_loss=0.3999]\n"
     ]
    },
    {
     "name": "stdout",
     "output_type": "stream",
     "text": [
      "\u001b[1m3/3\u001b[0m \u001b[32m━━━━━━━━━━━━━━━━━━━━\u001b[0m\u001b[37m\u001b[0m \u001b[1m0s\u001b[0m 14ms/step\n",
      "\u001b[1m3/3\u001b[0m \u001b[32m━━━━━━━━━━━━━━━━━━━━\u001b[0m\u001b[37m\u001b[0m \u001b[1m0s\u001b[0m 15ms/step\n",
      "\u001b[1m6/6\u001b[0m \u001b[32m━━━━━━━━━━━━━━━━━━━━\u001b[0m\u001b[37m\u001b[0m \u001b[1m0s\u001b[0m 3ms/step \n",
      "\u001b[1m6/6\u001b[0m \u001b[32m━━━━━━━━━━━━━━━━━━━━\u001b[0m\u001b[37m\u001b[0m \u001b[1m0s\u001b[0m 3ms/step \n",
      "\n",
      "\n",
      "--- Testing Configuration: 64:{'layers': [8, 4], 'dropout': 0.1, 'lr': 0.001, 'batch_size': 16} ---\n"
     ]
    },
    {
     "name": "stderr",
     "output_type": "stream",
     "text": [
      "Epochs:  15%|█▌        | 76/500 [00:08<00:48,  8.77epoch/s, loss=1.1227, val_loss=0.7385]\n",
      "Epochs:  16%|█▋        | 82/500 [00:09<00:46,  9.07epoch/s, loss=0.4529, val_loss=0.4185]"
     ]
    },
    {
     "name": "stdout",
     "output_type": "stream",
     "text": [
      "\u001b[1m1/3\u001b[0m \u001b[32m━━━━━━\u001b[0m\u001b[37m━━━━━━━━━━━━━━\u001b[0m \u001b[1m0s\u001b[0m 34ms/step"
     ]
    },
    {
     "name": "stderr",
     "output_type": "stream",
     "text": [
      "\n"
     ]
    },
    {
     "name": "stdout",
     "output_type": "stream",
     "text": [
      "\u001b[1m3/3\u001b[0m \u001b[32m━━━━━━━━━━━━━━━━━━━━\u001b[0m\u001b[37m\u001b[0m \u001b[1m0s\u001b[0m 21ms/step\n",
      "\u001b[1m3/3\u001b[0m \u001b[32m━━━━━━━━━━━━━━━━━━━━\u001b[0m\u001b[37m\u001b[0m \u001b[1m0s\u001b[0m 16ms/step\n",
      "\u001b[1m6/6\u001b[0m \u001b[32m━━━━━━━━━━━━━━━━━━━━\u001b[0m\u001b[37m\u001b[0m \u001b[1m0s\u001b[0m 3ms/step \n",
      "\u001b[1m6/6\u001b[0m \u001b[32m━━━━━━━━━━━━━━━━━━━━\u001b[0m\u001b[37m\u001b[0m \u001b[1m0s\u001b[0m 3ms/step \n",
      "\n",
      "\n",
      "--- Testing Configuration: 65:{'layers': [8, 4], 'dropout': 0.1, 'lr': 0.001, 'batch_size': 32} ---\n"
     ]
    },
    {
     "name": "stderr",
     "output_type": "stream",
     "text": [
      "Epochs:  21%|██        | 106/500 [00:09<00:35, 11.22epoch/s, loss=1.3999, val_loss=0.7752]\n",
      "Epochs:  33%|███▎      | 167/500 [00:14<00:28, 11.63epoch/s, loss=0.4635, val_loss=0.4237]\n"
     ]
    },
    {
     "name": "stdout",
     "output_type": "stream",
     "text": [
      "\u001b[1m3/3\u001b[0m \u001b[32m━━━━━━━━━━━━━━━━━━━━\u001b[0m\u001b[37m\u001b[0m \u001b[1m0s\u001b[0m 15ms/step\n",
      "\u001b[1m3/3\u001b[0m \u001b[32m━━━━━━━━━━━━━━━━━━━━\u001b[0m\u001b[37m\u001b[0m \u001b[1m0s\u001b[0m 15ms/step\n",
      "\u001b[1m6/6\u001b[0m \u001b[32m━━━━━━━━━━━━━━━━━━━━\u001b[0m\u001b[37m\u001b[0m \u001b[1m0s\u001b[0m 3ms/step \n",
      "\u001b[1m6/6\u001b[0m \u001b[32m━━━━━━━━━━━━━━━━━━━━\u001b[0m\u001b[37m\u001b[0m \u001b[1m0s\u001b[0m 3ms/step \n",
      "\n",
      "\n",
      "--- Testing Configuration: 66:{'layers': [8, 4], 'dropout': 0.1, 'lr': 0.0005, 'batch_size': 16} ---\n"
     ]
    },
    {
     "name": "stderr",
     "output_type": "stream",
     "text": [
      "Epochs:  24%|██▍       | 120/500 [00:13<00:41,  9.22epoch/s, loss=1.5223, val_loss=0.8158]\n",
      "Epochs:  17%|█▋        | 87/500 [00:09<00:46,  8.95epoch/s, loss=0.4667, val_loss=0.4332]"
     ]
    },
    {
     "name": "stdout",
     "output_type": "stream",
     "text": [
      "\u001b[1m3/3\u001b[0m \u001b[32m━━━━━━━━━━━━━━━━━━━━\u001b[0m\u001b[37m\u001b[0m \u001b[1m0s\u001b[0m 16ms/step\n"
     ]
    },
    {
     "name": "stderr",
     "output_type": "stream",
     "text": [
      "\n"
     ]
    },
    {
     "name": "stdout",
     "output_type": "stream",
     "text": [
      "\u001b[1m3/3\u001b[0m \u001b[32m━━━━━━━━━━━━━━━━━━━━\u001b[0m\u001b[37m\u001b[0m \u001b[1m0s\u001b[0m 15ms/step\n",
      "\u001b[1m6/6\u001b[0m \u001b[32m━━━━━━━━━━━━━━━━━━━━\u001b[0m\u001b[37m\u001b[0m \u001b[1m0s\u001b[0m 3ms/step \n",
      "\u001b[1m6/6\u001b[0m \u001b[32m━━━━━━━━━━━━━━━━━━━━\u001b[0m\u001b[37m\u001b[0m \u001b[1m0s\u001b[0m 3ms/step \n",
      "\n",
      "\n",
      "--- Testing Configuration: 67:{'layers': [8, 4], 'dropout': 0.1, 'lr': 0.0005, 'batch_size': 32} ---\n"
     ]
    },
    {
     "name": "stderr",
     "output_type": "stream",
     "text": [
      "Epochs:  38%|███▊      | 191/500 [00:16<00:26, 11.56epoch/s, loss=1.4530, val_loss=0.6791]\n",
      "Epochs:  21%|██        | 105/500 [00:09<00:34, 11.32epoch/s, loss=0.4483, val_loss=0.4168]\n"
     ]
    },
    {
     "name": "stdout",
     "output_type": "stream",
     "text": [
      "\u001b[1m3/3\u001b[0m \u001b[32m━━━━━━━━━━━━━━━━━━━━\u001b[0m\u001b[37m\u001b[0m \u001b[1m0s\u001b[0m 16ms/step\n",
      "\u001b[1m3/3\u001b[0m \u001b[32m━━━━━━━━━━━━━━━━━━━━\u001b[0m\u001b[37m\u001b[0m \u001b[1m0s\u001b[0m 15ms/step\n",
      "\u001b[1m6/6\u001b[0m \u001b[32m━━━━━━━━━━━━━━━━━━━━\u001b[0m\u001b[37m\u001b[0m \u001b[1m0s\u001b[0m 3ms/step \n",
      "\u001b[1m6/6\u001b[0m \u001b[32m━━━━━━━━━━━━━━━━━━━━\u001b[0m\u001b[37m\u001b[0m \u001b[1m0s\u001b[0m 3ms/step \n",
      "\n",
      "\n",
      "--- Testing Configuration: 68:{'layers': [8, 4], 'dropout': 0.2, 'lr': 0.001, 'batch_size': 16} ---\n"
     ]
    },
    {
     "name": "stderr",
     "output_type": "stream",
     "text": [
      "Epochs:  25%|██▍       | 124/500 [00:13<00:40,  9.20epoch/s, loss=6.1573, val_loss=0.6084]\n",
      "Epochs:  19%|█▉        | 97/500 [00:10<00:44,  9.16epoch/s, loss=0.4636, val_loss=0.4362]"
     ]
    },
    {
     "name": "stdout",
     "output_type": "stream",
     "text": [
      "\u001b[1m1/3\u001b[0m \u001b[32m━━━━━━\u001b[0m\u001b[37m━━━━━━━━━━━━━━\u001b[0m \u001b[1m0s\u001b[0m 34ms/step"
     ]
    },
    {
     "name": "stderr",
     "output_type": "stream",
     "text": [
      "\n"
     ]
    },
    {
     "name": "stdout",
     "output_type": "stream",
     "text": [
      "\u001b[1m3/3\u001b[0m \u001b[32m━━━━━━━━━━━━━━━━━━━━\u001b[0m\u001b[37m\u001b[0m \u001b[1m0s\u001b[0m 16ms/step\n",
      "\u001b[1m3/3\u001b[0m \u001b[32m━━━━━━━━━━━━━━━━━━━━\u001b[0m\u001b[37m\u001b[0m \u001b[1m0s\u001b[0m 14ms/step\n",
      "\u001b[1m6/6\u001b[0m \u001b[32m━━━━━━━━━━━━━━━━━━━━\u001b[0m\u001b[37m\u001b[0m \u001b[1m0s\u001b[0m 3ms/step \n",
      "\u001b[1m6/6\u001b[0m \u001b[32m━━━━━━━━━━━━━━━━━━━━\u001b[0m\u001b[37m\u001b[0m \u001b[1m0s\u001b[0m 3ms/step \n",
      "\n",
      "\n",
      "--- Testing Configuration: 69:{'layers': [8, 4], 'dropout': 0.2, 'lr': 0.001, 'batch_size': 32} ---\n"
     ]
    },
    {
     "name": "stderr",
     "output_type": "stream",
     "text": [
      "Epochs:  19%|█▉        | 94/500 [00:08<00:37, 10.91epoch/s, loss=1.6780, val_loss=0.8790]\n",
      "Epochs:  36%|███▌      | 181/500 [00:15<00:27, 11.53epoch/s, loss=0.4415, val_loss=0.4284]\n"
     ]
    },
    {
     "name": "stdout",
     "output_type": "stream",
     "text": [
      "\u001b[1m3/3\u001b[0m \u001b[32m━━━━━━━━━━━━━━━━━━━━\u001b[0m\u001b[37m\u001b[0m \u001b[1m0s\u001b[0m 15ms/step\n",
      "\u001b[1m3/3\u001b[0m \u001b[32m━━━━━━━━━━━━━━━━━━━━\u001b[0m\u001b[37m\u001b[0m \u001b[1m0s\u001b[0m 14ms/step\n",
      "\u001b[1m6/6\u001b[0m \u001b[32m━━━━━━━━━━━━━━━━━━━━\u001b[0m\u001b[37m\u001b[0m \u001b[1m0s\u001b[0m 3ms/step \n",
      "\u001b[1m6/6\u001b[0m \u001b[32m━━━━━━━━━━━━━━━━━━━━\u001b[0m\u001b[37m\u001b[0m \u001b[1m0s\u001b[0m 3ms/step \n",
      "\n",
      "\n",
      "--- Testing Configuration: 70:{'layers': [8, 4], 'dropout': 0.2, 'lr': 0.0005, 'batch_size': 16} ---\n"
     ]
    },
    {
     "name": "stderr",
     "output_type": "stream",
     "text": [
      "Epochs:  23%|██▎       | 115/500 [00:12<00:42,  9.11epoch/s, loss=2.4653, val_loss=0.8406]\n",
      "Epochs:  40%|████      | 200/500 [00:21<00:31,  9.43epoch/s, loss=0.4592, val_loss=0.4273]"
     ]
    },
    {
     "name": "stdout",
     "output_type": "stream",
     "text": [
      "\u001b[1m1/3\u001b[0m \u001b[32m━━━━━━\u001b[0m\u001b[37m━━━━━━━━━━━━━━\u001b[0m \u001b[1m0s\u001b[0m 31ms/step"
     ]
    },
    {
     "name": "stderr",
     "output_type": "stream",
     "text": [
      "\n"
     ]
    },
    {
     "name": "stdout",
     "output_type": "stream",
     "text": [
      "\u001b[1m3/3\u001b[0m \u001b[32m━━━━━━━━━━━━━━━━━━━━\u001b[0m\u001b[37m\u001b[0m \u001b[1m0s\u001b[0m 14ms/step\n",
      "\u001b[1m3/3\u001b[0m \u001b[32m━━━━━━━━━━━━━━━━━━━━\u001b[0m\u001b[37m\u001b[0m \u001b[1m0s\u001b[0m 15ms/step\n",
      "\u001b[1m6/6\u001b[0m \u001b[32m━━━━━━━━━━━━━━━━━━━━\u001b[0m\u001b[37m\u001b[0m \u001b[1m0s\u001b[0m 3ms/step \n",
      "\u001b[1m6/6\u001b[0m \u001b[32m━━━━━━━━━━━━━━━━━━━━\u001b[0m\u001b[37m\u001b[0m \u001b[1m0s\u001b[0m 3ms/step \n",
      "\n",
      "\n",
      "--- Testing Configuration: 71:{'layers': [8, 4], 'dropout': 0.2, 'lr': 0.0005, 'batch_size': 32} ---\n"
     ]
    },
    {
     "name": "stderr",
     "output_type": "stream",
     "text": [
      "Epochs:  29%|██▉       | 145/500 [00:12<00:31, 11.32epoch/s, loss=1.7549, val_loss=0.7626]\n",
      "Epochs:  17%|█▋        | 84/500 [00:07<00:38, 10.86epoch/s, loss=0.4772, val_loss=0.4317]\n"
     ]
    },
    {
     "name": "stdout",
     "output_type": "stream",
     "text": [
      "\u001b[1m3/3\u001b[0m \u001b[32m━━━━━━━━━━━━━━━━━━━━\u001b[0m\u001b[37m\u001b[0m \u001b[1m0s\u001b[0m 16ms/step\n",
      "\u001b[1m3/3\u001b[0m \u001b[32m━━━━━━━━━━━━━━━━━━━━\u001b[0m\u001b[37m\u001b[0m \u001b[1m0s\u001b[0m 16ms/step\n",
      "\u001b[1m6/6\u001b[0m \u001b[32m━━━━━━━━━━━━━━━━━━━━\u001b[0m\u001b[37m\u001b[0m \u001b[1m0s\u001b[0m 3ms/step \n",
      "\u001b[1m6/6\u001b[0m \u001b[32m━━━━━━━━━━━━━━━━━━━━\u001b[0m\u001b[37m\u001b[0m \u001b[1m0s\u001b[0m 3ms/step \n",
      "\n",
      "\n",
      "--- Experiment Results Summary ---\n",
      "    layers  dropout      lr  batch_size      PICP       MPIW\n",
      "0      [2]      0.0  0.0010          16  0.940476  30.342257\n",
      "1      [2]      0.0  0.0010          32  0.000000  -3.354056\n",
      "2      [2]      0.0  0.0005          16  0.934524  30.277920\n",
      "3      [2]      0.0  0.0005          32  0.928571  30.730301\n",
      "4      [2]      0.1  0.0010          16  0.922619  27.626858\n",
      "..     ...      ...     ...         ...       ...        ...\n",
      "67  [8, 4]      0.1  0.0005          32  0.958333  34.018173\n",
      "68  [8, 4]      0.2  0.0010          16  0.946429  32.809772\n",
      "69  [8, 4]      0.2  0.0010          32  0.976190  35.716419\n",
      "70  [8, 4]      0.2  0.0005          16  0.970238  35.095657\n",
      "71  [8, 4]      0.2  0.0005          32  0.970238  35.753826\n",
      "\n",
      "[72 rows x 6 columns]\n"
     ]
    }
   ],
   "source": [
    "result_df_exhaustive = fine_tune(param_grid)"
   ]
  },
  {
   "cell_type": "code",
   "execution_count": 22,
   "id": "f66584e7",
   "metadata": {},
   "outputs": [],
   "source": [
    "all_results.append(result_df_exhaustive)"
   ]
  },
  {
   "cell_type": "code",
   "execution_count": 23,
   "id": "ddb040a5",
   "metadata": {},
   "outputs": [],
   "source": [
    "all_results_df = pd.concat(all_results, ignore_index=True)"
   ]
  },
  {
   "cell_type": "code",
   "execution_count": 24,
   "id": "ebaf33f0",
   "metadata": {},
   "outputs": [
    {
     "data": {
      "text/html": [
       "<div>\n",
       "<style scoped>\n",
       "    .dataframe tbody tr th:only-of-type {\n",
       "        vertical-align: middle;\n",
       "    }\n",
       "\n",
       "    .dataframe tbody tr th {\n",
       "        vertical-align: top;\n",
       "    }\n",
       "\n",
       "    .dataframe thead th {\n",
       "        text-align: right;\n",
       "    }\n",
       "</style>\n",
       "<table border=\"1\" class=\"dataframe\">\n",
       "  <thead>\n",
       "    <tr style=\"text-align: right;\">\n",
       "      <th></th>\n",
       "      <th>layers</th>\n",
       "      <th>dropout</th>\n",
       "      <th>lr</th>\n",
       "      <th>batch_size</th>\n",
       "      <th>PICP</th>\n",
       "      <th>MPIW</th>\n",
       "    </tr>\n",
       "  </thead>\n",
       "  <tbody>\n",
       "    <tr>\n",
       "      <th>0</th>\n",
       "      <td>[8]</td>\n",
       "      <td>0.0</td>\n",
       "      <td>0.0010</td>\n",
       "      <td>32</td>\n",
       "      <td>0.940476</td>\n",
       "      <td>30.714245</td>\n",
       "    </tr>\n",
       "    <tr>\n",
       "      <th>1</th>\n",
       "      <td>[8]</td>\n",
       "      <td>0.1</td>\n",
       "      <td>0.0010</td>\n",
       "      <td>32</td>\n",
       "      <td>0.958333</td>\n",
       "      <td>33.635307</td>\n",
       "    </tr>\n",
       "    <tr>\n",
       "      <th>2</th>\n",
       "      <td>[8]</td>\n",
       "      <td>0.2</td>\n",
       "      <td>0.0010</td>\n",
       "      <td>32</td>\n",
       "      <td>0.958333</td>\n",
       "      <td>33.811687</td>\n",
       "    </tr>\n",
       "    <tr>\n",
       "      <th>3</th>\n",
       "      <td>[16]</td>\n",
       "      <td>0.0</td>\n",
       "      <td>0.0010</td>\n",
       "      <td>32</td>\n",
       "      <td>0.934524</td>\n",
       "      <td>30.862888</td>\n",
       "    </tr>\n",
       "    <tr>\n",
       "      <th>4</th>\n",
       "      <td>[16]</td>\n",
       "      <td>0.1</td>\n",
       "      <td>0.0010</td>\n",
       "      <td>32</td>\n",
       "      <td>0.952381</td>\n",
       "      <td>32.386909</td>\n",
       "    </tr>\n",
       "    <tr>\n",
       "      <th>...</th>\n",
       "      <td>...</td>\n",
       "      <td>...</td>\n",
       "      <td>...</td>\n",
       "      <td>...</td>\n",
       "      <td>...</td>\n",
       "      <td>...</td>\n",
       "    </tr>\n",
       "    <tr>\n",
       "      <th>93</th>\n",
       "      <td>[8, 4]</td>\n",
       "      <td>0.1</td>\n",
       "      <td>0.0005</td>\n",
       "      <td>32</td>\n",
       "      <td>0.958333</td>\n",
       "      <td>34.018173</td>\n",
       "    </tr>\n",
       "    <tr>\n",
       "      <th>94</th>\n",
       "      <td>[8, 4]</td>\n",
       "      <td>0.2</td>\n",
       "      <td>0.0010</td>\n",
       "      <td>16</td>\n",
       "      <td>0.946429</td>\n",
       "      <td>32.809772</td>\n",
       "    </tr>\n",
       "    <tr>\n",
       "      <th>95</th>\n",
       "      <td>[8, 4]</td>\n",
       "      <td>0.2</td>\n",
       "      <td>0.0010</td>\n",
       "      <td>32</td>\n",
       "      <td>0.976190</td>\n",
       "      <td>35.716419</td>\n",
       "    </tr>\n",
       "    <tr>\n",
       "      <th>96</th>\n",
       "      <td>[8, 4]</td>\n",
       "      <td>0.2</td>\n",
       "      <td>0.0005</td>\n",
       "      <td>16</td>\n",
       "      <td>0.970238</td>\n",
       "      <td>35.095657</td>\n",
       "    </tr>\n",
       "    <tr>\n",
       "      <th>97</th>\n",
       "      <td>[8, 4]</td>\n",
       "      <td>0.2</td>\n",
       "      <td>0.0005</td>\n",
       "      <td>32</td>\n",
       "      <td>0.970238</td>\n",
       "      <td>35.753826</td>\n",
       "    </tr>\n",
       "  </tbody>\n",
       "</table>\n",
       "<p>98 rows × 6 columns</p>\n",
       "</div>"
      ],
      "text/plain": [
       "    layers  dropout      lr  batch_size      PICP       MPIW\n",
       "0      [8]      0.0  0.0010          32  0.940476  30.714245\n",
       "1      [8]      0.1  0.0010          32  0.958333  33.635307\n",
       "2      [8]      0.2  0.0010          32  0.958333  33.811687\n",
       "3     [16]      0.0  0.0010          32  0.934524  30.862888\n",
       "4     [16]      0.1  0.0010          32  0.952381  32.386909\n",
       "..     ...      ...     ...         ...       ...        ...\n",
       "93  [8, 4]      0.1  0.0005          32  0.958333  34.018173\n",
       "94  [8, 4]      0.2  0.0010          16  0.946429  32.809772\n",
       "95  [8, 4]      0.2  0.0010          32  0.976190  35.716419\n",
       "96  [8, 4]      0.2  0.0005          16  0.970238  35.095657\n",
       "97  [8, 4]      0.2  0.0005          32  0.970238  35.753826\n",
       "\n",
       "[98 rows x 6 columns]"
      ]
     },
     "execution_count": 24,
     "metadata": {},
     "output_type": "execute_result"
    }
   ],
   "source": [
    "all_results_df"
   ]
  },
  {
   "cell_type": "code",
   "execution_count": 25,
   "id": "9b996fb7",
   "metadata": {},
   "outputs": [],
   "source": [
    "all_results_df.to_csv('all_results.csv', index=False)"
   ]
  },
  {
   "cell_type": "code",
   "execution_count": 35,
   "id": "88427d6e",
   "metadata": {},
   "outputs": [],
   "source": [
    "all_results_df[all_results_df['PICP'] > 0.95].sort_values(by='PICP', ascending=False).to_markdown(\"results.md\", index=False)"
   ]
  },
  {
   "cell_type": "code",
   "execution_count": 44,
   "id": "c4611802",
   "metadata": {},
   "outputs": [
    {
     "data": {
      "image/png": "[encoded data removed]",
      "text/plain": [
       "<Figure size 1200x800 with 2 Axes>"
      ]
     },
     "metadata": {},
     "output_type": "display_data"
    }
   ],
   "source": [
    "import pandas as pd\n",
    "import matplotlib.pyplot as plt\n",
    "import numpy as np\n",
    "\n",
    "# Load the dataset from the CSV file you provided\n",
    "try:\n",
    "    df = pd.read_csv('all_results.csv')\n",
    "except FileNotFoundError:\n",
    "    print(\"Error: 'all_results.csv' not found. Please ensure the file is in the correct directory.\")\n",
    "    # Create a dummy dataframe if file not found, so the rest of the code can run for demonstration\n",
    "    df = pd.DataFrame({\n",
    "        'MPIW': np.random.uniform(30, 40, 50),\n",
    "        'PICP': np.random.uniform(0.9, 1.0, 50),\n",
    "        'dropout': np.random.choice([0.0, 0.1, 0.2], 50),\n",
    "        'layers': ['[16]'] * 50,\n",
    "        'lr': [0.0005] * 50,\n",
    "        'batch_size': [16] * 50,\n",
    "    })\n",
    "\n",
    "\n",
    "# --- Data Preparation for Plotting ---\n",
    "# Filter out failed runs to make the plot cleaner and focus on the competitive models\n",
    "df_filtered = df[df['PICP'] > 0.90].copy()\n",
    "\n",
    "# Find the optimal model based on your criteria (PICP >= 0.95, then lowest MPIW)\n",
    "valid_models = df_filtered[df_filtered['PICP'] >= 0.95]\n",
    "if not valid_models.empty:\n",
    "    optimal_model = valid_models.loc[valid_models['MPIW'].idxmin()]\n",
    "else:\n",
    "    optimal_model = None\n",
    "\n",
    "# --- Plotting ---\n",
    "plt.style.use('seaborn-v0_8-whitegrid')\n",
    "fig, ax = plt.subplots(figsize=(12, 8))\n",
    "\n",
    "# Create the scatter plot, with color representing the dropout rate\n",
    "scatter = ax.scatter(\n",
    "    df_filtered['MPIW'],\n",
    "    df_filtered['PICP'],\n",
    "    c=df_filtered['dropout'],\n",
    "    cmap='viridis',\n",
    "    alpha=0.8,\n",
    "    s=100, # s is the marker size\n",
    "    edgecolor='k',\n",
    "    linewidth=0.5\n",
    ")\n",
    "\n",
    "# Add a horizontal line for the 95% PICP threshold\n",
    "ax.axhline(y=0.95, color='red', linestyle='--', linewidth=2, label='95% PICP Threshold')\n",
    "\n",
    "# Annotate the optimal point\n",
    "if optimal_model is not None:\n",
    "    ax.scatter(optimal_model['MPIW'], optimal_model['PICP'], color='red', s=250, edgecolor='white', marker='*', zorder=5)\n",
    "    model_text = f\"\"\"Optimal Model\n",
    "    MPIW: {optimal_model['MPIW']:.2f}\n",
    "    PICP: {optimal_model['PICP']*100:.2f}%\n",
    "    Dropout: {optimal_model['dropout']}\n",
    "    Layers: {optimal_model['layers']}\n",
    "    LR: {optimal_model['lr']}\"\"\"\n",
    "    ax.annotate(\n",
    "        model_text,\n",
    "        xy=(optimal_model['MPIW'], optimal_model['PICP']),\n",
    "        xytext=(optimal_model['MPIW'] - 3, optimal_model['PICP'] + 0.002),\n",
    "        arrowprops=dict(facecolor='black', shrink=0.05, width=1, headwidth=8),\n",
    "        fontsize=10,\n",
    "        bbox=dict(boxstyle=\"round,pad=0.3\", fc=\"white\", ec=\"black\", lw=1, alpha=0.9)\n",
    "    )\n",
    "\n",
    "# --- Formatting ---\n",
    "ax.set_title('Hyperparameter Tuning Results: PICP vs. MPIW', fontsize=16)\n",
    "ax.set_xlabel('Mean Prediction Interval Width (MPIW) - Lower is Better →', fontsize=12)\n",
    "ax.set_ylabel('Prediction Interval Coverage (PICP) - Higher is Better ↑', fontsize=12)\n",
    "ax.legend()\n",
    "ax.grid(True, which='both', linestyle='--', linewidth=0.5)\n",
    "\n",
    "# Add a color bar to explain the dropout colors\n",
    "cbar = plt.colorbar(scatter)\n",
    "cbar.set_label('Dropout Rate', fontsize=12)\n",
    "\n",
    "# Set plot limits for better visualization\n",
    "plt.ylim(0.92, max(df_filtered['PICP']) * 1.01 if not df_filtered.empty else 1.0)\n",
    "plt.xlim(min(df_filtered['MPIW']) * 0.99 if not df_filtered.empty else 28, max(df_filtered['MPIW']) * 1.01 if not df_filtered.empty else 36)\n",
    "\n",
    "# You can also display it directly if you are in a Jupyter Notebook\n",
    "\n",
    "plt.show()"
   ]
  },
  {
   "cell_type": "code",
   "execution_count": 34,
   "id": "23235ad3",
   "metadata": {},
   "outputs": [],
   "source": [
    "all_results_df.to_markdown('results.md')"
   ]
  }
 ],
 "metadata": {
  "kernelspec": {
   "display_name": "Python 3 (ipykernel)",
   "language": "python",
   "name": "python3"
  },
  "language_info": {
   "codemirror_mode": {
    "name": "ipython",
    "version": 3
   },
   "file_extension": ".py",
   "mimetype": "text/x-python",
   "name": "python",
   "nbconvert_exporter": "python",
   "pygments_lexer": "ipython3",
   "version": "3.12.11"
  }
 },
 "nbformat": 4,
 "nbformat_minor": 5
}
