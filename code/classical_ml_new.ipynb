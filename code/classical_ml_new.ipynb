{
 "cells": [
  {
   "cell_type": "code",
   "execution_count": 24,
   "id": "da65aff0",
   "metadata": {},
   "outputs": [
    {
     "data": {
      "text/plain": [
       "(True, True)"
      ]
     },
     "execution_count": 24,
     "metadata": {},
     "output_type": "execute_result"
    }
   ],
   "source": [
    "from pathlib import Path\n",
    "import os\n",
    "\n",
    "DATA_PATH = Path.cwd().parent / \"data\"\n",
    "\n",
    "EOS_PATH = DATA_PATH / \"EOS04 EDITED.xlsx\"\n",
    "SENTINEL_PATH = DATA_PATH / \"SENTINEL Edited.xlsx\"\n",
    "\n",
    "os.path.isfile(EOS_PATH), os.path.isfile(SENTINEL_PATH)"
   ]
  },
  {
   "cell_type": "code",
   "execution_count": 25,
   "id": "004d67d0",
   "metadata": {},
   "outputs": [
    {
     "data": {
      "text/plain": [
       "(['28-08-2022',\n",
       "  '11-09-2022',\n",
       "  '15-10-2022',\n",
       "  '24-01-2023',\n",
       "  '11-02-2023 ',\n",
       "  '28-2-2023'],\n",
       " ['27-08-2022',\n",
       "  '08-09-2022',\n",
       "  '14-10-2022',\n",
       "  '30-01-2023',\n",
       "  '11-02-2023 ',\n",
       "  '28-2-2023'])"
      ]
     },
     "execution_count": 25,
     "metadata": {},
     "output_type": "execute_result"
    }
   ],
   "source": [
    "import pandas as pd\n",
    "\n",
    "eos = pd.ExcelFile(EOS_PATH)\n",
    "sentinel = pd.ExcelFile(SENTINEL_PATH)\n",
    "\n",
    "eos.sheet_names, sentinel.sheet_names"
   ]
  },
  {
   "cell_type": "markdown",
   "id": "217bcc00",
   "metadata": {},
   "source": [
    "# One Big Class For Experiments"
   ]
  },
  {
   "cell_type": "code",
   "execution_count": 26,
   "id": "ed05a3de",
   "metadata": {},
   "outputs": [],
   "source": [
    "from sklearn.model_selection import GridSearchCV\n",
    "from sklearn.ensemble import RandomForestRegressor, AdaBoostRegressor\n",
    "from sklearn.tree import DecisionTreeRegressor\n",
    "from sklearn.svm import SVR\n",
    "from xgboost import XGBRegressor\n",
    "import warnings\n",
    "\n",
    "warnings.filterwarnings('ignore', category=FutureWarning)\n",
    "\n",
    "\n",
    "class ModelExperiments:\n",
    "    def __init__(self, X_train, X_test, y_train, y_test, \n",
    "                 X_train_scaled=None, X_test_scaled=None, \n",
    "                 y_train_scaled=None, y_test_scaled=None):\n",
    "        self.X_train = X_train\n",
    "        self.X_test = X_test\n",
    "        self.y_train = y_train\n",
    "        self.y_test = y_test\n",
    "        self.X_train_scaled = X_train_scaled\n",
    "        self.X_test_scaled = X_test_scaled\n",
    "        self.y_train_scaled = y_train_scaled\n",
    "        self.y_test_scaled = y_test_scaled\n",
    "\n",
    "    def fit_grid_search(self, model, param_grid, scaled=False, model_name=\"Model\"):\n",
    "        \"\"\"\n",
    "        Runs GridSearchCV for a given model + param_grid\n",
    "        \"\"\"\n",
    "        print(f\"\\n=== Running {model_name} ===\")\n",
    "        \n",
    "        X_train = self.X_train_scaled if scaled else self.X_train\n",
    "        X_test = self.X_test_scaled if scaled else self.X_test\n",
    "        y_train = self.y_train_scaled if scaled else self.y_train\n",
    "        y_test = self.y_test_scaled if scaled else self.y_test\n",
    "\n",
    "        grid_search = GridSearchCV(\n",
    "            estimator=model,\n",
    "            param_grid=param_grid,\n",
    "            cv=3,\n",
    "            n_jobs=-1,\n",
    "            verbose=1\n",
    "        )\n",
    "\n",
    "        grid_search.fit(X_train, y_train)\n",
    "\n",
    "        print(\"Best Parameters:\", grid_search.best_params_)\n",
    "\n",
    "        best_model = grid_search.best_estimator_\n",
    "        print(\"Test R2 Score:\", best_model.score(X_test, y_test))\n",
    "        return best_model\n",
    "\n",
    "    def run_all(self):\n",
    "        \"\"\"\n",
    "        Runs all experiments: RF, XGB, AdaBoost, SVR\n",
    "        \"\"\"\n",
    "        results = {}\n",
    "\n",
    "        # Random Forest\n",
    "        rf = RandomForestRegressor(random_state=10)\n",
    "        rf_param_grid = {\n",
    "            'n_estimators': [100, 200, 500],     \n",
    "            'max_depth': [None, 5, 10, 20],      \n",
    "            'min_samples_split': [2, 5, 10],     \n",
    "            'min_samples_leaf': [1, 2, 4],       \n",
    "            'max_features': ['sqrt', 'log2']     \n",
    "        }\n",
    "        results[\"RandomForest\"] = self.fit_grid_search(rf, rf_param_grid, model_name=\"RandomForest\")\n",
    "\n",
    "        # XGBoost\n",
    "        xgb = XGBRegressor(random_state=10, objective='reg:squarederror')\n",
    "        xgb_param_grid = {\n",
    "            'n_estimators': [100, 200, 500],\n",
    "            'max_depth': [3, 5, 7],\n",
    "            'learning_rate': [0.01, 0.05, 0.1],\n",
    "            'subsample': [0.8, 1.0],\n",
    "            'colsample_bytree': [0.8, 1.0]\n",
    "        }\n",
    "        results[\"XGBoost\"] = self.fit_grid_search(xgb, xgb_param_grid, model_name=\"XGBoost\")\n",
    "\n",
    "        # AdaBoost\n",
    "        ada = AdaBoostRegressor(\n",
    "            estimator=DecisionTreeRegressor(random_state=10),\n",
    "            random_state=10\n",
    "        )\n",
    "        ada_param_grid = {\n",
    "            'n_estimators': [50, 100, 200],\n",
    "            'learning_rate': [0.01, 0.05, 0.1, 1.0],\n",
    "            'estimator__max_depth': [2, 3, 5, None],\n",
    "            'estimator__min_samples_split': [2, 5, 10]\n",
    "        }\n",
    "        results[\"AdaBoost\"] = self.fit_grid_search(ada, ada_param_grid, model_name=\"AdaBoost\")\n",
    "\n",
    "        # SVR (requires scaled data!)\n",
    "        svr = SVR()\n",
    "        svr_param_grid = {\n",
    "            'kernel': ['linear', 'rbf', 'poly', 'sigmoid'],\n",
    "            'C': [0.1, 1, 10, 100],\n",
    "            'gamma': ['scale', 'auto', 0.01, 0.1, 1],\n",
    "            'epsilon': [0.01, 0.1, 0.2, 0.5]\n",
    "        }\n",
    "        if self.X_train_scaled is not None:  # only run if scaled data provided\n",
    "            results[\"SVR\"] = self.fit_grid_search(svr, svr_param_grid, scaled=True, model_name=\"SVR\")\n",
    "\n",
    "        return results\n"
   ]
  },
  {
   "cell_type": "markdown",
   "id": "b1297136",
   "metadata": {},
   "source": [
    "# Only Sentinel Data"
   ]
  },
  {
   "cell_type": "code",
   "execution_count": 27,
   "id": "93280e56",
   "metadata": {},
   "outputs": [
    {
     "data": {
      "text/html": [
       "<div>\n",
       "<style scoped>\n",
       "    .dataframe tbody tr th:only-of-type {\n",
       "        vertical-align: middle;\n",
       "    }\n",
       "\n",
       "    .dataframe tbody tr th {\n",
       "        vertical-align: top;\n",
       "    }\n",
       "\n",
       "    .dataframe thead th {\n",
       "        text-align: right;\n",
       "    }\n",
       "</style>\n",
       "<table border=\"1\" class=\"dataframe\">\n",
       "  <thead>\n",
       "    <tr style=\"text-align: right;\">\n",
       "      <th></th>\n",
       "      <th>Sample Date &amp; Time</th>\n",
       "      <th>Latitude (Centre of grid)</th>\n",
       "      <th>Longitude (Centre of grid)</th>\n",
       "      <th>VH-pol</th>\n",
       "      <th>VV-pol</th>\n",
       "      <th>angle</th>\n",
       "      <th>SM1 (%)</th>\n",
       "    </tr>\n",
       "  </thead>\n",
       "  <tbody>\n",
       "    <tr>\n",
       "      <th>0</th>\n",
       "      <td>2022-08-08</td>\n",
       "      <td>22.526048</td>\n",
       "      <td>72.765011</td>\n",
       "      <td>-16.375600</td>\n",
       "      <td>-10.590500</td>\n",
       "      <td>40.048800</td>\n",
       "      <td>30.5</td>\n",
       "    </tr>\n",
       "    <tr>\n",
       "      <th>1</th>\n",
       "      <td>2022-08-08</td>\n",
       "      <td>22.525481</td>\n",
       "      <td>72.765028</td>\n",
       "      <td>-16.244300</td>\n",
       "      <td>-10.634800</td>\n",
       "      <td>41.349100</td>\n",
       "      <td>46.9</td>\n",
       "    </tr>\n",
       "    <tr>\n",
       "      <th>2</th>\n",
       "      <td>2022-08-08</td>\n",
       "      <td>22.525999</td>\n",
       "      <td>72.765663</td>\n",
       "      <td>-16.821400</td>\n",
       "      <td>-9.816820</td>\n",
       "      <td>42.283900</td>\n",
       "      <td>18.1</td>\n",
       "    </tr>\n",
       "    <tr>\n",
       "      <th>3</th>\n",
       "      <td>2022-08-08</td>\n",
       "      <td>22.527290</td>\n",
       "      <td>72.764707</td>\n",
       "      <td>-16.003700</td>\n",
       "      <td>-10.809500</td>\n",
       "      <td>42.692300</td>\n",
       "      <td>34.4</td>\n",
       "    </tr>\n",
       "    <tr>\n",
       "      <th>4</th>\n",
       "      <td>2022-08-08</td>\n",
       "      <td>22.527874</td>\n",
       "      <td>72.764718</td>\n",
       "      <td>-16.637400</td>\n",
       "      <td>-10.626300</td>\n",
       "      <td>43.860500</td>\n",
       "      <td>41.1</td>\n",
       "    </tr>\n",
       "    <tr>\n",
       "      <th>...</th>\n",
       "      <td>...</td>\n",
       "      <td>...</td>\n",
       "      <td>...</td>\n",
       "      <td>...</td>\n",
       "      <td>...</td>\n",
       "      <td>...</td>\n",
       "      <td>...</td>\n",
       "    </tr>\n",
       "    <tr>\n",
       "      <th>941</th>\n",
       "      <td>2023-02-28</td>\n",
       "      <td>22.523640</td>\n",
       "      <td>72.766727</td>\n",
       "      <td>-14.539132</td>\n",
       "      <td>-10.738241</td>\n",
       "      <td>41.797688</td>\n",
       "      <td>26.8</td>\n",
       "    </tr>\n",
       "    <tr>\n",
       "      <th>942</th>\n",
       "      <td>2023-02-28</td>\n",
       "      <td>22.523657</td>\n",
       "      <td>72.766016</td>\n",
       "      <td>-14.474763</td>\n",
       "      <td>-10.252501</td>\n",
       "      <td>41.254852</td>\n",
       "      <td>32.8</td>\n",
       "    </tr>\n",
       "    <tr>\n",
       "      <th>943</th>\n",
       "      <td>2023-02-28</td>\n",
       "      <td>22.524255</td>\n",
       "      <td>72.766024</td>\n",
       "      <td>-16.174562</td>\n",
       "      <td>-11.142242</td>\n",
       "      <td>42.046009</td>\n",
       "      <td>34.8</td>\n",
       "    </tr>\n",
       "    <tr>\n",
       "      <th>944</th>\n",
       "      <td>2023-02-28</td>\n",
       "      <td>22.524229</td>\n",
       "      <td>72.766601</td>\n",
       "      <td>-16.532534</td>\n",
       "      <td>-11.246845</td>\n",
       "      <td>41.706707</td>\n",
       "      <td>27.8</td>\n",
       "    </tr>\n",
       "    <tr>\n",
       "      <th>945</th>\n",
       "      <td>2023-02-28</td>\n",
       "      <td>22.524027</td>\n",
       "      <td>72.766357</td>\n",
       "      <td>-16.490974</td>\n",
       "      <td>-10.754059</td>\n",
       "      <td>41.437458</td>\n",
       "      <td>23.5</td>\n",
       "    </tr>\n",
       "  </tbody>\n",
       "</table>\n",
       "<p>946 rows × 7 columns</p>\n",
       "</div>"
      ],
      "text/plain": [
       "    Sample Date & Time  Latitude (Centre of grid)  Longitude (Centre of grid)  \\\n",
       "0           2022-08-08                  22.526048                   72.765011   \n",
       "1           2022-08-08                  22.525481                   72.765028   \n",
       "2           2022-08-08                  22.525999                   72.765663   \n",
       "3           2022-08-08                  22.527290                   72.764707   \n",
       "4           2022-08-08                  22.527874                   72.764718   \n",
       "..                 ...                        ...                         ...   \n",
       "941         2023-02-28                  22.523640                   72.766727   \n",
       "942         2023-02-28                  22.523657                   72.766016   \n",
       "943         2023-02-28                  22.524255                   72.766024   \n",
       "944         2023-02-28                  22.524229                   72.766601   \n",
       "945         2023-02-28                  22.524027                   72.766357   \n",
       "\n",
       "        VH-pol     VV-pol      angle  SM1 (%)  \n",
       "0   -16.375600 -10.590500  40.048800     30.5  \n",
       "1   -16.244300 -10.634800  41.349100     46.9  \n",
       "2   -16.821400  -9.816820  42.283900     18.1  \n",
       "3   -16.003700 -10.809500  42.692300     34.4  \n",
       "4   -16.637400 -10.626300  43.860500     41.1  \n",
       "..         ...        ...        ...      ...  \n",
       "941 -14.539132 -10.738241  41.797688     26.8  \n",
       "942 -14.474763 -10.252501  41.254852     32.8  \n",
       "943 -16.174562 -11.142242  42.046009     34.8  \n",
       "944 -16.532534 -11.246845  41.706707     27.8  \n",
       "945 -16.490974 -10.754059  41.437458     23.5  \n",
       "\n",
       "[946 rows x 7 columns]"
      ]
     },
     "execution_count": 27,
     "metadata": {},
     "output_type": "execute_result"
    }
   ],
   "source": [
    "sentinel_dfs = []\n",
    "\n",
    "for sheet_name in sentinel.sheet_names:\n",
    "    df = pd.read_excel(SENTINEL_PATH, sheet_name=sheet_name)\n",
    "    if 'Latitude (Centre of grid).1' in df.columns:\n",
    "        df = df.drop(['Latitude (Centre of grid).1'], axis=1)\n",
    "    df = df.rename(columns={'(θ)': 'angle'})\n",
    "    sentinel_dfs.append(df)\n",
    "\n",
    "sentinel_combined = pd.concat(sentinel_dfs, ignore_index=True)\n",
    "\n",
    "sentinel_combined"
   ]
  },
  {
   "cell_type": "code",
   "execution_count": 28,
   "id": "8539f01b",
   "metadata": {},
   "outputs": [],
   "source": [
    "sentinel_combined['Day'] = sentinel_combined['Sample Date & Time'].dt.day\n",
    "sentinel_combined['Month'] = sentinel_combined['Sample Date & Time'].dt.month\n",
    "sentinel_combined['Year'] = sentinel_combined['Sample Date & Time'].dt.year"
   ]
  },
  {
   "cell_type": "code",
   "execution_count": 29,
   "id": "b737ad97",
   "metadata": {},
   "outputs": [],
   "source": [
    "sentinel_combined = sentinel_combined.dropna()"
   ]
  },
  {
   "cell_type": "markdown",
   "id": "51dbe642",
   "metadata": {},
   "source": [
    "## VH, VV, angle"
   ]
  },
  {
   "cell_type": "code",
   "execution_count": 30,
   "id": "58357a8b",
   "metadata": {},
   "outputs": [
    {
     "data": {
      "text/plain": [
       "(721, 181)"
      ]
     },
     "execution_count": 30,
     "metadata": {},
     "output_type": "execute_result"
    }
   ],
   "source": [
    "X_cols = ['VH-pol', 'VV-pol', 'angle']\n",
    "y_col = ['SM1 (%)']\n",
    "\n",
    "X = sentinel_combined[X_cols]\n",
    "y = sentinel_combined[y_col]\n",
    "\n",
    "TRAIN_SIZE = 0.8\n",
    "\n",
    "split_idx = int(len(X) * TRAIN_SIZE)\n",
    "\n",
    "X_train, X_test = X.iloc[: split_idx], X.iloc[split_idx: ]\n",
    "y_train, y_test = y.iloc[: split_idx], y.iloc[split_idx: ]\n",
    "\n",
    "len(X_train), len(X_test)"
   ]
  },
  {
   "cell_type": "code",
   "execution_count": 31,
   "id": "cf4c91bd",
   "metadata": {},
   "outputs": [],
   "source": [
    "from sklearn.preprocessing import MinMaxScaler\n",
    "\n",
    "mm = MinMaxScaler()\n",
    "\n",
    "X_train_scaled = mm.fit_transform(X_train)\n",
    "X_test_scaled = mm.transform(X_test)\n",
    "\n",
    "y_train_scaled = mm.fit_transform(y_train)\n",
    "y_test_scaled = mm.transform(y_test)"
   ]
  },
  {
   "cell_type": "code",
   "execution_count": 32,
   "id": "2966f653",
   "metadata": {},
   "outputs": [
    {
     "name": "stdout",
     "output_type": "stream",
     "text": [
      "\n",
      "=== Running RandomForest ===\n",
      "Fitting 3 folds for each of 216 candidates, totalling 648 fits\n",
      "Best Parameters: {'max_depth': 5, 'max_features': 'sqrt', 'min_samples_leaf': 2, 'min_samples_split': 10, 'n_estimators': 200}\n",
      "Test R2 Score: -0.12419332552148332\n",
      "\n",
      "=== Running XGBoost ===\n",
      "Fitting 3 folds for each of 108 candidates, totalling 324 fits\n",
      "Best Parameters: {'colsample_bytree': 1.0, 'learning_rate': 0.01, 'max_depth': 5, 'n_estimators': 100, 'subsample': 1.0}\n",
      "Test R2 Score: -0.10641217231750488\n",
      "\n",
      "=== Running AdaBoost ===\n",
      "Fitting 3 folds for each of 144 candidates, totalling 432 fits\n",
      "Best Parameters: {'estimator__max_depth': 3, 'estimator__min_samples_split': 2, 'learning_rate': 0.1, 'n_estimators': 200}\n",
      "Test R2 Score: -0.06356310889106287\n",
      "\n",
      "=== Running SVR ===\n",
      "Fitting 3 folds for each of 320 candidates, totalling 960 fits\n",
      "Best Parameters: {'C': 10, 'epsilon': 0.1, 'gamma': 0.1, 'kernel': 'poly'}\n",
      "Test R2 Score: -0.12875996535854006\n"
     ]
    },
    {
     "data": {
      "text/plain": [
       "{'RandomForest': RandomForestRegressor(max_depth=5, max_features='sqrt', min_samples_leaf=2,\n",
       "                       min_samples_split=10, n_estimators=200, random_state=10),\n",
       " 'XGBoost': XGBRegressor(base_score=None, booster=None, callbacks=None,\n",
       "              colsample_bylevel=None, colsample_bynode=None,\n",
       "              colsample_bytree=1.0, device=None, early_stopping_rounds=None,\n",
       "              enable_categorical=False, eval_metric=None, feature_types=None,\n",
       "              feature_weights=None, gamma=None, grow_policy=None,\n",
       "              importance_type=None, interaction_constraints=None,\n",
       "              learning_rate=0.01, max_bin=None, max_cat_threshold=None,\n",
       "              max_cat_to_onehot=None, max_delta_step=None, max_depth=5,\n",
       "              max_leaves=None, min_child_weight=None, missing=nan,\n",
       "              monotone_constraints=None, multi_strategy=None, n_estimators=100,\n",
       "              n_jobs=None, num_parallel_tree=None, ...),\n",
       " 'AdaBoost': AdaBoostRegressor(estimator=DecisionTreeRegressor(max_depth=3, random_state=10),\n",
       "                   learning_rate=0.1, n_estimators=200, random_state=10),\n",
       " 'SVR': SVR(C=10, gamma=0.1, kernel='poly')}"
      ]
     },
     "execution_count": 32,
     "metadata": {},
     "output_type": "execute_result"
    }
   ],
   "source": [
    "warnings.filterwarnings('always', category=FutureWarning)\n",
    "sent_vv_vh_angle = ModelExperiments(X_train, X_test, y_train, y_test,\n",
    "                    X_train_scaled, X_test_scaled, y_train_scaled, y_test_scaled).run_all()\n",
    "\n",
    "sent_vv_vh_angle"
   ]
  },
  {
   "cell_type": "markdown",
   "id": "ddba7416",
   "metadata": {},
   "source": [
    "## VV, VH"
   ]
  },
  {
   "cell_type": "code",
   "execution_count": 33,
   "id": "0868ae77",
   "metadata": {},
   "outputs": [
    {
     "data": {
      "text/plain": [
       "(721, 181)"
      ]
     },
     "execution_count": 33,
     "metadata": {},
     "output_type": "execute_result"
    }
   ],
   "source": [
    "X_cols = ['VH-pol', 'VV-pol']\n",
    "y_col = ['SM1 (%)']\n",
    "\n",
    "X = sentinel_combined[X_cols]\n",
    "y = sentinel_combined[y_col]\n",
    "\n",
    "TRAIN_SIZE = 0.8\n",
    "\n",
    "split_idx = int(len(X) * TRAIN_SIZE)\n",
    "\n",
    "X_train, X_test = X.iloc[: split_idx], X.iloc[split_idx: ]\n",
    "y_train, y_test = y.iloc[: split_idx], y.iloc[split_idx: ]\n",
    "\n",
    "len(X_train), len(X_test)"
   ]
  },
  {
   "cell_type": "code",
   "execution_count": 34,
   "id": "78021de8",
   "metadata": {},
   "outputs": [],
   "source": [
    "from sklearn.preprocessing import MinMaxScaler\n",
    "\n",
    "mm = MinMaxScaler()\n",
    "\n",
    "X_train_scaled = mm.fit_transform(X_train)\n",
    "X_test_scaled = mm.transform(X_test)\n",
    "\n",
    "y_train_scaled = mm.fit_transform(y_train)\n",
    "y_test_scaled = mm.transform(y_test)"
   ]
  },
  {
   "cell_type": "code",
   "execution_count": 35,
   "id": "fe5e44cb",
   "metadata": {},
   "outputs": [
    {
     "name": "stdout",
     "output_type": "stream",
     "text": [
      "\n",
      "=== Running RandomForest ===\n",
      "Fitting 3 folds for each of 216 candidates, totalling 648 fits\n",
      "Best Parameters: {'max_depth': 5, 'max_features': 'sqrt', 'min_samples_leaf': 4, 'min_samples_split': 10, 'n_estimators': 100}\n",
      "Test R2 Score: -0.13711664977999827\n",
      "\n",
      "=== Running XGBoost ===\n",
      "Fitting 3 folds for each of 108 candidates, totalling 324 fits\n",
      "Best Parameters: {'colsample_bytree': 1.0, 'learning_rate': 0.01, 'max_depth': 3, 'n_estimators': 100, 'subsample': 0.8}\n",
      "Test R2 Score: -0.07659471035003662\n",
      "\n",
      "=== Running AdaBoost ===\n",
      "Fitting 3 folds for each of 144 candidates, totalling 432 fits\n",
      "Best Parameters: {'estimator__max_depth': 3, 'estimator__min_samples_split': 10, 'learning_rate': 1.0, 'n_estimators': 50}\n",
      "Test R2 Score: -0.15220357149815533\n",
      "\n",
      "=== Running SVR ===\n",
      "Fitting 3 folds for each of 320 candidates, totalling 960 fits\n",
      "Best Parameters: {'C': 1, 'epsilon': 0.1, 'gamma': 'scale', 'kernel': 'rbf'}\n",
      "Test R2 Score: -0.31303685667649916\n"
     ]
    },
    {
     "data": {
      "text/plain": [
       "{'RandomForest': RandomForestRegressor(max_depth=5, max_features='sqrt', min_samples_leaf=4,\n",
       "                       min_samples_split=10, random_state=10),\n",
       " 'XGBoost': XGBRegressor(base_score=None, booster=None, callbacks=None,\n",
       "              colsample_bylevel=None, colsample_bynode=None,\n",
       "              colsample_bytree=1.0, device=None, early_stopping_rounds=None,\n",
       "              enable_categorical=False, eval_metric=None, feature_types=None,\n",
       "              feature_weights=None, gamma=None, grow_policy=None,\n",
       "              importance_type=None, interaction_constraints=None,\n",
       "              learning_rate=0.01, max_bin=None, max_cat_threshold=None,\n",
       "              max_cat_to_onehot=None, max_delta_step=None, max_depth=3,\n",
       "              max_leaves=None, min_child_weight=None, missing=nan,\n",
       "              monotone_constraints=None, multi_strategy=None, n_estimators=100,\n",
       "              n_jobs=None, num_parallel_tree=None, ...),\n",
       " 'AdaBoost': AdaBoostRegressor(estimator=DecisionTreeRegressor(max_depth=3,\n",
       "                                                   min_samples_split=10,\n",
       "                                                   random_state=10),\n",
       "                   random_state=10),\n",
       " 'SVR': SVR(C=1)}"
      ]
     },
     "execution_count": 35,
     "metadata": {},
     "output_type": "execute_result"
    }
   ],
   "source": [
    "warnings.filterwarnings('always', category=FutureWarning)\n",
    "sent_vv_vh = ModelExperiments(X_train, X_test, y_train, y_test,\n",
    "                    X_train_scaled, X_test_scaled, y_train_scaled, y_test_scaled).run_all()\n",
    "\n",
    "sent_vv_vh"
   ]
  },
  {
   "cell_type": "markdown",
   "id": "e7cfe3d3",
   "metadata": {},
   "source": [
    "## VV, VH, angle, day, month, year"
   ]
  },
  {
   "cell_type": "code",
   "execution_count": 36,
   "id": "64a0367e",
   "metadata": {},
   "outputs": [
    {
     "data": {
      "text/plain": [
       "(721, 181)"
      ]
     },
     "execution_count": 36,
     "metadata": {},
     "output_type": "execute_result"
    }
   ],
   "source": [
    "X_cols = ['VH-pol', 'VV-pol', 'angle', 'Day', 'Month', 'Year']\n",
    "y_col = ['SM1 (%)']\n",
    "\n",
    "X = sentinel_combined[X_cols]\n",
    "y = sentinel_combined[y_col]\n",
    "\n",
    "TRAIN_SIZE = 0.8\n",
    "\n",
    "split_idx = int(len(X) * TRAIN_SIZE)\n",
    "\n",
    "X_train, X_test = X.iloc[: split_idx], X.iloc[split_idx: ]\n",
    "y_train, y_test = y.iloc[: split_idx], y.iloc[split_idx: ]\n",
    "\n",
    "len(X_train), len(X_test)"
   ]
  },
  {
   "cell_type": "code",
   "execution_count": 37,
   "id": "1852dbbe",
   "metadata": {},
   "outputs": [],
   "source": [
    "from sklearn.preprocessing import MinMaxScaler\n",
    "\n",
    "mm = MinMaxScaler()\n",
    "\n",
    "X_train_scaled = mm.fit_transform(X_train)\n",
    "X_test_scaled = mm.transform(X_test)\n",
    "\n",
    "y_train_scaled = mm.fit_transform(y_train)\n",
    "y_test_scaled = mm.transform(y_test)"
   ]
  },
  {
   "cell_type": "code",
   "execution_count": 38,
   "id": "db773e10",
   "metadata": {},
   "outputs": [
    {
     "name": "stdout",
     "output_type": "stream",
     "text": [
      "\n",
      "=== Running RandomForest ===\n",
      "Fitting 3 folds for each of 216 candidates, totalling 648 fits\n",
      "Best Parameters: {'max_depth': 5, 'max_features': 'sqrt', 'min_samples_leaf': 1, 'min_samples_split': 5, 'n_estimators': 500}\n",
      "Test R2 Score: -0.18304661755876372\n",
      "\n",
      "=== Running XGBoost ===\n",
      "Fitting 3 folds for each of 108 candidates, totalling 324 fits\n",
      "Best Parameters: {'colsample_bytree': 0.8, 'learning_rate': 0.01, 'max_depth': 3, 'n_estimators': 100, 'subsample': 0.8}\n",
      "Test R2 Score: -0.09249842166900635\n",
      "\n",
      "=== Running AdaBoost ===\n",
      "Fitting 3 folds for each of 144 candidates, totalling 432 fits\n",
      "Best Parameters: {'estimator__max_depth': 5, 'estimator__min_samples_split': 2, 'learning_rate': 1.0, 'n_estimators': 100}\n",
      "Test R2 Score: -0.3238648811035951\n",
      "\n",
      "=== Running SVR ===\n",
      "Fitting 3 folds for each of 320 candidates, totalling 960 fits\n",
      "Best Parameters: {'C': 1, 'epsilon': 0.1, 'gamma': 0.1, 'kernel': 'sigmoid'}\n",
      "Test R2 Score: -0.19253638204632217\n"
     ]
    },
    {
     "data": {
      "text/plain": [
       "{'RandomForest': RandomForestRegressor(max_depth=5, max_features='sqrt', min_samples_split=5,\n",
       "                       n_estimators=500, random_state=10),\n",
       " 'XGBoost': XGBRegressor(base_score=None, booster=None, callbacks=None,\n",
       "              colsample_bylevel=None, colsample_bynode=None,\n",
       "              colsample_bytree=0.8, device=None, early_stopping_rounds=None,\n",
       "              enable_categorical=False, eval_metric=None, feature_types=None,\n",
       "              feature_weights=None, gamma=None, grow_policy=None,\n",
       "              importance_type=None, interaction_constraints=None,\n",
       "              learning_rate=0.01, max_bin=None, max_cat_threshold=None,\n",
       "              max_cat_to_onehot=None, max_delta_step=None, max_depth=3,\n",
       "              max_leaves=None, min_child_weight=None, missing=nan,\n",
       "              monotone_constraints=None, multi_strategy=None, n_estimators=100,\n",
       "              n_jobs=None, num_parallel_tree=None, ...),\n",
       " 'AdaBoost': AdaBoostRegressor(estimator=DecisionTreeRegressor(max_depth=5, random_state=10),\n",
       "                   n_estimators=100, random_state=10),\n",
       " 'SVR': SVR(C=1, gamma=0.1, kernel='sigmoid')}"
      ]
     },
     "execution_count": 38,
     "metadata": {},
     "output_type": "execute_result"
    }
   ],
   "source": [
    "warnings.filterwarnings('always', category=FutureWarning)\n",
    "sent_vv_vh_angle_dmy = ModelExperiments(X_train, X_test, y_train, y_test,\n",
    "                    X_train_scaled, X_test_scaled, y_train_scaled, y_test_scaled).run_all()\n",
    "\n",
    "sent_vv_vh_angle_dmy"
   ]
  },
  {
   "cell_type": "markdown",
   "id": "5cde8fb6",
   "metadata": {},
   "source": [
    "# Only EOS Data"
   ]
  },
  {
   "cell_type": "code",
   "execution_count": 39,
   "id": "8b0dfb7b",
   "metadata": {},
   "outputs": [
    {
     "data": {
      "text/html": [
       "<div>\n",
       "<style scoped>\n",
       "    .dataframe tbody tr th:only-of-type {\n",
       "        vertical-align: middle;\n",
       "    }\n",
       "\n",
       "    .dataframe tbody tr th {\n",
       "        vertical-align: top;\n",
       "    }\n",
       "\n",
       "    .dataframe thead th {\n",
       "        text-align: right;\n",
       "    }\n",
       "</style>\n",
       "<table border=\"1\" class=\"dataframe\">\n",
       "  <thead>\n",
       "    <tr style=\"text-align: right;\">\n",
       "      <th></th>\n",
       "      <th>Sample Date &amp; Time</th>\n",
       "      <th>Latitude (Centre of grid)</th>\n",
       "      <th>Longitude (Centre of grid)</th>\n",
       "      <th>HH-pol</th>\n",
       "      <th>HV-pol</th>\n",
       "      <th>SM1 (%)</th>\n",
       "    </tr>\n",
       "  </thead>\n",
       "  <tbody>\n",
       "    <tr>\n",
       "      <th>0</th>\n",
       "      <td>2022-08-28</td>\n",
       "      <td>22.526048</td>\n",
       "      <td>72.765011</td>\n",
       "      <td>-4.99884</td>\n",
       "      <td>-13.33651</td>\n",
       "      <td>30.5</td>\n",
       "    </tr>\n",
       "    <tr>\n",
       "      <th>1</th>\n",
       "      <td>2022-08-28</td>\n",
       "      <td>22.525481</td>\n",
       "      <td>72.765028</td>\n",
       "      <td>-8.76236</td>\n",
       "      <td>-16.08855</td>\n",
       "      <td>46.9</td>\n",
       "    </tr>\n",
       "    <tr>\n",
       "      <th>2</th>\n",
       "      <td>2022-08-28</td>\n",
       "      <td>22.525999</td>\n",
       "      <td>72.765663</td>\n",
       "      <td>-7.11428</td>\n",
       "      <td>-11.90641</td>\n",
       "      <td>18.1</td>\n",
       "    </tr>\n",
       "    <tr>\n",
       "      <th>3</th>\n",
       "      <td>2022-08-28</td>\n",
       "      <td>22.527290</td>\n",
       "      <td>72.764707</td>\n",
       "      <td>-8.32358</td>\n",
       "      <td>-15.11733</td>\n",
       "      <td>34.4</td>\n",
       "    </tr>\n",
       "    <tr>\n",
       "      <th>4</th>\n",
       "      <td>2022-08-28</td>\n",
       "      <td>22.527874</td>\n",
       "      <td>72.764718</td>\n",
       "      <td>-5.27314</td>\n",
       "      <td>-15.93518</td>\n",
       "      <td>41.1</td>\n",
       "    </tr>\n",
       "    <tr>\n",
       "      <th>...</th>\n",
       "      <td>...</td>\n",
       "      <td>...</td>\n",
       "      <td>...</td>\n",
       "      <td>...</td>\n",
       "      <td>...</td>\n",
       "      <td>...</td>\n",
       "    </tr>\n",
       "    <tr>\n",
       "      <th>892</th>\n",
       "      <td>2023-02-28</td>\n",
       "      <td>22.523640</td>\n",
       "      <td>72.766727</td>\n",
       "      <td>-8.69274</td>\n",
       "      <td>-14.15688</td>\n",
       "      <td>26.8</td>\n",
       "    </tr>\n",
       "    <tr>\n",
       "      <th>893</th>\n",
       "      <td>2023-02-28</td>\n",
       "      <td>22.523657</td>\n",
       "      <td>72.766016</td>\n",
       "      <td>-6.48271</td>\n",
       "      <td>-15.56076</td>\n",
       "      <td>32.8</td>\n",
       "    </tr>\n",
       "    <tr>\n",
       "      <th>894</th>\n",
       "      <td>2023-02-28</td>\n",
       "      <td>22.524255</td>\n",
       "      <td>72.766024</td>\n",
       "      <td>-6.20660</td>\n",
       "      <td>-14.73141</td>\n",
       "      <td>34.8</td>\n",
       "    </tr>\n",
       "    <tr>\n",
       "      <th>895</th>\n",
       "      <td>2023-02-28</td>\n",
       "      <td>22.524229</td>\n",
       "      <td>72.766601</td>\n",
       "      <td>-9.43414</td>\n",
       "      <td>-20.52987</td>\n",
       "      <td>27.8</td>\n",
       "    </tr>\n",
       "    <tr>\n",
       "      <th>896</th>\n",
       "      <td>2023-02-28</td>\n",
       "      <td>22.524027</td>\n",
       "      <td>72.766357</td>\n",
       "      <td>-7.47745</td>\n",
       "      <td>-15.42384</td>\n",
       "      <td>23.5</td>\n",
       "    </tr>\n",
       "  </tbody>\n",
       "</table>\n",
       "<p>897 rows × 6 columns</p>\n",
       "</div>"
      ],
      "text/plain": [
       "    Sample Date & Time  Latitude (Centre of grid)  Longitude (Centre of grid)  \\\n",
       "0           2022-08-28                  22.526048                   72.765011   \n",
       "1           2022-08-28                  22.525481                   72.765028   \n",
       "2           2022-08-28                  22.525999                   72.765663   \n",
       "3           2022-08-28                  22.527290                   72.764707   \n",
       "4           2022-08-28                  22.527874                   72.764718   \n",
       "..                 ...                        ...                         ...   \n",
       "892         2023-02-28                  22.523640                   72.766727   \n",
       "893         2023-02-28                  22.523657                   72.766016   \n",
       "894         2023-02-28                  22.524255                   72.766024   \n",
       "895         2023-02-28                  22.524229                   72.766601   \n",
       "896         2023-02-28                  22.524027                   72.766357   \n",
       "\n",
       "      HH-pol    HV-pol  SM1 (%)  \n",
       "0   -4.99884 -13.33651     30.5  \n",
       "1   -8.76236 -16.08855     46.9  \n",
       "2   -7.11428 -11.90641     18.1  \n",
       "3   -8.32358 -15.11733     34.4  \n",
       "4   -5.27314 -15.93518     41.1  \n",
       "..       ...       ...      ...  \n",
       "892 -8.69274 -14.15688     26.8  \n",
       "893 -6.48271 -15.56076     32.8  \n",
       "894 -6.20660 -14.73141     34.8  \n",
       "895 -9.43414 -20.52987     27.8  \n",
       "896 -7.47745 -15.42384     23.5  \n",
       "\n",
       "[897 rows x 6 columns]"
      ]
     },
     "execution_count": 39,
     "metadata": {},
     "output_type": "execute_result"
    }
   ],
   "source": [
    "eos_dfs = []\n",
    "\n",
    "for sheet_name in eos.sheet_names:\n",
    "    df = pd.read_excel(EOS_PATH, sheet_name=sheet_name)\n",
    "    eos_dfs.append(df)\n",
    "\n",
    "eos_combined = pd.concat(eos_dfs, ignore_index=True)\n",
    "\n",
    "eos_combined"
   ]
  },
  {
   "cell_type": "code",
   "execution_count": 40,
   "id": "bbf3d8e0",
   "metadata": {},
   "outputs": [],
   "source": [
    "eos_combined['Month'] = eos_combined['Sample Date & Time'].dt.month\n",
    "eos_combined['Day'] = eos_combined['Sample Date & Time'].dt.day\n",
    "eos_combined['Year'] = eos_combined['Sample Date & Time'].dt.year"
   ]
  },
  {
   "cell_type": "markdown",
   "id": "e679b4b7",
   "metadata": {},
   "source": [
    "## HH, HV"
   ]
  },
  {
   "cell_type": "code",
   "execution_count": 41,
   "id": "1274ce1e",
   "metadata": {},
   "outputs": [
    {
     "data": {
      "text/plain": [
       "(717, 180)"
      ]
     },
     "execution_count": 41,
     "metadata": {},
     "output_type": "execute_result"
    }
   ],
   "source": [
    "X_cols = ['HH-pol', 'HV-pol']\n",
    "y_col = ['SM1 (%)']\n",
    "\n",
    "TRAIN_SIZE = 0.8\n",
    "\n",
    "X = eos_combined[X_cols]\n",
    "y = eos_combined[y_col]\n",
    "\n",
    "split_idx = int(len(X) * TRAIN_SIZE)\n",
    "\n",
    "X_train, X_test = X.iloc[: split_idx], X.iloc[split_idx: ]\n",
    "y_train, y_test = y.iloc[: split_idx], y.iloc[split_idx: ]\n",
    "\n",
    "len(X_train), len(X_test)"
   ]
  },
  {
   "cell_type": "code",
   "execution_count": 42,
   "id": "6a731c11",
   "metadata": {},
   "outputs": [],
   "source": [
    "from sklearn.preprocessing import MinMaxScaler\n",
    "\n",
    "X_train_scaled = mm.fit_transform(X_train)\n",
    "X_test_scaled = mm.transform(X_test)\n",
    "\n",
    "y_train_scaled = mm.fit_transform(y_train)\n",
    "y_test_scaled = mm.transform(y_test)"
   ]
  },
  {
   "cell_type": "code",
   "execution_count": 44,
   "id": "405750eb",
   "metadata": {},
   "outputs": [
    {
     "name": "stdout",
     "output_type": "stream",
     "text": [
      "\n",
      "=== Running RandomForest ===\n",
      "Fitting 3 folds for each of 216 candidates, totalling 648 fits\n",
      "Best Parameters: {'max_depth': 5, 'max_features': 'sqrt', 'min_samples_leaf': 1, 'min_samples_split': 10, 'n_estimators': 200}\n",
      "Test R2 Score: 0.007397434859398366\n",
      "\n",
      "=== Running XGBoost ===\n",
      "Fitting 3 folds for each of 108 candidates, totalling 324 fits\n",
      "Best Parameters: {'colsample_bytree': 0.8, 'learning_rate': 0.01, 'max_depth': 3, 'n_estimators': 100, 'subsample': 1.0}\n",
      "Test R2 Score: -0.2304222583770752\n",
      "\n",
      "=== Running AdaBoost ===\n",
      "Fitting 3 folds for each of 144 candidates, totalling 432 fits\n",
      "Best Parameters: {'estimator__max_depth': 2, 'estimator__min_samples_split': 2, 'learning_rate': 1.0, 'n_estimators': 50}\n",
      "Test R2 Score: 0.024421436193262203\n",
      "\n",
      "=== Running SVR ===\n",
      "Fitting 3 folds for each of 320 candidates, totalling 960 fits\n",
      "Best Parameters: {'C': 1, 'epsilon': 0.1, 'gamma': 'scale', 'kernel': 'sigmoid'}\n",
      "Test R2 Score: -0.18142027044210884\n"
     ]
    }
   ],
   "source": [
    "eos_hh_hv = ModelExperiments(X_train, X_test, y_train, y_test,\n",
    "                             X_train_scaled, X_test_scaled, y_train_scaled, y_test_scaled).run_all()"
   ]
  },
  {
   "cell_type": "markdown",
   "id": "43a8dc01",
   "metadata": {},
   "source": [
    "## HH, HV, Day, Month, Year"
   ]
  },
  {
   "cell_type": "code",
   "execution_count": 45,
   "id": "0100fec0",
   "metadata": {},
   "outputs": [
    {
     "data": {
      "text/plain": [
       "(717, 180)"
      ]
     },
     "execution_count": 45,
     "metadata": {},
     "output_type": "execute_result"
    }
   ],
   "source": [
    "X_cols = ['HH-pol', 'HV-pol', 'Day', 'Month', 'Year']\n",
    "y_col = ['SM1 (%)']\n",
    "\n",
    "TRAIN_SIZE = 0.8\n",
    "\n",
    "X = eos_combined[X_cols]\n",
    "y = eos_combined[y_col]\n",
    "\n",
    "split_idx = int(len(X) * TRAIN_SIZE)\n",
    "\n",
    "X_train, X_test = X.iloc[: split_idx], X.iloc[split_idx: ]\n",
    "y_train, y_test = y.iloc[: split_idx], y.iloc[split_idx: ]\n",
    "\n",
    "len(X_train), len(X_test)"
   ]
  },
  {
   "cell_type": "code",
   "execution_count": 46,
   "id": "c67bbb63",
   "metadata": {},
   "outputs": [],
   "source": [
    "from sklearn.preprocessing import MinMaxScaler\n",
    "\n",
    "X_train_scaled = mm.fit_transform(X_train)\n",
    "X_test_scaled = mm.transform(X_test)\n",
    "\n",
    "y_train_scaled = mm.fit_transform(y_train)\n",
    "y_test_scaled = mm.transform(y_test)"
   ]
  },
  {
   "cell_type": "code",
   "execution_count": 47,
   "id": "ae2bd954",
   "metadata": {},
   "outputs": [
    {
     "name": "stdout",
     "output_type": "stream",
     "text": [
      "\n",
      "=== Running RandomForest ===\n",
      "Fitting 3 folds for each of 216 candidates, totalling 648 fits\n",
      "Best Parameters: {'max_depth': 5, 'max_features': 'sqrt', 'min_samples_leaf': 1, 'min_samples_split': 5, 'n_estimators': 200}\n",
      "Test R2 Score: -0.01605000034572779\n",
      "\n",
      "=== Running XGBoost ===\n",
      "Fitting 3 folds for each of 108 candidates, totalling 324 fits\n",
      "Best Parameters: {'colsample_bytree': 1.0, 'learning_rate': 0.01, 'max_depth': 3, 'n_estimators': 100, 'subsample': 0.8}\n",
      "Test R2 Score: -0.1027759313583374\n",
      "\n",
      "=== Running AdaBoost ===\n",
      "Fitting 3 folds for each of 144 candidates, totalling 432 fits\n",
      "Best Parameters: {'estimator__max_depth': 2, 'estimator__min_samples_split': 2, 'learning_rate': 1.0, 'n_estimators': 50}\n",
      "Test R2 Score: -0.10198427533640286\n",
      "\n",
      "=== Running SVR ===\n",
      "Fitting 3 folds for each of 320 candidates, totalling 960 fits\n",
      "Best Parameters: {'C': 100, 'epsilon': 0.01, 'gamma': 'scale', 'kernel': 'linear'}\n",
      "Test R2 Score: -1.231915905531031\n"
     ]
    }
   ],
   "source": [
    "eos_hh_hv_dmy = ModelExperiments(X_train, X_test, y_train, y_test,\n",
    "                             X_train_scaled, X_test_scaled, y_train_scaled, y_test_scaled).run_all()"
   ]
  },
  {
   "cell_type": "markdown",
   "id": "df7dc15a",
   "metadata": {},
   "source": [
    "# EOS and Sentinel Data Combined"
   ]
  },
  {
   "cell_type": "code",
   "execution_count": 48,
   "id": "f3257a56",
   "metadata": {},
   "outputs": [
    {
     "data": {
      "text/plain": [
       "(['28-08-2022',\n",
       "  '11-09-2022',\n",
       "  '15-10-2022',\n",
       "  '24-01-2023',\n",
       "  '11-02-2023 ',\n",
       "  '28-2-2023'],\n",
       " ['27-08-2022',\n",
       "  '08-09-2022',\n",
       "  '14-10-2022',\n",
       "  '30-01-2023',\n",
       "  '11-02-2023 ',\n",
       "  '28-2-2023'])"
      ]
     },
     "execution_count": 48,
     "metadata": {},
     "output_type": "execute_result"
    }
   ],
   "source": [
    "eos.sheet_names, sentinel.sheet_names"
   ]
  }
 ],
 "metadata": {
  "kernelspec": {
   "display_name": "ml-experiments",
   "language": "python",
   "name": "python3"
  },
  "language_info": {
   "codemirror_mode": {
    "name": "ipython",
    "version": 3
   },
   "file_extension": ".py",
   "mimetype": "text/x-python",
   "name": "python",
   "nbconvert_exporter": "python",
   "pygments_lexer": "ipython3",
   "version": "3.12.3"
  }
 },
 "nbformat": 4,
 "nbformat_minor": 5
}
