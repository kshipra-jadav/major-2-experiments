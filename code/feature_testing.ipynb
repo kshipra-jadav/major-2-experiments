{
 "cells": [
  {
   "cell_type": "code",
   "execution_count": 1,
   "id": "5182e7a1",
   "metadata": {},
   "outputs": [
    {
     "name": "stderr",
     "output_type": "stream",
     "text": [
      "2025-09-10 21:53:20.630614: I tensorflow/core/platform/cpu_feature_guard.cc:210] This TensorFlow binary is optimized to use available CPU instructions in performance-critical operations.\n",
      "To enable the following instructions: AVX2 FMA, in other operations, rebuild TensorFlow with the appropriate compiler flags.\n"
     ]
    },
    {
     "data": {
      "text/plain": [
       "(747, 796, 747)"
      ]
     },
     "execution_count": 1,
     "metadata": {},
     "output_type": "execute_result"
    }
   ],
   "source": [
    "import pandas as pd\n",
    "import tensorflow as tf\n",
    "\n",
    "DATA_PATH = '/home/kshipra/work/major/ml experiments/data/manually_combined.xlsx'\n",
    "\n",
    "eos = pd.read_excel(DATA_PATH, sheet_name='all_stacked_eos')\n",
    "sentinel = pd.read_excel(DATA_PATH, sheet_name='all_stacked_sentinel')\n",
    "combined = pd.read_excel(DATA_PATH, sheet_name='eos_sent_combined')\n",
    "\n",
    "len(eos), len(sentinel), len(combined)"
   ]
  },
  {
   "cell_type": "code",
   "execution_count": 2,
   "id": "f00896d9",
   "metadata": {},
   "outputs": [
    {
     "data": {
      "text/html": [
       "<div>\n",
       "<style scoped>\n",
       "    .dataframe tbody tr th:only-of-type {\n",
       "        vertical-align: middle;\n",
       "    }\n",
       "\n",
       "    .dataframe tbody tr th {\n",
       "        vertical-align: top;\n",
       "    }\n",
       "\n",
       "    .dataframe thead th {\n",
       "        text-align: right;\n",
       "    }\n",
       "</style>\n",
       "<table border=\"1\" class=\"dataframe\">\n",
       "  <thead>\n",
       "    <tr style=\"text-align: right;\">\n",
       "      <th></th>\n",
       "      <th>VH</th>\n",
       "      <th>VV</th>\n",
       "      <th>Angle</th>\n",
       "      <th>SM (Sent)</th>\n",
       "      <th>HH</th>\n",
       "      <th>HV</th>\n",
       "      <th>SM (EOS)</th>\n",
       "      <th>SM (Combined)</th>\n",
       "      <th>Unnamed: 8</th>\n",
       "      <th>Latitude (S)</th>\n",
       "      <th>Longitude (S)</th>\n",
       "      <th>Latitude (E)</th>\n",
       "      <th>Longitude (E)</th>\n",
       "      <th>Lat Diff</th>\n",
       "      <th>Long Diff</th>\n",
       "      <th>SM Diff</th>\n",
       "    </tr>\n",
       "  </thead>\n",
       "  <tbody>\n",
       "    <tr>\n",
       "      <th>0</th>\n",
       "      <td>-14.947200</td>\n",
       "      <td>-10.379400</td>\n",
       "      <td>40.366800</td>\n",
       "      <td>20.6</td>\n",
       "      <td>-7.38713</td>\n",
       "      <td>-15.09099</td>\n",
       "      <td>24.4</td>\n",
       "      <td>22.50</td>\n",
       "      <td>NaN</td>\n",
       "      <td>22.526048</td>\n",
       "      <td>72.765011</td>\n",
       "      <td>22.526048</td>\n",
       "      <td>72.765011</td>\n",
       "      <td>0.000000</td>\n",
       "      <td>0.000000</td>\n",
       "      <td>-3.8</td>\n",
       "    </tr>\n",
       "    <tr>\n",
       "      <th>1</th>\n",
       "      <td>-16.361200</td>\n",
       "      <td>-11.299400</td>\n",
       "      <td>41.008800</td>\n",
       "      <td>25.8</td>\n",
       "      <td>-6.25740</td>\n",
       "      <td>-12.05392</td>\n",
       "      <td>41.0</td>\n",
       "      <td>33.40</td>\n",
       "      <td>NaN</td>\n",
       "      <td>22.525481</td>\n",
       "      <td>72.765028</td>\n",
       "      <td>22.525481</td>\n",
       "      <td>72.765028</td>\n",
       "      <td>0.000000</td>\n",
       "      <td>0.000000</td>\n",
       "      <td>-15.2</td>\n",
       "    </tr>\n",
       "    <tr>\n",
       "      <th>2</th>\n",
       "      <td>-16.168800</td>\n",
       "      <td>-10.992000</td>\n",
       "      <td>42.359800</td>\n",
       "      <td>28.9</td>\n",
       "      <td>-8.44134</td>\n",
       "      <td>-16.46069</td>\n",
       "      <td>25.3</td>\n",
       "      <td>27.10</td>\n",
       "      <td>NaN</td>\n",
       "      <td>22.525423</td>\n",
       "      <td>72.765663</td>\n",
       "      <td>22.525423</td>\n",
       "      <td>72.765663</td>\n",
       "      <td>0.000000</td>\n",
       "      <td>0.000000</td>\n",
       "      <td>3.6</td>\n",
       "    </tr>\n",
       "    <tr>\n",
       "      <th>3</th>\n",
       "      <td>-15.630700</td>\n",
       "      <td>-8.829090</td>\n",
       "      <td>42.982700</td>\n",
       "      <td>4.1</td>\n",
       "      <td>-2.85467</td>\n",
       "      <td>-17.00499</td>\n",
       "      <td>53.7</td>\n",
       "      <td>28.90</td>\n",
       "      <td>NaN</td>\n",
       "      <td>22.525999</td>\n",
       "      <td>72.765663</td>\n",
       "      <td>22.525999</td>\n",
       "      <td>72.765663</td>\n",
       "      <td>0.000000</td>\n",
       "      <td>0.000000</td>\n",
       "      <td>-49.6</td>\n",
       "    </tr>\n",
       "    <tr>\n",
       "      <th>4</th>\n",
       "      <td>-15.130900</td>\n",
       "      <td>-10.333000</td>\n",
       "      <td>41.434700</td>\n",
       "      <td>35.3</td>\n",
       "      <td>-6.88868</td>\n",
       "      <td>-12.32378</td>\n",
       "      <td>53.4</td>\n",
       "      <td>44.35</td>\n",
       "      <td>NaN</td>\n",
       "      <td>22.525563</td>\n",
       "      <td>72.765399</td>\n",
       "      <td>22.525563</td>\n",
       "      <td>72.765399</td>\n",
       "      <td>0.000000</td>\n",
       "      <td>0.000000</td>\n",
       "      <td>-18.1</td>\n",
       "    </tr>\n",
       "    <tr>\n",
       "      <th>...</th>\n",
       "      <td>...</td>\n",
       "      <td>...</td>\n",
       "      <td>...</td>\n",
       "      <td>...</td>\n",
       "      <td>...</td>\n",
       "      <td>...</td>\n",
       "      <td>...</td>\n",
       "      <td>...</td>\n",
       "      <td>...</td>\n",
       "      <td>...</td>\n",
       "      <td>...</td>\n",
       "      <td>...</td>\n",
       "      <td>...</td>\n",
       "      <td>...</td>\n",
       "      <td>...</td>\n",
       "      <td>...</td>\n",
       "    </tr>\n",
       "    <tr>\n",
       "      <th>742</th>\n",
       "      <td>-15.603123</td>\n",
       "      <td>-10.557852</td>\n",
       "      <td>42.709682</td>\n",
       "      <td>30.2</td>\n",
       "      <td>-8.69274</td>\n",
       "      <td>-14.15688</td>\n",
       "      <td>26.8</td>\n",
       "      <td>28.50</td>\n",
       "      <td>NaN</td>\n",
       "      <td>22.505581</td>\n",
       "      <td>72.764064</td>\n",
       "      <td>22.523640</td>\n",
       "      <td>72.766727</td>\n",
       "      <td>-0.018059</td>\n",
       "      <td>-0.002663</td>\n",
       "      <td>3.4</td>\n",
       "    </tr>\n",
       "    <tr>\n",
       "      <th>743</th>\n",
       "      <td>-16.321512</td>\n",
       "      <td>-11.300431</td>\n",
       "      <td>42.176147</td>\n",
       "      <td>38.3</td>\n",
       "      <td>-6.48271</td>\n",
       "      <td>-15.56076</td>\n",
       "      <td>32.8</td>\n",
       "      <td>35.55</td>\n",
       "      <td>NaN</td>\n",
       "      <td>22.505961</td>\n",
       "      <td>72.764083</td>\n",
       "      <td>22.523657</td>\n",
       "      <td>72.766016</td>\n",
       "      <td>-0.017696</td>\n",
       "      <td>-0.001933</td>\n",
       "      <td>5.5</td>\n",
       "    </tr>\n",
       "    <tr>\n",
       "      <th>744</th>\n",
       "      <td>-15.585269</td>\n",
       "      <td>-11.489754</td>\n",
       "      <td>42.523727</td>\n",
       "      <td>20.0</td>\n",
       "      <td>-6.20660</td>\n",
       "      <td>-14.73141</td>\n",
       "      <td>34.8</td>\n",
       "      <td>27.40</td>\n",
       "      <td>NaN</td>\n",
       "      <td>22.506133</td>\n",
       "      <td>72.763434</td>\n",
       "      <td>22.524255</td>\n",
       "      <td>72.766024</td>\n",
       "      <td>-0.018122</td>\n",
       "      <td>-0.002590</td>\n",
       "      <td>-14.8</td>\n",
       "    </tr>\n",
       "    <tr>\n",
       "      <th>745</th>\n",
       "      <td>-16.052544</td>\n",
       "      <td>-10.954885</td>\n",
       "      <td>42.562408</td>\n",
       "      <td>39.7</td>\n",
       "      <td>-9.43414</td>\n",
       "      <td>-20.52987</td>\n",
       "      <td>27.8</td>\n",
       "      <td>33.75</td>\n",
       "      <td>NaN</td>\n",
       "      <td>22.505784</td>\n",
       "      <td>72.763859</td>\n",
       "      <td>22.524229</td>\n",
       "      <td>72.766601</td>\n",
       "      <td>-0.018445</td>\n",
       "      <td>-0.002742</td>\n",
       "      <td>11.9</td>\n",
       "    </tr>\n",
       "    <tr>\n",
       "      <th>746</th>\n",
       "      <td>-16.019430</td>\n",
       "      <td>-10.869327</td>\n",
       "      <td>41.080795</td>\n",
       "      <td>21.7</td>\n",
       "      <td>-7.47745</td>\n",
       "      <td>-15.42384</td>\n",
       "      <td>23.5</td>\n",
       "      <td>22.60</td>\n",
       "      <td>NaN</td>\n",
       "      <td>22.505233</td>\n",
       "      <td>72.763051</td>\n",
       "      <td>22.524027</td>\n",
       "      <td>72.766357</td>\n",
       "      <td>-0.018794</td>\n",
       "      <td>-0.003306</td>\n",
       "      <td>-1.8</td>\n",
       "    </tr>\n",
       "  </tbody>\n",
       "</table>\n",
       "<p>745 rows × 16 columns</p>\n",
       "</div>"
      ],
      "text/plain": [
       "            VH         VV      Angle  SM (Sent)       HH        HV  SM (EOS)  \\\n",
       "0   -14.947200 -10.379400  40.366800       20.6 -7.38713 -15.09099      24.4   \n",
       "1   -16.361200 -11.299400  41.008800       25.8 -6.25740 -12.05392      41.0   \n",
       "2   -16.168800 -10.992000  42.359800       28.9 -8.44134 -16.46069      25.3   \n",
       "3   -15.630700  -8.829090  42.982700        4.1 -2.85467 -17.00499      53.7   \n",
       "4   -15.130900 -10.333000  41.434700       35.3 -6.88868 -12.32378      53.4   \n",
       "..         ...        ...        ...        ...      ...       ...       ...   \n",
       "742 -15.603123 -10.557852  42.709682       30.2 -8.69274 -14.15688      26.8   \n",
       "743 -16.321512 -11.300431  42.176147       38.3 -6.48271 -15.56076      32.8   \n",
       "744 -15.585269 -11.489754  42.523727       20.0 -6.20660 -14.73141      34.8   \n",
       "745 -16.052544 -10.954885  42.562408       39.7 -9.43414 -20.52987      27.8   \n",
       "746 -16.019430 -10.869327  41.080795       21.7 -7.47745 -15.42384      23.5   \n",
       "\n",
       "     SM (Combined)  Unnamed: 8  Latitude (S)  Longitude (S)  Latitude (E)  \\\n",
       "0            22.50         NaN     22.526048      72.765011     22.526048   \n",
       "1            33.40         NaN     22.525481      72.765028     22.525481   \n",
       "2            27.10         NaN     22.525423      72.765663     22.525423   \n",
       "3            28.90         NaN     22.525999      72.765663     22.525999   \n",
       "4            44.35         NaN     22.525563      72.765399     22.525563   \n",
       "..             ...         ...           ...            ...           ...   \n",
       "742          28.50         NaN     22.505581      72.764064     22.523640   \n",
       "743          35.55         NaN     22.505961      72.764083     22.523657   \n",
       "744          27.40         NaN     22.506133      72.763434     22.524255   \n",
       "745          33.75         NaN     22.505784      72.763859     22.524229   \n",
       "746          22.60         NaN     22.505233      72.763051     22.524027   \n",
       "\n",
       "     Longitude (E)  Lat Diff  Long Diff  SM Diff  \n",
       "0        72.765011  0.000000   0.000000     -3.8  \n",
       "1        72.765028  0.000000   0.000000    -15.2  \n",
       "2        72.765663  0.000000   0.000000      3.6  \n",
       "3        72.765663  0.000000   0.000000    -49.6  \n",
       "4        72.765399  0.000000   0.000000    -18.1  \n",
       "..             ...       ...        ...      ...  \n",
       "742      72.766727 -0.018059  -0.002663      3.4  \n",
       "743      72.766016 -0.017696  -0.001933      5.5  \n",
       "744      72.766024 -0.018122  -0.002590    -14.8  \n",
       "745      72.766601 -0.018445  -0.002742     11.9  \n",
       "746      72.766357 -0.018794  -0.003306     -1.8  \n",
       "\n",
       "[745 rows x 16 columns]"
      ]
     },
     "execution_count": 2,
     "metadata": {},
     "output_type": "execute_result"
    }
   ],
   "source": [
    "combined = combined[combined['SM (Combined)'] < 150]\n",
    "\n",
    "combined"
   ]
  },
  {
   "cell_type": "code",
   "execution_count": 3,
   "id": "cafb3a28",
   "metadata": {},
   "outputs": [],
   "source": [
    "X_cols = ['VH', 'VV', 'HH', 'HV', 'Angle']\n",
    "y_col = ['SM (Combined)']"
   ]
  },
  {
   "cell_type": "code",
   "execution_count": 4,
   "id": "14fe350f",
   "metadata": {},
   "outputs": [
    {
     "name": "stdout",
     "output_type": "stream",
     "text": [
      "Generated 31 feature combinations to test.\n"
     ]
    }
   ],
   "source": [
    "from itertools import combinations\n",
    "\n",
    "all_feature_combinations = []\n",
    "for i in range(1, len(X_cols) + 1):\n",
    "    # Get all combinations of length 'i'\n",
    "    combs = combinations(X_cols, i)\n",
    "    all_feature_combinations.extend(list(combs))\n",
    "\n",
    "print(f\"Generated {len(all_feature_combinations)} feature combinations to test.\")"
   ]
  },
  {
   "cell_type": "code",
   "execution_count": 5,
   "id": "1afec399",
   "metadata": {},
   "outputs": [
    {
     "name": "stdout",
     "output_type": "stream",
     "text": [
      "\n",
      "--- Testing Features (1): VH ---\n"
     ]
    },
    {
     "name": "stderr",
     "output_type": "stream",
     "text": [
      "Epochs:  14%|█▍        | 140/1000 [00:11<01:12, 11.89epoch/s, loss=0.8251, val_loss=0.5187] \n",
      "Epochs:  11%|█         | 107/1000 [00:09<01:16, 11.73epoch/s, loss=0.4606, val_loss=0.4533]\n"
     ]
    },
    {
     "name": "stdout",
     "output_type": "stream",
     "text": [
      "\u001b[1m3/3\u001b[0m \u001b[32m━━━━━━━━━━━━━━━━━━━━\u001b[0m\u001b[37m\u001b[0m \u001b[1m0s\u001b[0m 16ms/step\n",
      "\u001b[1m3/3\u001b[0m \u001b[32m━━━━━━━━━━━━━━━━━━━━\u001b[0m\u001b[37m\u001b[0m \u001b[1m0s\u001b[0m 16ms/step\n",
      "\u001b[1m6/6\u001b[0m \u001b[32m━━━━━━━━━━━━━━━━━━━━\u001b[0m\u001b[37m\u001b[0m \u001b[1m0s\u001b[0m 3ms/step \n",
      "\u001b[1m6/6\u001b[0m \u001b[32m━━━━━━━━━━━━━━━━━━━━\u001b[0m\u001b[37m\u001b[0m \u001b[1m0s\u001b[0m 3ms/step \n",
      "\n",
      "--- Testing Features (1): VV ---\n"
     ]
    },
    {
     "name": "stderr",
     "output_type": "stream",
     "text": [
      "Epochs:  18%|█▊        | 175/1000 [00:14<01:08, 11.97epoch/s, loss=1.0513, val_loss=0.6064] \n",
      "Epochs:  12%|█▏        | 120/1000 [00:10<01:15, 11.65epoch/s, loss=0.4549, val_loss=0.4496]\n"
     ]
    },
    {
     "name": "stdout",
     "output_type": "stream",
     "text": [
      "\u001b[1m3/3\u001b[0m \u001b[32m━━━━━━━━━━━━━━━━━━━━\u001b[0m\u001b[37m\u001b[0m \u001b[1m0s\u001b[0m 16ms/step\n",
      "\u001b[1m1/3\u001b[0m \u001b[32m━━━━━━\u001b[0m\u001b[37m━━━━━━━━━━━━━━\u001b[0m \u001b[1m0s\u001b[0m 28ms/stepWARNING:tensorflow:5 out of the last 19 calls to <function TensorFlowTrainer.make_predict_function.<locals>.one_step_on_data_distributed at 0x77e0fc2989a0> triggered tf.function retracing. Tracing is expensive and the excessive number of tracings could be due to (1) creating @tf.function repeatedly in a loop, (2) passing tensors with different shapes, (3) passing Python objects instead of tensors. For (1), please define your @tf.function outside of the loop. For (2), @tf.function has reduce_retracing=True option that can avoid unnecessary retracing. For (3), please refer to https://www.tensorflow.org/guide/function#controlling_retracing and https://www.tensorflow.org/api_docs/python/tf/function for  more details.\n",
      "\u001b[1m3/3\u001b[0m \u001b[32m━━━━━━━━━━━━━━━━━━━━\u001b[0m\u001b[37m\u001b[0m \u001b[1m0s\u001b[0m 15ms/step\n",
      "\u001b[1m6/6\u001b[0m \u001b[32m━━━━━━━━━━━━━━━━━━━━\u001b[0m\u001b[37m\u001b[0m \u001b[1m0s\u001b[0m 3ms/step \n",
      "\u001b[1m6/6\u001b[0m \u001b[32m━━━━━━━━━━━━━━━━━━━━\u001b[0m\u001b[37m\u001b[0m \u001b[1m0s\u001b[0m 3ms/step \n",
      "\n",
      "--- Testing Features (1): HH ---\n"
     ]
    },
    {
     "name": "stderr",
     "output_type": "stream",
     "text": [
      "Epochs:  14%|█▎        | 136/1000 [00:11<01:13, 11.72epoch/s, loss=0.7674, val_loss=0.5337] \n",
      "Epochs:  14%|█▎        | 137/1000 [00:11<01:13, 11.73epoch/s, loss=0.4562, val_loss=0.4452]\n"
     ]
    },
    {
     "name": "stdout",
     "output_type": "stream",
     "text": [
      "\u001b[1m3/3\u001b[0m \u001b[32m━━━━━━━━━━━━━━━━━━━━\u001b[0m\u001b[37m\u001b[0m \u001b[1m0s\u001b[0m 15ms/step\n",
      "\u001b[1m1/3\u001b[0m \u001b[32m━━━━━━\u001b[0m\u001b[37m━━━━━━━━━━━━━━\u001b[0m \u001b[1m0s\u001b[0m 28ms/stepWARNING:tensorflow:5 out of the last 19 calls to <function TensorFlowTrainer.make_predict_function.<locals>.one_step_on_data_distributed at 0x77e10656fa60> triggered tf.function retracing. Tracing is expensive and the excessive number of tracings could be due to (1) creating @tf.function repeatedly in a loop, (2) passing tensors with different shapes, (3) passing Python objects instead of tensors. For (1), please define your @tf.function outside of the loop. For (2), @tf.function has reduce_retracing=True option that can avoid unnecessary retracing. For (3), please refer to https://www.tensorflow.org/guide/function#controlling_retracing and https://www.tensorflow.org/api_docs/python/tf/function for  more details.\n",
      "\u001b[1m3/3\u001b[0m \u001b[32m━━━━━━━━━━━━━━━━━━━━\u001b[0m\u001b[37m\u001b[0m \u001b[1m0s\u001b[0m 15ms/step\n",
      "\u001b[1m6/6\u001b[0m \u001b[32m━━━━━━━━━━━━━━━━━━━━\u001b[0m\u001b[37m\u001b[0m \u001b[1m0s\u001b[0m 3ms/step \n",
      "\u001b[1m6/6\u001b[0m \u001b[32m━━━━━━━━━━━━━━━━━━━━\u001b[0m\u001b[37m\u001b[0m \u001b[1m0s\u001b[0m 3ms/step \n",
      "\n",
      "--- Testing Features (1): HV ---\n"
     ]
    },
    {
     "name": "stderr",
     "output_type": "stream",
     "text": [
      "Epochs:  16%|█▌        | 162/1000 [00:13<01:10, 11.81epoch/s, loss=0.8787, val_loss=0.6153] \n",
      "Epochs:  14%|█▍        | 140/1000 [00:11<01:12, 11.82epoch/s, loss=0.4118, val_loss=0.4330]\n"
     ]
    },
    {
     "name": "stdout",
     "output_type": "stream",
     "text": [
      "\u001b[1m3/3\u001b[0m \u001b[32m━━━━━━━━━━━━━━━━━━━━\u001b[0m\u001b[37m\u001b[0m \u001b[1m0s\u001b[0m 16ms/step\n",
      "\u001b[1m3/3\u001b[0m \u001b[32m━━━━━━━━━━━━━━━━━━━━\u001b[0m\u001b[37m\u001b[0m \u001b[1m0s\u001b[0m 16ms/step\n",
      "\u001b[1m6/6\u001b[0m \u001b[32m━━━━━━━━━━━━━━━━━━━━\u001b[0m\u001b[37m\u001b[0m \u001b[1m0s\u001b[0m 3ms/step \n",
      "\u001b[1m6/6\u001b[0m \u001b[32m━━━━━━━━━━━━━━━━━━━━\u001b[0m\u001b[37m\u001b[0m \u001b[1m0s\u001b[0m 3ms/step \n",
      "\n",
      "--- Testing Features (1): Angle ---\n"
     ]
    },
    {
     "name": "stderr",
     "output_type": "stream",
     "text": [
      "Epochs:  14%|█▍        | 140/1000 [00:11<01:13, 11.72epoch/s, loss=0.9550, val_loss=0.5748] \n",
      "Epochs:  21%|██▏       | 213/1000 [00:17<01:05, 11.95epoch/s, loss=0.4396, val_loss=0.4427]\n"
     ]
    },
    {
     "name": "stdout",
     "output_type": "stream",
     "text": [
      "\u001b[1m3/3\u001b[0m \u001b[32m━━━━━━━━━━━━━━━━━━━━\u001b[0m\u001b[37m\u001b[0m \u001b[1m0s\u001b[0m 15ms/step\n",
      "\u001b[1m3/3\u001b[0m \u001b[32m━━━━━━━━━━━━━━━━━━━━\u001b[0m\u001b[37m\u001b[0m \u001b[1m0s\u001b[0m 17ms/step\n",
      "\u001b[1m6/6\u001b[0m \u001b[32m━━━━━━━━━━━━━━━━━━━━\u001b[0m\u001b[37m\u001b[0m \u001b[1m0s\u001b[0m 3ms/step \n",
      "\u001b[1m6/6\u001b[0m \u001b[32m━━━━━━━━━━━━━━━━━━━━\u001b[0m\u001b[37m\u001b[0m \u001b[1m0s\u001b[0m 3ms/step \n",
      "\n",
      "--- Testing Features (2): VH, VV ---\n"
     ]
    },
    {
     "name": "stderr",
     "output_type": "stream",
     "text": [
      "Epochs:  13%|█▎        | 128/1000 [00:11<01:15, 11.60epoch/s, loss=0.7509, val_loss=0.5576] \n",
      "Epochs:  10%|█         | 101/1000 [00:08<01:18, 11.46epoch/s, loss=0.4547, val_loss=0.4510]\n"
     ]
    },
    {
     "name": "stdout",
     "output_type": "stream",
     "text": [
      "\u001b[1m3/3\u001b[0m \u001b[32m━━━━━━━━━━━━━━━━━━━━\u001b[0m\u001b[37m\u001b[0m \u001b[1m0s\u001b[0m 17ms/step\n",
      "\u001b[1m3/3\u001b[0m \u001b[32m━━━━━━━━━━━━━━━━━━━━\u001b[0m\u001b[37m\u001b[0m \u001b[1m0s\u001b[0m 15ms/step\n",
      "\u001b[1m6/6\u001b[0m \u001b[32m━━━━━━━━━━━━━━━━━━━━\u001b[0m\u001b[37m\u001b[0m \u001b[1m0s\u001b[0m 3ms/step \n",
      "\u001b[1m6/6\u001b[0m \u001b[32m━━━━━━━━━━━━━━━━━━━━\u001b[0m\u001b[37m\u001b[0m \u001b[1m0s\u001b[0m 3ms/step \n",
      "\n",
      "--- Testing Features (2): VH, HH ---\n"
     ]
    },
    {
     "name": "stderr",
     "output_type": "stream",
     "text": [
      "Epochs:  10%|█         | 104/1000 [00:09<01:18, 11.35epoch/s, loss=0.6449, val_loss=0.5007] \n",
      "Epochs:  10%|▉         | 98/1000 [00:08<01:18, 11.49epoch/s, loss=0.4399, val_loss=0.4485]\n"
     ]
    },
    {
     "name": "stdout",
     "output_type": "stream",
     "text": [
      "\u001b[1m3/3\u001b[0m \u001b[32m━━━━━━━━━━━━━━━━━━━━\u001b[0m\u001b[37m\u001b[0m \u001b[1m0s\u001b[0m 17ms/step\n",
      "\u001b[1m3/3\u001b[0m \u001b[32m━━━━━━━━━━━━━━━━━━━━\u001b[0m\u001b[37m\u001b[0m \u001b[1m0s\u001b[0m 16ms/step\n",
      "\u001b[1m6/6\u001b[0m \u001b[32m━━━━━━━━━━━━━━━━━━━━\u001b[0m\u001b[37m\u001b[0m \u001b[1m0s\u001b[0m 3ms/step \n",
      "\u001b[1m6/6\u001b[0m \u001b[32m━━━━━━━━━━━━━━━━━━━━\u001b[0m\u001b[37m\u001b[0m \u001b[1m0s\u001b[0m 3ms/step \n",
      "\n",
      "--- Testing Features (2): VH, HV ---\n"
     ]
    },
    {
     "name": "stderr",
     "output_type": "stream",
     "text": [
      "Epochs:  13%|█▎        | 127/1000 [00:11<01:16, 11.48epoch/s, loss=0.7596, val_loss=0.5576] \n",
      "Epochs:   9%|▉         | 90/1000 [00:08<01:21, 11.22epoch/s, loss=0.4247, val_loss=0.4353]\n"
     ]
    },
    {
     "name": "stdout",
     "output_type": "stream",
     "text": [
      "\u001b[1m3/3\u001b[0m \u001b[32m━━━━━━━━━━━━━━━━━━━━\u001b[0m\u001b[37m\u001b[0m \u001b[1m0s\u001b[0m 16ms/step\n",
      "\u001b[1m3/3\u001b[0m \u001b[32m━━━━━━━━━━━━━━━━━━━━\u001b[0m\u001b[37m\u001b[0m \u001b[1m0s\u001b[0m 15ms/step\n",
      "\u001b[1m6/6\u001b[0m \u001b[32m━━━━━━━━━━━━━━━━━━━━\u001b[0m\u001b[37m\u001b[0m \u001b[1m0s\u001b[0m 3ms/step \n",
      "\u001b[1m6/6\u001b[0m \u001b[32m━━━━━━━━━━━━━━━━━━━━\u001b[0m\u001b[37m\u001b[0m \u001b[1m0s\u001b[0m 3ms/step \n",
      "\n",
      "--- Testing Features (2): VH, Angle ---\n"
     ]
    },
    {
     "name": "stderr",
     "output_type": "stream",
     "text": [
      "Epochs:  13%|█▎        | 130/1000 [00:11<01:15, 11.55epoch/s, loss=0.8539, val_loss=0.5489] \n",
      "Epochs:  12%|█▏        | 117/1000 [00:10<01:16, 11.53epoch/s, loss=0.4438, val_loss=0.4468]\n"
     ]
    },
    {
     "name": "stdout",
     "output_type": "stream",
     "text": [
      "\u001b[1m3/3\u001b[0m \u001b[32m━━━━━━━━━━━━━━━━━━━━\u001b[0m\u001b[37m\u001b[0m \u001b[1m0s\u001b[0m 16ms/step\n",
      "\u001b[1m3/3\u001b[0m \u001b[32m━━━━━━━━━━━━━━━━━━━━\u001b[0m\u001b[37m\u001b[0m \u001b[1m0s\u001b[0m 15ms/step\n",
      "\u001b[1m6/6\u001b[0m \u001b[32m━━━━━━━━━━━━━━━━━━━━\u001b[0m\u001b[37m\u001b[0m \u001b[1m0s\u001b[0m 3ms/step \n",
      "\u001b[1m6/6\u001b[0m \u001b[32m━━━━━━━━━━━━━━━━━━━━\u001b[0m\u001b[37m\u001b[0m \u001b[1m0s\u001b[0m 3ms/step \n",
      "\n",
      "--- Testing Features (2): VV, HH ---\n"
     ]
    },
    {
     "name": "stderr",
     "output_type": "stream",
     "text": [
      "Epochs:  13%|█▎        | 130/1000 [00:11<01:15, 11.53epoch/s, loss=0.7924, val_loss=0.5448] \n",
      "Epochs:  20%|██        | 203/1000 [00:17<01:06, 11.90epoch/s, loss=0.4555, val_loss=0.4444]\n"
     ]
    },
    {
     "name": "stdout",
     "output_type": "stream",
     "text": [
      "\u001b[1m3/3\u001b[0m \u001b[32m━━━━━━━━━━━━━━━━━━━━\u001b[0m\u001b[37m\u001b[0m \u001b[1m0s\u001b[0m 15ms/step\n",
      "\u001b[1m3/3\u001b[0m \u001b[32m━━━━━━━━━━━━━━━━━━━━\u001b[0m\u001b[37m\u001b[0m \u001b[1m0s\u001b[0m 15ms/step\n",
      "\u001b[1m6/6\u001b[0m \u001b[32m━━━━━━━━━━━━━━━━━━━━\u001b[0m\u001b[37m\u001b[0m \u001b[1m0s\u001b[0m 3ms/step \n",
      "\u001b[1m6/6\u001b[0m \u001b[32m━━━━━━━━━━━━━━━━━━━━\u001b[0m\u001b[37m\u001b[0m \u001b[1m0s\u001b[0m 3ms/step \n",
      "\n",
      "--- Testing Features (2): VV, HV ---\n"
     ]
    },
    {
     "name": "stderr",
     "output_type": "stream",
     "text": [
      "Epochs:  13%|█▎        | 132/1000 [00:11<01:15, 11.44epoch/s, loss=0.7504, val_loss=0.5833] \n",
      "Epochs:  12%|█▏        | 115/1000 [00:10<01:18, 11.33epoch/s, loss=0.4251, val_loss=0.4423]\n"
     ]
    },
    {
     "name": "stdout",
     "output_type": "stream",
     "text": [
      "\u001b[1m3/3\u001b[0m \u001b[32m━━━━━━━━━━━━━━━━━━━━\u001b[0m\u001b[37m\u001b[0m \u001b[1m0s\u001b[0m 16ms/step\n",
      "\u001b[1m3/3\u001b[0m \u001b[32m━━━━━━━━━━━━━━━━━━━━\u001b[0m\u001b[37m\u001b[0m \u001b[1m0s\u001b[0m 19ms/step\n",
      "\u001b[1m6/6\u001b[0m \u001b[32m━━━━━━━━━━━━━━━━━━━━\u001b[0m\u001b[37m\u001b[0m \u001b[1m0s\u001b[0m 3ms/step \n",
      "\u001b[1m6/6\u001b[0m \u001b[32m━━━━━━━━━━━━━━━━━━━━\u001b[0m\u001b[37m\u001b[0m \u001b[1m0s\u001b[0m 3ms/step \n",
      "\n",
      "--- Testing Features (2): VV, Angle ---\n"
     ]
    },
    {
     "name": "stderr",
     "output_type": "stream",
     "text": [
      "Epochs:  14%|█▍        | 138/1000 [00:12<01:15, 11.48epoch/s, loss=1.0623, val_loss=0.6242] \n",
      "Epochs:  19%|█▉        | 192/1000 [00:16<01:08, 11.84epoch/s, loss=0.4584, val_loss=0.4444]\n"
     ]
    },
    {
     "name": "stdout",
     "output_type": "stream",
     "text": [
      "\u001b[1m3/3\u001b[0m \u001b[32m━━━━━━━━━━━━━━━━━━━━\u001b[0m\u001b[37m\u001b[0m \u001b[1m0s\u001b[0m 15ms/step\n",
      "\u001b[1m3/3\u001b[0m \u001b[32m━━━━━━━━━━━━━━━━━━━━\u001b[0m\u001b[37m\u001b[0m \u001b[1m0s\u001b[0m 16ms/step\n",
      "\u001b[1m6/6\u001b[0m \u001b[32m━━━━━━━━━━━━━━━━━━━━\u001b[0m\u001b[37m\u001b[0m \u001b[1m0s\u001b[0m 3ms/step \n",
      "\u001b[1m6/6\u001b[0m \u001b[32m━━━━━━━━━━━━━━━━━━━━\u001b[0m\u001b[37m\u001b[0m \u001b[1m0s\u001b[0m 3ms/step \n",
      "\n",
      "--- Testing Features (2): HH, HV ---\n"
     ]
    },
    {
     "name": "stderr",
     "output_type": "stream",
     "text": [
      "Epochs:  16%|█▌        | 159/1000 [00:13<01:12, 11.64epoch/s, loss=1.2296, val_loss=0.6210] \n",
      "Epochs:  14%|█▍        | 143/1000 [00:12<01:13, 11.67epoch/s, loss=0.4166, val_loss=0.4364]\n"
     ]
    },
    {
     "name": "stdout",
     "output_type": "stream",
     "text": [
      "\u001b[1m3/3\u001b[0m \u001b[32m━━━━━━━━━━━━━━━━━━━━\u001b[0m\u001b[37m\u001b[0m \u001b[1m0s\u001b[0m 17ms/step\n",
      "\u001b[1m3/3\u001b[0m \u001b[32m━━━━━━━━━━━━━━━━━━━━\u001b[0m\u001b[37m\u001b[0m \u001b[1m0s\u001b[0m 15ms/step\n",
      "\u001b[1m6/6\u001b[0m \u001b[32m━━━━━━━━━━━━━━━━━━━━\u001b[0m\u001b[37m\u001b[0m \u001b[1m0s\u001b[0m 3ms/step \n",
      "\u001b[1m6/6\u001b[0m \u001b[32m━━━━━━━━━━━━━━━━━━━━\u001b[0m\u001b[37m\u001b[0m \u001b[1m0s\u001b[0m 3ms/step \n",
      "\n",
      "--- Testing Features (2): HH, Angle ---\n"
     ]
    },
    {
     "name": "stderr",
     "output_type": "stream",
     "text": [
      "Epochs:  12%|█▏        | 119/1000 [00:10<01:17, 11.42epoch/s, loss=0.8138, val_loss=0.5896] \n",
      "Epochs:  10%|█         | 102/1000 [00:09<01:20, 11.21epoch/s, loss=0.4316, val_loss=0.4407]\n"
     ]
    },
    {
     "name": "stdout",
     "output_type": "stream",
     "text": [
      "\u001b[1m3/3\u001b[0m \u001b[32m━━━━━━━━━━━━━━━━━━━━\u001b[0m\u001b[37m\u001b[0m \u001b[1m0s\u001b[0m 15ms/step\n",
      "\u001b[1m3/3\u001b[0m \u001b[32m━━━━━━━━━━━━━━━━━━━━\u001b[0m\u001b[37m\u001b[0m \u001b[1m0s\u001b[0m 15ms/step\n",
      "\u001b[1m6/6\u001b[0m \u001b[32m━━━━━━━━━━━━━━━━━━━━\u001b[0m\u001b[37m\u001b[0m \u001b[1m0s\u001b[0m 3ms/step \n",
      "\u001b[1m6/6\u001b[0m \u001b[32m━━━━━━━━━━━━━━━━━━━━\u001b[0m\u001b[37m\u001b[0m \u001b[1m0s\u001b[0m 3ms/step \n",
      "\n",
      "--- Testing Features (2): HV, Angle ---\n"
     ]
    },
    {
     "name": "stderr",
     "output_type": "stream",
     "text": [
      "Epochs:  13%|█▎        | 128/1000 [00:11<01:15, 11.48epoch/s, loss=0.8555, val_loss=0.5558] \n",
      "Epochs:  16%|█▋        | 165/1000 [00:14<01:11, 11.72epoch/s, loss=0.4081, val_loss=0.4318]\n"
     ]
    },
    {
     "name": "stdout",
     "output_type": "stream",
     "text": [
      "\u001b[1m3/3\u001b[0m \u001b[32m━━━━━━━━━━━━━━━━━━━━\u001b[0m\u001b[37m\u001b[0m \u001b[1m0s\u001b[0m 14ms/step\n",
      "\u001b[1m3/3\u001b[0m \u001b[32m━━━━━━━━━━━━━━━━━━━━\u001b[0m\u001b[37m\u001b[0m \u001b[1m0s\u001b[0m 14ms/step\n",
      "\u001b[1m6/6\u001b[0m \u001b[32m━━━━━━━━━━━━━━━━━━━━\u001b[0m\u001b[37m\u001b[0m \u001b[1m0s\u001b[0m 3ms/step \n",
      "\u001b[1m6/6\u001b[0m \u001b[32m━━━━━━━━━━━━━━━━━━━━\u001b[0m\u001b[37m\u001b[0m \u001b[1m0s\u001b[0m 3ms/step \n",
      "\n",
      "--- Testing Features (3): VH, VV, HH ---\n"
     ]
    },
    {
     "name": "stderr",
     "output_type": "stream",
     "text": [
      "Epochs:  14%|█▍        | 138/1000 [00:12<01:15, 11.49epoch/s, loss=1.4318, val_loss=0.6106] \n",
      "Epochs:  22%|██▏       | 220/1000 [00:18<01:05, 11.84epoch/s, loss=0.4425, val_loss=0.4454]\n"
     ]
    },
    {
     "name": "stdout",
     "output_type": "stream",
     "text": [
      "\u001b[1m3/3\u001b[0m \u001b[32m━━━━━━━━━━━━━━━━━━━━\u001b[0m\u001b[37m\u001b[0m \u001b[1m0s\u001b[0m 15ms/step\n",
      "\u001b[1m3/3\u001b[0m \u001b[32m━━━━━━━━━━━━━━━━━━━━\u001b[0m\u001b[37m\u001b[0m \u001b[1m0s\u001b[0m 15ms/step\n",
      "\u001b[1m6/6\u001b[0m \u001b[32m━━━━━━━━━━━━━━━━━━━━\u001b[0m\u001b[37m\u001b[0m \u001b[1m0s\u001b[0m 3ms/step \n",
      "\u001b[1m6/6\u001b[0m \u001b[32m━━━━━━━━━━━━━━━━━━━━\u001b[0m\u001b[37m\u001b[0m \u001b[1m0s\u001b[0m 3ms/step \n",
      "\n",
      "--- Testing Features (3): VH, VV, HV ---\n"
     ]
    },
    {
     "name": "stderr",
     "output_type": "stream",
     "text": [
      "Epochs:  12%|█▎        | 125/1000 [00:10<01:16, 11.47epoch/s, loss=0.8565, val_loss=0.5638] \n",
      "Epochs:  12%|█▏        | 119/1000 [00:10<01:15, 11.59epoch/s, loss=0.4285, val_loss=0.4413]\n"
     ]
    },
    {
     "name": "stdout",
     "output_type": "stream",
     "text": [
      "\u001b[1m3/3\u001b[0m \u001b[32m━━━━━━━━━━━━━━━━━━━━\u001b[0m\u001b[37m\u001b[0m \u001b[1m0s\u001b[0m 19ms/step\n",
      "\u001b[1m3/3\u001b[0m \u001b[32m━━━━━━━━━━━━━━━━━━━━\u001b[0m\u001b[37m\u001b[0m \u001b[1m0s\u001b[0m 16ms/step\n",
      "\u001b[1m6/6\u001b[0m \u001b[32m━━━━━━━━━━━━━━━━━━━━\u001b[0m\u001b[37m\u001b[0m \u001b[1m0s\u001b[0m 3ms/step \n",
      "\u001b[1m6/6\u001b[0m \u001b[32m━━━━━━━━━━━━━━━━━━━━\u001b[0m\u001b[37m\u001b[0m \u001b[1m0s\u001b[0m 3ms/step \n",
      "\n",
      "--- Testing Features (3): VH, VV, Angle ---\n"
     ]
    },
    {
     "name": "stderr",
     "output_type": "stream",
     "text": [
      "Epochs:  14%|█▎        | 135/1000 [00:11<01:15, 11.50epoch/s, loss=0.7237, val_loss=0.5613] \n",
      "Epochs:  24%|██▍       | 238/1000 [00:19<01:03, 11.96epoch/s, loss=0.4501, val_loss=0.4472]\n"
     ]
    },
    {
     "name": "stdout",
     "output_type": "stream",
     "text": [
      "\u001b[1m3/3\u001b[0m \u001b[32m━━━━━━━━━━━━━━━━━━━━\u001b[0m\u001b[37m\u001b[0m \u001b[1m0s\u001b[0m 16ms/step\n",
      "\u001b[1m3/3\u001b[0m \u001b[32m━━━━━━━━━━━━━━━━━━━━\u001b[0m\u001b[37m\u001b[0m \u001b[1m0s\u001b[0m 15ms/step\n",
      "\u001b[1m6/6\u001b[0m \u001b[32m━━━━━━━━━━━━━━━━━━━━\u001b[0m\u001b[37m\u001b[0m \u001b[1m0s\u001b[0m 3ms/step \n",
      "\u001b[1m6/6\u001b[0m \u001b[32m━━━━━━━━━━━━━━━━━━━━\u001b[0m\u001b[37m\u001b[0m \u001b[1m0s\u001b[0m 3ms/step \n",
      "\n",
      "--- Testing Features (3): VH, HH, HV ---\n"
     ]
    },
    {
     "name": "stderr",
     "output_type": "stream",
     "text": [
      "Epochs:  12%|█▏        | 118/1000 [00:10<01:18, 11.20epoch/s, loss=0.7398, val_loss=0.5330] \n",
      "Epochs:  22%|██▏       | 221/1000 [00:18<01:05, 11.87epoch/s, loss=0.4159, val_loss=0.4368]\n"
     ]
    },
    {
     "name": "stdout",
     "output_type": "stream",
     "text": [
      "\u001b[1m3/3\u001b[0m \u001b[32m━━━━━━━━━━━━━━━━━━━━\u001b[0m\u001b[37m\u001b[0m \u001b[1m0s\u001b[0m 15ms/step\n",
      "\u001b[1m3/3\u001b[0m \u001b[32m━━━━━━━━━━━━━━━━━━━━\u001b[0m\u001b[37m\u001b[0m \u001b[1m0s\u001b[0m 15ms/step\n",
      "\u001b[1m6/6\u001b[0m \u001b[32m━━━━━━━━━━━━━━━━━━━━\u001b[0m\u001b[37m\u001b[0m \u001b[1m0s\u001b[0m 3ms/step \n",
      "\u001b[1m6/6\u001b[0m \u001b[32m━━━━━━━━━━━━━━━━━━━━\u001b[0m\u001b[37m\u001b[0m \u001b[1m0s\u001b[0m 3ms/step \n",
      "\n",
      "--- Testing Features (3): VH, HH, Angle ---\n"
     ]
    },
    {
     "name": "stderr",
     "output_type": "stream",
     "text": [
      "Epochs:  12%|█▏        | 116/1000 [00:10<01:18, 11.30epoch/s, loss=0.8611, val_loss=0.5613] \n",
      "Epochs:  11%|█         | 107/1000 [00:09<01:19, 11.28epoch/s, loss=0.4226, val_loss=0.4457]\n"
     ]
    },
    {
     "name": "stdout",
     "output_type": "stream",
     "text": [
      "\u001b[1m3/3\u001b[0m \u001b[32m━━━━━━━━━━━━━━━━━━━━\u001b[0m\u001b[37m\u001b[0m \u001b[1m0s\u001b[0m 14ms/step\n",
      "\u001b[1m3/3\u001b[0m \u001b[32m━━━━━━━━━━━━━━━━━━━━\u001b[0m\u001b[37m\u001b[0m \u001b[1m0s\u001b[0m 14ms/step\n",
      "\u001b[1m6/6\u001b[0m \u001b[32m━━━━━━━━━━━━━━━━━━━━\u001b[0m\u001b[37m\u001b[0m \u001b[1m0s\u001b[0m 3ms/step \n",
      "\u001b[1m6/6\u001b[0m \u001b[32m━━━━━━━━━━━━━━━━━━━━\u001b[0m\u001b[37m\u001b[0m \u001b[1m0s\u001b[0m 3ms/step \n",
      "\n",
      "--- Testing Features (3): VH, HV, Angle ---\n"
     ]
    },
    {
     "name": "stderr",
     "output_type": "stream",
     "text": [
      "Epochs:  13%|█▎        | 132/1000 [00:11<01:15, 11.50epoch/s, loss=0.9435, val_loss=0.5777] \n",
      "Epochs:  11%|█         | 111/1000 [00:09<01:18, 11.26epoch/s, loss=0.4327, val_loss=0.4395]\n"
     ]
    },
    {
     "name": "stdout",
     "output_type": "stream",
     "text": [
      "\u001b[1m3/3\u001b[0m \u001b[32m━━━━━━━━━━━━━━━━━━━━\u001b[0m\u001b[37m\u001b[0m \u001b[1m0s\u001b[0m 15ms/step\n",
      "\u001b[1m3/3\u001b[0m \u001b[32m━━━━━━━━━━━━━━━━━━━━\u001b[0m\u001b[37m\u001b[0m \u001b[1m0s\u001b[0m 15ms/step\n",
      "\u001b[1m6/6\u001b[0m \u001b[32m━━━━━━━━━━━━━━━━━━━━\u001b[0m\u001b[37m\u001b[0m \u001b[1m0s\u001b[0m 3ms/step \n",
      "\u001b[1m6/6\u001b[0m \u001b[32m━━━━━━━━━━━━━━━━━━━━\u001b[0m\u001b[37m\u001b[0m \u001b[1m0s\u001b[0m 3ms/step \n",
      "\n",
      "--- Testing Features (3): VV, HH, HV ---\n"
     ]
    },
    {
     "name": "stderr",
     "output_type": "stream",
     "text": [
      "Epochs:  12%|█▏        | 120/1000 [00:10<01:18, 11.21epoch/s, loss=0.7822, val_loss=0.5358] \n",
      "Epochs:  13%|█▎        | 130/1000 [00:11<01:15, 11.53epoch/s, loss=0.4158, val_loss=0.4344]\n"
     ]
    },
    {
     "name": "stdout",
     "output_type": "stream",
     "text": [
      "\u001b[1m3/3\u001b[0m \u001b[32m━━━━━━━━━━━━━━━━━━━━\u001b[0m\u001b[37m\u001b[0m \u001b[1m0s\u001b[0m 15ms/step\n",
      "\u001b[1m3/3\u001b[0m \u001b[32m━━━━━━━━━━━━━━━━━━━━\u001b[0m\u001b[37m\u001b[0m \u001b[1m0s\u001b[0m 15ms/step\n",
      "\u001b[1m6/6\u001b[0m \u001b[32m━━━━━━━━━━━━━━━━━━━━\u001b[0m\u001b[37m\u001b[0m \u001b[1m0s\u001b[0m 3ms/step \n",
      "\u001b[1m6/6\u001b[0m \u001b[32m━━━━━━━━━━━━━━━━━━━━\u001b[0m\u001b[37m\u001b[0m \u001b[1m0s\u001b[0m 3ms/step \n",
      "\n",
      "--- Testing Features (3): VV, HH, Angle ---\n"
     ]
    },
    {
     "name": "stderr",
     "output_type": "stream",
     "text": [
      "Epochs:  12%|█▏        | 116/1000 [00:10<01:17, 11.40epoch/s, loss=0.8440, val_loss=0.5640] \n",
      "Epochs:  10%|█         | 104/1000 [00:09<01:18, 11.42epoch/s, loss=0.4389, val_loss=0.4422]\n"
     ]
    },
    {
     "name": "stdout",
     "output_type": "stream",
     "text": [
      "\u001b[1m3/3\u001b[0m \u001b[32m━━━━━━━━━━━━━━━━━━━━\u001b[0m\u001b[37m\u001b[0m \u001b[1m0s\u001b[0m 16ms/step\n",
      "\u001b[1m3/3\u001b[0m \u001b[32m━━━━━━━━━━━━━━━━━━━━\u001b[0m\u001b[37m\u001b[0m \u001b[1m0s\u001b[0m 14ms/step\n",
      "\u001b[1m6/6\u001b[0m \u001b[32m━━━━━━━━━━━━━━━━━━━━\u001b[0m\u001b[37m\u001b[0m \u001b[1m0s\u001b[0m 3ms/step \n",
      "\u001b[1m6/6\u001b[0m \u001b[32m━━━━━━━━━━━━━━━━━━━━\u001b[0m\u001b[37m\u001b[0m \u001b[1m0s\u001b[0m 3ms/step \n",
      "\n",
      "--- Testing Features (3): VV, HV, Angle ---\n"
     ]
    },
    {
     "name": "stderr",
     "output_type": "stream",
     "text": [
      "Epochs:  13%|█▎        | 133/1000 [00:11<01:15, 11.51epoch/s, loss=0.9507, val_loss=0.5955] \n",
      "Epochs:   9%|▊         | 86/1000 [00:07<01:22, 11.09epoch/s, loss=0.4279, val_loss=0.4374]\n"
     ]
    },
    {
     "name": "stdout",
     "output_type": "stream",
     "text": [
      "\u001b[1m3/3\u001b[0m \u001b[32m━━━━━━━━━━━━━━━━━━━━\u001b[0m\u001b[37m\u001b[0m \u001b[1m0s\u001b[0m 19ms/step\n",
      "\u001b[1m3/3\u001b[0m \u001b[32m━━━━━━━━━━━━━━━━━━━━\u001b[0m\u001b[37m\u001b[0m \u001b[1m0s\u001b[0m 17ms/step\n",
      "\u001b[1m6/6\u001b[0m \u001b[32m━━━━━━━━━━━━━━━━━━━━\u001b[0m\u001b[37m\u001b[0m \u001b[1m0s\u001b[0m 3ms/step \n",
      "\u001b[1m6/6\u001b[0m \u001b[32m━━━━━━━━━━━━━━━━━━━━\u001b[0m\u001b[37m\u001b[0m \u001b[1m0s\u001b[0m 3ms/step \n",
      "\n",
      "--- Testing Features (3): HH, HV, Angle ---\n"
     ]
    },
    {
     "name": "stderr",
     "output_type": "stream",
     "text": [
      "Epochs:  10%|█         | 102/1000 [00:09<01:19, 11.25epoch/s, loss=0.7589, val_loss=0.5363] \n",
      "Epochs:  45%|████▌     | 452/1000 [00:37<00:45, 12.08epoch/s, loss=0.4203, val_loss=0.4380]\n"
     ]
    },
    {
     "name": "stdout",
     "output_type": "stream",
     "text": [
      "\u001b[1m3/3\u001b[0m \u001b[32m━━━━━━━━━━━━━━━━━━━━\u001b[0m\u001b[37m\u001b[0m \u001b[1m0s\u001b[0m 15ms/step\n",
      "\u001b[1m3/3\u001b[0m \u001b[32m━━━━━━━━━━━━━━━━━━━━\u001b[0m\u001b[37m\u001b[0m \u001b[1m0s\u001b[0m 14ms/step\n",
      "\u001b[1m6/6\u001b[0m \u001b[32m━━━━━━━━━━━━━━━━━━━━\u001b[0m\u001b[37m\u001b[0m \u001b[1m0s\u001b[0m 3ms/step \n",
      "\u001b[1m6/6\u001b[0m \u001b[32m━━━━━━━━━━━━━━━━━━━━\u001b[0m\u001b[37m\u001b[0m \u001b[1m0s\u001b[0m 3ms/step \n",
      "\n",
      "--- Testing Features (4): VH, VV, HH, HV ---\n"
     ]
    },
    {
     "name": "stderr",
     "output_type": "stream",
     "text": [
      "Epochs:  11%|█         | 112/1000 [00:09<01:18, 11.28epoch/s, loss=0.8398, val_loss=0.5505] \n",
      "Epochs:  15%|█▍        | 148/1000 [00:12<01:13, 11.55epoch/s, loss=0.4352, val_loss=0.4424]\n"
     ]
    },
    {
     "name": "stdout",
     "output_type": "stream",
     "text": [
      "\u001b[1m3/3\u001b[0m \u001b[32m━━━━━━━━━━━━━━━━━━━━\u001b[0m\u001b[37m\u001b[0m \u001b[1m0s\u001b[0m 15ms/step\n",
      "\u001b[1m3/3\u001b[0m \u001b[32m━━━━━━━━━━━━━━━━━━━━\u001b[0m\u001b[37m\u001b[0m \u001b[1m0s\u001b[0m 15ms/step\n",
      "\u001b[1m6/6\u001b[0m \u001b[32m━━━━━━━━━━━━━━━━━━━━\u001b[0m\u001b[37m\u001b[0m \u001b[1m0s\u001b[0m 3ms/step \n",
      "\u001b[1m6/6\u001b[0m \u001b[32m━━━━━━━━━━━━━━━━━━━━\u001b[0m\u001b[37m\u001b[0m \u001b[1m0s\u001b[0m 3ms/step \n",
      "\n",
      "--- Testing Features (4): VH, VV, HH, Angle ---\n"
     ]
    },
    {
     "name": "stderr",
     "output_type": "stream",
     "text": [
      "Epochs:  12%|█▏        | 116/1000 [00:10<01:17, 11.36epoch/s, loss=0.8258, val_loss=0.5685] \n",
      "Epochs:   9%|▊         | 87/1000 [00:07<01:22, 11.11epoch/s, loss=0.4503, val_loss=0.4456]\n"
     ]
    },
    {
     "name": "stdout",
     "output_type": "stream",
     "text": [
      "\u001b[1m3/3\u001b[0m \u001b[32m━━━━━━━━━━━━━━━━━━━━\u001b[0m\u001b[37m\u001b[0m \u001b[1m0s\u001b[0m 15ms/step\n",
      "\u001b[1m3/3\u001b[0m \u001b[32m━━━━━━━━━━━━━━━━━━━━\u001b[0m\u001b[37m\u001b[0m \u001b[1m0s\u001b[0m 14ms/step\n",
      "\u001b[1m6/6\u001b[0m \u001b[32m━━━━━━━━━━━━━━━━━━━━\u001b[0m\u001b[37m\u001b[0m \u001b[1m0s\u001b[0m 3ms/step \n",
      "\u001b[1m6/6\u001b[0m \u001b[32m━━━━━━━━━━━━━━━━━━━━\u001b[0m\u001b[37m\u001b[0m \u001b[1m0s\u001b[0m 3ms/step \n",
      "\n",
      "--- Testing Features (4): VH, VV, HV, Angle ---\n"
     ]
    },
    {
     "name": "stderr",
     "output_type": "stream",
     "text": [
      "Epochs:  11%|█▏        | 114/1000 [00:10<01:18, 11.29epoch/s, loss=0.8314, val_loss=0.5557] \n",
      "Epochs:  36%|███▌      | 359/1000 [00:29<00:53, 12.04epoch/s, loss=0.4161, val_loss=0.4365]\n"
     ]
    },
    {
     "name": "stdout",
     "output_type": "stream",
     "text": [
      "\u001b[1m3/3\u001b[0m \u001b[32m━━━━━━━━━━━━━━━━━━━━\u001b[0m\u001b[37m\u001b[0m \u001b[1m0s\u001b[0m 18ms/step\n",
      "\u001b[1m3/3\u001b[0m \u001b[32m━━━━━━━━━━━━━━━━━━━━\u001b[0m\u001b[37m\u001b[0m \u001b[1m0s\u001b[0m 22ms/step\n",
      "\u001b[1m6/6\u001b[0m \u001b[32m━━━━━━━━━━━━━━━━━━━━\u001b[0m\u001b[37m\u001b[0m \u001b[1m0s\u001b[0m 4ms/step \n",
      "\u001b[1m6/6\u001b[0m \u001b[32m━━━━━━━━━━━━━━━━━━━━\u001b[0m\u001b[37m\u001b[0m \u001b[1m0s\u001b[0m 3ms/step \n",
      "\n",
      "--- Testing Features (4): VH, HH, HV, Angle ---\n"
     ]
    },
    {
     "name": "stderr",
     "output_type": "stream",
     "text": [
      "Epochs:  10%|█         | 105/1000 [00:09<01:21, 11.01epoch/s, loss=0.7529, val_loss=0.5362] \n",
      "Epochs:  11%|█         | 107/1000 [00:09<01:18, 11.43epoch/s, loss=0.4303, val_loss=0.4402]\n"
     ]
    },
    {
     "name": "stdout",
     "output_type": "stream",
     "text": [
      "\u001b[1m3/3\u001b[0m \u001b[32m━━━━━━━━━━━━━━━━━━━━\u001b[0m\u001b[37m\u001b[0m \u001b[1m0s\u001b[0m 14ms/step\n",
      "\u001b[1m3/3\u001b[0m \u001b[32m━━━━━━━━━━━━━━━━━━━━\u001b[0m\u001b[37m\u001b[0m \u001b[1m0s\u001b[0m 15ms/step\n",
      "\u001b[1m6/6\u001b[0m \u001b[32m━━━━━━━━━━━━━━━━━━━━\u001b[0m\u001b[37m\u001b[0m \u001b[1m0s\u001b[0m 3ms/step \n",
      "\u001b[1m6/6\u001b[0m \u001b[32m━━━━━━━━━━━━━━━━━━━━\u001b[0m\u001b[37m\u001b[0m \u001b[1m0s\u001b[0m 3ms/step \n",
      "\n",
      "--- Testing Features (4): VV, HH, HV, Angle ---\n"
     ]
    },
    {
     "name": "stderr",
     "output_type": "stream",
     "text": [
      "Epochs:  12%|█▏        | 116/1000 [00:10<01:17, 11.40epoch/s, loss=0.7991, val_loss=0.5459] \n",
      "Epochs:  32%|███▏      | 321/1000 [00:26<00:56, 12.08epoch/s, loss=0.4261, val_loss=0.4297]\n"
     ]
    },
    {
     "name": "stdout",
     "output_type": "stream",
     "text": [
      "\u001b[1m3/3\u001b[0m \u001b[32m━━━━━━━━━━━━━━━━━━━━\u001b[0m\u001b[37m\u001b[0m \u001b[1m0s\u001b[0m 15ms/step\n",
      "\u001b[1m3/3\u001b[0m \u001b[32m━━━━━━━━━━━━━━━━━━━━\u001b[0m\u001b[37m\u001b[0m \u001b[1m0s\u001b[0m 14ms/step\n",
      "\u001b[1m6/6\u001b[0m \u001b[32m━━━━━━━━━━━━━━━━━━━━\u001b[0m\u001b[37m\u001b[0m \u001b[1m0s\u001b[0m 3ms/step \n",
      "\u001b[1m6/6\u001b[0m \u001b[32m━━━━━━━━━━━━━━━━━━━━\u001b[0m\u001b[37m\u001b[0m \u001b[1m0s\u001b[0m 3ms/step \n",
      "\n",
      "--- Testing Features (5): VH, VV, HH, HV, Angle ---\n"
     ]
    },
    {
     "name": "stderr",
     "output_type": "stream",
     "text": [
      "Epochs:  13%|█▎        | 132/1000 [00:11<01:16, 11.33epoch/s, loss=1.2365, val_loss=0.6429] \n",
      "Epochs:  10%|▉         | 96/1000 [00:08<01:20, 11.17epoch/s, loss=0.4196, val_loss=0.4386]\n"
     ]
    },
    {
     "name": "stdout",
     "output_type": "stream",
     "text": [
      "\u001b[1m3/3\u001b[0m \u001b[32m━━━━━━━━━━━━━━━━━━━━\u001b[0m\u001b[37m\u001b[0m \u001b[1m0s\u001b[0m 18ms/step\n",
      "\u001b[1m3/3\u001b[0m \u001b[32m━━━━━━━━━━━━━━━━━━━━\u001b[0m\u001b[37m\u001b[0m \u001b[1m0s\u001b[0m 15ms/step\n",
      "\u001b[1m6/6\u001b[0m \u001b[32m━━━━━━━━━━━━━━━━━━━━\u001b[0m\u001b[37m\u001b[0m \u001b[1m0s\u001b[0m 3ms/step \n",
      "\u001b[1m6/6\u001b[0m \u001b[32m━━━━━━━━━━━━━━━━━━━━\u001b[0m\u001b[37m\u001b[0m \u001b[1m0s\u001b[0m 3ms/step \n"
     ]
    },
    {
     "data": {
      "text/plain": [
       "[{'features': 'VH',\n",
       "  'num_features': 1,\n",
       "  'PICP': np.float64(0.9583333333333334),\n",
       "  'MPIW': np.float32(32.234974)},\n",
       " {'features': 'VV',\n",
       "  'num_features': 1,\n",
       "  'PICP': np.float64(0.9523809523809523),\n",
       "  'MPIW': np.float32(35.558468)},\n",
       " {'features': 'HH',\n",
       "  'num_features': 1,\n",
       "  'PICP': np.float64(0.9523809523809523),\n",
       "  'MPIW': np.float32(30.849918)},\n",
       " {'features': 'HV',\n",
       "  'num_features': 1,\n",
       "  'PICP': np.float64(0.9523809523809523),\n",
       "  'MPIW': np.float32(32.71391)},\n",
       " {'features': 'Angle',\n",
       "  'num_features': 1,\n",
       "  'PICP': np.float64(0.9523809523809523),\n",
       "  'MPIW': np.float32(32.858776)},\n",
       " {'features': 'VH, VV',\n",
       "  'num_features': 2,\n",
       "  'PICP': np.float64(0.9523809523809523),\n",
       "  'MPIW': np.float32(34.783417)},\n",
       " {'features': 'VH, HH',\n",
       "  'num_features': 2,\n",
       "  'PICP': np.float64(0.9464285714285714),\n",
       "  'MPIW': np.float32(29.62114)},\n",
       " {'features': 'VH, HV',\n",
       "  'num_features': 2,\n",
       "  'PICP': np.float64(0.9523809523809523),\n",
       "  'MPIW': np.float32(30.529081)},\n",
       " {'features': 'VH, Angle',\n",
       "  'num_features': 2,\n",
       "  'PICP': np.float64(0.9464285714285714),\n",
       "  'MPIW': np.float32(33.282784)},\n",
       " {'features': 'VV, HH',\n",
       "  'num_features': 2,\n",
       "  'PICP': np.float64(0.9464285714285714),\n",
       "  'MPIW': np.float32(32.136177)},\n",
       " {'features': 'VV, HV',\n",
       "  'num_features': 2,\n",
       "  'PICP': np.float64(0.9583333333333334),\n",
       "  'MPIW': np.float32(32.899433)},\n",
       " {'features': 'VV, Angle',\n",
       "  'num_features': 2,\n",
       "  'PICP': np.float64(0.9464285714285714),\n",
       "  'MPIW': np.float32(36.219048)},\n",
       " {'features': 'HH, HV',\n",
       "  'num_features': 2,\n",
       "  'PICP': np.float64(0.9583333333333334),\n",
       "  'MPIW': np.float32(32.555706)},\n",
       " {'features': 'HH, Angle',\n",
       "  'num_features': 2,\n",
       "  'PICP': np.float64(0.9523809523809523),\n",
       "  'MPIW': np.float32(29.091457)},\n",
       " {'features': 'HV, Angle',\n",
       "  'num_features': 2,\n",
       "  'PICP': np.float64(0.9464285714285714),\n",
       "  'MPIW': np.float32(30.673534)},\n",
       " {'features': 'VH, VV, HH',\n",
       "  'num_features': 3,\n",
       "  'PICP': np.float64(0.9523809523809523),\n",
       "  'MPIW': np.float32(31.004679)},\n",
       " {'features': 'VH, VV, HV',\n",
       "  'num_features': 3,\n",
       "  'PICP': np.float64(0.9583333333333334),\n",
       "  'MPIW': np.float32(31.723295)},\n",
       " {'features': 'VH, VV, Angle',\n",
       "  'num_features': 3,\n",
       "  'PICP': np.float64(0.9523809523809523),\n",
       "  'MPIW': np.float32(34.842747)},\n",
       " {'features': 'VH, HH, HV',\n",
       "  'num_features': 3,\n",
       "  'PICP': np.float64(0.9523809523809523),\n",
       "  'MPIW': np.float32(30.34275)},\n",
       " {'features': 'VH, HH, Angle',\n",
       "  'num_features': 3,\n",
       "  'PICP': np.float64(0.9523809523809523),\n",
       "  'MPIW': np.float32(30.221563)},\n",
       " {'features': 'VH, HV, Angle',\n",
       "  'num_features': 3,\n",
       "  'PICP': np.float64(0.9523809523809523),\n",
       "  'MPIW': np.float32(30.770874)},\n",
       " {'features': 'VV, HH, HV',\n",
       "  'num_features': 3,\n",
       "  'PICP': np.float64(0.9523809523809523),\n",
       "  'MPIW': np.float32(32.460945)},\n",
       " {'features': 'VV, HH, Angle',\n",
       "  'num_features': 3,\n",
       "  'PICP': np.float64(0.9523809523809523),\n",
       "  'MPIW': np.float32(31.01998)},\n",
       " {'features': 'VV, HV, Angle',\n",
       "  'num_features': 3,\n",
       "  'PICP': np.float64(0.9583333333333334),\n",
       "  'MPIW': np.float32(32.685425)},\n",
       " {'features': 'HH, HV, Angle',\n",
       "  'num_features': 3,\n",
       "  'PICP': np.float64(0.9583333333333334),\n",
       "  'MPIW': np.float32(29.523361)},\n",
       " {'features': 'VH, VV, HH, HV',\n",
       "  'num_features': 4,\n",
       "  'PICP': np.float64(0.9523809523809523),\n",
       "  'MPIW': np.float32(30.435158)},\n",
       " {'features': 'VH, VV, HH, Angle',\n",
       "  'num_features': 4,\n",
       "  'PICP': np.float64(0.9523809523809523),\n",
       "  'MPIW': np.float32(30.568493)},\n",
       " {'features': 'VH, VV, HV, Angle',\n",
       "  'num_features': 4,\n",
       "  'PICP': np.float64(0.9583333333333334),\n",
       "  'MPIW': np.float32(33.71514)},\n",
       " {'features': 'VH, HH, HV, Angle',\n",
       "  'num_features': 4,\n",
       "  'PICP': np.float64(0.9583333333333334),\n",
       "  'MPIW': np.float32(29.402029)},\n",
       " {'features': 'VV, HH, HV, Angle',\n",
       "  'num_features': 4,\n",
       "  'PICP': np.float64(0.9523809523809523),\n",
       "  'MPIW': np.float32(30.728483)},\n",
       " {'features': 'VH, VV, HH, HV, Angle',\n",
       "  'num_features': 5,\n",
       "  'PICP': np.float64(0.9523809523809523),\n",
       "  'MPIW': np.float32(30.388582)}]"
      ]
     },
     "execution_count": 5,
     "metadata": {},
     "output_type": "execute_result"
    }
   ],
   "source": [
    "from  model_experiments import PredictionIntervalEstimation\n",
    "\n",
    "all_results = []\n",
    "seed = 1337 \n",
    "\n",
    "for features in all_feature_combinations:\n",
    "    features = list(features) # Convert tuple to list\n",
    "    num_features = len(features)\n",
    "    feature_string = \", \".join(features)\n",
    "\n",
    "    print(f\"\\n--- Testing Features ({num_features}): {feature_string} ---\")\n",
    "\n",
    "    tf.keras.backend.clear_session()\n",
    "\n",
    "    model = tf.keras.Sequential([\n",
    "        tf.keras.Input(shape=(num_features, )), # Dynamic input shape\n",
    "        tf.keras.layers.Dense(16, activation='relu'),\n",
    "        tf.keras.layers.Dropout(0.09),\n",
    "        tf.keras.layers.Dense(8, activation='relu'),\n",
    "        tf.keras.layers.Dropout(0.09),\n",
    "        tf.keras.layers.Dense(1)\n",
    "    ])\n",
    "\n",
    "    # Instantiate the experiment class with the current feature subset\n",
    "    exp = PredictionIntervalEstimation(\n",
    "        combined,\n",
    "        features=features,\n",
    "        target=y_col[0],\n",
    "        satellite='EOS+Sentinel',\n",
    "        random_state=seed\n",
    "    )\n",
    "\n",
    "    y_lower_test, y_upper_test, y_lower_val, y_upper_val = exp.train_model(\n",
    "        model,\n",
    "        learning_rate=0.0005, # Using the optimal LR from previous tuning\n",
    "        epochs=1000,\n",
    "        verbose=0 # Suppress epoch-by-epoch output\n",
    "    )\n",
    "\n",
    "    metrics = exp.evaluate_model(exp.y_val, y_lower_val, y_upper_val)\n",
    "\n",
    "    result_entry = {\n",
    "        'features': feature_string,\n",
    "        'num_features': num_features,\n",
    "        'PICP': metrics['PICP'],\n",
    "        'MPIW': metrics['MPIW']\n",
    "    }\n",
    "\n",
    "    all_results.append(result_entry)\n",
    "\n",
    "all_results"
   ]
  },
  {
   "cell_type": "code",
   "execution_count": 10,
   "id": "38f5417a",
   "metadata": {},
   "outputs": [
    {
     "data": {
      "text/html": [
       "<div>\n",
       "<style scoped>\n",
       "    .dataframe tbody tr th:only-of-type {\n",
       "        vertical-align: middle;\n",
       "    }\n",
       "\n",
       "    .dataframe tbody tr th {\n",
       "        vertical-align: top;\n",
       "    }\n",
       "\n",
       "    .dataframe thead th {\n",
       "        text-align: right;\n",
       "    }\n",
       "</style>\n",
       "<table border=\"1\" class=\"dataframe\">\n",
       "  <thead>\n",
       "    <tr style=\"text-align: right;\">\n",
       "      <th></th>\n",
       "      <th>features</th>\n",
       "      <th>num_features</th>\n",
       "      <th>PICP</th>\n",
       "      <th>MPIW</th>\n",
       "    </tr>\n",
       "  </thead>\n",
       "  <tbody>\n",
       "    <tr>\n",
       "      <th>13</th>\n",
       "      <td>HH, Angle</td>\n",
       "      <td>2</td>\n",
       "      <td>0.952381</td>\n",
       "      <td>29.091457</td>\n",
       "    </tr>\n",
       "    <tr>\n",
       "      <th>28</th>\n",
       "      <td>VH, HH, HV, Angle</td>\n",
       "      <td>4</td>\n",
       "      <td>0.958333</td>\n",
       "      <td>29.402029</td>\n",
       "    </tr>\n",
       "    <tr>\n",
       "      <th>24</th>\n",
       "      <td>HH, HV, Angle</td>\n",
       "      <td>3</td>\n",
       "      <td>0.958333</td>\n",
       "      <td>29.523361</td>\n",
       "    </tr>\n",
       "    <tr>\n",
       "      <th>19</th>\n",
       "      <td>VH, HH, Angle</td>\n",
       "      <td>3</td>\n",
       "      <td>0.952381</td>\n",
       "      <td>30.221563</td>\n",
       "    </tr>\n",
       "    <tr>\n",
       "      <th>18</th>\n",
       "      <td>VH, HH, HV</td>\n",
       "      <td>3</td>\n",
       "      <td>0.952381</td>\n",
       "      <td>30.342751</td>\n",
       "    </tr>\n",
       "    <tr>\n",
       "      <th>30</th>\n",
       "      <td>VH, VV, HH, HV, Angle</td>\n",
       "      <td>5</td>\n",
       "      <td>0.952381</td>\n",
       "      <td>30.388582</td>\n",
       "    </tr>\n",
       "    <tr>\n",
       "      <th>25</th>\n",
       "      <td>VH, VV, HH, HV</td>\n",
       "      <td>4</td>\n",
       "      <td>0.952381</td>\n",
       "      <td>30.435158</td>\n",
       "    </tr>\n",
       "    <tr>\n",
       "      <th>7</th>\n",
       "      <td>VH, HV</td>\n",
       "      <td>2</td>\n",
       "      <td>0.952381</td>\n",
       "      <td>30.529081</td>\n",
       "    </tr>\n",
       "    <tr>\n",
       "      <th>26</th>\n",
       "      <td>VH, VV, HH, Angle</td>\n",
       "      <td>4</td>\n",
       "      <td>0.952381</td>\n",
       "      <td>30.568493</td>\n",
       "    </tr>\n",
       "    <tr>\n",
       "      <th>29</th>\n",
       "      <td>VV, HH, HV, Angle</td>\n",
       "      <td>4</td>\n",
       "      <td>0.952381</td>\n",
       "      <td>30.728483</td>\n",
       "    </tr>\n",
       "    <tr>\n",
       "      <th>20</th>\n",
       "      <td>VH, HV, Angle</td>\n",
       "      <td>3</td>\n",
       "      <td>0.952381</td>\n",
       "      <td>30.770874</td>\n",
       "    </tr>\n",
       "    <tr>\n",
       "      <th>2</th>\n",
       "      <td>HH</td>\n",
       "      <td>1</td>\n",
       "      <td>0.952381</td>\n",
       "      <td>30.849918</td>\n",
       "    </tr>\n",
       "    <tr>\n",
       "      <th>15</th>\n",
       "      <td>VH, VV, HH</td>\n",
       "      <td>3</td>\n",
       "      <td>0.952381</td>\n",
       "      <td>31.004679</td>\n",
       "    </tr>\n",
       "    <tr>\n",
       "      <th>22</th>\n",
       "      <td>VV, HH, Angle</td>\n",
       "      <td>3</td>\n",
       "      <td>0.952381</td>\n",
       "      <td>31.019979</td>\n",
       "    </tr>\n",
       "    <tr>\n",
       "      <th>16</th>\n",
       "      <td>VH, VV, HV</td>\n",
       "      <td>3</td>\n",
       "      <td>0.958333</td>\n",
       "      <td>31.723295</td>\n",
       "    </tr>\n",
       "    <tr>\n",
       "      <th>0</th>\n",
       "      <td>VH</td>\n",
       "      <td>1</td>\n",
       "      <td>0.958333</td>\n",
       "      <td>32.234974</td>\n",
       "    </tr>\n",
       "    <tr>\n",
       "      <th>21</th>\n",
       "      <td>VV, HH, HV</td>\n",
       "      <td>3</td>\n",
       "      <td>0.952381</td>\n",
       "      <td>32.460945</td>\n",
       "    </tr>\n",
       "    <tr>\n",
       "      <th>12</th>\n",
       "      <td>HH, HV</td>\n",
       "      <td>2</td>\n",
       "      <td>0.958333</td>\n",
       "      <td>32.555706</td>\n",
       "    </tr>\n",
       "    <tr>\n",
       "      <th>23</th>\n",
       "      <td>VV, HV, Angle</td>\n",
       "      <td>3</td>\n",
       "      <td>0.958333</td>\n",
       "      <td>32.685425</td>\n",
       "    </tr>\n",
       "    <tr>\n",
       "      <th>3</th>\n",
       "      <td>HV</td>\n",
       "      <td>1</td>\n",
       "      <td>0.952381</td>\n",
       "      <td>32.713909</td>\n",
       "    </tr>\n",
       "    <tr>\n",
       "      <th>4</th>\n",
       "      <td>Angle</td>\n",
       "      <td>1</td>\n",
       "      <td>0.952381</td>\n",
       "      <td>32.858776</td>\n",
       "    </tr>\n",
       "    <tr>\n",
       "      <th>10</th>\n",
       "      <td>VV, HV</td>\n",
       "      <td>2</td>\n",
       "      <td>0.958333</td>\n",
       "      <td>32.899433</td>\n",
       "    </tr>\n",
       "    <tr>\n",
       "      <th>27</th>\n",
       "      <td>VH, VV, HV, Angle</td>\n",
       "      <td>4</td>\n",
       "      <td>0.958333</td>\n",
       "      <td>33.715141</td>\n",
       "    </tr>\n",
       "    <tr>\n",
       "      <th>5</th>\n",
       "      <td>VH, VV</td>\n",
       "      <td>2</td>\n",
       "      <td>0.952381</td>\n",
       "      <td>34.783417</td>\n",
       "    </tr>\n",
       "    <tr>\n",
       "      <th>17</th>\n",
       "      <td>VH, VV, Angle</td>\n",
       "      <td>3</td>\n",
       "      <td>0.952381</td>\n",
       "      <td>34.842747</td>\n",
       "    </tr>\n",
       "    <tr>\n",
       "      <th>1</th>\n",
       "      <td>VV</td>\n",
       "      <td>1</td>\n",
       "      <td>0.952381</td>\n",
       "      <td>35.558468</td>\n",
       "    </tr>\n",
       "  </tbody>\n",
       "</table>\n",
       "</div>"
      ],
      "text/plain": [
       "                 features  num_features      PICP       MPIW\n",
       "13              HH, Angle             2  0.952381  29.091457\n",
       "28      VH, HH, HV, Angle             4  0.958333  29.402029\n",
       "24          HH, HV, Angle             3  0.958333  29.523361\n",
       "19          VH, HH, Angle             3  0.952381  30.221563\n",
       "18             VH, HH, HV             3  0.952381  30.342751\n",
       "30  VH, VV, HH, HV, Angle             5  0.952381  30.388582\n",
       "25         VH, VV, HH, HV             4  0.952381  30.435158\n",
       "7                  VH, HV             2  0.952381  30.529081\n",
       "26      VH, VV, HH, Angle             4  0.952381  30.568493\n",
       "29      VV, HH, HV, Angle             4  0.952381  30.728483\n",
       "20          VH, HV, Angle             3  0.952381  30.770874\n",
       "2                      HH             1  0.952381  30.849918\n",
       "15             VH, VV, HH             3  0.952381  31.004679\n",
       "22          VV, HH, Angle             3  0.952381  31.019979\n",
       "16             VH, VV, HV             3  0.958333  31.723295\n",
       "0                      VH             1  0.958333  32.234974\n",
       "21             VV, HH, HV             3  0.952381  32.460945\n",
       "12                 HH, HV             2  0.958333  32.555706\n",
       "23          VV, HV, Angle             3  0.958333  32.685425\n",
       "3                      HV             1  0.952381  32.713909\n",
       "4                   Angle             1  0.952381  32.858776\n",
       "10                 VV, HV             2  0.958333  32.899433\n",
       "27      VH, VV, HV, Angle             4  0.958333  33.715141\n",
       "5                  VH, VV             2  0.952381  34.783417\n",
       "17          VH, VV, Angle             3  0.952381  34.842747\n",
       "1                      VV             1  0.952381  35.558468"
      ]
     },
     "execution_count": 10,
     "metadata": {},
     "output_type": "execute_result"
    }
   ],
   "source": [
    "results_df = pd.DataFrame(all_results)\n",
    "\n",
    "results_df[results_df['PICP'] > 0.95].sort_values(by='MPIW', ascending=True)"
   ]
  },
  {
   "cell_type": "code",
   "execution_count": null,
   "id": "2c93edac",
   "metadata": {},
   "outputs": [],
   "source": []
  }
 ],
 "metadata": {
  "kernelspec": {
   "display_name": "Python 3 (ipykernel)",
   "language": "python",
   "name": "python3"
  },
  "language_info": {
   "codemirror_mode": {
    "name": "ipython",
    "version": 3
   },
   "file_extension": ".py",
   "mimetype": "text/x-python",
   "name": "python",
   "nbconvert_exporter": "python",
   "pygments_lexer": "ipython3",
   "version": "3.12.11"
  }
 },
 "nbformat": 4,
 "nbformat_minor": 5
}
