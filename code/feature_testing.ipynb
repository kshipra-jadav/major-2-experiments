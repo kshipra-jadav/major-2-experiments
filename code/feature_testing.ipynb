{
 "cells": [
  {
   "cell_type": "code",
   "execution_count": 1,
   "id": "5182e7a1",
   "metadata": {},
   "outputs": [
    {
     "name": "stderr",
     "output_type": "stream",
     "text": [
      "2025-09-26 21:18:07.282841: I tensorflow/core/platform/cpu_feature_guard.cc:210] This TensorFlow binary is optimized to use available CPU instructions in performance-critical operations.\n",
      "To enable the following instructions: AVX2 FMA, in other operations, rebuild TensorFlow with the appropriate compiler flags.\n"
     ]
    },
    {
     "data": {
      "text/plain": [
       "(747, 796, 747)"
      ]
     },
     "execution_count": 1,
     "metadata": {},
     "output_type": "execute_result"
    }
   ],
   "source": [
    "import pandas as pd\n",
    "import tensorflow as tf\n",
    "\n",
    "DATA_PATH = '/home/kshipra/work/major/ml experiments/data/manually_combined.xlsx'\n",
    "\n",
    "eos = pd.read_excel(DATA_PATH, sheet_name='all_stacked_eos')\n",
    "sentinel = pd.read_excel(DATA_PATH, sheet_name='all_stacked_sentinel')\n",
    "combined = pd.read_excel(DATA_PATH, sheet_name='eos_sent_combined')\n",
    "\n",
    "len(eos), len(sentinel), len(combined)"
   ]
  },
  {
   "cell_type": "code",
   "execution_count": 2,
   "id": "f00896d9",
   "metadata": {},
   "outputs": [
    {
     "data": {
      "text/html": [
       "<div>\n",
       "<style scoped>\n",
       "    .dataframe tbody tr th:only-of-type {\n",
       "        vertical-align: middle;\n",
       "    }\n",
       "\n",
       "    .dataframe tbody tr th {\n",
       "        vertical-align: top;\n",
       "    }\n",
       "\n",
       "    .dataframe thead th {\n",
       "        text-align: right;\n",
       "    }\n",
       "</style>\n",
       "<table border=\"1\" class=\"dataframe\">\n",
       "  <thead>\n",
       "    <tr style=\"text-align: right;\">\n",
       "      <th></th>\n",
       "      <th>VH</th>\n",
       "      <th>VV</th>\n",
       "      <th>Angle</th>\n",
       "      <th>SM (Sent)</th>\n",
       "      <th>HH</th>\n",
       "      <th>HV</th>\n",
       "      <th>SM (EOS)</th>\n",
       "      <th>SM (Combined)</th>\n",
       "      <th>Unnamed: 8</th>\n",
       "      <th>Latitude (S)</th>\n",
       "      <th>Longitude (S)</th>\n",
       "      <th>Latitude (E)</th>\n",
       "      <th>Longitude (E)</th>\n",
       "      <th>Lat Diff</th>\n",
       "      <th>Long Diff</th>\n",
       "      <th>SM Diff</th>\n",
       "    </tr>\n",
       "  </thead>\n",
       "  <tbody>\n",
       "    <tr>\n",
       "      <th>0</th>\n",
       "      <td>-14.947200</td>\n",
       "      <td>-10.379400</td>\n",
       "      <td>40.366800</td>\n",
       "      <td>20.6</td>\n",
       "      <td>-7.38713</td>\n",
       "      <td>-15.09099</td>\n",
       "      <td>24.4</td>\n",
       "      <td>22.50</td>\n",
       "      <td>NaN</td>\n",
       "      <td>22.526048</td>\n",
       "      <td>72.765011</td>\n",
       "      <td>22.526048</td>\n",
       "      <td>72.765011</td>\n",
       "      <td>0.000000</td>\n",
       "      <td>0.000000</td>\n",
       "      <td>-3.8</td>\n",
       "    </tr>\n",
       "    <tr>\n",
       "      <th>1</th>\n",
       "      <td>-16.361200</td>\n",
       "      <td>-11.299400</td>\n",
       "      <td>41.008800</td>\n",
       "      <td>25.8</td>\n",
       "      <td>-6.25740</td>\n",
       "      <td>-12.05392</td>\n",
       "      <td>41.0</td>\n",
       "      <td>33.40</td>\n",
       "      <td>NaN</td>\n",
       "      <td>22.525481</td>\n",
       "      <td>72.765028</td>\n",
       "      <td>22.525481</td>\n",
       "      <td>72.765028</td>\n",
       "      <td>0.000000</td>\n",
       "      <td>0.000000</td>\n",
       "      <td>-15.2</td>\n",
       "    </tr>\n",
       "    <tr>\n",
       "      <th>2</th>\n",
       "      <td>-16.168800</td>\n",
       "      <td>-10.992000</td>\n",
       "      <td>42.359800</td>\n",
       "      <td>28.9</td>\n",
       "      <td>-8.44134</td>\n",
       "      <td>-16.46069</td>\n",
       "      <td>25.3</td>\n",
       "      <td>27.10</td>\n",
       "      <td>NaN</td>\n",
       "      <td>22.525423</td>\n",
       "      <td>72.765663</td>\n",
       "      <td>22.525423</td>\n",
       "      <td>72.765663</td>\n",
       "      <td>0.000000</td>\n",
       "      <td>0.000000</td>\n",
       "      <td>3.6</td>\n",
       "    </tr>\n",
       "    <tr>\n",
       "      <th>3</th>\n",
       "      <td>-15.630700</td>\n",
       "      <td>-8.829090</td>\n",
       "      <td>42.982700</td>\n",
       "      <td>4.1</td>\n",
       "      <td>-2.85467</td>\n",
       "      <td>-17.00499</td>\n",
       "      <td>53.7</td>\n",
       "      <td>28.90</td>\n",
       "      <td>NaN</td>\n",
       "      <td>22.525999</td>\n",
       "      <td>72.765663</td>\n",
       "      <td>22.525999</td>\n",
       "      <td>72.765663</td>\n",
       "      <td>0.000000</td>\n",
       "      <td>0.000000</td>\n",
       "      <td>-49.6</td>\n",
       "    </tr>\n",
       "    <tr>\n",
       "      <th>4</th>\n",
       "      <td>-15.130900</td>\n",
       "      <td>-10.333000</td>\n",
       "      <td>41.434700</td>\n",
       "      <td>35.3</td>\n",
       "      <td>-6.88868</td>\n",
       "      <td>-12.32378</td>\n",
       "      <td>53.4</td>\n",
       "      <td>44.35</td>\n",
       "      <td>NaN</td>\n",
       "      <td>22.525563</td>\n",
       "      <td>72.765399</td>\n",
       "      <td>22.525563</td>\n",
       "      <td>72.765399</td>\n",
       "      <td>0.000000</td>\n",
       "      <td>0.000000</td>\n",
       "      <td>-18.1</td>\n",
       "    </tr>\n",
       "    <tr>\n",
       "      <th>...</th>\n",
       "      <td>...</td>\n",
       "      <td>...</td>\n",
       "      <td>...</td>\n",
       "      <td>...</td>\n",
       "      <td>...</td>\n",
       "      <td>...</td>\n",
       "      <td>...</td>\n",
       "      <td>...</td>\n",
       "      <td>...</td>\n",
       "      <td>...</td>\n",
       "      <td>...</td>\n",
       "      <td>...</td>\n",
       "      <td>...</td>\n",
       "      <td>...</td>\n",
       "      <td>...</td>\n",
       "      <td>...</td>\n",
       "    </tr>\n",
       "    <tr>\n",
       "      <th>742</th>\n",
       "      <td>-15.603123</td>\n",
       "      <td>-10.557852</td>\n",
       "      <td>42.709682</td>\n",
       "      <td>30.2</td>\n",
       "      <td>-8.69274</td>\n",
       "      <td>-14.15688</td>\n",
       "      <td>26.8</td>\n",
       "      <td>28.50</td>\n",
       "      <td>NaN</td>\n",
       "      <td>22.505581</td>\n",
       "      <td>72.764064</td>\n",
       "      <td>22.523640</td>\n",
       "      <td>72.766727</td>\n",
       "      <td>-0.018059</td>\n",
       "      <td>-0.002663</td>\n",
       "      <td>3.4</td>\n",
       "    </tr>\n",
       "    <tr>\n",
       "      <th>743</th>\n",
       "      <td>-16.321512</td>\n",
       "      <td>-11.300431</td>\n",
       "      <td>42.176147</td>\n",
       "      <td>38.3</td>\n",
       "      <td>-6.48271</td>\n",
       "      <td>-15.56076</td>\n",
       "      <td>32.8</td>\n",
       "      <td>35.55</td>\n",
       "      <td>NaN</td>\n",
       "      <td>22.505961</td>\n",
       "      <td>72.764083</td>\n",
       "      <td>22.523657</td>\n",
       "      <td>72.766016</td>\n",
       "      <td>-0.017696</td>\n",
       "      <td>-0.001933</td>\n",
       "      <td>5.5</td>\n",
       "    </tr>\n",
       "    <tr>\n",
       "      <th>744</th>\n",
       "      <td>-15.585269</td>\n",
       "      <td>-11.489754</td>\n",
       "      <td>42.523727</td>\n",
       "      <td>20.0</td>\n",
       "      <td>-6.20660</td>\n",
       "      <td>-14.73141</td>\n",
       "      <td>34.8</td>\n",
       "      <td>27.40</td>\n",
       "      <td>NaN</td>\n",
       "      <td>22.506133</td>\n",
       "      <td>72.763434</td>\n",
       "      <td>22.524255</td>\n",
       "      <td>72.766024</td>\n",
       "      <td>-0.018122</td>\n",
       "      <td>-0.002590</td>\n",
       "      <td>-14.8</td>\n",
       "    </tr>\n",
       "    <tr>\n",
       "      <th>745</th>\n",
       "      <td>-16.052544</td>\n",
       "      <td>-10.954885</td>\n",
       "      <td>42.562408</td>\n",
       "      <td>39.7</td>\n",
       "      <td>-9.43414</td>\n",
       "      <td>-20.52987</td>\n",
       "      <td>27.8</td>\n",
       "      <td>33.75</td>\n",
       "      <td>NaN</td>\n",
       "      <td>22.505784</td>\n",
       "      <td>72.763859</td>\n",
       "      <td>22.524229</td>\n",
       "      <td>72.766601</td>\n",
       "      <td>-0.018445</td>\n",
       "      <td>-0.002742</td>\n",
       "      <td>11.9</td>\n",
       "    </tr>\n",
       "    <tr>\n",
       "      <th>746</th>\n",
       "      <td>-16.019430</td>\n",
       "      <td>-10.869327</td>\n",
       "      <td>41.080795</td>\n",
       "      <td>21.7</td>\n",
       "      <td>-7.47745</td>\n",
       "      <td>-15.42384</td>\n",
       "      <td>23.5</td>\n",
       "      <td>22.60</td>\n",
       "      <td>NaN</td>\n",
       "      <td>22.505233</td>\n",
       "      <td>72.763051</td>\n",
       "      <td>22.524027</td>\n",
       "      <td>72.766357</td>\n",
       "      <td>-0.018794</td>\n",
       "      <td>-0.003306</td>\n",
       "      <td>-1.8</td>\n",
       "    </tr>\n",
       "  </tbody>\n",
       "</table>\n",
       "<p>745 rows × 16 columns</p>\n",
       "</div>"
      ],
      "text/plain": [
       "            VH         VV      Angle  SM (Sent)       HH        HV  SM (EOS)  \\\n",
       "0   -14.947200 -10.379400  40.366800       20.6 -7.38713 -15.09099      24.4   \n",
       "1   -16.361200 -11.299400  41.008800       25.8 -6.25740 -12.05392      41.0   \n",
       "2   -16.168800 -10.992000  42.359800       28.9 -8.44134 -16.46069      25.3   \n",
       "3   -15.630700  -8.829090  42.982700        4.1 -2.85467 -17.00499      53.7   \n",
       "4   -15.130900 -10.333000  41.434700       35.3 -6.88868 -12.32378      53.4   \n",
       "..         ...        ...        ...        ...      ...       ...       ...   \n",
       "742 -15.603123 -10.557852  42.709682       30.2 -8.69274 -14.15688      26.8   \n",
       "743 -16.321512 -11.300431  42.176147       38.3 -6.48271 -15.56076      32.8   \n",
       "744 -15.585269 -11.489754  42.523727       20.0 -6.20660 -14.73141      34.8   \n",
       "745 -16.052544 -10.954885  42.562408       39.7 -9.43414 -20.52987      27.8   \n",
       "746 -16.019430 -10.869327  41.080795       21.7 -7.47745 -15.42384      23.5   \n",
       "\n",
       "     SM (Combined)  Unnamed: 8  Latitude (S)  Longitude (S)  Latitude (E)  \\\n",
       "0            22.50         NaN     22.526048      72.765011     22.526048   \n",
       "1            33.40         NaN     22.525481      72.765028     22.525481   \n",
       "2            27.10         NaN     22.525423      72.765663     22.525423   \n",
       "3            28.90         NaN     22.525999      72.765663     22.525999   \n",
       "4            44.35         NaN     22.525563      72.765399     22.525563   \n",
       "..             ...         ...           ...            ...           ...   \n",
       "742          28.50         NaN     22.505581      72.764064     22.523640   \n",
       "743          35.55         NaN     22.505961      72.764083     22.523657   \n",
       "744          27.40         NaN     22.506133      72.763434     22.524255   \n",
       "745          33.75         NaN     22.505784      72.763859     22.524229   \n",
       "746          22.60         NaN     22.505233      72.763051     22.524027   \n",
       "\n",
       "     Longitude (E)  Lat Diff  Long Diff  SM Diff  \n",
       "0        72.765011  0.000000   0.000000     -3.8  \n",
       "1        72.765028  0.000000   0.000000    -15.2  \n",
       "2        72.765663  0.000000   0.000000      3.6  \n",
       "3        72.765663  0.000000   0.000000    -49.6  \n",
       "4        72.765399  0.000000   0.000000    -18.1  \n",
       "..             ...       ...        ...      ...  \n",
       "742      72.766727 -0.018059  -0.002663      3.4  \n",
       "743      72.766016 -0.017696  -0.001933      5.5  \n",
       "744      72.766024 -0.018122  -0.002590    -14.8  \n",
       "745      72.766601 -0.018445  -0.002742     11.9  \n",
       "746      72.766357 -0.018794  -0.003306     -1.8  \n",
       "\n",
       "[745 rows x 16 columns]"
      ]
     },
     "execution_count": 2,
     "metadata": {},
     "output_type": "execute_result"
    }
   ],
   "source": [
    "combined = combined[combined['SM (Combined)'] < 150]\n",
    "\n",
    "combined"
   ]
  },
  {
   "cell_type": "code",
   "execution_count": 3,
   "id": "cafb3a28",
   "metadata": {},
   "outputs": [],
   "source": [
    "X_cols = ['VH', 'VV', 'HH', 'HV', 'Angle']\n",
    "y_col = ['SM (Combined)']"
   ]
  },
  {
   "cell_type": "code",
   "execution_count": 4,
   "id": "14fe350f",
   "metadata": {},
   "outputs": [
    {
     "name": "stdout",
     "output_type": "stream",
     "text": [
      "Generated 31 feature combinations to test.\n"
     ]
    }
   ],
   "source": [
    "from itertools import combinations\n",
    "\n",
    "all_feature_combinations = []\n",
    "for i in range(1, len(X_cols) + 1):\n",
    "    # Get all combinations of length 'i'\n",
    "    combs = combinations(X_cols, i)\n",
    "    all_feature_combinations.extend(list(combs))\n",
    "\n",
    "print(f\"Generated {len(all_feature_combinations)} feature combinations to test.\")"
   ]
  },
  {
   "cell_type": "code",
   "execution_count": 5,
   "id": "1afec399",
   "metadata": {},
   "outputs": [
    {
     "name": "stdout",
     "output_type": "stream",
     "text": [
      "\n",
      "--- Testing Features (1): VH ---\n"
     ]
    },
    {
     "name": "stderr",
     "output_type": "stream",
     "text": [
      "Epochs:  14%|█▍        | 140/1000 [00:17<01:44,  8.20epoch/s, loss=0.7464, val_loss=0.5243] \n",
      "Epochs:  13%|█▎        | 126/1000 [00:13<01:37,  9.01epoch/s, loss=0.4452, val_loss=0.4543]\n"
     ]
    },
    {
     "name": "stdout",
     "output_type": "stream",
     "text": [
      "\u001b[1m3/3\u001b[0m \u001b[32m━━━━━━━━━━━━━━━━━━━━\u001b[0m\u001b[37m\u001b[0m \u001b[1m0s\u001b[0m 22ms/step\n",
      "\u001b[1m3/3\u001b[0m \u001b[32m━━━━━━━━━━━━━━━━━━━━\u001b[0m\u001b[37m\u001b[0m \u001b[1m0s\u001b[0m 22ms/step\n",
      "\u001b[1m6/6\u001b[0m \u001b[32m━━━━━━━━━━━━━━━━━━━━\u001b[0m\u001b[37m\u001b[0m \u001b[1m0s\u001b[0m 5ms/step \n",
      "\u001b[1m6/6\u001b[0m \u001b[32m━━━━━━━━━━━━━━━━━━━━\u001b[0m\u001b[37m\u001b[0m \u001b[1m0s\u001b[0m 5ms/step \n",
      "\n",
      "--- Testing Features (1): VV ---\n"
     ]
    },
    {
     "name": "stderr",
     "output_type": "stream",
     "text": [
      "Epochs:  15%|█▌        | 154/1000 [00:16<01:33,  9.09epoch/s, loss=0.7808, val_loss=0.5688] \n",
      "Epochs:  20%|██        | 204/1000 [00:21<01:23,  9.56epoch/s, loss=0.4362, val_loss=0.4480]"
     ]
    },
    {
     "name": "stdout",
     "output_type": "stream",
     "text": [
      "\u001b[1m1/3\u001b[0m \u001b[32m━━━━━━\u001b[0m\u001b[37m━━━━━━━━━━━━━━\u001b[0m \u001b[1m0s\u001b[0m 43ms/step"
     ]
    },
    {
     "name": "stderr",
     "output_type": "stream",
     "text": [
      "\n"
     ]
    },
    {
     "name": "stdout",
     "output_type": "stream",
     "text": [
      "\u001b[1m3/3\u001b[0m \u001b[32m━━━━━━━━━━━━━━━━━━━━\u001b[0m\u001b[37m\u001b[0m \u001b[1m0s\u001b[0m 21ms/step\n",
      "\u001b[1m1/3\u001b[0m \u001b[32m━━━━━━\u001b[0m\u001b[37m━━━━━━━━━━━━━━\u001b[0m \u001b[1m0s\u001b[0m 41ms/stepWARNING:tensorflow:5 out of the last 19 calls to <function TensorFlowTrainer.make_predict_function.<locals>.one_step_on_data_distributed at 0x77cfd06505e0> triggered tf.function retracing. Tracing is expensive and the excessive number of tracings could be due to (1) creating @tf.function repeatedly in a loop, (2) passing tensors with different shapes, (3) passing Python objects instead of tensors. For (1), please define your @tf.function outside of the loop. For (2), @tf.function has reduce_retracing=True option that can avoid unnecessary retracing. For (3), please refer to https://www.tensorflow.org/guide/function#controlling_retracing and https://www.tensorflow.org/api_docs/python/tf/function for  more details.\n",
      "\u001b[1m3/3\u001b[0m \u001b[32m━━━━━━━━━━━━━━━━━━━━\u001b[0m\u001b[37m\u001b[0m \u001b[1m0s\u001b[0m 21ms/step\n",
      "\u001b[1m6/6\u001b[0m \u001b[32m━━━━━━━━━━━━━━━━━━━━\u001b[0m\u001b[37m\u001b[0m \u001b[1m0s\u001b[0m 5ms/step \n",
      "\u001b[1m6/6\u001b[0m \u001b[32m━━━━━━━━━━━━━━━━━━━━\u001b[0m\u001b[37m\u001b[0m \u001b[1m0s\u001b[0m 4ms/step \n",
      "\n",
      "--- Testing Features (1): HH ---\n"
     ]
    },
    {
     "name": "stderr",
     "output_type": "stream",
     "text": [
      "Epochs:  13%|█▎        | 129/1000 [00:13<01:31,  9.51epoch/s, loss=0.8212, val_loss=0.5363] \n",
      "Epochs:  10%|█         | 103/1000 [00:10<01:28, 10.10epoch/s, loss=0.4399, val_loss=0.4434]"
     ]
    },
    {
     "name": "stdout",
     "output_type": "stream",
     "text": [
      "\u001b[1m1/3\u001b[0m \u001b[32m━━━━━━\u001b[0m\u001b[37m━━━━━━━━━━━━━━\u001b[0m \u001b[1m0s\u001b[0m 42ms/step"
     ]
    },
    {
     "name": "stderr",
     "output_type": "stream",
     "text": [
      "\n"
     ]
    },
    {
     "name": "stdout",
     "output_type": "stream",
     "text": [
      "\u001b[1m3/3\u001b[0m \u001b[32m━━━━━━━━━━━━━━━━━━━━\u001b[0m\u001b[37m\u001b[0m \u001b[1m0s\u001b[0m 20ms/step\n",
      "\u001b[1m1/3\u001b[0m \u001b[32m━━━━━━\u001b[0m\u001b[37m━━━━━━━━━━━━━━\u001b[0m \u001b[1m0s\u001b[0m 40ms/stepWARNING:tensorflow:5 out of the last 19 calls to <function TensorFlowTrainer.make_predict_function.<locals>.one_step_on_data_distributed at 0x77cfd042bd80> triggered tf.function retracing. Tracing is expensive and the excessive number of tracings could be due to (1) creating @tf.function repeatedly in a loop, (2) passing tensors with different shapes, (3) passing Python objects instead of tensors. For (1), please define your @tf.function outside of the loop. For (2), @tf.function has reduce_retracing=True option that can avoid unnecessary retracing. For (3), please refer to https://www.tensorflow.org/guide/function#controlling_retracing and https://www.tensorflow.org/api_docs/python/tf/function for  more details.\n",
      "\u001b[1m3/3\u001b[0m \u001b[32m━━━━━━━━━━━━━━━━━━━━\u001b[0m\u001b[37m\u001b[0m \u001b[1m0s\u001b[0m 21ms/step\n",
      "\u001b[1m6/6\u001b[0m \u001b[32m━━━━━━━━━━━━━━━━━━━━\u001b[0m\u001b[37m\u001b[0m \u001b[1m0s\u001b[0m 4ms/step \n",
      "\u001b[1m6/6\u001b[0m \u001b[32m━━━━━━━━━━━━━━━━━━━━\u001b[0m\u001b[37m\u001b[0m \u001b[1m0s\u001b[0m 4ms/step \n",
      "\n",
      "--- Testing Features (1): HV ---\n"
     ]
    },
    {
     "name": "stderr",
     "output_type": "stream",
     "text": [
      "Epochs:  16%|█▌        | 157/1000 [00:16<01:30,  9.27epoch/s, loss=0.9595, val_loss=0.5869] \n",
      "Epochs:  22%|██▎       | 225/1000 [00:26<01:30,  8.52epoch/s, loss=0.4045, val_loss=0.4311]\n"
     ]
    },
    {
     "name": "stdout",
     "output_type": "stream",
     "text": [
      "\u001b[1m3/3\u001b[0m \u001b[32m━━━━━━━━━━━━━━━━━━━━\u001b[0m\u001b[37m\u001b[0m \u001b[1m0s\u001b[0m 23ms/step\n",
      "\u001b[1m3/3\u001b[0m \u001b[32m━━━━━━━━━━━━━━━━━━━━\u001b[0m\u001b[37m\u001b[0m \u001b[1m0s\u001b[0m 23ms/step\n",
      "\u001b[1m6/6\u001b[0m \u001b[32m━━━━━━━━━━━━━━━━━━━━\u001b[0m\u001b[37m\u001b[0m \u001b[1m0s\u001b[0m 4ms/step \n",
      "\u001b[1m6/6\u001b[0m \u001b[32m━━━━━━━━━━━━━━━━━━━━\u001b[0m\u001b[37m\u001b[0m \u001b[1m0s\u001b[0m 4ms/step \n",
      "\n",
      "--- Testing Features (1): Angle ---\n"
     ]
    },
    {
     "name": "stderr",
     "output_type": "stream",
     "text": [
      "Epochs:  22%|██▏       | 217/1000 [00:23<01:24,  9.28epoch/s, loss=1.3771, val_loss=0.6596] \n",
      "Epochs:  18%|█▊        | 178/1000 [00:21<01:38,  8.38epoch/s, loss=0.4497, val_loss=0.4393]\n"
     ]
    },
    {
     "name": "stdout",
     "output_type": "stream",
     "text": [
      "\u001b[1m3/3\u001b[0m \u001b[32m━━━━━━━━━━━━━━━━━━━━\u001b[0m\u001b[37m\u001b[0m \u001b[1m0s\u001b[0m 24ms/step\n",
      "\u001b[1m3/3\u001b[0m \u001b[32m━━━━━━━━━━━━━━━━━━━━\u001b[0m\u001b[37m\u001b[0m \u001b[1m0s\u001b[0m 23ms/step\n",
      "\u001b[1m6/6\u001b[0m \u001b[32m━━━━━━━━━━━━━━━━━━━━\u001b[0m\u001b[37m\u001b[0m \u001b[1m0s\u001b[0m 4ms/step \n",
      "\u001b[1m6/6\u001b[0m \u001b[32m━━━━━━━━━━━━━━━━━━━━\u001b[0m\u001b[37m\u001b[0m \u001b[1m0s\u001b[0m 4ms/step \n",
      "\n",
      "--- Testing Features (2): VH, VV ---\n"
     ]
    },
    {
     "name": "stderr",
     "output_type": "stream",
     "text": [
      "Epochs:  15%|█▌        | 151/1000 [00:17<01:38,  8.65epoch/s, loss=0.8812, val_loss=0.5878] \n",
      "Epochs:  15%|█▍        | 149/1000 [00:17<01:42,  8.32epoch/s, loss=0.4439, val_loss=0.4498]"
     ]
    },
    {
     "name": "stdout",
     "output_type": "stream",
     "text": [
      "\u001b[1m1/3\u001b[0m \u001b[32m━━━━━━\u001b[0m\u001b[37m━━━━━━━━━━━━━━\u001b[0m \u001b[1m0s\u001b[0m 43ms/step"
     ]
    },
    {
     "name": "stderr",
     "output_type": "stream",
     "text": [
      "\n"
     ]
    },
    {
     "name": "stdout",
     "output_type": "stream",
     "text": [
      "\u001b[1m3/3\u001b[0m \u001b[32m━━━━━━━━━━━━━━━━━━━━\u001b[0m\u001b[37m\u001b[0m \u001b[1m0s\u001b[0m 22ms/step\n",
      "\u001b[1m3/3\u001b[0m \u001b[32m━━━━━━━━━━━━━━━━━━━━\u001b[0m\u001b[37m\u001b[0m \u001b[1m0s\u001b[0m 21ms/step\n",
      "\u001b[1m6/6\u001b[0m \u001b[32m━━━━━━━━━━━━━━━━━━━━\u001b[0m\u001b[37m\u001b[0m \u001b[1m0s\u001b[0m 4ms/step \n",
      "\u001b[1m6/6\u001b[0m \u001b[32m━━━━━━━━━━━━━━━━━━━━\u001b[0m\u001b[37m\u001b[0m \u001b[1m0s\u001b[0m 4ms/step \n",
      "\n",
      "--- Testing Features (2): VH, HH ---\n"
     ]
    },
    {
     "name": "stderr",
     "output_type": "stream",
     "text": [
      "Epochs:  14%|█▍        | 139/1000 [00:16<01:40,  8.54epoch/s, loss=0.9711, val_loss=0.5579] \n",
      "Epochs:  18%|█▊        | 185/1000 [00:22<01:37,  8.35epoch/s, loss=0.4371, val_loss=0.4477]\n"
     ]
    },
    {
     "name": "stdout",
     "output_type": "stream",
     "text": [
      "\u001b[1m3/3\u001b[0m \u001b[32m━━━━━━━━━━━━━━━━━━━━\u001b[0m\u001b[37m\u001b[0m \u001b[1m0s\u001b[0m 23ms/step\n",
      "\u001b[1m3/3\u001b[0m \u001b[32m━━━━━━━━━━━━━━━━━━━━\u001b[0m\u001b[37m\u001b[0m \u001b[1m0s\u001b[0m 21ms/step\n",
      "\u001b[1m6/6\u001b[0m \u001b[32m━━━━━━━━━━━━━━━━━━━━\u001b[0m\u001b[37m\u001b[0m \u001b[1m0s\u001b[0m 4ms/step \n",
      "\u001b[1m6/6\u001b[0m \u001b[32m━━━━━━━━━━━━━━━━━━━━\u001b[0m\u001b[37m\u001b[0m \u001b[1m0s\u001b[0m 5ms/step \n",
      "\n",
      "--- Testing Features (2): VH, HV ---\n"
     ]
    },
    {
     "name": "stderr",
     "output_type": "stream",
     "text": [
      "Epochs:  14%|█▎        | 136/1000 [00:15<01:36,  8.98epoch/s, loss=0.8279, val_loss=0.5538] \n",
      "Epochs:  11%|█         | 106/1000 [00:13<01:49,  8.14epoch/s, loss=0.4288, val_loss=0.4421]\n"
     ]
    },
    {
     "name": "stdout",
     "output_type": "stream",
     "text": [
      "\u001b[1m3/3\u001b[0m \u001b[32m━━━━━━━━━━━━━━━━━━━━\u001b[0m\u001b[37m\u001b[0m \u001b[1m0s\u001b[0m 23ms/step\n",
      "\u001b[1m3/3\u001b[0m \u001b[32m━━━━━━━━━━━━━━━━━━━━\u001b[0m\u001b[37m\u001b[0m \u001b[1m0s\u001b[0m 22ms/step\n",
      "\u001b[1m6/6\u001b[0m \u001b[32m━━━━━━━━━━━━━━━━━━━━\u001b[0m\u001b[37m\u001b[0m \u001b[1m0s\u001b[0m 4ms/step \n",
      "\u001b[1m6/6\u001b[0m \u001b[32m━━━━━━━━━━━━━━━━━━━━\u001b[0m\u001b[37m\u001b[0m \u001b[1m0s\u001b[0m 4ms/step \n",
      "\n",
      "--- Testing Features (2): VH, Angle ---\n"
     ]
    },
    {
     "name": "stderr",
     "output_type": "stream",
     "text": [
      "Epochs:  16%|█▌        | 158/1000 [00:18<01:38,  8.52epoch/s, loss=1.2851, val_loss=0.6468] \n",
      "Epochs:  10%|▉         | 97/1000 [00:11<01:48,  8.36epoch/s, loss=0.4635, val_loss=0.4491]\n"
     ]
    },
    {
     "name": "stdout",
     "output_type": "stream",
     "text": [
      "\u001b[1m3/3\u001b[0m \u001b[32m━━━━━━━━━━━━━━━━━━━━\u001b[0m\u001b[37m\u001b[0m \u001b[1m0s\u001b[0m 21ms/step\n",
      "\u001b[1m3/3\u001b[0m \u001b[32m━━━━━━━━━━━━━━━━━━━━\u001b[0m\u001b[37m\u001b[0m \u001b[1m0s\u001b[0m 21ms/step\n",
      "\u001b[1m6/6\u001b[0m \u001b[32m━━━━━━━━━━━━━━━━━━━━\u001b[0m\u001b[37m\u001b[0m \u001b[1m0s\u001b[0m 4ms/step \n",
      "\u001b[1m6/6\u001b[0m \u001b[32m━━━━━━━━━━━━━━━━━━━━\u001b[0m\u001b[37m\u001b[0m \u001b[1m0s\u001b[0m 4ms/step \n",
      "\n",
      "--- Testing Features (2): VV, HH ---\n"
     ]
    },
    {
     "name": "stderr",
     "output_type": "stream",
     "text": [
      "Epochs:  14%|█▍        | 138/1000 [00:14<01:31,  9.40epoch/s, loss=1.0319, val_loss=0.5581] \n",
      "Epochs:  12%|█▏        | 116/1000 [00:14<01:47,  8.25epoch/s, loss=0.4418, val_loss=0.4438]\n"
     ]
    },
    {
     "name": "stdout",
     "output_type": "stream",
     "text": [
      "\u001b[1m3/3\u001b[0m \u001b[32m━━━━━━━━━━━━━━━━━━━━\u001b[0m\u001b[37m\u001b[0m \u001b[1m0s\u001b[0m 21ms/step\n",
      "\u001b[1m3/3\u001b[0m \u001b[32m━━━━━━━━━━━━━━━━━━━━\u001b[0m\u001b[37m\u001b[0m \u001b[1m0s\u001b[0m 20ms/step\n",
      "\u001b[1m6/6\u001b[0m \u001b[32m━━━━━━━━━━━━━━━━━━━━\u001b[0m\u001b[37m\u001b[0m \u001b[1m0s\u001b[0m 4ms/step \n",
      "\u001b[1m6/6\u001b[0m \u001b[32m━━━━━━━━━━━━━━━━━━━━\u001b[0m\u001b[37m\u001b[0m \u001b[1m0s\u001b[0m 4ms/step \n",
      "\n",
      "--- Testing Features (2): VV, HV ---\n"
     ]
    },
    {
     "name": "stderr",
     "output_type": "stream",
     "text": [
      "Epochs:  41%|████      | 408/1000 [00:45<01:06,  8.96epoch/s, loss=2.4931, val_loss=0.5498] \n",
      "Epochs:  26%|██▌       | 256/1000 [00:30<01:28,  8.45epoch/s, loss=0.4320, val_loss=0.4345]\n"
     ]
    },
    {
     "name": "stdout",
     "output_type": "stream",
     "text": [
      "\u001b[1m3/3\u001b[0m \u001b[32m━━━━━━━━━━━━━━━━━━━━\u001b[0m\u001b[37m\u001b[0m \u001b[1m0s\u001b[0m 24ms/step\n",
      "\u001b[1m3/3\u001b[0m \u001b[32m━━━━━━━━━━━━━━━━━━━━\u001b[0m\u001b[37m\u001b[0m \u001b[1m0s\u001b[0m 23ms/step\n",
      "\u001b[1m6/6\u001b[0m \u001b[32m━━━━━━━━━━━━━━━━━━━━\u001b[0m\u001b[37m\u001b[0m \u001b[1m0s\u001b[0m 4ms/step \n",
      "\u001b[1m6/6\u001b[0m \u001b[32m━━━━━━━━━━━━━━━━━━━━\u001b[0m\u001b[37m\u001b[0m \u001b[1m0s\u001b[0m 4ms/step \n",
      "\n",
      "--- Testing Features (2): VV, Angle ---\n"
     ]
    },
    {
     "name": "stderr",
     "output_type": "stream",
     "text": [
      "Epochs:  18%|█▊        | 181/1000 [00:18<01:24,  9.69epoch/s, loss=1.5262, val_loss=0.6683] \n",
      "Epochs:  14%|█▍        | 140/1000 [00:16<01:44,  8.27epoch/s, loss=0.4412, val_loss=0.4417]\n"
     ]
    },
    {
     "name": "stdout",
     "output_type": "stream",
     "text": [
      "\u001b[1m3/3\u001b[0m \u001b[32m━━━━━━━━━━━━━━━━━━━━\u001b[0m\u001b[37m\u001b[0m \u001b[1m0s\u001b[0m 22ms/step\n",
      "\u001b[1m3/3\u001b[0m \u001b[32m━━━━━━━━━━━━━━━━━━━━\u001b[0m\u001b[37m\u001b[0m \u001b[1m0s\u001b[0m 22ms/step\n",
      "\u001b[1m6/6\u001b[0m \u001b[32m━━━━━━━━━━━━━━━━━━━━\u001b[0m\u001b[37m\u001b[0m \u001b[1m0s\u001b[0m 4ms/step \n",
      "\u001b[1m6/6\u001b[0m \u001b[32m━━━━━━━━━━━━━━━━━━━━\u001b[0m\u001b[37m\u001b[0m \u001b[1m0s\u001b[0m 4ms/step \n",
      "\n",
      "--- Testing Features (2): HH, HV ---\n"
     ]
    },
    {
     "name": "stderr",
     "output_type": "stream",
     "text": [
      "Epochs:  12%|█▏        | 124/1000 [00:13<01:38,  8.93epoch/s, loss=0.8532, val_loss=0.5382] \n",
      "Epochs:   9%|▉         | 94/1000 [00:11<01:51,  8.13epoch/s, loss=0.4202, val_loss=0.4351]\n"
     ]
    },
    {
     "name": "stdout",
     "output_type": "stream",
     "text": [
      "\u001b[1m3/3\u001b[0m \u001b[32m━━━━━━━━━━━━━━━━━━━━\u001b[0m\u001b[37m\u001b[0m \u001b[1m0s\u001b[0m 25ms/step\n",
      "\u001b[1m3/3\u001b[0m \u001b[32m━━━━━━━━━━━━━━━━━━━━\u001b[0m\u001b[37m\u001b[0m \u001b[1m0s\u001b[0m 21ms/step\n",
      "\u001b[1m6/6\u001b[0m \u001b[32m━━━━━━━━━━━━━━━━━━━━\u001b[0m\u001b[37m\u001b[0m \u001b[1m0s\u001b[0m 4ms/step \n",
      "\u001b[1m6/6\u001b[0m \u001b[32m━━━━━━━━━━━━━━━━━━━━\u001b[0m\u001b[37m\u001b[0m \u001b[1m0s\u001b[0m 4ms/step \n",
      "\n",
      "--- Testing Features (2): HH, Angle ---\n"
     ]
    },
    {
     "name": "stderr",
     "output_type": "stream",
     "text": [
      "Epochs:  13%|█▎        | 131/1000 [00:14<01:33,  9.34epoch/s, loss=0.8747, val_loss=0.6017] \n",
      "Epochs:  10%|█         | 101/1000 [00:10<01:34,  9.48epoch/s, loss=0.4459, val_loss=0.4388]\n"
     ]
    },
    {
     "name": "stdout",
     "output_type": "stream",
     "text": [
      "\u001b[1m3/3\u001b[0m \u001b[32m━━━━━━━━━━━━━━━━━━━━\u001b[0m\u001b[37m\u001b[0m \u001b[1m0s\u001b[0m 23ms/step\n",
      "\u001b[1m3/3\u001b[0m \u001b[32m━━━━━━━━━━━━━━━━━━━━\u001b[0m\u001b[37m\u001b[0m \u001b[1m0s\u001b[0m 22ms/step\n",
      "\u001b[1m6/6\u001b[0m \u001b[32m━━━━━━━━━━━━━━━━━━━━\u001b[0m\u001b[37m\u001b[0m \u001b[1m0s\u001b[0m 4ms/step \n",
      "\u001b[1m6/6\u001b[0m \u001b[32m━━━━━━━━━━━━━━━━━━━━\u001b[0m\u001b[37m\u001b[0m \u001b[1m0s\u001b[0m 4ms/step \n",
      "\n",
      "--- Testing Features (2): HV, Angle ---\n"
     ]
    },
    {
     "name": "stderr",
     "output_type": "stream",
     "text": [
      "Epochs:  14%|█▍        | 145/1000 [00:15<01:32,  9.26epoch/s, loss=1.0440, val_loss=0.7117] \n",
      "Epochs:  17%|█▋        | 168/1000 [00:20<01:39,  8.38epoch/s, loss=0.4348, val_loss=0.4311]"
     ]
    },
    {
     "name": "stdout",
     "output_type": "stream",
     "text": [
      "\u001b[1m1/3\u001b[0m \u001b[32m━━━━━━\u001b[0m\u001b[37m━━━━━━━━━━━━━━\u001b[0m \u001b[1m0s\u001b[0m 44ms/step"
     ]
    },
    {
     "name": "stderr",
     "output_type": "stream",
     "text": [
      "\n"
     ]
    },
    {
     "name": "stdout",
     "output_type": "stream",
     "text": [
      "\u001b[1m3/3\u001b[0m \u001b[32m━━━━━━━━━━━━━━━━━━━━\u001b[0m\u001b[37m\u001b[0m \u001b[1m0s\u001b[0m 21ms/step\n",
      "\u001b[1m3/3\u001b[0m \u001b[32m━━━━━━━━━━━━━━━━━━━━\u001b[0m\u001b[37m\u001b[0m \u001b[1m0s\u001b[0m 21ms/step\n",
      "\u001b[1m6/6\u001b[0m \u001b[32m━━━━━━━━━━━━━━━━━━━━\u001b[0m\u001b[37m\u001b[0m \u001b[1m0s\u001b[0m 4ms/step \n",
      "\u001b[1m6/6\u001b[0m \u001b[32m━━━━━━━━━━━━━━━━━━━━\u001b[0m\u001b[37m\u001b[0m \u001b[1m0s\u001b[0m 4ms/step \n",
      "\n",
      "--- Testing Features (3): VH, VV, HH ---\n"
     ]
    },
    {
     "name": "stderr",
     "output_type": "stream",
     "text": [
      "Epochs:  13%|█▎        | 132/1000 [00:15<01:41,  8.55epoch/s, loss=0.9579, val_loss=0.5603] \n",
      "Epochs:  11%|█         | 108/1000 [00:13<01:49,  8.12epoch/s, loss=0.4447, val_loss=0.4503]\n"
     ]
    },
    {
     "name": "stdout",
     "output_type": "stream",
     "text": [
      "\u001b[1m3/3\u001b[0m \u001b[32m━━━━━━━━━━━━━━━━━━━━\u001b[0m\u001b[37m\u001b[0m \u001b[1m0s\u001b[0m 24ms/step\n",
      "\u001b[1m3/3\u001b[0m \u001b[32m━━━━━━━━━━━━━━━━━━━━\u001b[0m\u001b[37m\u001b[0m \u001b[1m0s\u001b[0m 23ms/step\n",
      "\u001b[1m6/6\u001b[0m \u001b[32m━━━━━━━━━━━━━━━━━━━━\u001b[0m\u001b[37m\u001b[0m \u001b[1m0s\u001b[0m 4ms/step \n",
      "\u001b[1m6/6\u001b[0m \u001b[32m━━━━━━━━━━━━━━━━━━━━\u001b[0m\u001b[37m\u001b[0m \u001b[1m0s\u001b[0m 4ms/step \n",
      "\n",
      "--- Testing Features (3): VH, VV, HV ---\n"
     ]
    },
    {
     "name": "stderr",
     "output_type": "stream",
     "text": [
      "Epochs:  12%|█▏        | 118/1000 [00:12<01:34,  9.34epoch/s, loss=0.6842, val_loss=0.5539] \n",
      "Epochs:  40%|███▉      | 398/1000 [00:45<01:08,  8.79epoch/s, loss=0.4128, val_loss=0.4338]"
     ]
    },
    {
     "name": "stdout",
     "output_type": "stream",
     "text": [
      "\u001b[1m1/3\u001b[0m \u001b[32m━━━━━━\u001b[0m\u001b[37m━━━━━━━━━━━━━━\u001b[0m \u001b[1m0s\u001b[0m 44ms/step"
     ]
    },
    {
     "name": "stderr",
     "output_type": "stream",
     "text": [
      "\n"
     ]
    },
    {
     "name": "stdout",
     "output_type": "stream",
     "text": [
      "\u001b[1m3/3\u001b[0m \u001b[32m━━━━━━━━━━━━━━━━━━━━\u001b[0m\u001b[37m\u001b[0m \u001b[1m0s\u001b[0m 21ms/step\n",
      "\u001b[1m3/3\u001b[0m \u001b[32m━━━━━━━━━━━━━━━━━━━━\u001b[0m\u001b[37m\u001b[0m \u001b[1m0s\u001b[0m 20ms/step\n",
      "\u001b[1m6/6\u001b[0m \u001b[32m━━━━━━━━━━━━━━━━━━━━\u001b[0m\u001b[37m\u001b[0m \u001b[1m0s\u001b[0m 4ms/step \n",
      "\u001b[1m6/6\u001b[0m \u001b[32m━━━━━━━━━━━━━━━━━━━━\u001b[0m\u001b[37m\u001b[0m \u001b[1m0s\u001b[0m 4ms/step \n",
      "\n",
      "--- Testing Features (3): VH, VV, Angle ---\n"
     ]
    },
    {
     "name": "stderr",
     "output_type": "stream",
     "text": [
      "Epochs:  13%|█▎        | 129/1000 [00:13<01:32,  9.38epoch/s, loss=0.7428, val_loss=0.5703] \n",
      "Epochs:  20%|██        | 203/1000 [00:22<01:27,  9.10epoch/s, loss=0.4454, val_loss=0.4488]\n"
     ]
    },
    {
     "name": "stdout",
     "output_type": "stream",
     "text": [
      "\u001b[1m3/3\u001b[0m \u001b[32m━━━━━━━━━━━━━━━━━━━━\u001b[0m\u001b[37m\u001b[0m \u001b[1m0s\u001b[0m 26ms/step\n",
      "\u001b[1m3/3\u001b[0m \u001b[32m━━━━━━━━━━━━━━━━━━━━\u001b[0m\u001b[37m\u001b[0m \u001b[1m0s\u001b[0m 23ms/step\n",
      "\u001b[1m6/6\u001b[0m \u001b[32m━━━━━━━━━━━━━━━━━━━━\u001b[0m\u001b[37m\u001b[0m \u001b[1m0s\u001b[0m 5ms/step \n",
      "\u001b[1m6/6\u001b[0m \u001b[32m━━━━━━━━━━━━━━━━━━━━\u001b[0m\u001b[37m\u001b[0m \u001b[1m0s\u001b[0m 5ms/step \n",
      "\n",
      "--- Testing Features (3): VH, HH, HV ---\n"
     ]
    },
    {
     "name": "stderr",
     "output_type": "stream",
     "text": [
      "Epochs:  14%|█▍        | 138/1000 [00:16<01:41,  8.47epoch/s, loss=0.7818, val_loss=0.5774] \n",
      "Epochs:  15%|█▌        | 154/1000 [00:17<01:38,  8.57epoch/s, loss=0.4261, val_loss=0.4404]\n"
     ]
    },
    {
     "name": "stdout",
     "output_type": "stream",
     "text": [
      "\u001b[1m3/3\u001b[0m \u001b[32m━━━━━━━━━━━━━━━━━━━━\u001b[0m\u001b[37m\u001b[0m \u001b[1m0s\u001b[0m 24ms/step\n",
      "\u001b[1m3/3\u001b[0m \u001b[32m━━━━━━━━━━━━━━━━━━━━\u001b[0m\u001b[37m\u001b[0m \u001b[1m0s\u001b[0m 22ms/step\n",
      "\u001b[1m6/6\u001b[0m \u001b[32m━━━━━━━━━━━━━━━━━━━━\u001b[0m\u001b[37m\u001b[0m \u001b[1m0s\u001b[0m 4ms/step \n",
      "\u001b[1m6/6\u001b[0m \u001b[32m━━━━━━━━━━━━━━━━━━━━\u001b[0m\u001b[37m\u001b[0m \u001b[1m0s\u001b[0m 4ms/step \n",
      "\n",
      "--- Testing Features (3): VH, HH, Angle ---\n"
     ]
    },
    {
     "name": "stderr",
     "output_type": "stream",
     "text": [
      "Epochs:  13%|█▎        | 128/1000 [00:13<01:35,  9.16epoch/s, loss=0.9939, val_loss=0.5835] \n",
      "Epochs:  13%|█▎        | 128/1000 [00:15<01:45,  8.27epoch/s, loss=0.4232, val_loss=0.4404]"
     ]
    },
    {
     "name": "stdout",
     "output_type": "stream",
     "text": [
      "\u001b[1m1/3\u001b[0m \u001b[32m━━━━━━\u001b[0m\u001b[37m━━━━━━━━━━━━━━\u001b[0m \u001b[1m0s\u001b[0m 42ms/step"
     ]
    },
    {
     "name": "stderr",
     "output_type": "stream",
     "text": [
      "\n"
     ]
    },
    {
     "name": "stdout",
     "output_type": "stream",
     "text": [
      "\u001b[1m3/3\u001b[0m \u001b[32m━━━━━━━━━━━━━━━━━━━━\u001b[0m\u001b[37m\u001b[0m \u001b[1m0s\u001b[0m 20ms/step\n",
      "\u001b[1m3/3\u001b[0m \u001b[32m━━━━━━━━━━━━━━━━━━━━\u001b[0m\u001b[37m\u001b[0m \u001b[1m0s\u001b[0m 20ms/step\n",
      "\u001b[1m6/6\u001b[0m \u001b[32m━━━━━━━━━━━━━━━━━━━━\u001b[0m\u001b[37m\u001b[0m \u001b[1m0s\u001b[0m 4ms/step \n",
      "\u001b[1m6/6\u001b[0m \u001b[32m━━━━━━━━━━━━━━━━━━━━\u001b[0m\u001b[37m\u001b[0m \u001b[1m0s\u001b[0m 4ms/step \n",
      "\n",
      "--- Testing Features (3): VH, HV, Angle ---\n"
     ]
    },
    {
     "name": "stderr",
     "output_type": "stream",
     "text": [
      "Epochs:  12%|█▏        | 115/1000 [00:12<01:36,  9.20epoch/s, loss=0.7818, val_loss=0.5376] \n",
      "Epochs:  11%|█         | 110/1000 [00:12<01:44,  8.51epoch/s, loss=0.4363, val_loss=0.4368]"
     ]
    },
    {
     "name": "stdout",
     "output_type": "stream",
     "text": [
      "\u001b[1m1/3\u001b[0m \u001b[32m━━━━━━\u001b[0m\u001b[37m━━━━━━━━━━━━━━\u001b[0m \u001b[1m0s\u001b[0m 43ms/step"
     ]
    },
    {
     "name": "stderr",
     "output_type": "stream",
     "text": [
      "\n"
     ]
    },
    {
     "name": "stdout",
     "output_type": "stream",
     "text": [
      "\u001b[1m3/3\u001b[0m \u001b[32m━━━━━━━━━━━━━━━━━━━━\u001b[0m\u001b[37m\u001b[0m \u001b[1m0s\u001b[0m 22ms/step\n",
      "\u001b[1m3/3\u001b[0m \u001b[32m━━━━━━━━━━━━━━━━━━━━\u001b[0m\u001b[37m\u001b[0m \u001b[1m0s\u001b[0m 22ms/step\n",
      "\u001b[1m6/6\u001b[0m \u001b[32m━━━━━━━━━━━━━━━━━━━━\u001b[0m\u001b[37m\u001b[0m \u001b[1m0s\u001b[0m 4ms/step \n",
      "\u001b[1m6/6\u001b[0m \u001b[32m━━━━━━━━━━━━━━━━━━━━\u001b[0m\u001b[37m\u001b[0m \u001b[1m0s\u001b[0m 4ms/step \n",
      "\n",
      "--- Testing Features (3): VV, HH, HV ---\n"
     ]
    },
    {
     "name": "stderr",
     "output_type": "stream",
     "text": [
      "Epochs:  14%|█▎        | 135/1000 [00:14<01:31,  9.48epoch/s, loss=0.9292, val_loss=0.5881] \n",
      "Epochs:  21%|██        | 212/1000 [00:24<01:32,  8.49epoch/s, loss=0.4306, val_loss=0.4383]"
     ]
    },
    {
     "name": "stdout",
     "output_type": "stream",
     "text": [
      "\u001b[1m1/3\u001b[0m \u001b[32m━━━━━━\u001b[0m\u001b[37m━━━━━━━━━━━━━━\u001b[0m \u001b[1m0s\u001b[0m 42ms/step"
     ]
    },
    {
     "name": "stderr",
     "output_type": "stream",
     "text": [
      "\n"
     ]
    },
    {
     "name": "stdout",
     "output_type": "stream",
     "text": [
      "\u001b[1m3/3\u001b[0m \u001b[32m━━━━━━━━━━━━━━━━━━━━\u001b[0m\u001b[37m\u001b[0m \u001b[1m0s\u001b[0m 21ms/step\n",
      "\u001b[1m3/3\u001b[0m \u001b[32m━━━━━━━━━━━━━━━━━━━━\u001b[0m\u001b[37m\u001b[0m \u001b[1m0s\u001b[0m 22ms/step\n",
      "\u001b[1m6/6\u001b[0m \u001b[32m━━━━━━━━━━━━━━━━━━━━\u001b[0m\u001b[37m\u001b[0m \u001b[1m0s\u001b[0m 4ms/step \n",
      "\u001b[1m6/6\u001b[0m \u001b[32m━━━━━━━━━━━━━━━━━━━━\u001b[0m\u001b[37m\u001b[0m \u001b[1m0s\u001b[0m 4ms/step \n",
      "\n",
      "--- Testing Features (3): VV, HH, Angle ---\n"
     ]
    },
    {
     "name": "stderr",
     "output_type": "stream",
     "text": [
      "Epochs:  11%|█         | 108/1000 [00:12<01:46,  8.37epoch/s, loss=0.7575, val_loss=0.5650] \n",
      "Epochs:   9%|▉         | 91/1000 [00:11<01:53,  8.03epoch/s, loss=0.4365, val_loss=0.4421]\n"
     ]
    },
    {
     "name": "stdout",
     "output_type": "stream",
     "text": [
      "\u001b[1m3/3\u001b[0m \u001b[32m━━━━━━━━━━━━━━━━━━━━\u001b[0m\u001b[37m\u001b[0m \u001b[1m0s\u001b[0m 29ms/step\n",
      "\u001b[1m3/3\u001b[0m \u001b[32m━━━━━━━━━━━━━━━━━━━━\u001b[0m\u001b[37m\u001b[0m \u001b[1m0s\u001b[0m 21ms/step\n",
      "\u001b[1m6/6\u001b[0m \u001b[32m━━━━━━━━━━━━━━━━━━━━\u001b[0m\u001b[37m\u001b[0m \u001b[1m0s\u001b[0m 4ms/step \n",
      "\u001b[1m6/6\u001b[0m \u001b[32m━━━━━━━━━━━━━━━━━━━━\u001b[0m\u001b[37m\u001b[0m \u001b[1m0s\u001b[0m 4ms/step \n",
      "\n",
      "--- Testing Features (3): VV, HV, Angle ---\n"
     ]
    },
    {
     "name": "stderr",
     "output_type": "stream",
     "text": [
      "Epochs:  12%|█▏        | 124/1000 [00:14<01:39,  8.78epoch/s, loss=0.8254, val_loss=0.5949] \n",
      "Epochs:  14%|█▎        | 135/1000 [00:16<01:44,  8.31epoch/s, loss=0.4198, val_loss=0.4363]"
     ]
    },
    {
     "name": "stdout",
     "output_type": "stream",
     "text": [
      "\u001b[1m1/3\u001b[0m \u001b[32m━━━━━━\u001b[0m\u001b[37m━━━━━━━━━━━━━━\u001b[0m \u001b[1m0s\u001b[0m 43ms/step"
     ]
    },
    {
     "name": "stderr",
     "output_type": "stream",
     "text": [
      "\n"
     ]
    },
    {
     "name": "stdout",
     "output_type": "stream",
     "text": [
      "\u001b[1m3/3\u001b[0m \u001b[32m━━━━━━━━━━━━━━━━━━━━\u001b[0m\u001b[37m\u001b[0m \u001b[1m0s\u001b[0m 24ms/step\n",
      "\u001b[1m3/3\u001b[0m \u001b[32m━━━━━━━━━━━━━━━━━━━━\u001b[0m\u001b[37m\u001b[0m \u001b[1m0s\u001b[0m 22ms/step\n",
      "\u001b[1m6/6\u001b[0m \u001b[32m━━━━━━━━━━━━━━━━━━━━\u001b[0m\u001b[37m\u001b[0m \u001b[1m0s\u001b[0m 4ms/step \n",
      "\u001b[1m6/6\u001b[0m \u001b[32m━━━━━━━━━━━━━━━━━━━━\u001b[0m\u001b[37m\u001b[0m \u001b[1m0s\u001b[0m 4ms/step \n",
      "\n",
      "--- Testing Features (3): HH, HV, Angle ---\n"
     ]
    },
    {
     "name": "stderr",
     "output_type": "stream",
     "text": [
      "Epochs:  11%|█         | 112/1000 [00:12<01:40,  8.80epoch/s, loss=0.7910, val_loss=0.5517] \n",
      "Epochs:  11%|█         | 106/1000 [00:12<01:49,  8.16epoch/s, loss=0.4139, val_loss=0.4320]\n"
     ]
    },
    {
     "name": "stdout",
     "output_type": "stream",
     "text": [
      "\u001b[1m3/3\u001b[0m \u001b[32m━━━━━━━━━━━━━━━━━━━━\u001b[0m\u001b[37m\u001b[0m \u001b[1m0s\u001b[0m 26ms/step\n",
      "\u001b[1m3/3\u001b[0m \u001b[32m━━━━━━━━━━━━━━━━━━━━\u001b[0m\u001b[37m\u001b[0m \u001b[1m0s\u001b[0m 23ms/step\n",
      "\u001b[1m6/6\u001b[0m \u001b[32m━━━━━━━━━━━━━━━━━━━━\u001b[0m\u001b[37m\u001b[0m \u001b[1m0s\u001b[0m 5ms/step \n",
      "\u001b[1m6/6\u001b[0m \u001b[32m━━━━━━━━━━━━━━━━━━━━\u001b[0m\u001b[37m\u001b[0m \u001b[1m0s\u001b[0m 5ms/step \n",
      "\n",
      "--- Testing Features (4): VH, VV, HH, HV ---\n"
     ]
    },
    {
     "name": "stderr",
     "output_type": "stream",
     "text": [
      "Epochs:  10%|█         | 105/1000 [00:10<01:27, 10.17epoch/s, loss=0.6784, val_loss=0.5260] \n",
      "Epochs:   8%|▊         | 82/1000 [00:08<01:33,  9.82epoch/s, loss=0.4270, val_loss=0.4410]"
     ]
    },
    {
     "name": "stdout",
     "output_type": "stream",
     "text": [
      "\u001b[1m1/3\u001b[0m \u001b[32m━━━━━━\u001b[0m\u001b[37m━━━━━━━━━━━━━━\u001b[0m \u001b[1m0s\u001b[0m 40ms/step"
     ]
    },
    {
     "name": "stderr",
     "output_type": "stream",
     "text": [
      "\n"
     ]
    },
    {
     "name": "stdout",
     "output_type": "stream",
     "text": [
      "\u001b[1m3/3\u001b[0m \u001b[32m━━━━━━━━━━━━━━━━━━━━\u001b[0m\u001b[37m\u001b[0m \u001b[1m0s\u001b[0m 23ms/step\n",
      "\u001b[1m3/3\u001b[0m \u001b[32m━━━━━━━━━━━━━━━━━━━━\u001b[0m\u001b[37m\u001b[0m \u001b[1m0s\u001b[0m 21ms/step\n",
      "\u001b[1m6/6\u001b[0m \u001b[32m━━━━━━━━━━━━━━━━━━━━\u001b[0m\u001b[37m\u001b[0m \u001b[1m0s\u001b[0m 4ms/step \n",
      "\u001b[1m6/6\u001b[0m \u001b[32m━━━━━━━━━━━━━━━━━━━━\u001b[0m\u001b[37m\u001b[0m \u001b[1m0s\u001b[0m 4ms/step \n",
      "\n",
      "--- Testing Features (4): VH, VV, HH, Angle ---\n"
     ]
    },
    {
     "name": "stderr",
     "output_type": "stream",
     "text": [
      "Epochs:  13%|█▎        | 128/1000 [00:13<01:30,  9.69epoch/s, loss=1.0682, val_loss=0.5798] \n",
      "Epochs:  10%|█         | 105/1000 [00:12<01:42,  8.71epoch/s, loss=0.4308, val_loss=0.4459]"
     ]
    },
    {
     "name": "stdout",
     "output_type": "stream",
     "text": [
      "\u001b[1m1/3\u001b[0m \u001b[32m━━━━━━\u001b[0m\u001b[37m━━━━━━━━━━━━━━\u001b[0m \u001b[1m0s\u001b[0m 42ms/step"
     ]
    },
    {
     "name": "stderr",
     "output_type": "stream",
     "text": [
      "\n"
     ]
    },
    {
     "name": "stdout",
     "output_type": "stream",
     "text": [
      "\u001b[1m3/3\u001b[0m \u001b[32m━━━━━━━━━━━━━━━━━━━━\u001b[0m\u001b[37m\u001b[0m \u001b[1m0s\u001b[0m 21ms/step\n",
      "\u001b[1m3/3\u001b[0m \u001b[32m━━━━━━━━━━━━━━━━━━━━\u001b[0m\u001b[37m\u001b[0m \u001b[1m0s\u001b[0m 21ms/step\n",
      "\u001b[1m6/6\u001b[0m \u001b[32m━━━━━━━━━━━━━━━━━━━━\u001b[0m\u001b[37m\u001b[0m \u001b[1m0s\u001b[0m 4ms/step \n",
      "\u001b[1m6/6\u001b[0m \u001b[32m━━━━━━━━━━━━━━━━━━━━\u001b[0m\u001b[37m\u001b[0m \u001b[1m0s\u001b[0m 4ms/step \n",
      "\n",
      "--- Testing Features (4): VH, VV, HV, Angle ---\n"
     ]
    },
    {
     "name": "stderr",
     "output_type": "stream",
     "text": [
      "Epochs:  13%|█▎        | 134/1000 [00:15<01:41,  8.50epoch/s, loss=0.9435, val_loss=0.6603] \n",
      "Epochs:  22%|██▏       | 218/1000 [00:25<01:30,  8.64epoch/s, loss=0.4145, val_loss=0.4289]"
     ]
    },
    {
     "name": "stdout",
     "output_type": "stream",
     "text": [
      "\u001b[1m1/3\u001b[0m \u001b[32m━━━━━━\u001b[0m\u001b[37m━━━━━━━━━━━━━━\u001b[0m \u001b[1m0s\u001b[0m 44ms/step"
     ]
    },
    {
     "name": "stderr",
     "output_type": "stream",
     "text": [
      "\n"
     ]
    },
    {
     "name": "stdout",
     "output_type": "stream",
     "text": [
      "\u001b[1m3/3\u001b[0m \u001b[32m━━━━━━━━━━━━━━━━━━━━\u001b[0m\u001b[37m\u001b[0m \u001b[1m0s\u001b[0m 20ms/step\n",
      "\u001b[1m3/3\u001b[0m \u001b[32m━━━━━━━━━━━━━━━━━━━━\u001b[0m\u001b[37m\u001b[0m \u001b[1m0s\u001b[0m 21ms/step\n",
      "\u001b[1m6/6\u001b[0m \u001b[32m━━━━━━━━━━━━━━━━━━━━\u001b[0m\u001b[37m\u001b[0m \u001b[1m0s\u001b[0m 4ms/step \n",
      "\u001b[1m6/6\u001b[0m \u001b[32m━━━━━━━━━━━━━━━━━━━━\u001b[0m\u001b[37m\u001b[0m \u001b[1m0s\u001b[0m 4ms/step \n",
      "\n",
      "--- Testing Features (4): VH, HH, HV, Angle ---\n"
     ]
    },
    {
     "name": "stderr",
     "output_type": "stream",
     "text": [
      "Epochs:  14%|█▍        | 139/1000 [00:14<01:31,  9.44epoch/s, loss=1.2850, val_loss=0.6269] \n",
      "Epochs:  17%|█▋        | 173/1000 [00:20<01:35,  8.63epoch/s, loss=0.4162, val_loss=0.4349]"
     ]
    },
    {
     "name": "stdout",
     "output_type": "stream",
     "text": [
      "\u001b[1m1/3\u001b[0m \u001b[32m━━━━━━\u001b[0m\u001b[37m━━━━━━━━━━━━━━\u001b[0m \u001b[1m0s\u001b[0m 42ms/step"
     ]
    },
    {
     "name": "stderr",
     "output_type": "stream",
     "text": [
      "\n"
     ]
    },
    {
     "name": "stdout",
     "output_type": "stream",
     "text": [
      "\u001b[1m3/3\u001b[0m \u001b[32m━━━━━━━━━━━━━━━━━━━━\u001b[0m\u001b[37m\u001b[0m \u001b[1m0s\u001b[0m 24ms/step\n",
      "\u001b[1m3/3\u001b[0m \u001b[32m━━━━━━━━━━━━━━━━━━━━\u001b[0m\u001b[37m\u001b[0m \u001b[1m0s\u001b[0m 20ms/step\n",
      "\u001b[1m6/6\u001b[0m \u001b[32m━━━━━━━━━━━━━━━━━━━━\u001b[0m\u001b[37m\u001b[0m \u001b[1m0s\u001b[0m 4ms/step \n",
      "\u001b[1m6/6\u001b[0m \u001b[32m━━━━━━━━━━━━━━━━━━━━\u001b[0m\u001b[37m\u001b[0m \u001b[1m0s\u001b[0m 4ms/step \n",
      "\n",
      "--- Testing Features (4): VV, HH, HV, Angle ---\n"
     ]
    },
    {
     "name": "stderr",
     "output_type": "stream",
     "text": [
      "Epochs:  11%|█         | 107/1000 [00:13<01:49,  8.18epoch/s, loss=0.6834, val_loss=0.5196] \n",
      "Epochs:  13%|█▎        | 128/1000 [00:15<01:43,  8.45epoch/s, loss=0.4284, val_loss=0.4320]"
     ]
    },
    {
     "name": "stdout",
     "output_type": "stream",
     "text": [
      "\u001b[1m1/3\u001b[0m \u001b[32m━━━━━━\u001b[0m\u001b[37m━━━━━━━━━━━━━━\u001b[0m \u001b[1m0s\u001b[0m 43ms/step"
     ]
    },
    {
     "name": "stderr",
     "output_type": "stream",
     "text": [
      "\n"
     ]
    },
    {
     "name": "stdout",
     "output_type": "stream",
     "text": [
      "\u001b[1m3/3\u001b[0m \u001b[32m━━━━━━━━━━━━━━━━━━━━\u001b[0m\u001b[37m\u001b[0m \u001b[1m0s\u001b[0m 21ms/step\n",
      "\u001b[1m3/3\u001b[0m \u001b[32m━━━━━━━━━━━━━━━━━━━━\u001b[0m\u001b[37m\u001b[0m \u001b[1m0s\u001b[0m 20ms/step\n",
      "\u001b[1m6/6\u001b[0m \u001b[32m━━━━━━━━━━━━━━━━━━━━\u001b[0m\u001b[37m\u001b[0m \u001b[1m0s\u001b[0m 4ms/step \n",
      "\u001b[1m6/6\u001b[0m \u001b[32m━━━━━━━━━━━━━━━━━━━━\u001b[0m\u001b[37m\u001b[0m \u001b[1m0s\u001b[0m 4ms/step \n",
      "\n",
      "--- Testing Features (5): VH, VV, HH, HV, Angle ---\n"
     ]
    },
    {
     "name": "stderr",
     "output_type": "stream",
     "text": [
      "Epochs:  10%|█         | 104/1000 [00:12<01:47,  8.31epoch/s, loss=0.7039, val_loss=0.5309] \n",
      "Epochs:  12%|█▏        | 121/1000 [00:14<01:44,  8.44epoch/s, loss=0.4186, val_loss=0.4372]"
     ]
    },
    {
     "name": "stdout",
     "output_type": "stream",
     "text": [
      "\u001b[1m1/3\u001b[0m \u001b[32m━━━━━━\u001b[0m\u001b[37m━━━━━━━━━━━━━━\u001b[0m \u001b[1m0s\u001b[0m 44ms/step"
     ]
    },
    {
     "name": "stderr",
     "output_type": "stream",
     "text": [
      "\n"
     ]
    },
    {
     "name": "stdout",
     "output_type": "stream",
     "text": [
      "\u001b[1m3/3\u001b[0m \u001b[32m━━━━━━━━━━━━━━━━━━━━\u001b[0m\u001b[37m\u001b[0m \u001b[1m0s\u001b[0m 22ms/step\n",
      "\u001b[1m3/3\u001b[0m \u001b[32m━━━━━━━━━━━━━━━━━━━━\u001b[0m\u001b[37m\u001b[0m \u001b[1m0s\u001b[0m 22ms/step\n",
      "\u001b[1m6/6\u001b[0m \u001b[32m━━━━━━━━━━━━━━━━━━━━\u001b[0m\u001b[37m\u001b[0m \u001b[1m0s\u001b[0m 4ms/step \n",
      "\u001b[1m6/6\u001b[0m \u001b[32m━━━━━━━━━━━━━━━━━━━━\u001b[0m\u001b[37m\u001b[0m \u001b[1m0s\u001b[0m 4ms/step \n"
     ]
    },
    {
     "data": {
      "text/plain": [
       "[{'features': 'VH',\n",
       "  'num_features': 1,\n",
       "  'PICP': np.float64(0.9583333333333334),\n",
       "  'MPIW': np.float32(32.68273)},\n",
       " {'features': 'VV',\n",
       "  'num_features': 1,\n",
       "  'PICP': np.float64(0.9464285714285714),\n",
       "  'MPIW': np.float32(36.081985)},\n",
       " {'features': 'HH',\n",
       "  'num_features': 1,\n",
       "  'PICP': np.float64(0.9464285714285714),\n",
       "  'MPIW': np.float32(30.914167)},\n",
       " {'features': 'HV',\n",
       "  'num_features': 1,\n",
       "  'PICP': np.float64(0.9464285714285714),\n",
       "  'MPIW': np.float32(32.56308)},\n",
       " {'features': 'Angle',\n",
       "  'num_features': 1,\n",
       "  'PICP': np.float64(0.9404761904761905),\n",
       "  'MPIW': np.float32(32.52769)},\n",
       " {'features': 'VH, VV',\n",
       "  'num_features': 2,\n",
       "  'PICP': np.float64(0.9523809523809523),\n",
       "  'MPIW': np.float32(34.54159)},\n",
       " {'features': 'VH, HH',\n",
       "  'num_features': 2,\n",
       "  'PICP': np.float64(0.9523809523809523),\n",
       "  'MPIW': np.float32(30.34891)},\n",
       " {'features': 'VH, HV',\n",
       "  'num_features': 2,\n",
       "  'PICP': np.float64(0.9523809523809523),\n",
       "  'MPIW': np.float32(30.527506)},\n",
       " {'features': 'VH, Angle',\n",
       "  'num_features': 2,\n",
       "  'PICP': np.float64(0.9583333333333334),\n",
       "  'MPIW': np.float32(33.585594)},\n",
       " {'features': 'VV, HH',\n",
       "  'num_features': 2,\n",
       "  'PICP': np.float64(0.9464285714285714),\n",
       "  'MPIW': np.float32(32.088333)},\n",
       " {'features': 'VV, HV',\n",
       "  'num_features': 2,\n",
       "  'PICP': np.float64(0.9285714285714286),\n",
       "  'MPIW': np.float32(30.221615)},\n",
       " {'features': 'VV, Angle',\n",
       "  'num_features': 2,\n",
       "  'PICP': np.float64(0.9404761904761905),\n",
       "  'MPIW': np.float32(35.514824)},\n",
       " {'features': 'HH, HV',\n",
       "  'num_features': 2,\n",
       "  'PICP': np.float64(0.9404761904761905),\n",
       "  'MPIW': np.float32(31.680021)},\n",
       " {'features': 'HH, Angle',\n",
       "  'num_features': 2,\n",
       "  'PICP': np.float64(0.9464285714285714),\n",
       "  'MPIW': np.float32(29.274036)},\n",
       " {'features': 'HV, Angle',\n",
       "  'num_features': 2,\n",
       "  'PICP': np.float64(0.9464285714285714),\n",
       "  'MPIW': np.float32(30.744823)},\n",
       " {'features': 'VH, VV, HH',\n",
       "  'num_features': 3,\n",
       "  'PICP': np.float64(0.9583333333333334),\n",
       "  'MPIW': np.float32(31.555471)},\n",
       " {'features': 'VH, VV, HV',\n",
       "  'num_features': 3,\n",
       "  'PICP': np.float64(0.9404761904761905),\n",
       "  'MPIW': np.float32(31.451782)},\n",
       " {'features': 'VH, VV, Angle',\n",
       "  'num_features': 3,\n",
       "  'PICP': np.float64(0.9523809523809523),\n",
       "  'MPIW': np.float32(35.395264)},\n",
       " {'features': 'VH, HH, HV',\n",
       "  'num_features': 3,\n",
       "  'PICP': np.float64(0.9523809523809523),\n",
       "  'MPIW': np.float32(30.829323)},\n",
       " {'features': 'VH, HH, Angle',\n",
       "  'num_features': 3,\n",
       "  'PICP': np.float64(0.9583333333333334),\n",
       "  'MPIW': np.float32(29.158676)},\n",
       " {'features': 'VH, HV, Angle',\n",
       "  'num_features': 3,\n",
       "  'PICP': np.float64(0.9583333333333334),\n",
       "  'MPIW': np.float32(31.275085)},\n",
       " {'features': 'VV, HH, HV',\n",
       "  'num_features': 3,\n",
       "  'PICP': np.float64(0.9523809523809523),\n",
       "  'MPIW': np.float32(32.348045)},\n",
       " {'features': 'VV, HH, Angle',\n",
       "  'num_features': 3,\n",
       "  'PICP': np.float64(0.9523809523809523),\n",
       "  'MPIW': np.float32(30.610973)},\n",
       " {'features': 'VV, HV, Angle',\n",
       "  'num_features': 3,\n",
       "  'PICP': np.float64(0.9464285714285714),\n",
       "  'MPIW': np.float32(32.636738)},\n",
       " {'features': 'HH, HV, Angle',\n",
       "  'num_features': 3,\n",
       "  'PICP': np.float64(0.9523809523809523),\n",
       "  'MPIW': np.float32(29.85112)},\n",
       " {'features': 'VH, VV, HH, HV',\n",
       "  'num_features': 4,\n",
       "  'PICP': np.float64(0.9523809523809523),\n",
       "  'MPIW': np.float32(30.739536)},\n",
       " {'features': 'VH, VV, HH, Angle',\n",
       "  'num_features': 4,\n",
       "  'PICP': np.float64(0.9583333333333334),\n",
       "  'MPIW': np.float32(31.244894)},\n",
       " {'features': 'VH, VV, HV, Angle',\n",
       "  'num_features': 4,\n",
       "  'PICP': np.float64(0.9523809523809523),\n",
       "  'MPIW': np.float32(31.82252)},\n",
       " {'features': 'VH, HH, HV, Angle',\n",
       "  'num_features': 4,\n",
       "  'PICP': np.float64(0.9583333333333334),\n",
       "  'MPIW': np.float32(30.28859)},\n",
       " {'features': 'VV, HH, HV, Angle',\n",
       "  'num_features': 4,\n",
       "  'PICP': np.float64(0.9464285714285714),\n",
       "  'MPIW': np.float32(30.737831)},\n",
       " {'features': 'VH, VV, HH, HV, Angle',\n",
       "  'num_features': 5,\n",
       "  'PICP': np.float64(0.9583333333333334),\n",
       "  'MPIW': np.float32(30.468517)}]"
      ]
     },
     "execution_count": 5,
     "metadata": {},
     "output_type": "execute_result"
    }
   ],
   "source": [
    "from  model_experiments import PredictionIntervalEstimation\n",
    "\n",
    "all_results = []\n",
    "seed = 1337 \n",
    "\n",
    "for features in all_feature_combinations:\n",
    "    features = list(features) # Convert tuple to list\n",
    "    num_features = len(features)\n",
    "    feature_string = \", \".join(features)\n",
    "\n",
    "    print(f\"\\n--- Testing Features ({num_features}): {feature_string} ---\")\n",
    "\n",
    "    tf.keras.backend.clear_session()\n",
    "\n",
    "    model = tf.keras.Sequential([\n",
    "        tf.keras.Input(shape=(num_features, )), # Dynamic input shape\n",
    "        tf.keras.layers.Dense(16, activation='relu'),\n",
    "        tf.keras.layers.Dropout(0.09),\n",
    "        tf.keras.layers.Dense(8, activation='relu'),\n",
    "        tf.keras.layers.Dropout(0.09),\n",
    "        tf.keras.layers.Dense(1)\n",
    "    ])\n",
    "\n",
    "    # Instantiate the experiment class with the current feature subset\n",
    "    exp = PredictionIntervalEstimation(\n",
    "        combined,\n",
    "        features=features,\n",
    "        target=y_col[0],\n",
    "        satellite='EOS+Sentinel',\n",
    "        random_state=seed\n",
    "    )\n",
    "\n",
    "    y_lower_test, y_upper_test, y_lower_val, y_upper_val = exp.train_model(\n",
    "        model,\n",
    "        learning_rate=0.0005, # Using the optimal LR from previous tuning\n",
    "        epochs=1000,\n",
    "        verbose=0 # Suppress epoch-by-epoch output\n",
    "    )\n",
    "\n",
    "    metrics = exp.evaluate_model(exp.y_val, y_lower_val, y_upper_val)\n",
    "\n",
    "    result_entry = {\n",
    "        'features': feature_string,\n",
    "        'num_features': num_features,\n",
    "        'PICP': metrics['PICP'],\n",
    "        'MPIW': metrics['MPIW']\n",
    "    }\n",
    "\n",
    "    all_results.append(result_entry)\n",
    "\n",
    "all_results"
   ]
  },
  {
   "cell_type": "code",
   "execution_count": 6,
   "id": "38f5417a",
   "metadata": {},
   "outputs": [
    {
     "data": {
      "text/html": [
       "<div>\n",
       "<style scoped>\n",
       "    .dataframe tbody tr th:only-of-type {\n",
       "        vertical-align: middle;\n",
       "    }\n",
       "\n",
       "    .dataframe tbody tr th {\n",
       "        vertical-align: top;\n",
       "    }\n",
       "\n",
       "    .dataframe thead th {\n",
       "        text-align: right;\n",
       "    }\n",
       "</style>\n",
       "<table border=\"1\" class=\"dataframe\">\n",
       "  <thead>\n",
       "    <tr style=\"text-align: right;\">\n",
       "      <th></th>\n",
       "      <th>features</th>\n",
       "      <th>num_features</th>\n",
       "      <th>PICP</th>\n",
       "      <th>MPIW</th>\n",
       "    </tr>\n",
       "  </thead>\n",
       "  <tbody>\n",
       "    <tr>\n",
       "      <th>19</th>\n",
       "      <td>VH, HH, Angle</td>\n",
       "      <td>3</td>\n",
       "      <td>0.958333</td>\n",
       "      <td>29.158676</td>\n",
       "    </tr>\n",
       "    <tr>\n",
       "      <th>24</th>\n",
       "      <td>HH, HV, Angle</td>\n",
       "      <td>3</td>\n",
       "      <td>0.952381</td>\n",
       "      <td>29.851120</td>\n",
       "    </tr>\n",
       "    <tr>\n",
       "      <th>28</th>\n",
       "      <td>VH, HH, HV, Angle</td>\n",
       "      <td>4</td>\n",
       "      <td>0.958333</td>\n",
       "      <td>30.288589</td>\n",
       "    </tr>\n",
       "    <tr>\n",
       "      <th>6</th>\n",
       "      <td>VH, HH</td>\n",
       "      <td>2</td>\n",
       "      <td>0.952381</td>\n",
       "      <td>30.348909</td>\n",
       "    </tr>\n",
       "    <tr>\n",
       "      <th>30</th>\n",
       "      <td>VH, VV, HH, HV, Angle</td>\n",
       "      <td>5</td>\n",
       "      <td>0.958333</td>\n",
       "      <td>30.468517</td>\n",
       "    </tr>\n",
       "    <tr>\n",
       "      <th>7</th>\n",
       "      <td>VH, HV</td>\n",
       "      <td>2</td>\n",
       "      <td>0.952381</td>\n",
       "      <td>30.527506</td>\n",
       "    </tr>\n",
       "    <tr>\n",
       "      <th>22</th>\n",
       "      <td>VV, HH, Angle</td>\n",
       "      <td>3</td>\n",
       "      <td>0.952381</td>\n",
       "      <td>30.610973</td>\n",
       "    </tr>\n",
       "    <tr>\n",
       "      <th>25</th>\n",
       "      <td>VH, VV, HH, HV</td>\n",
       "      <td>4</td>\n",
       "      <td>0.952381</td>\n",
       "      <td>30.739536</td>\n",
       "    </tr>\n",
       "    <tr>\n",
       "      <th>18</th>\n",
       "      <td>VH, HH, HV</td>\n",
       "      <td>3</td>\n",
       "      <td>0.952381</td>\n",
       "      <td>30.829323</td>\n",
       "    </tr>\n",
       "    <tr>\n",
       "      <th>26</th>\n",
       "      <td>VH, VV, HH, Angle</td>\n",
       "      <td>4</td>\n",
       "      <td>0.958333</td>\n",
       "      <td>31.244894</td>\n",
       "    </tr>\n",
       "    <tr>\n",
       "      <th>20</th>\n",
       "      <td>VH, HV, Angle</td>\n",
       "      <td>3</td>\n",
       "      <td>0.958333</td>\n",
       "      <td>31.275085</td>\n",
       "    </tr>\n",
       "    <tr>\n",
       "      <th>15</th>\n",
       "      <td>VH, VV, HH</td>\n",
       "      <td>3</td>\n",
       "      <td>0.958333</td>\n",
       "      <td>31.555471</td>\n",
       "    </tr>\n",
       "    <tr>\n",
       "      <th>27</th>\n",
       "      <td>VH, VV, HV, Angle</td>\n",
       "      <td>4</td>\n",
       "      <td>0.952381</td>\n",
       "      <td>31.822519</td>\n",
       "    </tr>\n",
       "    <tr>\n",
       "      <th>21</th>\n",
       "      <td>VV, HH, HV</td>\n",
       "      <td>3</td>\n",
       "      <td>0.952381</td>\n",
       "      <td>32.348045</td>\n",
       "    </tr>\n",
       "    <tr>\n",
       "      <th>0</th>\n",
       "      <td>VH</td>\n",
       "      <td>1</td>\n",
       "      <td>0.958333</td>\n",
       "      <td>32.682732</td>\n",
       "    </tr>\n",
       "    <tr>\n",
       "      <th>8</th>\n",
       "      <td>VH, Angle</td>\n",
       "      <td>2</td>\n",
       "      <td>0.958333</td>\n",
       "      <td>33.585594</td>\n",
       "    </tr>\n",
       "    <tr>\n",
       "      <th>5</th>\n",
       "      <td>VH, VV</td>\n",
       "      <td>2</td>\n",
       "      <td>0.952381</td>\n",
       "      <td>34.541592</td>\n",
       "    </tr>\n",
       "    <tr>\n",
       "      <th>17</th>\n",
       "      <td>VH, VV, Angle</td>\n",
       "      <td>3</td>\n",
       "      <td>0.952381</td>\n",
       "      <td>35.395264</td>\n",
       "    </tr>\n",
       "  </tbody>\n",
       "</table>\n",
       "</div>"
      ],
      "text/plain": [
       "                 features  num_features      PICP       MPIW\n",
       "19          VH, HH, Angle             3  0.958333  29.158676\n",
       "24          HH, HV, Angle             3  0.952381  29.851120\n",
       "28      VH, HH, HV, Angle             4  0.958333  30.288589\n",
       "6                  VH, HH             2  0.952381  30.348909\n",
       "30  VH, VV, HH, HV, Angle             5  0.958333  30.468517\n",
       "7                  VH, HV             2  0.952381  30.527506\n",
       "22          VV, HH, Angle             3  0.952381  30.610973\n",
       "25         VH, VV, HH, HV             4  0.952381  30.739536\n",
       "18             VH, HH, HV             3  0.952381  30.829323\n",
       "26      VH, VV, HH, Angle             4  0.958333  31.244894\n",
       "20          VH, HV, Angle             3  0.958333  31.275085\n",
       "15             VH, VV, HH             3  0.958333  31.555471\n",
       "27      VH, VV, HV, Angle             4  0.952381  31.822519\n",
       "21             VV, HH, HV             3  0.952381  32.348045\n",
       "0                      VH             1  0.958333  32.682732\n",
       "8               VH, Angle             2  0.958333  33.585594\n",
       "5                  VH, VV             2  0.952381  34.541592\n",
       "17          VH, VV, Angle             3  0.952381  35.395264"
      ]
     },
     "execution_count": 6,
     "metadata": {},
     "output_type": "execute_result"
    }
   ],
   "source": [
    "results_df = pd.DataFrame(all_results)\n",
    "\n",
    "results_df[results_df['PICP'] > 0.95].sort_values(by='MPIW', ascending=True)"
   ]
  },
  {
   "cell_type": "code",
   "execution_count": 7,
   "id": "2c93edac",
   "metadata": {},
   "outputs": [
    {
     "data": {
      "text/html": [
       "<div>\n",
       "<style scoped>\n",
       "    .dataframe tbody tr th:only-of-type {\n",
       "        vertical-align: middle;\n",
       "    }\n",
       "\n",
       "    .dataframe tbody tr th {\n",
       "        vertical-align: top;\n",
       "    }\n",
       "\n",
       "    .dataframe thead th {\n",
       "        text-align: right;\n",
       "    }\n",
       "</style>\n",
       "<table border=\"1\" class=\"dataframe\">\n",
       "  <thead>\n",
       "    <tr style=\"text-align: right;\">\n",
       "      <th></th>\n",
       "      <th>features</th>\n",
       "      <th>num_features</th>\n",
       "      <th>PICP</th>\n",
       "      <th>MPIW</th>\n",
       "    </tr>\n",
       "  </thead>\n",
       "  <tbody>\n",
       "    <tr>\n",
       "      <th>0</th>\n",
       "      <td>VH</td>\n",
       "      <td>1</td>\n",
       "      <td>0.958333</td>\n",
       "      <td>32.682732</td>\n",
       "    </tr>\n",
       "    <tr>\n",
       "      <th>1</th>\n",
       "      <td>VV</td>\n",
       "      <td>1</td>\n",
       "      <td>0.946429</td>\n",
       "      <td>36.081985</td>\n",
       "    </tr>\n",
       "    <tr>\n",
       "      <th>2</th>\n",
       "      <td>HH</td>\n",
       "      <td>1</td>\n",
       "      <td>0.946429</td>\n",
       "      <td>30.914167</td>\n",
       "    </tr>\n",
       "    <tr>\n",
       "      <th>3</th>\n",
       "      <td>HV</td>\n",
       "      <td>1</td>\n",
       "      <td>0.946429</td>\n",
       "      <td>32.563080</td>\n",
       "    </tr>\n",
       "    <tr>\n",
       "      <th>4</th>\n",
       "      <td>Angle</td>\n",
       "      <td>1</td>\n",
       "      <td>0.940476</td>\n",
       "      <td>32.527691</td>\n",
       "    </tr>\n",
       "    <tr>\n",
       "      <th>5</th>\n",
       "      <td>VH, VV</td>\n",
       "      <td>2</td>\n",
       "      <td>0.952381</td>\n",
       "      <td>34.541592</td>\n",
       "    </tr>\n",
       "    <tr>\n",
       "      <th>6</th>\n",
       "      <td>VH, HH</td>\n",
       "      <td>2</td>\n",
       "      <td>0.952381</td>\n",
       "      <td>30.348909</td>\n",
       "    </tr>\n",
       "    <tr>\n",
       "      <th>7</th>\n",
       "      <td>VH, HV</td>\n",
       "      <td>2</td>\n",
       "      <td>0.952381</td>\n",
       "      <td>30.527506</td>\n",
       "    </tr>\n",
       "    <tr>\n",
       "      <th>8</th>\n",
       "      <td>VH, Angle</td>\n",
       "      <td>2</td>\n",
       "      <td>0.958333</td>\n",
       "      <td>33.585594</td>\n",
       "    </tr>\n",
       "    <tr>\n",
       "      <th>9</th>\n",
       "      <td>VV, HH</td>\n",
       "      <td>2</td>\n",
       "      <td>0.946429</td>\n",
       "      <td>32.088333</td>\n",
       "    </tr>\n",
       "    <tr>\n",
       "      <th>10</th>\n",
       "      <td>VV, HV</td>\n",
       "      <td>2</td>\n",
       "      <td>0.928571</td>\n",
       "      <td>30.221615</td>\n",
       "    </tr>\n",
       "    <tr>\n",
       "      <th>11</th>\n",
       "      <td>VV, Angle</td>\n",
       "      <td>2</td>\n",
       "      <td>0.940476</td>\n",
       "      <td>35.514824</td>\n",
       "    </tr>\n",
       "    <tr>\n",
       "      <th>12</th>\n",
       "      <td>HH, HV</td>\n",
       "      <td>2</td>\n",
       "      <td>0.940476</td>\n",
       "      <td>31.680021</td>\n",
       "    </tr>\n",
       "    <tr>\n",
       "      <th>13</th>\n",
       "      <td>HH, Angle</td>\n",
       "      <td>2</td>\n",
       "      <td>0.946429</td>\n",
       "      <td>29.274036</td>\n",
       "    </tr>\n",
       "    <tr>\n",
       "      <th>14</th>\n",
       "      <td>HV, Angle</td>\n",
       "      <td>2</td>\n",
       "      <td>0.946429</td>\n",
       "      <td>30.744823</td>\n",
       "    </tr>\n",
       "    <tr>\n",
       "      <th>15</th>\n",
       "      <td>VH, VV, HH</td>\n",
       "      <td>3</td>\n",
       "      <td>0.958333</td>\n",
       "      <td>31.555471</td>\n",
       "    </tr>\n",
       "    <tr>\n",
       "      <th>16</th>\n",
       "      <td>VH, VV, HV</td>\n",
       "      <td>3</td>\n",
       "      <td>0.940476</td>\n",
       "      <td>31.451782</td>\n",
       "    </tr>\n",
       "    <tr>\n",
       "      <th>17</th>\n",
       "      <td>VH, VV, Angle</td>\n",
       "      <td>3</td>\n",
       "      <td>0.952381</td>\n",
       "      <td>35.395264</td>\n",
       "    </tr>\n",
       "    <tr>\n",
       "      <th>18</th>\n",
       "      <td>VH, HH, HV</td>\n",
       "      <td>3</td>\n",
       "      <td>0.952381</td>\n",
       "      <td>30.829323</td>\n",
       "    </tr>\n",
       "    <tr>\n",
       "      <th>19</th>\n",
       "      <td>VH, HH, Angle</td>\n",
       "      <td>3</td>\n",
       "      <td>0.958333</td>\n",
       "      <td>29.158676</td>\n",
       "    </tr>\n",
       "    <tr>\n",
       "      <th>20</th>\n",
       "      <td>VH, HV, Angle</td>\n",
       "      <td>3</td>\n",
       "      <td>0.958333</td>\n",
       "      <td>31.275085</td>\n",
       "    </tr>\n",
       "    <tr>\n",
       "      <th>21</th>\n",
       "      <td>VV, HH, HV</td>\n",
       "      <td>3</td>\n",
       "      <td>0.952381</td>\n",
       "      <td>32.348045</td>\n",
       "    </tr>\n",
       "    <tr>\n",
       "      <th>22</th>\n",
       "      <td>VV, HH, Angle</td>\n",
       "      <td>3</td>\n",
       "      <td>0.952381</td>\n",
       "      <td>30.610973</td>\n",
       "    </tr>\n",
       "    <tr>\n",
       "      <th>23</th>\n",
       "      <td>VV, HV, Angle</td>\n",
       "      <td>3</td>\n",
       "      <td>0.946429</td>\n",
       "      <td>32.636738</td>\n",
       "    </tr>\n",
       "    <tr>\n",
       "      <th>24</th>\n",
       "      <td>HH, HV, Angle</td>\n",
       "      <td>3</td>\n",
       "      <td>0.952381</td>\n",
       "      <td>29.851120</td>\n",
       "    </tr>\n",
       "    <tr>\n",
       "      <th>25</th>\n",
       "      <td>VH, VV, HH, HV</td>\n",
       "      <td>4</td>\n",
       "      <td>0.952381</td>\n",
       "      <td>30.739536</td>\n",
       "    </tr>\n",
       "    <tr>\n",
       "      <th>26</th>\n",
       "      <td>VH, VV, HH, Angle</td>\n",
       "      <td>4</td>\n",
       "      <td>0.958333</td>\n",
       "      <td>31.244894</td>\n",
       "    </tr>\n",
       "    <tr>\n",
       "      <th>27</th>\n",
       "      <td>VH, VV, HV, Angle</td>\n",
       "      <td>4</td>\n",
       "      <td>0.952381</td>\n",
       "      <td>31.822519</td>\n",
       "    </tr>\n",
       "    <tr>\n",
       "      <th>28</th>\n",
       "      <td>VH, HH, HV, Angle</td>\n",
       "      <td>4</td>\n",
       "      <td>0.958333</td>\n",
       "      <td>30.288589</td>\n",
       "    </tr>\n",
       "    <tr>\n",
       "      <th>29</th>\n",
       "      <td>VV, HH, HV, Angle</td>\n",
       "      <td>4</td>\n",
       "      <td>0.946429</td>\n",
       "      <td>30.737831</td>\n",
       "    </tr>\n",
       "    <tr>\n",
       "      <th>30</th>\n",
       "      <td>VH, VV, HH, HV, Angle</td>\n",
       "      <td>5</td>\n",
       "      <td>0.958333</td>\n",
       "      <td>30.468517</td>\n",
       "    </tr>\n",
       "  </tbody>\n",
       "</table>\n",
       "</div>"
      ],
      "text/plain": [
       "                 features  num_features      PICP       MPIW\n",
       "0                      VH             1  0.958333  32.682732\n",
       "1                      VV             1  0.946429  36.081985\n",
       "2                      HH             1  0.946429  30.914167\n",
       "3                      HV             1  0.946429  32.563080\n",
       "4                   Angle             1  0.940476  32.527691\n",
       "5                  VH, VV             2  0.952381  34.541592\n",
       "6                  VH, HH             2  0.952381  30.348909\n",
       "7                  VH, HV             2  0.952381  30.527506\n",
       "8               VH, Angle             2  0.958333  33.585594\n",
       "9                  VV, HH             2  0.946429  32.088333\n",
       "10                 VV, HV             2  0.928571  30.221615\n",
       "11              VV, Angle             2  0.940476  35.514824\n",
       "12                 HH, HV             2  0.940476  31.680021\n",
       "13              HH, Angle             2  0.946429  29.274036\n",
       "14              HV, Angle             2  0.946429  30.744823\n",
       "15             VH, VV, HH             3  0.958333  31.555471\n",
       "16             VH, VV, HV             3  0.940476  31.451782\n",
       "17          VH, VV, Angle             3  0.952381  35.395264\n",
       "18             VH, HH, HV             3  0.952381  30.829323\n",
       "19          VH, HH, Angle             3  0.958333  29.158676\n",
       "20          VH, HV, Angle             3  0.958333  31.275085\n",
       "21             VV, HH, HV             3  0.952381  32.348045\n",
       "22          VV, HH, Angle             3  0.952381  30.610973\n",
       "23          VV, HV, Angle             3  0.946429  32.636738\n",
       "24          HH, HV, Angle             3  0.952381  29.851120\n",
       "25         VH, VV, HH, HV             4  0.952381  30.739536\n",
       "26      VH, VV, HH, Angle             4  0.958333  31.244894\n",
       "27      VH, VV, HV, Angle             4  0.952381  31.822519\n",
       "28      VH, HH, HV, Angle             4  0.958333  30.288589\n",
       "29      VV, HH, HV, Angle             4  0.946429  30.737831\n",
       "30  VH, VV, HH, HV, Angle             5  0.958333  30.468517"
      ]
     },
     "execution_count": 7,
     "metadata": {},
     "output_type": "execute_result"
    }
   ],
   "source": [
    "results_df"
   ]
  }
 ],
 "metadata": {
  "kernelspec": {
   "display_name": "ml-experiments",
   "language": "python",
   "name": "python3"
  },
  "language_info": {
   "codemirror_mode": {
    "name": "ipython",
    "version": 3
   },
   "file_extension": ".py",
   "mimetype": "text/x-python",
   "name": "python",
   "nbconvert_exporter": "python",
   "pygments_lexer": "ipython3",
   "version": "3.12.11"
  }
 },
 "nbformat": 4,
 "nbformat_minor": 5
}
